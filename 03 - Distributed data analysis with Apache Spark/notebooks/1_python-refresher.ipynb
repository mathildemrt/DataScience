{
 "cells": [
  {
   "cell_type": "markdown",
   "metadata": {},
   "source": [
    "# Python Refresher\n",
    "\n",
    "The purpose of this notebook is to get some practice with the special python concepts that are useful for writing Spark applications. Here we will do them in the (safe) controlled environment of a simple python shell for simpler debugging -- later on we will use these same constructs in the Spark framework.\n",
    "\n",
    "## How to use this notebook\n",
    "You can (and should) execute all the cells in this notebook. Where your input is required, you will see <FILL> in the source code with some instructions. Replace those with working code, execute, debug, rinse, repeat.\n",
    "\n"
   ]
  },
  {
   "cell_type": "markdown",
   "metadata": {
    "slideshow": {
     "slide_type": "slide"
    }
   },
   "source": [
    "## Outline\n",
    "\n",
    "#### 0. [Notebook demo](#Notebook-intro)\n",
    "#### 1. [Python Datatypes](#Datatypes)\n",
    "#### 1. [Functional programming and MapReduce](#Map-reduce)\n",
    "#### 2. [Lambda functions](#\"Lambda\"-functions)\n",
    "#### 3. [List comprehensions](#List-comprehension) (and [Tuples](#Tuples))\n",
    "#### 4. [Generator expressions](#Generator-expressions)\n",
    "#### 5. [Generators](#Generators)"
   ]
  },
  {
   "cell_type": "markdown",
   "metadata": {
    "slideshow": {
     "slide_type": "slide"
    }
   },
   "source": [
    "## Notebook intro\n",
    "\n",
    "This is a Jupyter notebook... you can use it to, for example, run some python code...\n",
    "\n",
    "#### To run the code below:\n",
    "\n",
    "1. Click on the cell to select it.\n",
    "2. Press <kbd>SHIFT+ENTER</kbd> on your keyboard or press the play button in the toolbar above.\n",
    "\n",
    "Before going on to work on the `python` and `spark` tutorials yourself, do check out the [user interface tutorial](http://nbviewer.ipython.org/github/ipython/ipython/blob/2.x/examples/Notebook/User%20Interface.ipynb).\n"
   ]
  },
  {
   "cell_type": "code",
   "execution_count": 1,
   "metadata": {
    "slideshow": {
     "slide_type": "subslide"
    }
   },
   "outputs": [
    {
     "data": {
      "text/plain": [
       "3"
      ]
     },
     "execution_count": 1,
     "metadata": {},
     "output_type": "execute_result"
    }
   ],
   "source": [
    "a = 1\n",
    "b = 2\n",
    "a+b"
   ]
  },
  {
   "cell_type": "markdown",
   "metadata": {
    "slideshow": {
     "slide_type": "subslide"
    }
   },
   "source": [
    "Some of the most important keyboard shortcuts to make your life easier: \n",
    "\n",
    "* to insert a new cell below the current cell, push <kbd>b</kbd>. \n",
    "* to insert a cell above, push <kbd>a</kbd> \n",
    "* to delete a cell, push <kbd>d</kbd> *twice*\n",
    "* to undo a cell operation, push <kbd>z</kbd>\n",
    "* to change a cell to \"markdown\" (i.e. text, like this one) push <kbd>m</kbd>\n",
    "* to change a cell to \"code\" (i.e. to run python code, like the cell above) push <kbd>y</kbd>\n",
    "\n",
    "Try it!\n",
    "\n",
    "To see the keyboard shortcuts, click on \"Help\" in the toolbar and select \"Keyboard Shortcuts\""
   ]
  },
  {
   "cell_type": "markdown",
   "metadata": {
    "slideshow": {
     "slide_type": "slide"
    }
   },
   "source": [
    "#### Ok, now we're ready to continue..."
   ]
  },
  {
   "cell_type": "markdown",
   "metadata": {
    "slideshow": {
     "slide_type": "skip"
    }
   },
   "source": [
    "## Datatypes\n",
    "\n",
    "This is a quick primer on various high-level python data types that we will be using. If you are not familiar with these at least superficially already, we recommend you first find a python tutorial of some sort. "
   ]
  },
  {
   "cell_type": "markdown",
   "metadata": {
    "slideshow": {
     "slide_type": "skip"
    }
   },
   "source": [
    "### Lists\n",
    "\n",
    "A list is just that -- an ordered collection of objects. You can put just about any python object into a list. Most likely, we will be dealing with lists of arrays, lists of tuples, lists of dictionaries, etc. A list is really an essential building block!"
   ]
  },
  {
   "cell_type": "code",
   "execution_count": 2,
   "metadata": {
    "collapsed": true,
    "slideshow": {
     "slide_type": "skip"
    }
   },
   "outputs": [],
   "source": [
    "# a list of integers\n",
    "my_list = [1,2,3,4]"
   ]
  },
  {
   "cell_type": "markdown",
   "metadata": {
    "slideshow": {
     "slide_type": "skip"
    }
   },
   "source": [
    "The methods of a `list` object are not many, but they are quite useful. \n",
    "\n",
    "add an empty cell below this one, and type \n",
    "\n",
    "```\n",
    "my_list.\n",
    "```\n",
    "\n",
    "followed by tapping the <kbd>TAB</kbd> key to see the list of methods. \n"
   ]
  },
  {
   "cell_type": "code",
   "execution_count": 3,
   "metadata": {
    "slideshow": {
     "slide_type": "skip"
    }
   },
   "outputs": [],
   "source": [
    "# TODO: append the value 1 to my_list, making it [1,2,3,4,1]\n",
    "my_list.append(1)\n",
    "assert(len(my_list) == 5 and sum(my_list) == 11)"
   ]
  },
  {
   "cell_type": "markdown",
   "metadata": {
    "slideshow": {
     "slide_type": "skip"
    }
   },
   "source": [
    "#### Indexing \n",
    "List indexing tricks will be essential to your experience with any sort of application in Spark. Here are a few of the most common ones: "
   ]
  },
  {
   "cell_type": "code",
   "execution_count": 4,
   "metadata": {
    "slideshow": {
     "slide_type": "skip"
    }
   },
   "outputs": [
    {
     "data": {
      "text/plain": [
       "[3, 4, 1]"
      ]
     },
     "execution_count": 4,
     "metadata": {},
     "output_type": "execute_result"
    }
   ],
   "source": [
    "# slices --> getting consecutive items from a list\n",
    "my_list[2:5]"
   ]
  },
  {
   "cell_type": "code",
   "execution_count": 5,
   "metadata": {
    "slideshow": {
     "slide_type": "skip"
    }
   },
   "outputs": [
    {
     "data": {
      "text/plain": [
       "[1, 2, 3]"
      ]
     },
     "execution_count": 5,
     "metadata": {},
     "output_type": "execute_result"
    }
   ],
   "source": [
    "# all elements from the first to the third\n",
    "my_list[:3] # zero is implied"
   ]
  },
  {
   "cell_type": "code",
   "execution_count": 6,
   "metadata": {
    "slideshow": {
     "slide_type": "skip"
    }
   },
   "outputs": [
    {
     "data": {
      "text/plain": [
       "[1, 4, 3, 2, 1]"
      ]
     },
     "execution_count": 6,
     "metadata": {},
     "output_type": "execute_result"
    }
   ],
   "source": [
    "# reversing \n",
    "my_list[::-1]"
   ]
  },
  {
   "cell_type": "code",
   "execution_count": 7,
   "metadata": {
    "slideshow": {
     "slide_type": "skip"
    }
   },
   "outputs": [
    {
     "data": {
      "text/plain": [
       "[1, 3, 1]"
      ]
     },
     "execution_count": 7,
     "metadata": {},
     "output_type": "execute_result"
    }
   ],
   "source": [
    "# skipping elements --> here, getting every other one\n",
    "my_list[::2]"
   ]
  },
  {
   "cell_type": "code",
   "execution_count": 8,
   "metadata": {
    "slideshow": {
     "slide_type": "skip"
    }
   },
   "outputs": [
    {
     "data": {
      "text/plain": [
       "4"
      ]
     },
     "execution_count": 8,
     "metadata": {},
     "output_type": "execute_result"
    }
   ],
   "source": [
    "# getting the second to last element\n",
    "my_list[-2]"
   ]
  },
  {
   "cell_type": "code",
   "execution_count": 9,
   "metadata": {
    "collapsed": true,
    "slideshow": {
     "slide_type": "skip"
    }
   },
   "outputs": [],
   "source": [
    "# TODO: make a new_list composed of all elements from my_list except for the first and last one\n",
    "new_list = my_list[1:-1]\n",
    "assert(new_list == [2,3,4])"
   ]
  },
  {
   "cell_type": "code",
   "execution_count": 10,
   "metadata": {
    "slideshow": {
     "slide_type": "skip"
    }
   },
   "outputs": [
    {
     "data": {
      "text/plain": [
       "[1, 2, 3, 4, 1, 2, 3, 4]"
      ]
     },
     "execution_count": 10,
     "metadata": {},
     "output_type": "execute_result"
    }
   ],
   "source": [
    "# combining lists \n",
    "my_list + new_list"
   ]
  },
  {
   "cell_type": "markdown",
   "metadata": {
    "slideshow": {
     "slide_type": "skip"
    }
   },
   "source": [
    "### Dictionaries\n",
    "Certainly one of the most useful built-in data structures in python. A dictionary provides a mapping between \"keys\" and \"values\". Best to look at some examples. "
   ]
  },
  {
   "cell_type": "code",
   "execution_count": 11,
   "metadata": {
    "slideshow": {
     "slide_type": "skip"
    }
   },
   "outputs": [
    {
     "data": {
      "text/plain": [
       "dict"
      ]
     },
     "execution_count": 11,
     "metadata": {},
     "output_type": "execute_result"
    }
   ],
   "source": [
    "# creating a dictionary\n",
    "d = {} # makes an empty dictionary\n",
    "type(d) "
   ]
  },
  {
   "cell_type": "code",
   "execution_count": 12,
   "metadata": {
    "slideshow": {
     "slide_type": "skip"
    }
   },
   "outputs": [
    {
     "data": {
      "text/plain": [
       "{'first': 1, 'second': 2}"
      ]
     },
     "execution_count": 12,
     "metadata": {},
     "output_type": "execute_result"
    }
   ],
   "source": [
    "# add an element\n",
    "d['first'] = 1\n",
    "d['second'] = 2\n",
    "d"
   ]
  },
  {
   "cell_type": "code",
   "execution_count": 13,
   "metadata": {
    "slideshow": {
     "slide_type": "skip"
    }
   },
   "outputs": [
    {
     "data": {
      "text/plain": [
       "(1, 2)"
      ]
     },
     "execution_count": 13,
     "metadata": {},
     "output_type": "execute_result"
    }
   ],
   "source": [
    "d['first'], d['second']"
   ]
  },
  {
   "cell_type": "code",
   "execution_count": 14,
   "metadata": {
    "slideshow": {
     "slide_type": "skip"
    }
   },
   "outputs": [
    {
     "name": "stdout",
     "output_type": "stream",
     "text": [
      "first\n",
      "second\n"
     ]
    }
   ],
   "source": [
    "# TODO: iterate through all the keys of the dictionary \"d\" and print out its values \n",
    "# HINT: type \"d.\" and tap the \"tab\" key to see the available methods \n",
    "#       or lookup the python dictionary documentation\n",
    "for k in d.keys() : \n",
    "    print(k)"
   ]
  },
  {
   "cell_type": "markdown",
   "metadata": {
    "slideshow": {
     "slide_type": "skip"
    }
   },
   "source": [
    "Dictionaries have some very useful methods: "
   ]
  },
  {
   "cell_type": "code",
   "execution_count": 15,
   "metadata": {
    "slideshow": {
     "slide_type": "skip"
    }
   },
   "outputs": [
    {
     "name": "stdout",
     "output_type": "stream",
     "text": [
      "dict_keys(['first', 'second'])\n",
      "dict_values([1, 2])\n"
     ]
    }
   ],
   "source": [
    "# to see all the currently stored keys or values\n",
    "print(d.keys())\n",
    "print(d.values())"
   ]
  },
  {
   "cell_type": "code",
   "execution_count": 16,
   "metadata": {
    "slideshow": {
     "slide_type": "skip"
    }
   },
   "outputs": [
    {
     "name": "stdout",
     "output_type": "stream",
     "text": [
      "{'first': 1, 'second': 2}\n",
      "{'first': 1, 'second': 2, 'third': 3}\n"
     ]
    }
   ],
   "source": [
    "# alternative way of initializing a dictionary: \n",
    "d = {'first': 1, 'second': 2}\n",
    "print(d)\n",
    "d['third'] = 3\n",
    "print(d)"
   ]
  },
  {
   "cell_type": "markdown",
   "metadata": {
    "slideshow": {
     "slide_type": "skip"
    }
   },
   "source": [
    "<div class=\"alert alert-info\">\n",
    "<p><strong>Note</strong></p> \n",
    "\n",
    "<p>You cannot trust that the keys from a dictionary are returned in the order they are entered! (Unless you use an <a href=\"https://docs.python.org/3/library/collections.html#collections.OrderedDict\">OrderedDict</a>.)</p>\n",
    "</div>"
   ]
  },
  {
   "cell_type": "markdown",
   "metadata": {
    "slideshow": {
     "slide_type": "skip"
    }
   },
   "source": [
    "### Strings\n",
    "Not a complex data type really, but strings are objects like all other things in python, and have some nice properties. "
   ]
  },
  {
   "cell_type": "code",
   "execution_count": 17,
   "metadata": {
    "slideshow": {
     "slide_type": "skip"
    }
   },
   "outputs": [
    {
     "name": "stdout",
     "output_type": "stream",
     "text": [
      "second to seventh characteres: \"at is\"\n",
      "last character: \"e\"\n"
     ]
    }
   ],
   "source": [
    "# they can be indexed like any other collection\n",
    "string = 'what is going on here'\n",
    "print('second to seventh characteres: \"%s\"'%string[2:7])\n",
    "print('last character: \"%s\"'%string[-1])"
   ]
  },
  {
   "cell_type": "markdown",
   "metadata": {
    "slideshow": {
     "slide_type": "skip"
    }
   },
   "source": [
    "... you get the idea... "
   ]
  },
  {
   "cell_type": "code",
   "execution_count": 18,
   "metadata": {
    "slideshow": {
     "slide_type": "skip"
    }
   },
   "outputs": [
    {
     "name": "stdout",
     "output_type": "stream",
     "text": [
      "['what', 'is', 'going', 'on', 'here']\n",
      "['one', 'two', 'three', 'four']\n"
     ]
    }
   ],
   "source": [
    "# getting words from a string\n",
    "string2 = 'one,two,three,four'\n",
    "print(string.split())    # default splits on whitespaces\n",
    "print(string2.split(',')) # but you can specify any delimiter you want"
   ]
  },
  {
   "cell_type": "markdown",
   "metadata": {
    "slideshow": {
     "slide_type": "slide"
    }
   },
   "source": [
    "## Map-reduce \n",
    "\n",
    "The map-reduce programming model is at the heart of distributed data processing. In essence, it is quite simple: \n",
    "\n",
    "1. start with a collection of data and distribute it\n",
    "2. define a function you want to use to operate on that data\n",
    "2. apply the function to every element in the data collection (the *map* step)\n",
    "3. once the data has been massaged into a useful state, compute some aggregate value and return it to the user (the *reduce* step)"
   ]
  },
  {
   "cell_type": "markdown",
   "metadata": {
    "slideshow": {
     "slide_type": "subslide"
    }
   },
   "source": [
    "A few things to note: \n",
    "\n",
    "1. this is an extremely limiting programming model (compare to MPI where anything is possible)\n",
    "2. from user's viewpoint strictly task-parallel --> can't make tasks communicate to each other \n",
    "3. very clear on intent *because* it is so limiting\n",
    "\n",
    "Let's see how this works through a simple example. "
   ]
  },
  {
   "cell_type": "markdown",
   "metadata": {
    "slideshow": {
     "slide_type": "slide"
    }
   },
   "source": [
    "### Very very basic MapReduce example\n",
    "\n",
    "First, we define our data array, in this case we're not very creative and just use 10 random integers in the range 0 - 100:"
   ]
  },
  {
   "cell_type": "code",
   "execution_count": 19,
   "metadata": {
    "slideshow": {
     "slide_type": "-"
    }
   },
   "outputs": [
    {
     "name": "stdout",
     "output_type": "stream",
     "text": [
      "[17, 72, 97, 8, 32, 15, 63, 97, 57, 60]\n"
     ]
    }
   ],
   "source": [
    "import random\n",
    "random.seed(1) # initialized to make sure we get the same numbers every time\n",
    "data = []\n",
    "for x in range(10) : data.append(random.randint(0,100))\n",
    "print(data)"
   ]
  },
  {
   "cell_type": "markdown",
   "metadata": {
    "slideshow": {
     "slide_type": "subslide"
    }
   },
   "source": [
    "Lets say that we wanted to compute the total sum of all the values after applying some function $f(x)$ to them. We'll say for now that $$f(x) = 2x.$$ The most obvious choice for this would be to apply $f(x)$ in some sort of a loop, and add the results to an aggregation variable: "
   ]
  },
  {
   "cell_type": "code",
   "execution_count": 20,
   "metadata": {
    "slideshow": {
     "slide_type": "-"
    }
   },
   "outputs": [
    {
     "name": "stdout",
     "output_type": "stream",
     "text": [
      "1036\n"
     ]
    }
   ],
   "source": [
    "dbl_sum = 0\n",
    "for x in data : \n",
    "    dbl_sum += x*2\n",
    "    \n",
    "print(dbl_sum)"
   ]
  },
  {
   "cell_type": "markdown",
   "metadata": {
    "slideshow": {
     "slide_type": "fragment"
    }
   },
   "source": [
    "In this case, the calculation was entirely sequential:\n",
    "\n",
    "we went through each element in `data`, doubled it, and added the result to the aggregate variable `dbl_sum` all in a single step. "
   ]
  },
  {
   "cell_type": "markdown",
   "metadata": {
    "slideshow": {
     "slide_type": "subslide"
    }
   },
   "source": [
    "But the two stages are separable: \n",
    "\n",
    "we might *first* double all the elements in `data` - apply $f(x)$ - and then sum them all together. \n",
    "\n",
    "This is exactly a map-reduce operation: \n",
    "\n",
    "1. *map* the values using a function ($f(x) = 2x$) \n",
    "2. *reduce* them to a single number (sum) "
   ]
  },
  {
   "cell_type": "markdown",
   "metadata": {
    "slideshow": {
     "slide_type": "subslide"
    }
   },
   "source": [
    "As it turns out, the `python` language already includes the `map` and `reduce` functions so we can try this out immediately. First, we define the function that will be used as a `map`:"
   ]
  },
  {
   "cell_type": "code",
   "execution_count": 21,
   "metadata": {
    "collapsed": true,
    "slideshow": {
     "slide_type": "fragment"
    }
   },
   "outputs": [],
   "source": [
    "def double_the_number(x) : \n",
    "    return x*2"
   ]
  },
  {
   "cell_type": "markdown",
   "metadata": {
    "slideshow": {
     "slide_type": "fragment"
    }
   },
   "source": [
    "Now we apply the `map` -- notice how compact this looks!"
   ]
  },
  {
   "cell_type": "code",
   "execution_count": 22,
   "metadata": {},
   "outputs": [
    {
     "name": "stdout",
     "output_type": "stream",
     "text": [
      "<map object at 0x7f9a18734550>\n"
     ]
    }
   ],
   "source": [
    "dbl_data = map(double_the_number, data)\n",
    "print(dbl_data)"
   ]
  },
  {
   "cell_type": "markdown",
   "metadata": {},
   "source": [
    "`map` implicitly loops over all of the elements of data and applies `double_the_number` to each one. "
   ]
  },
  {
   "cell_type": "markdown",
   "metadata": {
    "slideshow": {
     "slide_type": "subslide"
    }
   },
   "source": [
    "For the reduction, we will use the standard `add` operator: "
   ]
  },
  {
   "cell_type": "code",
   "execution_count": 23,
   "metadata": {},
   "outputs": [
    {
     "data": {
      "text/plain": [
       "1036"
      ]
     },
     "execution_count": 23,
     "metadata": {},
     "output_type": "execute_result"
    }
   ],
   "source": [
    "from operator import add\n",
    "from functools import reduce\n",
    "reduce(add, dbl_data)"
   ]
  },
  {
   "cell_type": "markdown",
   "metadata": {
    "slideshow": {
     "slide_type": "subslide"
    }
   },
   "source": [
    "<div class=\"alert alert-info\" style=\"margin: 10px\"><strong>Note:</strong> what we are doing here is *functional* programming - we use a function to transform the data, but the original data remains untouched. The Spark programming model is heavily based on this concept. \n",
    "</div>"
   ]
  },
  {
   "cell_type": "markdown",
   "metadata": {
    "slideshow": {
     "slide_type": "skip"
    }
   },
   "source": [
    "### To-do:\n",
    "\n",
    "Use the python `map` function to convert the first and last letters of each word in the string `suntzu` (defined below) to uppercase.\n",
    "\n",
    "<div class=\"alert alert-info\">\n",
    "<p><strong>hint</strong></p> \n",
    "\n",
    "<p>Use the standard string method `split` to create a list of words; then use a `map` to convert the appropriate letters of each word<p>\n",
    "</div>\n",
    "\n",
    "<div class=\"alert alert-info\">\n",
    "<p><strong>hint \\#2</strong></p> \n",
    "\n",
    "<p>Use `Edit -> Split Cell` to create easily-executable code chunks that you can debug. When they all run individually, you can merge them back together.</p>\n",
    "</div>"
   ]
  },
  {
   "cell_type": "code",
   "execution_count": 24,
   "metadata": {
    "slideshow": {
     "slide_type": "skip"
    }
   },
   "outputs": [
    {
     "name": "stdout",
     "output_type": "stream",
     "text": [
      "ThE SupremE ArT OF WaR IS TO SubduE ThE EnemY WithouT Fighting.\n"
     ]
    }
   ],
   "source": [
    "# From Sun Tzu's Art of War\n",
    "suntzu = 'The supreme art of war is to subdue the enemy without fighting.'\n",
    "\n",
    "words = suntzu.split(' ')\n",
    "\n",
    "def first_last_capitalize(word) : \n",
    "    # first convert the string `word` to a list of characters\n",
    "    l = list(word)\n",
    "    \n",
    "    # now change the first and last character to uppercase (use the upper() method of a string)\n",
    "    l[0] = l[0].upper()\n",
    "    l[-1] = l[-1].upper()\n",
    "    \n",
    "    # convert back to a string\n",
    "    return str(\"\".join(l))\n",
    "\n",
    "upper_lower = map(first_last_capitalize, words)\n",
    "\n",
    "result = \" \".join(upper_lower)\n",
    "print(result)\n",
    "assert(result == 'ThE SupremE ArT OF WaR IS TO SubduE ThE EnemY WithouT Fighting.')"
   ]
  },
  {
   "cell_type": "markdown",
   "metadata": {
    "slideshow": {
     "slide_type": "skip"
    }
   },
   "source": [
    "Use a list comprehension to convert the list of words into a list of tuples, where the first element of the tuple is the word and the second element is the word length.\n",
    "\n",
    "<div class=\"alert alert-info\">\n",
    "<p><strong>hint</strong></p> \n",
    "Use the python built-in `len()` function to get the string length"
   ]
  },
  {
   "cell_type": "code",
   "execution_count": 25,
   "metadata": {
    "slideshow": {
     "slide_type": "skip"
    }
   },
   "outputs": [],
   "source": [
    "word_length = [(w, len(w)) for w in words ]"
   ]
  },
  {
   "cell_type": "code",
   "execution_count": 26,
   "metadata": {
    "slideshow": {
     "slide_type": "skip"
    }
   },
   "outputs": [
    {
     "name": "stdout",
     "output_type": "stream",
     "text": [
      "[('The', 3), ('supreme', 7), ('art', 3), ('of', 2), ('war', 3), ('is', 2), ('to', 2), ('subdue', 6), ('the', 3), ('enemy', 5), ('without', 7), ('fighting.', 9)]\n"
     ]
    }
   ],
   "source": [
    "print(word_length)\n",
    "assert(word_length == [('The', 3),\n",
    " ('supreme', 7),\n",
    " ('art', 3),\n",
    " ('of', 2),\n",
    " ('war', 3),\n",
    " ('is', 2),\n",
    " ('to', 2),\n",
    " ('subdue', 6),\n",
    " ('the', 3),\n",
    " ('enemy', 5),\n",
    " ('without', 7),\n",
    " ('fighting.', 9)])"
   ]
  },
  {
   "cell_type": "markdown",
   "metadata": {
    "slideshow": {
     "slide_type": "skip"
    }
   },
   "source": [
    "Compute the average word length in the sentence by: \n",
    "\n",
    "1. mapping the `word_length` list from above to contain just the word lengths\n",
    "2. using `reduce` to sum up the lengths\n",
    "3. dividing by the total number of words"
   ]
  },
  {
   "cell_type": "code",
   "execution_count": 27,
   "metadata": {
    "collapsed": true,
    "slideshow": {
     "slide_type": "skip"
    }
   },
   "outputs": [],
   "source": [
    "word_counts = map( lambda x : x[1], word_length )"
   ]
  },
  {
   "cell_type": "code",
   "execution_count": 28,
   "metadata": {
    "slideshow": {
     "slide_type": "skip"
    }
   },
   "outputs": [],
   "source": [
    "total_chars = reduce(lambda x,y : x+y, word_counts)"
   ]
  },
  {
   "cell_type": "code",
   "execution_count": 29,
   "metadata": {
    "slideshow": {
     "slide_type": "skip"
    }
   },
   "outputs": [
    {
     "name": "stdout",
     "output_type": "stream",
     "text": [
      "4.333333333333333\n"
     ]
    }
   ],
   "source": [
    "import numpy as np\n",
    "print(float(total_chars)/len(words))\n",
    "assert(np.allclose(float(total_chars)/len(words),4.33333333333))"
   ]
  },
  {
   "cell_type": "markdown",
   "metadata": {
    "slideshow": {
     "slide_type": "slide"
    }
   },
   "source": [
    "## \"Lambda\" functions\n",
    "\n",
    "* our function `double_the_number` needed a lot of writing for a very simple operation \n",
    "* but! `map` *requires* a function to apply to the data array\n",
    "* when a function needed is very simple, the concept of \"in-line\" lambda functions is great "
   ]
  },
  {
   "cell_type": "markdown",
   "metadata": {
    "slideshow": {
     "slide_type": "subslide"
    }
   },
   "source": [
    "Basic idea: \n",
    "\n",
    "* the lambda function consumes items and returns a value\n",
    "* it can get items from an iterable (a list, dictionary, tuple, etc.)\n",
    "* it returns one element for each element it takes in  \n",
    "\n",
    "Here are two simple examples:"
   ]
  },
  {
   "cell_type": "code",
   "execution_count": 30,
   "metadata": {
    "slideshow": {
     "slide_type": "fragment"
    }
   },
   "outputs": [
    {
     "data": {
      "text/plain": [
       "8"
      ]
     },
     "execution_count": 30,
     "metadata": {},
     "output_type": "execute_result"
    }
   ],
   "source": [
    "double_lambda = lambda x: x*2\n",
    "double_lambda(4)"
   ]
  },
  {
   "cell_type": "code",
   "execution_count": 31,
   "metadata": {},
   "outputs": [
    {
     "data": {
      "text/plain": [
       "3"
      ]
     },
     "execution_count": 31,
     "metadata": {},
     "output_type": "execute_result"
    }
   ],
   "source": [
    "add_two_numbers = lambda x,y: x+y\n",
    "add_two_numbers(1,2)"
   ]
  },
  {
   "cell_type": "markdown",
   "metadata": {
    "slideshow": {
     "slide_type": "subslide"
    }
   },
   "source": [
    "We can use our `lambda` function as the function we pass to `map`:"
   ]
  },
  {
   "cell_type": "code",
   "execution_count": 32,
   "metadata": {
    "scrolled": true,
    "slideshow": {
     "slide_type": "-"
    }
   },
   "outputs": [
    {
     "data": {
      "text/plain": [
       "[34, 144, 194, 16, 64, 30, 126, 194, 114, 120]"
      ]
     },
     "execution_count": 32,
     "metadata": {},
     "output_type": "execute_result"
    }
   ],
   "source": [
    "dbl_data = list(map(lambda x: x*2, data))\n",
    "dbl_data"
   ]
  },
  {
   "cell_type": "markdown",
   "metadata": {},
   "source": [
    "This form has the advantage of being much more compact and allowing function creation \"on the fly\". \n",
    "\n",
    "The concept of in-line functions will be key to writing simple Spark applications!"
   ]
  },
  {
   "cell_type": "markdown",
   "metadata": {
    "slideshow": {
     "slide_type": "subslide"
    }
   },
   "source": [
    "Note that a `lambda` function is a function just like any other and you can also give it a name (although tha almost defies the point of an in-line function...)"
   ]
  },
  {
   "cell_type": "code",
   "execution_count": 33,
   "metadata": {},
   "outputs": [
    {
     "name": "stdout",
     "output_type": "stream",
     "text": [
      "type of double_lambda is <class 'function'> \n"
     ]
    }
   ],
   "source": [
    "double_lambda = lambda x: x*2\n",
    "print('type of double_lambda is %s ' % type(double_lambda))"
   ]
  },
  {
   "cell_type": "markdown",
   "metadata": {
    "slideshow": {
     "slide_type": "slide"
    }
   },
   "source": [
    "## List comprehension\n",
    "\n",
    "\"List comprehension\" is a complicated name for a pretty nice feature of python: creating lists on the fly using any kind of iterable object, often with the help of lambda functions. \n",
    "\n",
    "* In many cases, a handy replacement for `for` loops when creating lists of objects \n",
    "* can sometimes perform faster than the equivalent for loop "
   ]
  },
  {
   "cell_type": "markdown",
   "metadata": {
    "slideshow": {
     "slide_type": "subslide"
    }
   },
   "source": [
    "A normal python list is made by "
   ]
  },
  {
   "cell_type": "code",
   "execution_count": 34,
   "metadata": {
    "collapsed": true,
    "slideshow": {
     "slide_type": "-"
    }
   },
   "outputs": [],
   "source": [
    "my_list = [1, 2, 3, 4, 5]"
   ]
  },
  {
   "cell_type": "markdown",
   "metadata": {
    "slideshow": {
     "slide_type": "subslide"
    }
   },
   "source": [
    "The basic syntax for a *list comprehension* is that you enclose a `for` loop *inside* the list brackets `[]`. "
   ]
  },
  {
   "cell_type": "markdown",
   "metadata": {
    "slideshow": {
     "slide_type": "fragment"
    }
   },
   "source": [
    "To make a simple (slightly contrived) example, consider: "
   ]
  },
  {
   "cell_type": "code",
   "execution_count": 35,
   "metadata": {
    "slideshow": {
     "slide_type": "-"
    }
   },
   "outputs": [
    {
     "data": {
      "text/plain": [
       "[1, 2, 3, 4, 5]"
      ]
     },
     "execution_count": 35,
     "metadata": {},
     "output_type": "execute_result"
    }
   ],
   "source": [
    "simple_list = [x for x in my_list]\n",
    "simple_list"
   ]
  },
  {
   "cell_type": "markdown",
   "metadata": {},
   "source": [
    "(should really be called list *expansion*)"
   ]
  },
  {
   "cell_type": "markdown",
   "metadata": {
    "slideshow": {
     "slide_type": "fragment"
    }
   },
   "source": [
    "The equivalent `for` loop:"
   ]
  },
  {
   "cell_type": "code",
   "execution_count": 36,
   "metadata": {},
   "outputs": [
    {
     "data": {
      "text/plain": [
       "[1, 2, 3, 4, 5]"
      ]
     },
     "execution_count": 36,
     "metadata": {},
     "output_type": "execute_result"
    }
   ],
   "source": [
    "simple_list = []\n",
    "for x in my_list: \n",
    "    simple_list.append(x)\n",
    "simple_list"
   ]
  },
  {
   "cell_type": "markdown",
   "metadata": {
    "slideshow": {
     "slide_type": "subslide"
    }
   },
   "source": [
    "The list comprehension gives you much more concise syntax!\n",
    "\n",
    "Even neater when a conditional is used in the iteration: "
   ]
  },
  {
   "cell_type": "code",
   "execution_count": 37,
   "metadata": {},
   "outputs": [
    {
     "data": {
      "text/plain": [
       "[2, 4]"
      ]
     },
     "execution_count": 37,
     "metadata": {},
     "output_type": "execute_result"
    }
   ],
   "source": [
    "# only even numbers\n",
    "simple_list = []\n",
    "for x in my_list: \n",
    "    if x % 2 == 0:\n",
    "        simple_list.append(x)\n",
    "simple_list"
   ]
  },
  {
   "cell_type": "code",
   "execution_count": 38,
   "metadata": {},
   "outputs": [
    {
     "data": {
      "text/plain": [
       "[2, 4]"
      ]
     },
     "execution_count": 38,
     "metadata": {},
     "output_type": "execute_result"
    }
   ],
   "source": [
    "[x for x in my_list if x % 2 == 0]"
   ]
  },
  {
   "cell_type": "markdown",
   "metadata": {
    "slideshow": {
     "slide_type": "slide"
    }
   },
   "source": [
    "<div class=\"alert alert-warning\"> \n",
    "The construct \n",
    "\n",
    "    `f(x) for x in y`\n",
    "    \n",
    "is *extremely* powerful! \n",
    "\n",
    "Anything that can be iterated can be used as the `y`. In the case above, `f(x) = x`, but it could be any function you want (including of course a lambda function!) \n",
    "</div>"
   ]
  },
  {
   "cell_type": "markdown",
   "metadata": {
    "slideshow": {
     "slide_type": "subslide"
    }
   },
   "source": [
    "\n",
    "### Tuples\n",
    "Lets make a simple list of tuples to see one common application of such list comprehensions: "
   ]
  },
  {
   "cell_type": "code",
   "execution_count": 39,
   "metadata": {
    "collapsed": true,
    "slideshow": {
     "slide_type": "-"
    }
   },
   "outputs": [],
   "source": [
    "tuple_list = list(zip([1,2,3,4], ['a','b','c','d']))"
   ]
  },
  {
   "cell_type": "markdown",
   "metadata": {
    "slideshow": {
     "slide_type": "fragment"
    }
   },
   "source": [
    "Now we want to extract just the letters out of this list:"
   ]
  },
  {
   "cell_type": "code",
   "execution_count": 40,
   "metadata": {},
   "outputs": [
    {
     "data": {
      "text/plain": [
       "['a', 'b', 'c', 'd']"
      ]
     },
     "execution_count": 40,
     "metadata": {},
     "output_type": "execute_result"
    }
   ],
   "source": [
    "[x[1] for x in tuple_list]"
   ]
  },
  {
   "cell_type": "markdown",
   "metadata": {
    "slideshow": {
     "slide_type": "fragment"
    }
   },
   "source": [
    "An even clearer syntax is to label the tuple elements that we are extracting from the list:"
   ]
  },
  {
   "cell_type": "code",
   "execution_count": 41,
   "metadata": {},
   "outputs": [
    {
     "data": {
      "text/plain": [
       "['a', 'b', 'c', 'd']"
      ]
     },
     "execution_count": 41,
     "metadata": {},
     "output_type": "execute_result"
    }
   ],
   "source": [
    "[letter for (num, letter) in tuple_list]"
   ]
  },
  {
   "cell_type": "markdown",
   "metadata": {},
   "source": [
    "This notation is very elegant and allows us to do a reasonably complex operation (iterate over the list and extracting elements of a tuple into a new list) in a very simple way. "
   ]
  },
  {
   "cell_type": "markdown",
   "metadata": {
    "slideshow": {
     "slide_type": "subslide"
    }
   },
   "source": [
    "A conditional can be applied on the values in the iterator when creating the new list when processing a tuple, just as we did above."
   ]
  },
  {
   "cell_type": "markdown",
   "metadata": {
    "slideshow": {
     "slide_type": "-"
    }
   },
   "source": [
    "For example, if we wanted only the letters corresponding to all the even values: "
   ]
  },
  {
   "cell_type": "code",
   "execution_count": 42,
   "metadata": {},
   "outputs": [
    {
     "data": {
      "text/plain": [
       "['b', 'd']"
      ]
     },
     "execution_count": 42,
     "metadata": {},
     "output_type": "execute_result"
    }
   ],
   "source": [
    "[letter for (num, letter) in tuple_list if num%2 == 0]"
   ]
  },
  {
   "cell_type": "markdown",
   "metadata": {
    "slideshow": {
     "slide_type": "slide"
    }
   },
   "source": [
    "## Filter\n",
    "\n",
    "Sometimes some more complex logic needs to be applied to the values for filtering. \n",
    "\n",
    "* for such cases, use the `filter` function\n",
    "* can be any function of the form `f(x) --> boolean` - even a lambda!"
   ]
  },
  {
   "cell_type": "code",
   "execution_count": 43,
   "metadata": {},
   "outputs": [
    {
     "data": {
      "text/plain": [
       "[(2, 'b'), (4, 'd')]"
      ]
     },
     "execution_count": 43,
     "metadata": {},
     "output_type": "execute_result"
    }
   ],
   "source": [
    "def filter_func(x) :\n",
    "    num, letter = x\n",
    "    return num%2 == 0\n",
    "\n",
    "filtered_tuple_list = filter(filter_func, tuple_list)\n",
    "list(filtered_tuple_list)"
   ]
  },
  {
   "cell_type": "markdown",
   "metadata": {
    "slideshow": {
     "slide_type": "fragment"
    }
   },
   "source": [
    "We can of course use the results of `filter` also in a list comprehension:"
   ]
  },
  {
   "cell_type": "code",
   "execution_count": 44,
   "metadata": {},
   "outputs": [
    {
     "data": {
      "text/plain": [
       "['b', 'd']"
      ]
     },
     "execution_count": 44,
     "metadata": {},
     "output_type": "execute_result"
    }
   ],
   "source": [
    "[letter for (num,letter) in filter(filter_func, tuple_list)]"
   ]
  },
  {
   "cell_type": "markdown",
   "metadata": {
    "slideshow": {
     "slide_type": "subslide"
    }
   },
   "source": [
    "Slight **warning** here: \n",
    "\n",
    "the elements of the list are tuples and the function arguments don't expand the tuple automatically. That's why we have the extra line\n",
    "\n",
    "    num, letter = x\n",
    "\n",
    "which takes `num` and `letter` out of each tuple that gets passed to `filter_func`. \n",
    "\n",
    "The same would happen with a `lambda funcion`: "
   ]
  },
  {
   "cell_type": "code",
   "execution_count": 45,
   "metadata": {},
   "outputs": [
    {
     "ename": "TypeError",
     "evalue": "<lambda>() missing 1 required positional argument: 'y'",
     "output_type": "error",
     "traceback": [
      "\u001b[0;31m---------------------------------------------------------------------------\u001b[0m",
      "\u001b[0;31mTypeError\u001b[0m                                 Traceback (most recent call last)",
      "\u001b[0;32m<ipython-input-45-ad369655da68>\u001b[0m in \u001b[0;36m<module>\u001b[0;34m()\u001b[0m\n\u001b[1;32m      1\u001b[0m \u001b[0;31m# error\u001b[0m\u001b[0;34m\u001b[0m\u001b[0;34m\u001b[0m\u001b[0m\n\u001b[0;32m----> 2\u001b[0;31m \u001b[0mlist\u001b[0m\u001b[0;34m(\u001b[0m\u001b[0mfilter\u001b[0m\u001b[0;34m(\u001b[0m\u001b[0;32mlambda\u001b[0m \u001b[0mx\u001b[0m\u001b[0;34m,\u001b[0m\u001b[0my\u001b[0m\u001b[0;34m:\u001b[0m \u001b[0mx\u001b[0m\u001b[0;34m<\u001b[0m\u001b[0;36m0\u001b[0m\u001b[0;34m,\u001b[0m \u001b[0mtuple_list\u001b[0m\u001b[0;34m)\u001b[0m\u001b[0;34m)\u001b[0m\u001b[0;34m\u001b[0m\u001b[0m\n\u001b[0m",
      "\u001b[0;31mTypeError\u001b[0m: <lambda>() missing 1 required positional argument: 'y'"
     ]
    }
   ],
   "source": [
    "# error\n",
    "list(filter(lambda x,y: x<0, tuple_list))"
   ]
  },
  {
   "cell_type": "markdown",
   "metadata": {
    "slideshow": {
     "slide_type": "skip"
    }
   },
   "source": [
    "### To-do:\n",
    "\n",
    "Rewrite `filter_func` as a lambda function with the correct syntax:"
   ]
  },
  {
   "cell_type": "code",
   "execution_count": 46,
   "metadata": {
    "slideshow": {
     "slide_type": "skip"
    }
   },
   "outputs": [
    {
     "data": {
      "text/plain": [
       "['a', 'b', 'c', 'd']"
      ]
     },
     "execution_count": 46,
     "metadata": {},
     "output_type": "execute_result"
    }
   ],
   "source": [
    "def filter_func( x ):\n",
    "    num, letter = x\n",
    "    return num>0\n",
    "\n",
    "[letter for (num, letter) in filter(lambda x : filter_func(x), tuple_list)]"
   ]
  },
  {
   "cell_type": "markdown",
   "metadata": {
    "slideshow": {
     "slide_type": "slide"
    }
   },
   "source": [
    "## Generator expressions \n",
    "\n",
    "Unfortunately, creating long lists can have large memory overhead. \n",
    "\n",
    "Often, we don't need to hold the entire lists in memory, but only need the elements one by one -- this is the case with *all* reductions, for example, such as the `sum` we used above. "
   ]
  },
  {
   "cell_type": "markdown",
   "metadata": {
    "slideshow": {
     "slide_type": "subslide"
    }
   },
   "source": [
    "In the cell below, two lists are actually created -- first, the one returned by `range` and once this one is iterated over, we have a second list resulting from the `x for x in range` part:"
   ]
  },
  {
   "cell_type": "code",
   "execution_count": 47,
   "metadata": {},
   "outputs": [
    {
     "data": {
      "text/plain": [
       "499999500000"
      ]
     },
     "execution_count": 47,
     "metadata": {},
     "output_type": "execute_result"
    }
   ],
   "source": [
    "sum([x for x in range(1000000)])"
   ]
  },
  {
   "cell_type": "markdown",
   "metadata": {
    "slideshow": {
     "slide_type": "subslide"
    }
   },
   "source": [
    "When dealing with large amounts of data, the memory footprint becomes a serious concern and can make a difference between a code completing or crashing with an \"out of memory\" error. \n",
    "\n",
    "Luckily, `python` has a neat solution for this, and it's called \"generator expressions\". The gist is that such an expression acts like an **iterable**, but only creates the items when they are requested, computing them on the fly. "
   ]
  },
  {
   "cell_type": "markdown",
   "metadata": {
    "slideshow": {
     "slide_type": "subslide"
    }
   },
   "source": [
    "Generator expressions work *exactly* the same way as list comprehension, but using `()` instead of `[]`. Very nice. \n",
    "\n",
    "So, lets see how this works: "
   ]
  },
  {
   "cell_type": "code",
   "execution_count": 48,
   "metadata": {},
   "outputs": [
    {
     "name": "stdout",
     "output_type": "stream",
     "text": [
      "499999500000\n",
      "249999500000\n"
     ]
    }
   ],
   "source": [
    "print(sum(x for x in range(1000000)))\n",
    "\n",
    "# now summing only the even numbers -- conditionals work just like in list comprehension\n",
    "print(sum(x for x in range(1000000) if x % 2 == 0))"
   ]
  },
  {
   "cell_type": "markdown",
   "metadata": {
    "slideshow": {
     "slide_type": "subslide"
    }
   },
   "source": [
    "The downside is that the elements of a generator expression can be accessed exactly once, i.e. there is *no* indexing!"
   ]
  },
  {
   "cell_type": "code",
   "execution_count": 49,
   "metadata": {},
   "outputs": [
    {
     "data": {
      "text/plain": [
       "5"
      ]
     },
     "execution_count": 49,
     "metadata": {},
     "output_type": "execute_result"
    }
   ],
   "source": [
    "list_expression = [x for x in range(100)]\n",
    "list_expression[5]"
   ]
  },
  {
   "cell_type": "code",
   "execution_count": 50,
   "metadata": {
    "slideshow": {
     "slide_type": "fragment"
    }
   },
   "outputs": [
    {
     "ename": "TypeError",
     "evalue": "'generator' object is not subscriptable",
     "output_type": "error",
     "traceback": [
      "\u001b[0;31m---------------------------------------------------------------------------\u001b[0m",
      "\u001b[0;31mTypeError\u001b[0m                                 Traceback (most recent call last)",
      "\u001b[0;32m<ipython-input-50-7946e8f635be>\u001b[0m in \u001b[0;36m<module>\u001b[0;34m()\u001b[0m\n\u001b[1;32m      1\u001b[0m \u001b[0mgen_expression\u001b[0m \u001b[0;34m=\u001b[0m \u001b[0;34m(\u001b[0m\u001b[0mx\u001b[0m \u001b[0;32mfor\u001b[0m \u001b[0mx\u001b[0m \u001b[0;32min\u001b[0m \u001b[0mrange\u001b[0m\u001b[0;34m(\u001b[0m\u001b[0;36m100\u001b[0m\u001b[0;34m)\u001b[0m\u001b[0;34m)\u001b[0m\u001b[0;34m\u001b[0m\u001b[0m\n\u001b[0;32m----> 2\u001b[0;31m \u001b[0mgen_expression\u001b[0m\u001b[0;34m[\u001b[0m\u001b[0;36m5\u001b[0m\u001b[0;34m]\u001b[0m\u001b[0;34m\u001b[0m\u001b[0m\n\u001b[0m",
      "\u001b[0;31mTypeError\u001b[0m: 'generator' object is not subscriptable"
     ]
    }
   ],
   "source": [
    "gen_expression = (x for x in range(100))\n",
    "gen_expression[5]"
   ]
  },
  {
   "cell_type": "markdown",
   "metadata": {
    "slideshow": {
     "slide_type": "subslide"
    }
   },
   "source": [
    "Finally, because creating long lists of integers, e.g. `range`, is so common and so wasteful, the `python3` version of `range` actually acts like a generator -- instead of making a list, this simply yields the elements one by one. \n",
    "\n",
    "Compare memory usage of these two executions: "
   ]
  },
  {
   "cell_type": "code",
   "execution_count": 51,
   "metadata": {},
   "outputs": [],
   "source": [
    "!pip install --user memory_profile"
   ]
  },
  {
   "cell_type": "code",
   "execution_count": 52,
   "metadata": {},
   "outputs": [],
   "source": [
    "%load_ext memory_profiler\n",
    "%memit sum([x for x in range(100000000)])"
   ]
  },
  {
   "cell_type": "code",
   "execution_count": 53,
   "metadata": {},
   "outputs": [],
   "source": [
    "%memit sum(x for x in range(100000000))"
   ]
  },
  {
   "cell_type": "markdown",
   "metadata": {
    "slideshow": {
     "slide_type": "slide"
    }
   },
   "source": [
    "## Generators\n",
    "Closely related to generator *expressions* are *generators* - they are \n",
    "\n",
    "* functions that keep track of their internal state when they return \n",
    "* on next call they continue from where they left off. \n",
    "\n",
    "It's easy to illustrate this with writing our own version of the built-in `range` function."
   ]
  },
  {
   "cell_type": "code",
   "execution_count": 54,
   "metadata": {
    "collapsed": true,
    "slideshow": {
     "slide_type": "subslide"
    }
   },
   "outputs": [],
   "source": [
    "def my_range(N) :\n",
    "    i = 0\n",
    "    while i < N :\n",
    "        yield i\n",
    "        i += 1"
   ]
  },
  {
   "cell_type": "code",
   "execution_count": 55,
   "metadata": {},
   "outputs": [
    {
     "data": {
      "text/plain": [
       "<generator object my_range at 0x7f9a18082f68>"
      ]
     },
     "execution_count": 55,
     "metadata": {},
     "output_type": "execute_result"
    }
   ],
   "source": [
    "gen = my_range(10)\n",
    "gen"
   ]
  },
  {
   "cell_type": "code",
   "execution_count": 56,
   "metadata": {},
   "outputs": [
    {
     "name": "stdout",
     "output_type": "stream",
     "text": [
      "first value 0\n",
      "next value 1\n"
     ]
    }
   ],
   "source": [
    "print('first value', next(gen))\n",
    "print('next value', next(gen))"
   ]
  },
  {
   "cell_type": "code",
   "execution_count": 57,
   "metadata": {},
   "outputs": [
    {
     "data": {
      "text/plain": [
       "[2, 3, 4, 5, 6, 7, 8, 9]"
      ]
     },
     "execution_count": 57,
     "metadata": {},
     "output_type": "execute_result"
    }
   ],
   "source": [
    "[x for x in gen]"
   ]
  },
  {
   "cell_type": "code",
   "execution_count": 58,
   "metadata": {},
   "outputs": [
    {
     "ename": "StopIteration",
     "evalue": "",
     "output_type": "error",
     "traceback": [
      "\u001b[0;31m---------------------------------------------------------------------------\u001b[0m",
      "\u001b[0;31mStopIteration\u001b[0m                             Traceback (most recent call last)",
      "\u001b[0;32m<ipython-input-58-0b281b0b29e1>\u001b[0m in \u001b[0;36m<module>\u001b[0;34m()\u001b[0m\n\u001b[1;32m      1\u001b[0m \u001b[0;31m# exhausted iterator\u001b[0m\u001b[0;34m\u001b[0m\u001b[0;34m\u001b[0m\u001b[0m\n\u001b[0;32m----> 2\u001b[0;31m \u001b[0mnext\u001b[0m\u001b[0;34m(\u001b[0m\u001b[0mgen\u001b[0m\u001b[0;34m)\u001b[0m\u001b[0;34m\u001b[0m\u001b[0m\n\u001b[0m",
      "\u001b[0;31mStopIteration\u001b[0m: "
     ]
    }
   ],
   "source": [
    "# exhausted iterator\n",
    "next(gen)"
   ]
  },
  {
   "cell_type": "markdown",
   "metadata": {
    "slideshow": {
     "slide_type": "skip"
    }
   },
   "source": [
    "### To-do:\n",
    "\n",
    "Write a generator that returns the next word in the sequence with an even number of characters, using the `suntzu` string defined above. At least two possible solutions!"
   ]
  },
  {
   "cell_type": "code",
   "execution_count": 59,
   "metadata": {
    "collapsed": true,
    "slideshow": {
     "slide_type": "skip"
    }
   },
   "outputs": [],
   "source": [
    "def next_word(words):\n",
    "    words = words.split(\" \")\n",
    "    i = 0 \n",
    "    while i < len( words ):\n",
    "        if not len( words[i] ) % 2 : \n",
    "            yield words[i]\n",
    "        i += 1            \n",
    "        \n",
    "even_gen = next_word(suntzu)"
   ]
  },
  {
   "cell_type": "code",
   "execution_count": 60,
   "metadata": {
    "slideshow": {
     "slide_type": "skip"
    }
   },
   "outputs": [],
   "source": [
    "assert(list(even_gen) == ['of', 'is', 'to', 'subdue'])"
   ]
  },
  {
   "cell_type": "markdown",
   "metadata": {
    "slideshow": {
     "slide_type": "subslide"
    }
   },
   "source": [
    "This only scratches the surface of generator functionality in `python`, but for our purposes it is enough. For a more complete discussion see e.g. [the python wiki](https://wiki.python.org/moin/Generators) and [this pretty good example](http://jeffknupp.com/blog/2013/04/07/improve-your-python-yield-and-generators-explained/). \n",
    "\n",
    "Generators and generator expressions are useful in general when dealing with large data objects because they allow you to iterate through the data without ever holding it in memory. \n",
    "\n",
    "The concept of generators will be useful when we discuss the `mapPartitions` RDD method in Spark."
   ]
  }
 ],
 "metadata": {
  "kernelspec": {
   "display_name": "Python 3",
   "language": "python",
   "name": "python3"
  },
  "language_info": {
   "codemirror_mode": {
    "name": "ipython",
    "version": 3
   },
   "file_extension": ".py",
   "mimetype": "text/x-python",
   "name": "python",
   "nbconvert_exporter": "python",
   "pygments_lexer": "ipython3",
   "version": "3.6.3"
  }
 },
 "nbformat": 4,
 "nbformat_minor": 1
}
