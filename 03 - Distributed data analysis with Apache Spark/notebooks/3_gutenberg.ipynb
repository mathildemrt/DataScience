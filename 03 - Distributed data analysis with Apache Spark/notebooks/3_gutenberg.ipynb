{
 "cells": [
  {
   "cell_type": "code",
   "execution_count": 1,
   "metadata": {
    "collapsed": true
   },
   "outputs": [],
   "source": [
    "%matplotlib inline\n",
    "import matplotlib.pylab as plt\n",
    "import sys, os, glob\n",
    "import numpy as np\n",
    "\n",
    "plt.rcParams['figure.figsize'] = (10,6)\n",
    "plt.rcParams['font.size'] = 18\n",
    "plt.style.use('fivethirtyeight')"
   ]
  },
  {
   "cell_type": "markdown",
   "metadata": {},
   "source": [
    "# Analyzing the Gutenberg Books Corpus\n",
    "\n",
    "The [Gutenberg Project](http://www.gutenberg.org/) is a collection of free books available online. In this lab we will use it to learn how to do analysis on text-based key-value datasets. \n",
    "\n",
    "Our ultimate goal in this lab is to produce something like the [Google Ngram Viewer](https://books.google.com/ngrams) but for the Gutenberg book corpus. \n",
    "\n",
    "<div class=\"alert alert-success\">\n",
    "<h3>The structure of this lab is as follows:</h3>\n",
    "\n",
    "<ol>\n",
    "    <li>initializing Spark and loading data</li>\n",
    "    <li>basic inspection of data</li>\n",
    "    <li>using essential RDD methods like `reduceByKey` to perform aggregations to answer simple questions, e.g. how many authors are there? How many unique words? What are the most common words?</li>\n",
    "    <li>transforming the data - vectorizing text documents</li>\n",
    "    <li>creating an N-gram viewer</li>\n",
    "</div>"
   ]
  },
  {
   "cell_type": "markdown",
   "metadata": {},
   "source": [
    "## Starting up the Spark runtime: initializing a `SparkContext` "
   ]
  },
  {
   "cell_type": "code",
   "execution_count": 2,
   "metadata": {},
   "outputs": [
    {
     "data": {
      "text/html": [
       "\n",
       "        <div>\n",
       "            <p><b>SparkContext</b></p>\n",
       "\n",
       "            <p><a href=\"http://10.90.38.21:4040\">Spark UI</a></p>\n",
       "\n",
       "            <dl>\n",
       "              <dt>Version</dt>\n",
       "                <dd><code>v2.2.0.2.6.4.0-91</code></dd>\n",
       "              <dt>Master</dt>\n",
       "                <dd><code>yarn</code></dd>\n",
       "              <dt>AppName</dt>\n",
       "                <dd><code>gutenberg-mareite</code></dd>\n",
       "            </dl>\n",
       "        </div>\n",
       "        "
      ],
      "text/plain": [
       "<SparkContext master=yarn appName=gutenberg-mareite>"
      ]
     },
     "execution_count": 2,
     "metadata": {},
     "output_type": "execute_result"
    }
   ],
   "source": [
    "import getpass\n",
    "import pyspark\n",
    "conf = pyspark.conf.SparkConf()\n",
    "conf.setMaster('yarn')\n",
    "conf.setAppName('gutenberg-{0}'.format(getpass.getuser()))\n",
    "conf.set('spark.executor.memory', '4g')\n",
    "conf.set('spark.executor.instances', '2')\n",
    "sc = pyspark.SparkContext.getOrCreate(conf)\n",
    "conf = sc.getConf()\n",
    "sc"
   ]
  },
  {
   "cell_type": "markdown",
   "metadata": {},
   "source": [
    "## The data\n",
    "\n",
    "The Gutenberg corpus has already been ingested and pre-processed for you. It is saved on HDFS as an RDD of `(book_id, text)` key-value pairs. In a separate data file, we saved a dictionary which contains the metadata for all the books in the RDD. "
   ]
  },
  {
   "cell_type": "markdown",
   "metadata": {},
   "source": [
    "## Load the data from HDFS"
   ]
  },
  {
   "cell_type": "code",
   "execution_count": 3,
   "metadata": {
    "collapsed": true
   },
   "outputs": [],
   "source": [
    "gutenberg_rdd = sc.sequenceFile('/datasets/gutenberg/gutenberg_rdd').setName('gutenberg_rdd').cache()"
   ]
  },
  {
   "cell_type": "markdown",
   "metadata": {},
   "source": [
    "Lets quickly have a look at what this data looks like. These inspection methods are critical for getting a handle of the data in Spark - you will use them often!"
   ]
  },
  {
   "cell_type": "code",
   "execution_count": 4,
   "metadata": {},
   "outputs": [
    {
     "data": {
      "text/plain": [
       "('15266',\n",
       " 'The Project Gutenberg eBook, What Peace Means, by Henry van Dyke\\n\\n\\nThis eBook is for the use of anyone anywhere at no cost and with\\nalmost no restrictions whatsoever.  You may copy it, give it away or\\nre-use it under the terms of the Project Gutenberg License included\\nwith this eBook or online at www.gutenberg.net\\n\\n\\n\\n\\n\\nTitle: What Peace Means\\n\\nAuthor: Henry van Dyke\\n\\nRelease Date: March 5, 2005  [eBook #15266]\\n\\nLanguage: English\\n\\nCharacter set encoding: ISO-8859-1\\n\\n\\n***START OF THE PROJECT GUTENBERG EBOOK WHAT PEACE MEANS***\\n\\n\\nE-text prepared by Juliet Sutherland, Melissa Er-Raqabi, and the Project\\nGutenberg Online Distributed Proofreading Team (http://www.pgdp.net)\\n\\n\\n\\nWHAT PEACE MEANS\\n\\nby\\n\\nHENRY VAN DYKE\\n\\nNew York          Chicago\\nFleming H. Revell Company\\nLondon    and   Edinburgh\\n\\n1919\\n\\n\\n\\n\\n\\n\\n\\nTo\\nMy Son in the Faith\\nMy Brother in the Work\\nTertius van Dyke\\n\\n\\n\\n\\nFOREWORD\\n\\nThis little book contains three plain sermons which were preached in New\\nYork in the Easter season of 1919, in the Park Avenue Presbyterian\\nChurch, of which my son is minister. I had no thought that they would\\never be printed. They were, and are, just _daily bread discourses_ meant\\nto serve the spiritual needs of a congregation of Christian people,\\nseekers after truth, inquirers about duty, strangers and pilgrims, in\\nthe great city and the troubled world.\\n\\nBut if, as friends think, these simple chapters may be of service\\nthrough the printed page to a larger circle of readers, I willingly and\\nfreely let them go.\\n\\nMay the blessing of Jesus follow them on their humble path. May the\\nSpirit of Truth bring them home to some hearts that want them,--to those\\nwho desire to escape from evil and do good,--to those who \"seek peace\\nand ensue it.\"\\n\\nHENRY VAN DYKE.\\n\\nPark Avenue Church Manse, New York City.\\n\\n\\n\\n\\nCONTENTS\\n\\n  I. PEACE IN THE SOUL\\n\\n II. PEACE ON EARTH THROUGH RIGHTEOUSNESS\\n\\nIII. THE POWER OF AN ENDLESS LIFE\\n\\n\\n\\n\\nI\\n\\nPeace in the Soul\\n\\n_Peace I leave with you: my peace I give unto you._--ST. JOHN 14:27.\\n\\n\\nPeace is one of the great words of the Holy Scriptures.\\nIt is woven through the Old Testament and the New like a golden thread.\\nIt inheres and abides in the character of God,--\\n\\n    \"The central peace subsisting at the heart\\n    Of endless agitation.\"\\n\\nIt is the deepest and most universal desire of man, whose prayer in all\\nages has been, \"Grant us Thy Peace, O Lord.\" It is the reward of the\\nrighteous, the blessing of the good, the crown of life\\'s effort, and the\\nglory of eternity.\\n\\nThe prophets foretell the beauty of its coming and the psalmists sing of\\nthe joy which it brings. Jesus Christ is its Divine Messiah, its high\\npriest and its holy prince. The evangelists and prophets proclaim and\\npreach it. From beginning to end the Bible is full of the praise of\\npeace.\\n\\nYet there never was a book more full of stories of trouble and strife,\\ndisaster and sorrow. God Himself is revealed in it not as a calm,\\nuntroubled, self-absorbed Deity, occupied in beatific contemplation of\\nHis own perfections. He is a God who works and labours, who wars against\\nthe evil, who fights for the good. The psalmist speaks of Him as \"The\\nLord of Hosts, strong and mighty in battle.\" The Revelation of St. John\\ntells us that \"There was war in Heaven; Michael and his angels fought\\nagainst the dragon.\" Jesus Christ said: \"I came not to send peace, but a\\nsword.\"\\n\\nIt is evident, then, that this idea of \"peace,\" like all good and noble\\nthings, has its counterfeit, its false and subtle versary, which steals\\nits name and its garments to deceive and betray the hearts of men. We\\nfind this clearly taught in the Bible. Not more earnestly does it praise\\ntrue peace than it denounces false peace.\\n\\n_There is no peace, saith the Lord, unto the wicked_ (Isaiah 48:22).\\n\\n_For they have healed the hurt of the daughter of my people slightly,\\nsaying, Peace, peace; when there is no peace_ (Jer. 8:11).\\n\\n_If thou hadst known, even thou, at least in this thy day, the things\\nwhich belong unto thy peace! but now they are hid from thine eyes_ (St.\\nLuke 19:42).\\n\\n_For to be carnally minded is death; but to be spiritually minded is\\nlife and peace_ (Romans 8:6).\\n\\nThere never was a time in human history when a right understanding of\\nthe nature of true peace, the path which leads to it, the laws which\\ngovern it, was more necessary or more important than it is to-day.\\n\\nThe world has just passed through a ghastly experience of war at its\\nworst. Never in history has there been such slaughter, such agony, such\\nwaste, such desolation, in a brief space of time, as in the four\\nterrible years of conflict which German militarism forced on the world\\nin the twentieth century. Having seen it, I know what it means.\\n\\nNow we have \"supped full with horrors.\" We have had more than enough of\\nthat bloody banquet The heart of humanity longs for peace, as it has\\nalways longed, but now with a new intensity, greater than ever before.\\nYet the second course of war continues. The dogs fight for the crumbs\\nunder the peace-table. Ignorant armies clash by night. Cities are\\nbombarded and sacked. The barbarous Bolsheviki raise the red flag of\\nviolence and threaten a war of classes throughout the world.\\n\\nYou can never make a golden age out of leaden men, or a peaceful world\\nout of lovers of strife.\\n\\nWhere shall peace be found? How shall it be attained and safeguarded?\\nEvidently the militarists have assaulted it with their doctrine that\\nmight makes right. Evidently the pacifists have betrayed it with their\\ndoctrine of passive acceptance of wrong. Somewhere between these two\\nerrors there must be a ground of truth on which Christians can stand to\\ndefend their faith and maintain their hope of a better future for the\\nworld.\\n\\nLet me begin by speaking of _Peace in the Soul_. That is where religion\\nbegins, in the heart of a person. Its flowers and fruits are social.\\nThey are for the blessing of the world. But its root is personal. You\\ncan never start with a class--conscious or a mass--conscious\\nChristianity. It must begin with just you and God.\\n\\nMarshal Joffre, that fine Christian soldier, said a memorable thing\\nabout the winning of the war: \"Our victory will be the fruit of\\nindividual sacrifice.\" So of the coming of peace on earth we may say the\\nsame: it will be the fruit of the entrance of peace into individual\\nhearts and lives.\\n\\nA world at war is the necessary result of human restlessness and\\nenmities. \"From whence come wars and fightings among you? Come they not\\nhence, even of your lusts, that war in your members?\" Envy, malice,\\ngreed, hatred, deceit,--these are the begetters of strife on earth.\\n\\nA world at peace can come only from the cooperation of peaceful human\\nspirits. Therefore we must commence to learn what peace is, by seeking\\nit in our souls through faith.\\n\\nChrist promised peace to His disciples at the Communion in that little\\nupper room in Jerusalem, nineteen hundred years ago. Evidently it was\\nnot an outward but an inward peace. He told them that they would have a\\nlot of trouble in the world. But He assured them that this could not\\novercome them if they believed in Him and in His Father God. He warned\\nthem of conflict, and assured them of inward peace.\\n\\nWhat are the elements of this wondrous gift which Christ gave to His\\ndisciples, and which He offers to us?\\n\\nI. First, the peace of Christ is the peace of being divinely loved.\\nNothing rests and satisfies the heart like the sense of being loved. Let\\nus take as an illustration the case of a little child, which has grown\\ntired and fretful at its play, and is frightened suddenly by some\\nchildish terror. Weeping, it runs to its mother. She takes the child in\\nher arms, folds it to her breast, bends over it, and soothes it with\\nfond words which mean only this: \"I love you.\" Very soon the child sinks\\nto rest, contented and happy, in the sense of being loved. \"Herein is\\nlove, not that we loved God, but that he loved us, and sent his Son to\\nbe the propitiation for our sins.\" In Jesus Christ God is stretching out\\nHis arms to us, drawing us to His bosom, enfolding us in the secret of\\npeace. If we believe in Jesus Christ as the Son of God, He makes us sure\\nof a Divine affection, deep, infinite, inexhaustible, imperishable. \"For\\nGod so loved the world, that he gave his only begotten Son, that\\nwhosoever believeth in him should not perish, but have everlasting\\nlife.\" God, who \"spared not his dearly-beloved Son, but delivered him up\\nfor us all, how shall he not with him also freely give us all things?\"\\n\"Nothing shall be able to separate us from the love of God, which is in\\nChrist Jesus our Lord.\"\\n\\nII. The Christian peace is the peace of being divinely controlled. The\\nman who accepts Jesus Christ truly, accepts Him as Master and Lord. He\\nbelieves that Christ has a purpose for him, which will surely be\\nfulfilled? work for him, which will surely be blessed if he only tries\\nto do it. Most of the discords of life come from a conflict of\\nauthorities, of plans, of purposes. Suppose that a building were going\\nup, and the architect had one design for it, and the builder had\\nanother. What perplexity and confusion there would be! How ill things\\nwould fit! What perpetual quarrels and blunders and disappointments! But\\nwhen the workman accepts the designer\\'s plan and simply does his best to\\ncarry that out, harmony, joyful labour, and triumph are the result. If\\nwe accept God\\'s plan for us, yield to Him as the daily controller and\\ndirector of our life, our work, however hard, becomes peaceful and\\nsecure. No perils can frighten, no interruptions can dishearten us.\\n\\nNot many years ago some workmen were digging a tunnel, when a sudden\\nfall of earth blocked the mouth of the opening. Their companions on the\\noutside found out what had happened, and started to dig through the mass\\nof earth to the rescue. It was several hours before they made their way\\nthrough. When they went in they found the workmen going on with their\\nlabour on the tunnel. \"We knew,\" said one of them, \"that you\\'d come to\\nhelp us, and we thought the best way to make time pass quick was to keep\\non with the work.\" That is what a Christian may say to Christ amid the\\ndangers and disasters of life. We know that He will never forsake us,\\nand the best way to be at peace is to be about His business. He says to\\nus: \"As the Father sent me, even so send I you.\"\\n\\nIII. The Christian peace is the peace of being divinely forgiven.\\n\\n\"In every man,\" said a philosopher, \"there is something which, if we\\nknew it, would make us despise him.\" Let us turn the saying, and change\\nit from a bitter cynicism into a wholesome truth.\\n\\nIn every one of us there is something which, if we realize it, makes us\\ncondemn ourselves as sinners, and hunger and thirst after righteousness,\\nand long for forgiveness.\\n\\nIt is this deep consciousness of sin, of evil in our hearts and lives,\\nthat makes us restless and unhappy. The plasters and soothing lotions\\nwith which the easy-going philosophy of modern times covers it up, do\\nnot heal it; they only hide it. There is no cure for it, there is no\\nrest for the sinful soul, except the divine forgiveness. There is no\\nsure pledge of this except in the holy sacrifice and blessed promise of\\nChrist, \"Son, daughter, thy sins are forgiven thee, go in peace.\"\\n\\nUnderstand, I do not mean that what we need and want is to have our sins\\nignored and overlooked. On the contrary, that is just what would fail to\\nbring us true rest. For if God took no account of sins, required no\\nrepentance and reparation, He would not be holy, just, and faithful, a\\nGod whom we can adore and love and trust.\\n\\nNor do I mean that what we need is merely to have the punishment of sins\\nremitted. That would not satisfy the heart. Is the child contented when\\nthe father says, \"Well, I will not punish you. Go away\"? No, what the\\nchild wants is to hear the father say, \"I forgive you. Come to me.\" It\\nis to be welcomed back to the father\\'s home, to the father\\'s heart, that\\nthe child longs.\\n\\nPeace means not to have the offense ignored, but to have it pardoned:\\nnot to the punishment omitted, but to have separation from God ended and\\ndone with. That is the peace of being divinely forgiven,--a peace which\\nrecognizes sin, and triumphs over it,--a peace which not merely saves us\\nfrom death but welcomes us home to the divine love from which we have\\nwandered.\\n\\nThat is the peace which Christ offers to each one of us in His Gospel.\\nWe need it in this modern world as much as men and women ever needed it\\nin the old world. No New Era will ever change its meaning or do away\\nwith its necessity. Indeed, it seems to me that we need this\\nold-fashioned religion to-day more than ever.\\n\\nWe need it for our own comfort and strength. We need it to deliver us\\nfrom the vanity and hollowness, the fever and hysteria of the present\\nage. We need it to make us better soldiers and workers for every good\\ncause. Peace is coming to all the earth some day through Christ. And\\nthose who shall do most to help Him bring it are the men and women to\\nwhom He gives Peace in the Soul.\\n\\n\\n\\n\\nII\\n\\nPeace on Earth Through Righteousness\\n\\n_And the work of righteousness shall be peace: and the effect of\\nrighteousness quietness and confidence forever._\\n\\n--ISAIAH 32:17.\\n\\n\\nAfter we have found peace in our own souls through faith\\nin God and in His Son, Jesus Christ our Saviour, if our faith is honest,\\nwe must feel the desire and the duty of helping to make peace prevail on\\nearth.\\n\\nBut here we are, in a world of confusion and conflict. Darkness and\\nignorance strive against light. Evil hates and assaults good. Wrong\\ntakes up arms against right. Greed and pride and passion call on\\nviolence to defeat justice and enthrone blind force. So has it been\\nsince Cain killed Abel, since Christ was crucified on Calvary, and so it\\nis to-day wherever men uphold the false doctrine that \"might makes\\nright.\"\\n\\nThe Bible teaches us that there is no foundation for enduring peace on\\nearth except in righteousness: that it is our duty to suffer for that\\ncause if need be: that we are bound to fight for it if we have the\\npower: and that if God gives us the victory we must use it for the\\nperpetuation of righteous peace.\\n\\nIn these words I sum up what seems to me the Christian doctrine of war\\nand peace,--the truth that in time of war we must stand for the right,\\nand that when peace comes in sight, we must do our best to found it upon\\njustice. These two truths cannot be separated. If we forget the meaning\\nof the Christian duty to which God called us in the late war, all our\\nsacrifice of blood and treasure will have been in vain. If we forget the\\nwatchword which called our boys to the colours, our victory will be\\nfruitless. We have fought in this twentieth century against the pagan\\nGerman doctrine of war as the supreme arbiter between the tribes of\\nmankind. They that took the sword must perish by the sword. But in the\\nhour of victory we must uphold the end for which we have fought and\\nsuffered,--the advance of the world towards a peaceful life founded on\\nreason and justice and fair-play for every man.\\n\\nSo there are two heads to this sermon. First, the indelible remembrance\\nof a righteous acceptance of war. Second, the reasonable hope of a\\nrighteous foundation of peace.\\n\\nI. First of all, then, it must never be forgotten that the Allies and\\nAmerica were forced to enter this war as a work of righteousness in\\norder to make the world safe for peace.\\n\\nPeace means something more than the mere absence of hostilities. It\\nmeans justice, honour, fair-play, order, security, and the\\nwell-protected right of every man and nation to life, liberty, and the\\npursuit of happiness. It was the German contempt for these Christian\\nideals, it was the German idolatry of the pagan Odin, naked, cruel,\\nbloody, god of war, it was the German will to power and dream of\\nworld-dominion, that made the world unsafe for real peace in 1914.\\n\\nNever could that safety be secured until that enemy of mankind was\\novercome. Not only for democracy, but also for human peace, it was\\nnecessary, as President Wilson said, that \"the German power, a thing\\nwithout honour, conscience, or capacity for covenanted faith, must be\\ncrushed.\"\\n\\nI saw, from my post of observation in Holland, the hosts of heathen\\nGermany massing for their attack on the world\\'s peace in the spring of\\n1914. Long before the pretext of war was provided by the murder of the\\nAustrian Crown-Prince in Serajevo, I saw the troops, the artillery, the\\nmountains of ammunition, assembled at Aix-la-Chapelle and Trier, ready\\nfor the invasion of neutral Belgium and Luxembourg, and the foul stroke\\nat France.\\n\\nEvery civilized nation in Europe desired peace and pleaded for it.\\nLittle Servia offered to go before the Court of Arbitration at The Hague\\nand be tried for the offense of which she was accused. Russia, Italy,\\nFrance and England entreated Germany not to make war, but to submit the\\ndispute to judicial settlement, to a righteous decision by a conference\\nof powers. But Germany said no. She had prepared for war, she wanted\\nwar, she got war. And now she must abide by the result of her choice.\\n\\nI have seen also with my own eyes the horrors wrought by Germany in her\\nconduct of the war in Belgium and Northern France. Words fail me to\\ndescribe them. Childhood has been crucified, womanhood outraged,\\ncivilization trampled in the dust. The nations and the men who took\\narms against these deviltries were the servants of the righteous God and\\nthe followers of the merciful Christ.\\n\\nHe told us, \"If any man smite thee on the right cheek, turn unto him the\\nleft also.\" But never did He tell us to abandon the bodies and the lives\\nof our women and children to the outrage of beasts in human form. On the\\ncontrary, He said to His disciples, in His parting discourse, \"He that\\nhath no sword let him sell his garment and buy one.\"\\n\\nDoes any silly pacifist say that means a spiritual sword? No. You could\\nget that without selling your garment. It means a real sword,--as real\\nas the purse and the scrip which Christ told His followers to carry with\\nthem. It means the power of arms dedicated to the service of\\nrighteousness without which the world can never be safe for peace.\\n\\nHere, then, we may stand on the Word of God, on the work of\\nrighteousness in making the world safe for peace. Let me tell you of my\\nfaith that every one who has given his life for that cause, has entered\\ninto eternal rest.\\n\\nII. Come we now to consider the second part of the text: \"the effect of\\nrighteousness, quietness and confidence forever.\"\\n\\nWhat shall be the nature of the peace to be concluded after our victory\\nin this righteous war?\\n\\nHere we have to oppose the demands of the bloodthirsty civilians. They\\nask that German towns should endure the same sufferings which have been\\ninflicted on the towns of Belgium and Northern France. Let me say\\nfrankly that I do not believe you could persuade our officers to order\\nsuch atrocities, or our soldiers to obey such orders. Read the order\\nwhich one of the noble warriors of France, General Pétain, issued to his\\nmen:\\n\\n     \"To-morrow, in order to better dictate peace, you are going to\\n     carry your arms as far as the Rhine. Into that land of\\n     Alsace-Lorraine that is so dear to us, you will march as\\n     liberators. You will go further; all the way into Germany to occupy\\n     lands which are the necessary guarantees for just reparation.\\n\\n     \"France has suffered in her ravaged fields and in her ruined\\n     villages. The freed provinces have had to submit to intolerable\\n     vexations and odious outrages, but you are not to answer these\\n     crimes by the commission of violences, which, under the spur of\\n     your resentment, may seem to you legitimate.\\n\\n     \"You are to remain under discipline and to show respect to persons\\n     and property. You will know, after having vanquished your adversary\\n     by force of arms, how to impress him further by the dignity of your\\n     attitude, and the world will not know which to admire most, your\\n     conduct in success or your heroism in fighting.\"\\n\\nThe destruction of the commonplace Cathedral of Cologne could never\\nrecompense the damage done to the glorious Cathedral of Rheims. Nor\\ncould the slaughter of a million German women and children restore the\\ninnocent victims of Belgium, France, Servia, and Armenia to life. We do\\nnot thirst for blood. We desire justice.\\n\\nNo doubt the ends of justice demand that the principal brigands who are\\nresponsible for the atrocities of this war should be tried before an\\ninternational court If convicted they should be duly punished. But not\\nby mob-law or violence. Nothing could be less desirable than the\\nassassination of William Hohenzollern. It would be absurd and horrible\\nto give a martyr\\'s crown to a criminal. Vengeance belongeth unto God. He\\nalone is wise and great enough to deal adequately with the case. It is\\nfor us to keep our righteous indignation free from the poison of\\npersonal hatred, and to do no more than is needed to uphold and\\nvindicate the eternal law.\\n\\nWilliam Hohenzollern, and his fellow-conspirators who are responsible\\nfor the beginning and the conduct of the dreadful war from which all\\nthe toiling peoples of earth have suffered, must be brought to the bar\\nof justice and sentenced; otherwise the world will have no defense\\nagainst the anarchists who say that government is a vain thing; and the\\nbloody Bolshevists who proclaim the Empire of the Ignorant,--the\\nBoob-Rah,--as the future rule of the world, will have free scope.\\n\\nIt is evident that a league of free, democratic states, pledged by\\nmutual covenant to uphold the settlement of international differences by\\nreason and justice before the use of violence, offers the only hope of a\\ndurable peace among the nations. It is also the only defense against\\nthat deadly and destructive war of classes with which Bolshevism\\nthreatens the whole world. The spirit of Bolshevism is atheism and\\nenmity; its method is violence and tyranny; its result would be a reign\\nof terror under that empty-headed monster, \"the dictatorship of the\\nproletariat.\" God save us from that! It would be the worst possible\\noutcome of the war in which we have offered and sacrificed so much, and\\nin which God has given us the opportunity to make \"a covenant of peace.\"\\n\\nHow vast, how immeasurable, are the responsibilities which this great\\nvictory in righteous war has laid upon the Allies and America. God help\\nus to live up to them. God help us to sow the future not with dragon\\'s\\nteeth, but with seeds of blessed harvest. God paint upon the broken\\nstorm-cloud the rainbow of eternal hope. God help us and our friends to\\nmake a peace that shall mean good to all mankind. God send upon our\\nvictory the light of the cross of Christ our Saviour, where mercy and\\ntruth meet together, righteousness and peace kiss each other.\\n\\n\\n\\n\\nIII\\n\\nThe Power of an Endless Life\\n\\n_Who is made, not after the law of a carnal commandment, but after the\\npower of an endless life._\\n\\n--Hebrews 7:16.\\n\\n\\nThe message and hope of immortality are nowhere more\\ndistinctly conveyed to our minds than in connection with that\\nresurrection morn when Jesus appeared to Mary Magdalene. The anniversary\\nof that day will ever be the festival of the human soul. Even those who\\ndo not clearly understand or fully accept its meaning in history and\\nreligion,--even children and ignorant folk and doubters and\\nunbelievers,--yes, even frivolous people and sullen people, feel that\\nthere is something in this festival which meets the need and longing of\\ntheir hearts. It is a day of joy and gladness, a day of liberation and\\npromise, a day for flowers to bloom and birds to sing, a day of\\nspiritual spring-tide and immortal hope.\\n\\nMankind desires and needs such a day. We are overshadowed in all our\\naffections and aspirations, all our efforts, and designs, by the dark\\nmystery of bodily death; the uncertainty and the brevity of earthly\\nexistence make us tremble and despair; the futility of our plans dismays\\nus; the insecurity of our dearest treasure in lives linked to ours fills\\nus with dismay.\\n\\nIs there no escape from Death, the Tyrant, the autocrat, the destroyer,\\nthe last enemy? Why love, why look upward, why strive for better things\\nif this imperator of failure, ultimate extinction, rules the universe?\\nNo hope beyond the grave means no peace this side of it. A life without\\nhope is a life without God. If Death ends all, then there is no Father\\nin Heaven in whom we can trust. Who shall deliver us from the body of\\nthis Death?\\n\\nNow comes Easter with its immortal promise and assurance, Jesus of\\nNazareth, who died on Calvary, a martyr of humanity, a sacrifice of\\nDivinity, is alive and appears to His humble followers. The manner of\\nHis appearance, to Mary Magdalene, to His disciples, is not the most\\nimportant thing. The fact is that He did appear. He who was crucified in\\nthe cause of righteousness and mercy, lives on and forever. The message\\nof His resurrection is \"the power of an endless life.\"\\n\\nThe proof of this message is in the effect that it produced. It\\ntransformed the handful of Jesus\\' followers from despair to confidence.\\nIt gave Christianity its growing influence over the heart of humanity.\\nIt is this message of immortality that makes religion vital to the human\\nworld to-day, and essential to the foundation of peace on earth.\\n\\nWe must not forget in our personal griefs and longings, in our sorrows\\nfor those whom we have lost and our desire to find them again, in our\\nsense of our own mortal frailty and the brief duration of earthly life,\\nthe celestial impulse which demands a life triumphant over death.\\n\\nThe strongest of all supports for peace on earth is the faith in\\nimmortality. The truth is, the very character of our being here in this\\nworld demands continuance beyond death. There is nothing good or great\\nthat we think or feel or endeavour, that is not a reaching out to\\nsomething better. Our finest knowledge is but the consciousness of\\nlimitation and the longing that it may be removed. Our best moral effort\\nis but a slow advance towards something better. Our sense of the\\ndifference between good and evil, our penitence, our aspiration, all\\nthis moral freight with which our souls are laden, is a cargo consigned\\nto an unseen country. Our bill of lading reads, \"To the immortal life.\"\\nIf we must sink in mid-ocean, then all is lost, and the voyage of life\\nis a predestined wreck.\\n\\nThe wisest, the strongest, the best of mankind, have felt this most\\ndeeply. The faith in immortality belongs to the childhood of the race,\\nand the greatest of the sages have always returned to it and taken\\nrefuge in it. Socrates and Plato, Cicero and Plutarch, Montesquieu and\\nFranklin, Kant and Emerson, Tennyson and Browning,--how do they all bear\\nwitness to the incompleteness of life and reach out to a completion\\nbeyond the grave.\\n\\n    \"No great Thinker ever lived and taught you\\n    All the wonder that his soul received;\\n    No great Painter ever set on canvas\\n    All the glorious vision he conceived.\\n\\n    \"No Musician ever held your spirit\\n    Charmed and bound in his melodious chains;\\n    But, be sure, he heard, and strove to render,\\n    Feeble echoes of celestial strains.\\n\\n    \"No real Poet ever wove in numbers\\n    All his dream, but the diviner part,\\n    Hidden from all the world, spake to him only\\n    In the voiceless silence of his heart.\\n\\n    \"So with Love: for Love and Art united\\n    Are twin mysteries: different yet the same;\\n    Poor indeed would be the love of any\\n    Who could find its full and perfect name.\\n\\n    \"Love may strive; but vain is its endeavour\\n    All its boundless riches to unfold;\\n    Still its tenderest, truest secret lingers\\n    Ever in its deepest depths untold.\\n\\n    \"Things of Time have voices: speak and perish.\\n    Art and Love speak; but their words must be\\n    Like sighings of illimitable forests\\n    And waves of an unfathomable sea.\"\\n\\nAnd can it be that death shall put the final seal of irretrievable ruin\\non all this uncompleted effort? Can it be that the grave shall whelm all\\nthis unuttered love in endless silence? Ah, what a wild waste of\\nprecious treasure, what a mad destruction of fair designs, what an\\nutter failure, life would be if death must end all!\\n\\nThe very reasonableness of our nature, our sense of order, declare the\\nimpotence of Death to create such a wreck. And most of all our deep\\naffections cry out against the conclusion of despair. They will not hear\\nof dissolution. They reach out their hands into the darkness. They\\ndemand and they promise an unending fellowship, a deepening communion, a\\nmore perfect satisfaction. Do you remember what Thackeray wrote? \"If\\nlove lives through all life, and survives through all sorrow; and\\nremains steadfast with us through all changes; and in all darkness of\\nspirit burns brightly; and if we die, deplores us forever, and still\\nloves us equally; and exists with the very last gasp and throb of the\\nfaithful bosom, whence it passes with the pure soul beyond death, surely\\nit shall be immortal. Though we who remain are separated from it, is it\\nnot ours in heaven? If we love still those whom we lose, can we\\naltogether lose those whom we love?\"\\n\\nTo deny this instinct is to deny that which lies at the very root of our\\nlife. If love perishes with death, then our affections are our worst\\ncurses, the world is the cruellest torture-house, and \"all things work\\ntogether for evil to those who love.\" Do you believe it? Is it possible?\\nNay, all that is best and noblest and purest within us rejects such a\\nfaith in Absolute Evil as the power that has created and rules the\\nworld. In the presence of love we feel that we behold that which must\\nbelong to a good God and therefore cannot die. Destruction cannot touch\\nit. The grave cannot hold it. Loving and being loved, we dare to stand\\nin the very doorway of the tomb, and assert the power of an endless\\nlife.\\n\\nAnd it seems to me that this courage never comes to us so fully as when\\nwe are brought in closest contact with death, when we are brought face\\nto face with that dread shadow and forced either to deny its power, once\\nand forever, or to give up everything and die with our hopes. I wish\\nthat I could make this clear to you as it lies in my own experience.\\nPerhaps in trying to do it I should speak closer to your own heart than\\nin any other way. For surely\\n\\n    \"There is no flock, however watched and tended\\n      But one dead lamb is there.\\n    There is no fireside, howsoe\\'er defended\\n      But has a vacant chair.\"\\n\\nA flower grew in your garden. You delighted in its beauty and fragrance.\\nIt gave you all it had to give, but it did not love you. It could not.\\nWhen the time came for it to die, you were sorry. But it did not seem to\\nyou strange or unnatural. There was no waste. Its mission was fulfilled.\\nYou understood why its petals should fall, its leaf wither, its root\\nand branch decay. And even if a storm came and snapped it, still there\\nwas nothing lost that was indispensable, nothing that could not be\\nrestored.\\n\\nA child grew in your household, dearly loved and answering your love.\\nYou saw that soul unfold, learning to know the evil from the good,\\nlearning to accept duty and to resist selfishness, learning to be brave\\nand true and kind, learning to give you day by day a deeper and a richer\\nsympathy, learning to love God and to pray and to be good. And then\\nperhaps you saw that young heart being perfected under the higher and\\nholier discipline of suffering, bearing pain patiently, facing trouble\\nand danger like a hero, not shrinking even from the presence of death,\\nbut trusting all to your love and to God\\'s, and taking just what came\\nfrom day to day, from hour to hour. And then suddenly the light went out\\nin the shining eyes. The brave heart stopped. The soul was gone. Lost,\\nperished, blotted out forever in the darkness of death? Ah, no; you know\\nbetter than that. That clear, dawning intelligence, that deepening love,\\nthat childlike faith in God, that pure innocence of soul, did not come\\nfrom the dust. How could they return thither? The music ceases because\\nthe instrument is broken. But the player is not dead. He is learning a\\nbetter music. He is finding a more perfect instrument. It is impossible\\nthat he should be holden of death. God wastes nothing so precious.\\n\\n             \"What is excellent\\n    As God lives is permanent.\\n    Hearts are dust; hearts\\' loves remain.\\n    Hearts\\' love will meet thee again.\"\\n\\nBut I am sure that we must go further than this in order to understand\\nthe full strength and comfort of the text. The assertion of the\\nimpotence of death to end all is based upon something deeper than the\\nprophecy of immortality in the human heart. It has a stronger foundation\\nthan the outreachings of human knowledge and moral effort towards a\\nhigher state in which completion may be attained. It has a more secure\\nground to rest upon than the deathless affection with which our love\\nclings to its object The impotence of death is revealed to us in the\\nspiritual perfection of Christ.\\n\\nHere then, in the \"power of an endless life,\" I find the corner-stone of\\npeace on earth among men of good-will Take this mortal life as a thing\\nof seventy years, more or less, to which death puts a final period, and\\nyou have nothing but confusion, chance and futility,--nothing safe,\\nnothing realized, nothing completed. Evil often triumphs. Virtue often\\nis defeated.\\n\\n                       \"The good die young,\\n    And we whose hearts are dry as summer dust\\n    Burn to the socket.\"\\n\\nBut take death, as Christ teaches us, not as a full stop, but as only a\\ncomma in the story of an endless life, and then the whole aspect of our\\nexistence is changed. That which is material, base, evil, drops down.\\nThat which is spiritual, noble, good, rises to lead us on.\\n\\nThe conviction of immortality, the forward-looking faith in a life\\nbeyond the grave, the spirit of Easter, is essential to peace on earth\\nfor three reasons.\\n\\nI. It is the only faith that lifts man\\'s soul, which is immortal, above\\nhis body, which is perishable. It raises him out of the tyranny of the\\nflesh to the service of his ideals. It makes him sure that there are\\nthings worth fighting and dying for. The fighting and the dying, for the\\ncause of justice and liberty, are sacrifices on the Divine altar which\\nshall never be forgotten.\\n\\nII. The faith in immortality carries with it the assurance of a Divine\\nreassessment of earth\\'s inequalities. Those who have suffered unjustly\\nhere will be recompensed in the future. Those who have acted wickedly\\nand unjustly here will be punished. Whether that punishment will be\\nfinal or remedial we do not know. Perhaps it may lead to the extinction\\nof the soul of evil, perhaps to its purifying and deliverance. On these\\nquestions I fall back on the word of God: \"The wages of sin is death,\\nbut the gift of God is eternal life in Christ Jesus our Lord.\"\\n\\nIII. The faith in immortality brings with it the sense of order,\\ntranquillity, steadiness and courage in the present life. It sets us\\nfree from mean and cowardly temptations, makes it easier to resist the\\nwild animal passions of lust and greed and cruelty, brings us into\\neternal relations and fellowships, makes us partners with the wise and\\ngood of all the ages, ennobles our earthly patriotism by giving us a\\nheavenly citizenship. Yea, it knits us in bonds of love with the coming\\ngeneration. It is better than the fountain of youth. We shall know and\\nsee them as they go on their way, long after we have left the path. The\\nfaith in immortality sets a touch of the imperishable on every generous\\nimpulse and unselfish deed. It inspires to sublime and heroic\\nvirtues,--spiritual splendours,--deeds of sacrifice and suffering for\\nwhich earth has no adequate recompense, but whose reward is great in\\nheaven. Here is the patience of the saints, the glorious courage of\\npatriots, martyrs, and confessors, something more bright and shining\\nthan secular morality can bring forth,--a flashing of the inward light\\nwhich fails not, but grows clearer as death draws near. What noble\\nevidences of this come to us out of the great war.\\n\\n\"Are you in great distress?\" asked a nurse of an American soldier whose\\nlegs had been shot away on the battle-field. \"I am in as great peace,\"\\nsaid he, \"through Jesus my Lord, as a man can possibly be, out of\\nParadise.\"\\n\\nA secretary of the Y.M.C.A., the night before he was killed, wrote to\\nhis father: \"I have not been sent here to die: I am to fight: I offer my\\nlife for future generations; I shall not die, I shall merely change my\\ndirection. He who walks before us is so great that we cannot lose Him\\nfrom sight.\"\\n\\nA simple French boy, grievously wounded, is dying in the ambulance. He\\nis a Protestant The nurse who bends over him is a Catholic sister. She\\nwrites down his words as they fall slowly from his lips: \"O my God, let\\nThy will be done and not mine. O my God, Thou knowest that I never\\nwished war, but that I have fought because it was Thy will; I offered my\\nlife so that peace might prevail. O my God, I pray for all my dear\\nones, ... father, mother, brothers, sisters. Give a hundredfold to\\nthose nurses for all they have done for me. I pray for them one and\\nall.\"\\n\\nHere, in the midst of carnage and confusion, horror and death, was\\nperfect peace, the triumph of immortality.\\n\\nWhat then shall we say of the new teachers and masters, the cynical\\nlords of materialism and misrule, who tell us that they are going to\\nbanish this outworn superstition and all others like it from the mind of\\nman? They are going to make a new world in which men shall walk by\\nsight, and not by faith; a world in which universal happiness shall be\\nproduced by the forcible division of material goods, and brotherhood\\npromoted by the simple expedient of killing those whom they dislike; a\\nworld in which there shall be neither nation, God, nor Church, nor\\nanywhere a thought of any life but this which ends in the grave. It is a\\nmad dream of wild and reckless men. But it threatens evil to all the\\nworld. Do you remember what happened when the French Revolution took\\nthat course, abolished the Sabbath, defiled the Churches, broke down the\\naltars, and enthroned a harlot as the Goddess of Reason? The Reign of\\nTerror followed. Something like that has happened, recently, in many\\nparts of Europe. And if these new tyrants of ignorance, unbelief, and\\nunmorality have their way, the madness and the darkness will spread\\nuntil the black cloud charged with death covers the face of the earth\\nfor a season with shame and anguish and destruction. A sane world, an\\norderly world, a peaceful world, can never be founded on materialism.\\nThat foundation is a quicksand in which all that is dearest to man goes\\ndown in death.\\n\\nReligion is essential to true peace in the soul and to peace on earth\\nthrough righteousness. Immortality is essential to true religion.\\nThanks be to God who hath given us Jesus Christ, who was dead and is\\nalive again and liveth forevermore, to touch and ennoble, to inspire and\\nconsole, to pacify and uplift our earthly existence with the power of an\\nendless life.\\n\\n\\n\\n***END OF THE PROJECT GUTENBERG EBOOK WHAT PEACE MEANS***\\n\\n\\n******* This file should be named 15266-8.txt or 15266-8.zip *******\\n\\n\\nThis and all associated files of various formats will be found in:\\nhttp://www.gutenberg.org/dirs/1/5/2/6/15266\\n\\n\\n\\nUpdated editions will replace the previous one--the old editions\\nwill be renamed.\\n\\nCreating the works from public domain print editions means that no\\none owns a United States copyright in these works, so the Foundation\\n(and you!) can copy and distribute it in the United States without\\npermission and without paying copyright royalties.  Special rules,\\nset forth in the General Terms of Use part of this license, apply to\\ncopying and distributing Project Gutenberg-tm electronic works to\\nprotect the PROJECT GUTENBERG-tm concept and trademark.  Project\\nGutenberg is a registered trademark, and may not be used if you\\ncharge for the eBooks, unless you receive specific permission.  If you\\ndo not charge anything for copies of this eBook, complying with the\\nrules is very easy.  You may use this eBook for nearly any purpose\\nsuch as creation of derivative works, reports, performances and\\nresearch.  They may be modified and printed and given away--you may do\\npractically ANYTHING with public domain eBooks.  Redistribution is\\nsubject to the trademark license, especially commercial\\nredistribution.\\n\\n\\n\\n*** START: FULL LICENSE ***\\n\\nTHE FULL PROJECT GUTENBERG LICENSE\\nPLEASE READ THIS BEFORE YOU DISTRIBUTE OR USE THIS WORK\\n\\nTo protect the Project Gutenberg-tm mission of promoting the free\\ndistribution of electronic works, by using or distributing this work\\n(or any other work associated in any way with the phrase \"Project\\nGutenberg\"), you agree to comply with all the terms of the Full Project\\nGutenberg-tm License (available with this file or online at\\nhttp://gutenberg.net/license).\\n\\n\\nSection 1.  General Terms of Use and Redistributing Project Gutenberg-tm\\nelectronic works\\n\\n1.A.  By reading or using any part of this Project Gutenberg-tm\\nelectronic work, you indicate that you have read, understand, agree to\\nand accept all the terms of this license and intellectual property\\n(trademark/copyright) agreement.  If you do not agree to abide by all\\nthe terms of this agreement, you must cease using and return or destroy\\nall copies of Project Gutenberg-tm electronic works in your possession.\\nIf you paid a fee for obtaining a copy of or access to a Project\\nGutenberg-tm electronic work and you do not agree to be bound by the\\nterms of this agreement, you may obtain a refund from the person or\\nentity to whom you paid the fee as set forth in paragraph 1.E.8.\\n\\n1.B.  \"Project Gutenberg\" is a registered trademark.  It may only be\\nused on or associated in any way with an electronic work by people who\\nagree to be bound by the terms of this agreement.  There are a few\\nthings that you can do with most Project Gutenberg-tm electronic works\\neven without complying with the full terms of this agreement.  See\\nparagraph 1.C below.  There are a lot of things you can do with Project\\nGutenberg-tm electronic works if you follow the terms of this agreement\\nand help preserve free future access to Project Gutenberg-tm electronic\\nworks.  See paragraph 1.E below.\\n\\n1.C.  The Project Gutenberg Literary Archive Foundation (\"the Foundation\"\\nor PGLAF), owns a compilation copyright in the collection of Project\\nGutenberg-tm electronic works.  Nearly all the individual works in the\\ncollection are in the public domain in the United States.  If an\\nindividual work is in the public domain in the United States and you are\\nlocated in the United States, we do not claim a right to prevent you from\\ncopying, distributing, performing, displaying or creating derivative\\nworks based on the work as long as all references to Project Gutenberg\\nare removed.  Of course, we hope that you will support the Project\\nGutenberg-tm mission of promoting free access to electronic works by\\nfreely sharing Project Gutenberg-tm works in compliance with the terms of\\nthis agreement for keeping the Project Gutenberg-tm name associated with\\nthe work.  You can easily comply with the terms of this agreement by\\nkeeping this work in the same format with its attached full Project\\nGutenberg-tm License when you share it without charge with others.\\n\\n1.D.  The copyright laws of the place where you are located also govern\\nwhat you can do with this work.  Copyright laws in most countries are in\\na constant state of change.  If you are outside the United States, check\\nthe laws of your country in addition to the terms of this agreement\\nbefore downloading, copying, displaying, performing, distributing or\\ncreating derivative works based on this work or any other Project\\nGutenberg-tm work.  The Foundation makes no representations concerning\\nthe copyright status of any work in any country outside the United\\nStates.\\n\\n1.E.  Unless you have removed all references to Project Gutenberg:\\n\\n1.E.1.  The following sentence, with active links to, or other immediate\\naccess to, the full Project Gutenberg-tm License must appear prominently\\nwhenever any copy of a Project Gutenberg-tm work (any work on which the\\nphrase \"Project Gutenberg\" appears, or with which the phrase \"Project\\nGutenberg\" is associated) is accessed, displayed, performed, viewed,\\ncopied or distributed:\\n\\nThis eBook is for the use of anyone anywhere at no cost and with\\nalmost no restrictions whatsoever.  You may copy it, give it away or\\nre-use it under the terms of the Project Gutenberg License included\\nwith this eBook or online at www.gutenberg.net\\n\\n1.E.2.  If an individual Project Gutenberg-tm electronic work is derived\\nfrom the public domain (does not contain a notice indicating that it is\\nposted with permission of the copyright holder), the work can be copied\\nand distributed to anyone in the United States without paying any fees\\nor charges.  If you are redistributing or providing access to a work\\nwith the phrase \"Project Gutenberg\" associated with or appearing on the\\nwork, you must comply either with the requirements of paragraphs 1.E.1\\nthrough 1.E.7 or obtain permission for the use of the work and the\\nProject Gutenberg-tm trademark as set forth in paragraphs 1.E.8 or\\n1.E.9.\\n\\n1.E.3.  If an individual Project Gutenberg-tm electronic work is posted\\nwith the permission of the copyright holder, your use and distribution\\nmust comply with both paragraphs 1.E.1 through 1.E.7 and any additional\\nterms imposed by the copyright holder.  Additional terms will be linked\\nto the Project Gutenberg-tm License for all works posted with the\\npermission of the copyright holder found at the beginning of this work.\\n\\n1.E.4.  Do not unlink or detach or remove the full Project Gutenberg-tm\\nLicense terms from this work, or any files containing a part of this\\nwork or any other work associated with Project Gutenberg-tm.\\n\\n1.E.5.  Do not copy, display, perform, distribute or redistribute this\\nelectronic work, or any part of this electronic work, without\\nprominently displaying the sentence set forth in paragraph 1.E.1 with\\nactive links or immediate access to the full terms of the Project\\nGutenberg-tm License.\\n\\n1.E.6.  You may convert to and distribute this work in any binary,\\ncompressed, marked up, nonproprietary or proprietary form, including any\\nword processing or hypertext form.  However, if you provide access to or\\ndistribute copies of a Project Gutenberg-tm work in a format other than\\n\"Plain Vanilla ASCII\" or other format used in the official version\\nposted on the official Project Gutenberg-tm web site (www.gutenberg.net),\\nyou must, at no additional cost, fee or expense to the user, provide a\\ncopy, a means of exporting a copy, or a means of obtaining a copy upon\\nrequest, of the work in its original \"Plain Vanilla ASCII\" or other\\nform.  Any alternate format must include the full Project Gutenberg-tm\\nLicense as specified in paragraph 1.E.1.\\n\\n1.E.7.  Do not charge a fee for access to, viewing, displaying,\\nperforming, copying or distributing any Project Gutenberg-tm works\\nunless you comply with paragraph 1.E.8 or 1.E.9.\\n\\n1.E.8.  You may charge a reasonable fee for copies of or providing\\naccess to or distributing Project Gutenberg-tm electronic works provided\\nthat\\n\\n- You pay a royalty fee of 20% of the gross profits you derive from\\n     the use of Project Gutenberg-tm works calculated using the method\\n     you already use to calculate your applicable taxes.  The fee is\\n     owed to the owner of the Project Gutenberg-tm trademark, but he\\n     has agreed to donate royalties under this paragraph to the\\n     Project Gutenberg Literary Archive Foundation.  Royalty payments\\n     must be paid within 60 days following each date on which you\\n     prepare (or are legally required to prepare) your periodic tax\\n     returns.  Royalty payments should be clearly marked as such and\\n     sent to the Project Gutenberg Literary Archive Foundation at the\\n     address specified in Section 4, \"Information about donations to\\n     the Project Gutenberg Literary Archive Foundation.\"\\n\\n- You provide a full refund of any money paid by a user who notifies\\n     you in writing (or by e-mail) within 30 days of receipt that s/he\\n     does not agree to the terms of the full Project Gutenberg-tm\\n     License.  You must require such a user to return or\\n     destroy all copies of the works possessed in a physical medium\\n     and discontinue all use of and all access to other copies of\\n     Project Gutenberg-tm works.\\n\\n- You provide, in accordance with paragraph 1.F.3, a full refund of any\\n     money paid for a work or a replacement copy, if a defect in the\\n     electronic work is discovered and reported to you within 90 days\\n     of receipt of the work.\\n\\n- You comply with all other terms of this agreement for free\\n     distribution of Project Gutenberg-tm works.\\n\\n1.E.9.  If you wish to charge a fee or distribute a Project Gutenberg-tm\\nelectronic work or group of works on different terms than are set\\nforth in this agreement, you must obtain permission in writing from\\nboth the Project Gutenberg Literary Archive Foundation and Michael\\nHart, the owner of the Project Gutenberg-tm trademark.  Contact the\\nFoundation as set forth in Section 3 below.\\n\\n1.F.\\n\\n1.F.1.  Project Gutenberg volunteers and employees expend considerable\\neffort to identify, do copyright research on, transcribe and proofread\\npublic domain works in creating the Project Gutenberg-tm\\ncollection.  Despite these efforts, Project Gutenberg-tm electronic\\nworks, and the medium on which they may be stored, may contain\\n\"Defects,\" such as, but not limited to, incomplete, inaccurate or\\ncorrupt data, transcription errors, a copyright or other intellectual\\nproperty infringement, a defective or damaged disk or other medium, a\\ncomputer virus, or computer codes that damage or cannot be read by\\nyour equipment.\\n\\n1.F.2.  LIMITED WARRANTY, DISCLAIMER OF DAMAGES - Except for the \"Right\\nof Replacement or Refund\" described in paragraph 1.F.3, the Project\\nGutenberg Literary Archive Foundation, the owner of the Project\\nGutenberg-tm trademark, and any other party distributing a Project\\nGutenberg-tm electronic work under this agreement, disclaim all\\nliability to you for damages, costs and expenses, including legal\\nfees.  YOU AGREE THAT YOU HAVE NO REMEDIES FOR NEGLIGENCE, STRICT\\nLIABILITY, BREACH OF WARRANTY OR BREACH OF CONTRACT EXCEPT THOSE\\nPROVIDED IN PARAGRAPH F3.  YOU AGREE THAT THE FOUNDATION, THE\\nTRADEMARK OWNER, AND ANY DISTRIBUTOR UNDER THIS AGREEMENT WILL NOT BE\\nLIABLE TO YOU FOR ACTUAL, DIRECT, INDIRECT, CONSEQUENTIAL, PUNITIVE OR\\nINCIDENTAL DAMAGES EVEN IF YOU GIVE NOTICE OF THE POSSIBILITY OF SUCH\\nDAMAGE.\\n\\n1.F.3.  LIMITED RIGHT OF REPLACEMENT OR REFUND - If you discover a\\ndefect in this electronic work within 90 days of receiving it, you can\\nreceive a refund of the money (if any) you paid for it by sending a\\nwritten explanation to the person you received the work from.  If you\\nreceived the work on a physical medium, you must return the medium with\\nyour written explanation.  The person or entity that provided you with\\nthe defective work may elect to provide a replacement copy in lieu of a\\nrefund.  If you received the work electronically, the person or entity\\nproviding it to you may choose to give you a second opportunity to\\nreceive the work electronically in lieu of a refund.  If the second copy\\nis also defective, you may demand a refund in writing without further\\nopportunities to fix the problem.\\n\\n1.F.4.  Except for the limited right of replacement or refund set forth\\nin paragraph 1.F.3, this work is provided to you \\'AS-IS\\', WITH NO OTHER\\nWARRANTIES OF ANY KIND, EXPRESS OR IMPLIED, INCLUDING BUT NOT LIMITED TO\\nWARRANTIES OF MERCHANTIBILITY OR FITNESS FOR ANY PURPOSE.\\n\\n1.F.5.  Some states do not allow disclaimers of certain implied\\nwarranties or the exclusion or limitation of certain types of damages.\\nIf any disclaimer or limitation set forth in this agreement violates the\\nlaw of the state applicable to this agreement, the agreement shall be\\ninterpreted to make the maximum disclaimer or limitation permitted by\\nthe applicable state law.  The invalidity or unenforceability of any\\nprovision of this agreement shall not void the remaining provisions.\\n\\n1.F.6.  INDEMNITY - You agree to indemnify and hold the Foundation, the\\ntrademark owner, any agent or employee of the Foundation, anyone\\nproviding copies of Project Gutenberg-tm electronic works in accordance\\nwith this agreement, and any volunteers associated with the production,\\npromotion and distribution of Project Gutenberg-tm electronic works,\\nharmless from all liability, costs and expenses, including legal fees,\\nthat arise directly or indirectly from any of the following which you do\\nor cause to occur: (a) distribution of this or any Project Gutenberg-tm\\nwork, (b) alteration, modification, or additions or deletions to any\\nProject Gutenberg-tm work, and (c) any Defect you cause.\\n\\n\\nSection  2.  Information about the Mission of Project Gutenberg-tm\\n\\nProject Gutenberg-tm is synonymous with the free distribution of\\nelectronic works in formats readable by the widest variety of computers\\nincluding obsolete, old, middle-aged and new computers.  It exists\\nbecause of the efforts of hundreds of volunteers and donations from\\npeople in all walks of life.\\n\\nVolunteers and financial support to provide volunteers with the\\nassistance they need, is critical to reaching Project Gutenberg-tm\\'s\\ngoals and ensuring that the Project Gutenberg-tm collection will\\nremain freely available for generations to come.  In 2001, the Project\\nGutenberg Literary Archive Foundation was created to provide a secure\\nand permanent future for Project Gutenberg-tm and future generations.\\nTo learn more about the Project Gutenberg Literary Archive Foundation\\nand how your efforts and donations can help, see Sections 3 and 4\\nand the Foundation web page at http://www.gutenberg.net/fundraising/pglaf.\\n\\n\\nSection 3.  Information about the Project Gutenberg Literary Archive\\nFoundation\\n\\nThe Project Gutenberg Literary Archive Foundation is a non profit\\n501(c)(3) educational corporation organized under the laws of the\\nstate of Mississippi and granted tax exempt status by the Internal\\nRevenue Service.  The Foundation\\'s EIN or federal tax identification\\nnumber is 64-6221541.  Contributions to the Project Gutenberg\\nLiterary Archive Foundation are tax deductible to the full extent\\npermitted by U.S. federal laws and your state\\'s laws.\\n\\nThe Foundation\\'s principal office is located at 4557 Melan Dr. S.\\nFairbanks, AK, 99712., but its volunteers and employees are scattered\\nthroughout numerous locations.  Its business office is located at\\n809 North 1500 West, Salt Lake City, UT 84116, (801) 596-1887, email\\nbusiness@pglaf.org.  Email contact links and up to date contact\\ninformation can be found at the Foundation\\'s web site and official\\npage at http://www.gutenberg.net/about/contact\\n\\nFor additional contact information:\\n     Dr. Gregory B. Newby\\n     Chief Executive and Director\\n     gbnewby@pglaf.org\\n\\nSection 4.  Information about Donations to the Project Gutenberg\\nLiterary Archive Foundation\\n\\nProject Gutenberg-tm depends upon and cannot survive without wide\\nspread public support and donations to carry out its mission of\\nincreasing the number of public domain and licensed works that can be\\nfreely distributed in machine readable form accessible by the widest\\narray of equipment including outdated equipment.  Many small donations\\n($1 to $5,000) are particularly important to maintaining tax exempt\\nstatus with the IRS.\\n\\nThe Foundation is committed to complying with the laws regulating\\ncharities and charitable donations in all 50 states of the United\\nStates.  Compliance requirements are not uniform and it takes a\\nconsiderable effort, much paperwork and many fees to meet and keep up\\nwith these requirements.  We do not solicit donations in locations\\nwhere we have not received written confirmation of compliance.  To\\nSEND DONATIONS or determine the status of compliance for any\\nparticular state visit http://www.gutenberg.net/fundraising/donate\\n\\nWhile we cannot and do not solicit contributions from states where we\\nhave not met the solicitation requirements, we know of no prohibition\\nagainst accepting unsolicited donations from donors in such states who\\napproach us with offers to donate.\\n\\nInternational donations are gratefully accepted, but we cannot make\\nany statements concerning tax treatment of donations received from\\noutside the United States.  U.S. laws alone swamp our small staff.\\n\\nPlease check the Project Gutenberg Web pages for current donation\\nmethods and addresses.  Donations are accepted in a number of other\\nways including including checks, online payments and credit card\\ndonations.  To donate, please visit:\\nhttp://www.gutenberg.net/fundraising/donate\\n\\n\\nSection 5.  General Information About Project Gutenberg-tm electronic\\nworks.\\n\\nProfessor Michael S. Hart is the originator of the Project Gutenberg-tm\\nconcept of a library of electronic works that could be freely shared\\nwith anyone.  For thirty years, he produced and distributed Project\\nGutenberg-tm eBooks with only a loose network of volunteer support.\\n\\nProject Gutenberg-tm eBooks are often created from several printed\\neditions, all of which are confirmed as Public Domain in the U.S.\\nunless a copyright notice is included.  Thus, we do not necessarily\\nkeep eBooks in compliance with any particular paper edition.\\n\\nMost people start at our Web site which has the main PG search facility:\\n\\n     http://www.gutenberg.net\\n\\nThis Web site includes information about Project Gutenberg-tm,\\nincluding how to make donations to the Project Gutenberg Literary\\nArchive Foundation, how to help produce our new eBooks, and how to\\nsubscribe to our email newsletter to hear about new eBooks.\\n\\n')"
      ]
     },
     "execution_count": 4,
     "metadata": {},
     "output_type": "execute_result"
    }
   ],
   "source": [
    "gutenberg_rdd.first()"
   ]
  },
  {
   "cell_type": "markdown",
   "metadata": {},
   "source": [
    "No surprises there - the first element of the tuple is an ID string and the second element is the book text. \n",
    "\n",
    "How many books do we have total?"
   ]
  },
  {
   "cell_type": "code",
   "execution_count": 5,
   "metadata": {},
   "outputs": [
    {
     "data": {
      "text/plain": [
       "18296"
      ]
     },
     "execution_count": 5,
     "metadata": {},
     "output_type": "execute_result"
    }
   ],
   "source": [
    "gutenberg_rdd.count()"
   ]
  },
  {
   "cell_type": "markdown",
   "metadata": {},
   "source": [
    "Check the line a few cells above where we loaded the data from HDFS - notice the `cache()` at the end. This means that we asked Spark to try and put as much of the RDD as possible into memory. It's not always possible to store all the data in memory, in which case Spark will periodically drop parts of RDDs and need to recompute or reload them. \n",
    "\n",
    "* Check the Spark UI (find the link in the second cell of this notebook) and find the `Storage` tab \n",
    "* What fraction of the `gutenberg_rdd` is cached? "
   ]
  },
  {
   "cell_type": "markdown",
   "metadata": {},
   "source": [
    "Notice another piece of information on the storage tab -- `Cached Partitions`. The RDD is split into \"partitions\", each partition consisting of many pieces of data in this case the `(ID, text)` tuples. Spark distributes computation by distributing the partitions among the executors.\n",
    "\n",
    "![spark-rdd](../figs/spark-rdd.png)"
   ]
  },
  {
   "cell_type": "markdown",
   "metadata": {},
   "source": [
    "The \"driver\" in this case is this notebook -- it communicates with the workers via the `SparkContext` and the RDD methods. "
   ]
  },
  {
   "cell_type": "markdown",
   "metadata": {},
   "source": [
    "### Load in the metadata dictionary and broadcast it\n",
    "\n",
    "The metadata is saved as a dictionary on disk. If we want to use the metadata along with the RDD, we need to ship the metadata to the workers as well. In Spark, the best way to achieve this is via \"broadcasting\" - the metadata lookup table (dictionary in this case) is sent to the workers via a torrent mechanism and stored in each worker's RAM. There, it can be quickly retrieved for computation. \n",
    "\n",
    "Note that each worker holds *all* of the broadcast metadata, but only a subset of the partitions."
   ]
  },
  {
   "cell_type": "code",
   "execution_count": 4,
   "metadata": {
    "collapsed": true
   },
   "outputs": [],
   "source": [
    "import json\n",
    "\n",
    "with open('../data/gutenberg_metadata.json', 'r') as f :\n",
    "    meta = json.load(f)"
   ]
  },
  {
   "cell_type": "markdown",
   "metadata": {},
   "source": [
    "The metadata object is just a normal python dictionary, keyed by book `gid`. For example, the metadata for the book with `gid` 101 looks like:"
   ]
  },
  {
   "cell_type": "code",
   "execution_count": 7,
   "metadata": {},
   "outputs": [
    {
     "data": {
      "text/plain": [
       "{'author_id': '66',\n",
       " 'author_name': ['Sterling', ' Bruce'],\n",
       " 'birth_year': '1954',\n",
       " 'death_year': None,\n",
       " 'downloads': '239',\n",
       " 'first_name': 'Bruce',\n",
       " 'gid': '101',\n",
       " 'language': 'en',\n",
       " 'last_name': 'Sterling',\n",
       " 'license': 'Copyrighted. Read the copyright notice inside this book for details.',\n",
       " 'subtitle': '',\n",
       " 'title': 'The Hacker Crackdown: Law and Disorder on the Electronic Frontier'}"
      ]
     },
     "execution_count": 7,
     "metadata": {},
     "output_type": "execute_result"
    }
   ],
   "source": [
    "meta['101']"
   ]
  },
  {
   "cell_type": "markdown",
   "metadata": {},
   "source": [
    "We now ship the metadata to all of the workers:"
   ]
  },
  {
   "cell_type": "code",
   "execution_count": 5,
   "metadata": {
    "collapsed": true
   },
   "outputs": [],
   "source": [
    "# create meta_b by broadcasting meta_dict\n",
    "meta_b = sc.broadcast(meta)"
   ]
  },
  {
   "cell_type": "markdown",
   "metadata": {},
   "source": [
    "Remember that our `gutenberg_rdd` contains `gid`'s as keys and text as values and if we want some other piece of metadata, we can just access it via the lookup table, for example to extract the first names of the authors, we can do something like this: "
   ]
  },
  {
   "cell_type": "code",
   "execution_count": 9,
   "metadata": {},
   "outputs": [
    {
     "data": {
      "text/plain": [
       "'Henry'"
      ]
     },
     "execution_count": 9,
     "metadata": {},
     "output_type": "execute_result"
    }
   ],
   "source": [
    "gutenberg_rdd.map(lambda x: meta_b.value[x[0]]['first_name']).first()"
   ]
  },
  {
   "cell_type": "markdown",
   "metadata": {},
   "source": [
    "### Histogram of book publication years\n",
    "Now we're ready to start asking some questions of the data. To begin with, lets do a simple histogram of the year distribution of the books. Since we don't have original publication dates, we just use the simple formula: \n",
    "\n",
    "$year = max\\left((year_{birth} + year_{death})/2, year_{birth} + offset\\right)$, \n",
    "\n",
    "where $offset$ is a number drawn from a gaussian centered on 40 with $\\sigma = 5$ years. This means that we assume most people write their books around age 40. ;)\n",
    "\n",
    "The function `publication_year` is provided for you and you should use it to *transform* the `year_rdd` into an RDD of publication years. \n"
   ]
  },
  {
   "cell_type": "code",
   "execution_count": 34,
   "metadata": {
    "collapsed": true
   },
   "outputs": [],
   "source": [
    "from random import gauss\n",
    "\n",
    "def publication_year(gid) : \n",
    "    \"\"\"Returns the publication year for the given gutenberg id (gid)\"\"\"\n",
    "    # extract the metadata dictionary for this gid\n",
    "    meta = meta_b.value[gid] \n",
    "    \n",
    "    birth_year = int(meta['birth_year'])\n",
    "    if meta['death_year'] is None : \n",
    "        year = birth_year + gauss(40,5)\n",
    "    else :\n",
    "        death_year = int(meta['death_year'])\n",
    "        year = max((birth_year + death_year) / 2.0, birth_year + gauss(40,5))\n",
    "\n",
    "    return min(int(year),2015)"
   ]
  },
  {
   "cell_type": "code",
   "execution_count": 36,
   "metadata": {
    "collapsed": true
   },
   "outputs": [],
   "source": [
    "# TODO: map gutenberg_rdd to contain just the publication years by using the publication_year function above\n",
    "# hint: to simplify this, lookup the `keys()` method in the Spark python API docs \n",
    "year_rdd = gutenberg_rdd.keys().map( lambda x : publication_year(x) )"
   ]
  },
  {
   "cell_type": "code",
   "execution_count": 12,
   "metadata": {},
   "outputs": [
    {
     "data": {
      "text/plain": [
       "[1894, 1914, 1894, 1961, 1878]"
      ]
     },
     "execution_count": 12,
     "metadata": {},
     "output_type": "execute_result"
    }
   ],
   "source": [
    "year_rdd.take(5)"
   ]
  },
  {
   "cell_type": "markdown",
   "metadata": {},
   "source": [
    "Now lets use the built-in histogram RDD method to compute the year-frequency distribution. We'll make a function to do the actual plotting.\n",
    "\n",
    "Remember to check the Spark UI `Stages` tab to see what's happening! Can you see how large individual partitions are in bytes? How long does each one take to process?"
   ]
  },
  {
   "cell_type": "code",
   "execution_count": 38,
   "metadata": {
    "collapsed": true
   },
   "outputs": [],
   "source": [
    "def plot_histogram(rdd, nbins=100, logy=False):\n",
    "    \"\"\"Plot a histogram of values in an RDD\"\"\"\n",
    "    hist = rdd.histogram(nbins)\n",
    "    bins = np.array(hist[0])\n",
    "    bins = 0.5*(bins[:-1]+bins[1:])\n",
    "    vals = np.array(hist[1])\n",
    "\n",
    "    plt.plot(bins, vals)\n",
    "    plt.xlabel('year'); plt.ylabel('count');\n",
    "    if logy:\n",
    "        plt.semilogy();"
   ]
  },
  {
   "cell_type": "code",
   "execution_count": null,
   "metadata": {},
   "outputs": [
    {
     "data": {
      "image/png": "[encoded data removed]",
      "text/plain": [
       "<matplotlib.figure.Figure at 0x7f1ca5e876d8>"
      ]
     },
     "metadata": {},
     "output_type": "display_data"
    }
   ],
   "source": [
    "plot_histogram(year_rdd)"
   ]
  },
  {
   "cell_type": "markdown",
   "metadata": {},
   "source": [
    "It's clear we have very few books before 1750. Lets filter the `year_rdd` to only include years after 1750 and produce the histogram again."
   ]
  },
  {
   "cell_type": "code",
   "execution_count": 39,
   "metadata": {},
   "outputs": [
    {
     "data": {
      "image/png": "[encoded data removed]",
      "text/plain": [
       "<matplotlib.figure.Figure at 0x7fe1b405d320>"
      ]
     },
     "metadata": {},
     "output_type": "display_data"
    }
   ],
   "source": [
    "# TODO: filter the year_rdd to only include years after 1750\n",
    "plot_histogram(year_rdd.filter(lambda x : x > 1750 ), nbins=50, logy=True)"
   ]
  },
  {
   "cell_type": "markdown",
   "metadata": {},
   "source": [
    "If you're playing around with the year ranges or the binning you will have noticed that this plot takes a while to generate. How could you speed it up? \n",
    "\n",
    "Hint: which data would be very cheap to cache?"
   ]
  },
  {
   "cell_type": "code",
   "execution_count": 40,
   "metadata": {},
   "outputs": [
    {
     "data": {
      "text/plain": [
       "PythonRDD[49] at RDD at PythonRDD.scala:48"
      ]
     },
     "execution_count": 40,
     "metadata": {},
     "output_type": "execute_result"
    }
   ],
   "source": [
    "year_rdd.cache()"
   ]
  },
  {
   "cell_type": "code",
   "execution_count": 41,
   "metadata": {},
   "outputs": [
    {
     "data": {
      "image/png": "[encoded data removed]",
      "text/plain": [
       "<matplotlib.figure.Figure at 0x7fe1acf9bbe0>"
      ]
     },
     "metadata": {},
     "output_type": "display_data"
    }
   ],
   "source": [
    "plot_histogram(year_rdd.filter(lambda x : x > 1750 ), nbins=50, logy=True)"
   ]
  },
  {
   "cell_type": "markdown",
   "metadata": {},
   "source": [
    "Caching `year_rdd` speeds up the generation of the histogram\n",
    "\n",
    "http://iccluster047.iccluster.epfl.ch:8088/proxy/application_1521097993562_2588/stages/\n",
    "\n",
    "\n",
    "|  StageID  |        Description       |      Submitted      |Duration | Tasks | Input   |\n",
    "|-----------|--------------------------|---------------------|---------|-------|---------|\n",
    "| 11        | histogram at :3 +details | 2018/04/20 09:11:49 | 7s      | 98/98 | 53.8 KB |\n",
    "| 10        | histogram at :3 +details | 2018/04/20 09:11:15 | 29s     | 98/98 | 4.8 GB  |"
   ]
  },
  {
   "cell_type": "markdown",
   "metadata": {},
   "source": [
    "### Inspecting the metadata some more\n",
    "\n",
    "Lets do a couple more checks and practice using the Spark API. \n",
    "\n",
    "#### How many unique authors are there in the dataset? \n",
    "\n",
    "1. make `author_rdd` that is composed of a string `\"last_name, first_name\"` (use the broadcast variable `meta_b` to get the data for each `gid`)\n",
    "2. keep only the unique author strings (*hint*: look at the [Spark RDD API](http://spark.apache.org/docs/latest/api/python/pyspark.html#pyspark.RDD) to find an appropriate method)\n",
    "3. count the number of elements remaining\n",
    "\n",
    "**note**: use `meta_b.value` to access the actual metadata dictionary, i.e. to get the metadata for `gid=101`:"
   ]
  },
  {
   "cell_type": "code",
   "execution_count": 42,
   "metadata": {},
   "outputs": [
    {
     "data": {
      "text/plain": [
       "{'author_id': '66',\n",
       " 'author_name': ['Sterling', ' Bruce'],\n",
       " 'birth_year': '1954',\n",
       " 'death_year': None,\n",
       " 'downloads': '239',\n",
       " 'first_name': 'Bruce',\n",
       " 'gid': '101',\n",
       " 'language': 'en',\n",
       " 'last_name': 'Sterling',\n",
       " 'license': 'Copyrighted. Read the copyright notice inside this book for details.',\n",
       " 'subtitle': '',\n",
       " 'title': 'The Hacker Crackdown: Law and Disorder on the Electronic Frontier'}"
      ]
     },
     "execution_count": 42,
     "metadata": {},
     "output_type": "execute_result"
    }
   ],
   "source": [
    "meta_b.value['101']"
   ]
  },
  {
   "cell_type": "code",
   "execution_count": 43,
   "metadata": {},
   "outputs": [
    {
     "data": {
      "text/plain": [
       "['Van Dyke, Henry',\n",
       " 'Riley, James Whitcomb',\n",
       " 'Bourget, Paul',\n",
       " 'Sevcik, Al',\n",
       " 'Dunaway, Wayland Fuller']"
      ]
     },
     "execution_count": 43,
     "metadata": {},
     "output_type": "execute_result"
    }
   ],
   "source": [
    "# TODO: map gutenberg_rdd to contain the string \"last_name, first_name\" \n",
    "# note: make sure you use strings here and not lists of strings for author names\n",
    "author_rdd = gutenberg_rdd.keys().map(lambda x : meta_b.value[x][\"last_name\"] + ', ' + meta_b.value[x][\"first_name\"] ).cache()\n",
    "author_rdd.take(5)"
   ]
  },
  {
   "cell_type": "code",
   "execution_count": 44,
   "metadata": {},
   "outputs": [
    {
     "name": "stdout",
     "output_type": "stream",
     "text": [
      "Number of distinct authors: 7017 \n"
     ]
    }
   ],
   "source": [
    "# TODO: use RDD methods to obtain the distinct author name strings and count them\n",
    "n_authors = author_rdd.distinct().count()\n",
    "print(\"Number of distinct authors: %s \" % n_authors)"
   ]
  },
  {
   "cell_type": "code",
   "execution_count": 45,
   "metadata": {
    "collapsed": true
   },
   "outputs": [],
   "source": [
    "assert(n_authors == 7017)"
   ]
  },
  {
   "cell_type": "markdown",
   "metadata": {},
   "source": [
    "#### Most-represented authors in the corpus: \n",
    "\n",
    "Here we will use a very common map/reduce pattern to count the number of occurrences of a key. The trick is to transform the RDD into key-value pairs of `(key, 1)`. For example, we might have an RDD like:\n",
    "\n",
    "    [('a', 1),\n",
    "     ('b', 1), \n",
    "     ('c', 1), \n",
    "     ('a', 1), \n",
    "     ('b', 1)]\n",
    "\n",
    "If we fed this RDD to `reduceByKey` and used the simple `add` operator (see the spark intro notebook) we would get back something like\n",
    "\n",
    "    [('a', 2), ('b', 2), ('c', 1)]\n",
    "\n",
    "1. use the `author_rdd` from above\n",
    "2. use the pattern `(key, 1)` to set up an RDD that can be passed to [`reduceByKey`](http://spark.apache.org/docs/latest/api/python/pyspark.html#pyspark.RDD.reduceByKey)\n",
    "3. run `reduceByKey`, yielding an RDD composed of `(author, count)` tuples\n",
    "4. sort by descending order of number of books per author and print out the top 10 (try using [`takeOrdered`](http://spark.apache.org/docs/latest/api/python/pyspark.html#pyspark.RDD.takeOrdered))"
   ]
  },
  {
   "cell_type": "code",
   "execution_count": 46,
   "metadata": {},
   "outputs": [
    {
     "data": {
      "text/plain": [
       "[('Balzac, Honoré de', 121),\n",
       " ('Kingston, William Henry Giles', 113),\n",
       " ('Twain, Mark', 104),\n",
       " ('Ballantyne, R. M. (Robert Michael)', 95),\n",
       " ('Jacobs, W. W. (William Wymark)', 94),\n",
       " ('Pepys, Samuel', 85),\n",
       " ('Fenn, George Manville', 83),\n",
       " ('Shakespeare, William', 82),\n",
       " ('Dumas, Alexandre', 73),\n",
       " ('Verne, Jules', 72)]"
      ]
     },
     "execution_count": 46,
     "metadata": {},
     "output_type": "execute_result"
    }
   ],
   "source": [
    "# TODO: generate a list of top 20 authors, reverse-sorted by the number of books they have in the corpus\n",
    "(author_rdd.map(lambda x : (x,1) )\n",
    "           .reduceByKey( lambda a, b: a+b) ).takeOrdered(10, key = lambda x: -x[1])"
   ]
  },
  {
   "cell_type": "markdown",
   "metadata": {},
   "source": [
    "Finally, lets do the same thing per language, just to get an idea of how much data there is: "
   ]
  },
  {
   "cell_type": "code",
   "execution_count": 47,
   "metadata": {},
   "outputs": [
    {
     "data": {
      "text/plain": [
       "['en', 'en', 'fr', 'en', 'en']"
      ]
     },
     "execution_count": 47,
     "metadata": {},
     "output_type": "execute_result"
    }
   ],
   "source": [
    "# TODO: generate a lang_rdd that contains just the language of each book\n",
    "lang_rdd = gutenberg_rdd.keys().map( lambda x : meta_b.value[x]['language'] ).cache()\n",
    "lang_rdd.take(5)"
   ]
  },
  {
   "cell_type": "code",
   "execution_count": 48,
   "metadata": {},
   "outputs": [
    {
     "data": {
      "text/plain": [
       "[('is', 2),\n",
       " ('ca', 19),\n",
       " ('af', 2),\n",
       " ('la', 26),\n",
       " ('gla', 1),\n",
       " ('cs', 6),\n",
       " ('eo', 50),\n",
       " ('cy', 3),\n",
       " ('fy', 1),\n",
       " ('enm', 2),\n",
       " ('da', 18),\n",
       " ('tl', 34),\n",
       " ('en', 14921),\n",
       " ('he', 1),\n",
       " ('it', 167),\n",
       " ('nah', 2),\n",
       " ('nap', 1),\n",
       " ('gl', 1),\n",
       " ('es', 198),\n",
       " ('pt', 312),\n",
       " ('ru', 3),\n",
       " ('kha', 1),\n",
       " ('el', 13),\n",
       " ('nai', 1),\n",
       " ('sv', 48),\n",
       " ('ia', 1),\n",
       " ('hu', 10),\n",
       " ('zh', 155),\n",
       " ('no', 10),\n",
       " ('kld', 1),\n",
       " ('fi', 461),\n",
       " ('fr', 1171),\n",
       " ('oc', 1),\n",
       " ('pl', 20),\n",
       " ('sr', 3),\n",
       " ('ceb', 1),\n",
       " ('nl', 329),\n",
       " ('de', 299),\n",
       " ('fur', 1)]"
      ]
     },
     "execution_count": 48,
     "metadata": {},
     "output_type": "execute_result"
    }
   ],
   "source": [
    "# TODO: reduce the `lang_rdd` to yield the number of books in each language\n",
    "(lang_rdd.map(lambda x : (x,1) )\n",
    "        .reduceByKey( lambda a,b : a+b).collect() )"
   ]
  },
  {
   "cell_type": "markdown",
   "metadata": {},
   "source": [
    "## How many unique words were used in English in these 500+ years? \n",
    "\n",
    "We could have done the above metadata gymnastics without ever invoking a distributed processing framework by simply extracting the years from the metadata dictionary of course -- nevertheless we used the metadata to have a closer look at some of the RDD methods. However, the actual text of each data element is where the bulk of the data volume lies. \n",
    "\n",
    "To construct a corpus wide vocabulary, we have to deconstruct each document into a list of words and then extract the unique words from the entire data set. If our dataset fits into memory of a single machine, this is a simple `set` operation. But what if it doesn't? \n",
    "\n",
    "We'll assume the latter is the case and construct one global RDD of words. Here we aren't necessarily interested in preserving the provenance of words, but just finding the unique words in the whole corpus, so we drop the metadata altogether. \n",
    "\n",
    "### The steps are as follows:\n",
    "\n",
    "1. remove punctuation from the text (a `remove_punctuation` function has been created for you below)\n",
    "2. make the text lowercase (use the `lower()` method of python strings)\n",
    "1. map the entire RDD of text into an RDD of single words (you need to use [flatMap](http://spark.apache.org/docs/latest/api/python/pyspark.html#pyspark.RDD.flatMap) -- this returns a different number of elements than it takes in)\n",
    "2. use the `distinct` method of the resulting RDD to transform it into an RDD with only unique words\n",
    "\n",
    "Here's an illustration of how **`flatMap`** differs from **`map`**:\n",
    "\n",
    "![flatMap](../figs/flatMap_example.svg)"
   ]
  },
  {
   "cell_type": "markdown",
   "metadata": {},
   "source": [
    "<div class=\"alert alert-info\">\n",
    "<p><strong>Hint</strong></p> \n",
    "<p>In python, splitting a string into a set of words separated by spaces is easy: </p>\n",
    "</div>"
   ]
  },
  {
   "cell_type": "code",
   "execution_count": 49,
   "metadata": {},
   "outputs": [
    {
     "data": {
      "text/plain": [
       "['splitting', 'a', 'string', 'is', 'super', 'simple']"
      ]
     },
     "execution_count": 49,
     "metadata": {},
     "output_type": "execute_result"
    }
   ],
   "source": [
    "line = 'splitting a string is super simple'\n",
    "line.split()"
   ]
  },
  {
   "cell_type": "code",
   "execution_count": 6,
   "metadata": {
    "collapsed": true
   },
   "outputs": [],
   "source": [
    "# here we define a function that strips out all punctuation\n",
    "import re\n",
    "import string\n",
    "\n",
    "def remove_punctuation(text): \n",
    "    \"\"\"Return text without punctuation\"\"\"\n",
    "    regex = re.compile('[%s]' % re.escape(string.punctuation))\n",
    "    return regex.sub('', text)"
   ]
  },
  {
   "cell_type": "code",
   "execution_count": 50,
   "metadata": {},
   "outputs": [
    {
     "data": {
      "text/plain": [
       "'This Is A Punctuated Sentence'"
      ]
     },
     "execution_count": 50,
     "metadata": {},
     "output_type": "execute_result"
    }
   ],
   "source": [
    "# for example:\n",
    "remove_punctuation('This! Is, A; Punctuated- Sentence/')"
   ]
  },
  {
   "cell_type": "code",
   "execution_count": 7,
   "metadata": {
    "collapsed": true
   },
   "outputs": [],
   "source": [
    "# TODO: define `english_rdd` which should contain only english-language books -- we will need this again later\n",
    "# hint: check whick keys are available in `meta_b.value`\n",
    "english_rdd = gutenberg_rdd.filter( lambda x : meta_b.value[x[0]]['language'] == \"en\" )"
   ]
  },
  {
   "cell_type": "code",
   "execution_count": 8,
   "metadata": {},
   "outputs": [
    {
     "name": "stdout",
     "output_type": "stream",
     "text": [
      "Number of unique English words:  4486584\n"
     ]
    }
   ],
   "source": [
    "# TODO: define `distinct_rdd` which should contain all lowercase, unique words in the english books of the corpus\n",
    "# hint: don't forget to remove punctuation!\n",
    "distinct_rdd = (english_rdd.values() # this is a quick way to get rid of the keys since we don't need them anymore\n",
    "                           .flatMap( lambda x : remove_punctuation( x.lower() ).split() )\n",
    "                           .distinct())\n",
    "nwords = distinct_rdd.count()\n",
    "print(\"Number of unique English words: \", nwords)"
   ]
  },
  {
   "cell_type": "code",
   "execution_count": 9,
   "metadata": {},
   "outputs": [
    {
     "data": {
      "text/plain": [
       "['is',\n",
       " '15266',\n",
       " 'presbyterian',\n",
       " 'beauty',\n",
       " 'always',\n",
       " 'imperishable',\n",
       " 'truly',\n",
       " 'labour',\n",
       " 'interruptions',\n",
       " 'france',\n",
       " 'accused',\n",
       " 'voyage',\n",
       " 'refuge',\n",
       " 'hidden',\n",
       " 'trying',\n",
       " 'selfishness',\n",
       " 'down',\n",
       " 'lips',\n",
       " 'walk',\n",
       " 'compliance']"
      ]
     },
     "execution_count": 9,
     "metadata": {},
     "output_type": "execute_result"
    }
   ],
   "source": [
    "distinct_rdd.take(20)"
   ]
  },
  {
   "cell_type": "markdown",
   "metadata": {},
   "source": [
    "Of course not all of these are actual words, this is just how many character sequences separated by spaces we found. The pre-processing steps are less than perfect so there is some garbage in there. We will trim this down to just the most commonly-used ones later and that will get rid of most of the nonsense. "
   ]
  },
  {
   "cell_type": "markdown",
   "metadata": {},
   "source": [
    "## What are the most common words? \n",
    "\n",
    "A \"map/reduce\" tutorial has to include a word counting example -- it's basically the equivalent of a \"Hello World!\" in programming!\n",
    "\n",
    "So, lets count the occurences of all the words across the entire corpus. This is a fairly straightforward operation, but it exposes some very common patterns that can be useful for many tasks. To simplify this a bit, we'll use only the English-language corpus for the moment.\n",
    "\n",
    "Here are the steps we need to take:\n",
    "\n",
    "0. keep only the english language books (use a filter)\n",
    "1. `flatMap` each document into (`word, count`) pairs, but only for words that are not in the `stop_words` set (try with a list comprehension!)\n",
    "2. call `reduceByKey` to sum up all the `count`s for each word\n",
    "3. finally sort it in descending order to see the most common words first\n",
    "\n",
    "The first part here (filtering and `flatMap`) is much like what we did before, but with a twist: for each word, check that it is *not* a member of the `stop_words` set. \"Stop words\" include common words like \"a, the, he\" etc.  "
   ]
  },
  {
   "cell_type": "code",
   "execution_count": 12,
   "metadata": {
    "collapsed": true,
    "scrolled": true
   },
   "outputs": [],
   "source": [
    "from pickle import load\n",
    "with open('../data/stop_words.dump', 'rb') as f:\n",
    "    stop_words = load(f).union(['gutenbergtm', 'gutenberg', 'electronic', 'foundation', 'license', 'copyright', 'donation', 'donations'])\n",
    "stop_words_b = sc.broadcast(stop_words)"
   ]
  },
  {
   "cell_type": "code",
   "execution_count": 13,
   "metadata": {
    "collapsed": true
   },
   "outputs": [],
   "source": [
    "# TODO: use flatMap to extract the words from each document's text using the english_rdd we made above\n",
    "#       Don't forget to make everything lowercase, remove the punctuation, and filter out the stop words!\n",
    "\n",
    "words_rdd = (english_rdd.values()\n",
    "                        .flatMap( lambda x : remove_punctuation( x.lower() ).split() )\n",
    "                        .filter( lambda x : x not in stop_words )\n",
    "                        .setName('words_rdd'))"
   ]
  },
  {
   "cell_type": "markdown",
   "metadata": {},
   "source": [
    "Now that we have our \"flattened\" data set, do the counting by:\n",
    "\n",
    "1. mapping each word in `words_rdd` into a `(word, 1)` tuple \n",
    "2. using `reduceByKey` to calculate the word frequencies \n",
    "3. using the `sortBy` method to sort the word counts in descending order"
   ]
  },
  {
   "cell_type": "code",
   "execution_count": 14,
   "metadata": {
    "collapsed": true
   },
   "outputs": [],
   "source": [
    "# TODO: do the word count!\n",
    "# Note that we subsample the dataset a bit in the first step here to make the calculation a little faster\n",
    "word_count = (words_rdd.sample(False, 0.2) \n",
    "                       .map( lambda word : (word, 1) )\n",
    "                       .reduceByKey( lambda a,b : a + b )\n",
    "                       .sortBy(lambda a: -a[1])\n",
    "                       .setName('word_count')\n",
    "                       .cache())"
   ]
  },
  {
   "cell_type": "code",
   "execution_count": 16,
   "metadata": {
    "collapsed": true
   },
   "outputs": [],
   "source": [
    "assert(word_count.keys().take(5) == ['said', 'man', 'time', 'little', 'like'])"
   ]
  },
  {
   "cell_type": "markdown",
   "metadata": {},
   "source": [
    "### Top 100 most common words"
   ]
  },
  {
   "cell_type": "code",
   "execution_count": 17,
   "metadata": {},
   "outputs": [
    {
     "data": {
      "text/plain": [
       "[('said', 581271),\n",
       " ('man', 335504),\n",
       " ('time', 321508),\n",
       " ('little', 295995),\n",
       " ('like', 284813),\n",
       " ('did', 275300),\n",
       " ('project', 273269),\n",
       " ('work', 257808),\n",
       " ('great', 257444),\n",
       " ('know', 231238),\n",
       " ('mr', 217097),\n",
       " ('good', 216470),\n",
       " ('old', 215936),\n",
       " ('come', 210272),\n",
       " ('men', 208050),\n",
       " ('way', 196893),\n",
       " ('came', 192587),\n",
       " ('life', 190550),\n",
       " ('day', 186177),\n",
       " ('long', 183233),\n",
       " ('make', 176488),\n",
       " ('say', 170925),\n",
       " ('shall', 161847),\n",
       " ('think', 161483),\n",
       " ('new', 155337),\n",
       " ('away', 154741),\n",
       " ('just', 154227),\n",
       " ('people', 152184),\n",
       " ('thought', 150543),\n",
       " ('went', 149772),\n",
       " ('eyes', 144312),\n",
       " ('hand', 139204),\n",
       " ('place', 137962),\n",
       " ('dont', 137379),\n",
       " ('right', 136741),\n",
       " ('young', 127938),\n",
       " ('house', 127134),\n",
       " ('years', 124695),\n",
       " ('works', 122782),\n",
       " ('face', 122104),\n",
       " ('left', 119664),\n",
       " ('things', 118297),\n",
       " ('head', 117006),\n",
       " ('let', 115383),\n",
       " ('saw', 112369),\n",
       " ('world', 112128),\n",
       " ('tell', 110231),\n",
       " ('night', 108188),\n",
       " ('love', 108010),\n",
       " ('took', 107737),\n",
       " ('far', 106227),\n",
       " ('god', 105746),\n",
       " ('sir', 105517),\n",
       " ('look', 105375),\n",
       " ('looked', 104143),\n",
       " ('mrs', 104015),\n",
       " ('set', 103553),\n",
       " ('mind', 103048),\n",
       " ('days', 102916),\n",
       " ('got', 100941),\n",
       " ('going', 100103),\n",
       " ('father', 99392),\n",
       " ('thing', 98210),\n",
       " ('small', 95643),\n",
       " ('home', 95336),\n",
       " ('use', 95162),\n",
       " ('told', 94741),\n",
       " ('heart', 94616),\n",
       " ('knew', 93930),\n",
       " ('asked', 93862),\n",
       " ('seen', 93420),\n",
       " ('country', 93209),\n",
       " ('having', 93052),\n",
       " ('course', 92464),\n",
       " ('heard', 91920),\n",
       " ('called', 91788),\n",
       " ('better', 91784),\n",
       " ('soon', 89438),\n",
       " ('moment', 89367),\n",
       " ('end', 87414),\n",
       " ('general', 86780),\n",
       " ('quite', 85211),\n",
       " ('hands', 85173),\n",
       " ('states', 84201),\n",
       " ('king', 84050),\n",
       " ('water', 81770),\n",
       " ('state', 81359),\n",
       " ('yes', 81175),\n",
       " ('woman', 81170),\n",
       " ('terms', 80688),\n",
       " ('does', 80660),\n",
       " ('mother', 80610),\n",
       " ('room', 80605),\n",
       " ('words', 80146),\n",
       " ('oh', 79749),\n",
       " ('lord', 79659),\n",
       " ('light', 78702),\n",
       " ('gave', 78210),\n",
       " ('turned', 77778),\n",
       " ('want', 77718)]"
      ]
     },
     "execution_count": 17,
     "metadata": {},
     "output_type": "execute_result"
    }
   ],
   "source": [
    "word_count.take(100)"
   ]
  },
  {
   "cell_type": "markdown",
   "metadata": {},
   "source": [
    "# Computing word frequency vs. time\n",
    "\n",
    "Now we have all the components to build a simple tool that visualizes the relative word frequency as a function of time in the Gutenberg corpus. For inspiration, see the [Google Ngram viewer](https://books.google.com/ngrams).\n",
    "\n",
    "### Converting documents into vectors\n",
    "\n",
    "To make quantitative analysis of the corpus possible, we will convert each document into a vector that represents the word counts for each word appearing in the document. \n",
    "\n",
    "This will look something like this. Imagine we have have a corpus consisting of two \"documents\"\n",
    "\n",
    "    document 1: \"a dog bit me\"\n",
    "    document 2: \"i bit the dog back\"\n",
    "    \n",
    "Then our corpus vocabulary (of 1-grams) is\n",
    "\n",
    "    [\"a\", \"dog\", \"bit\", \"me\", \"i\", \"the\", \"back\"]\n",
    "    \n",
    "Since this is an array and each word in the array has a unique index, we can \"encode\" the two documents using this index mapping. Our corpus now looks like this: \n",
    "\n",
    "    document 1: [1, 1, 1, 1, 0, 0, 0]\n",
    "    document 2: [0, 1, 1, 0, 1, 1, 1]\n",
    "    \n",
    "In order for the vector indices to remain consistent across the whole corpus, the first step is to build a corpus-wide lookup table, a `word --> index` mapping. \n",
    "\n",
    "\n",
    "### Generating word counts \n",
    "\n",
    "Once each document is converted to a vector, doing the word counts for sub-groups of documents is a simple vector addition operation. In our case, we will reduce the vectors by year, yielding an RDD that will have the total number of occurrences of each word in every year. From there, it is trivial to look up the desired word and plot the relative frequency vs. year. \n",
    "\n",
    "## Create the vocabulary lookup table\n",
    "Create a look-up table of words by attaching a unique index to each word. The Spark API provides a [zipWithIndex](http://spark.apache.org/docs/latest/api/python/pyspark.html#pyspark.RDD.zipWithIndex) method that makes this easy. \n",
    "\n",
    "Above, we created the `word_count` RDD that already contains the unique words and their associated counts. To reduce the size of the lookup table (and the size of the vectors), we will restrict ourselves to using only the first 100k words. \n",
    "\n",
    "You can either create the `(word, index)` pairs in the RDD and collect the top 100,000 as a dictionary using `collectAsMap`, or you can collect the top 100,000 words from `word_count` RDD and turn them into a dictionary locally. \n",
    "\n",
    "These are the steps we need to take to make the vocabulary lookup from an RDD:\n",
    "\n",
    "1. use `zipWithIndex` on the keys of `word_count` to generate a unique index for each word -- we don't care about the counts anymore, so we can get rid of the values and just work with the keys using the `keys()` method\n",
    "2. use filter to retain only the first 100000 words \n",
    "3. finally, use [collectAsMap](http://spark.apache.org/docs/latest/api/python/pyspark.html#pyspark.RDD.collectAsMap) to return the resulting RDD to the driver as a dictionary. "
   ]
  },
  {
   "cell_type": "code",
   "execution_count": 22,
   "metadata": {},
   "outputs": [],
   "source": [
    "# TODO: create word_lookup, a dictionary that maps each of the top 100,000 words to a unique integer\n",
    "word_lookup = word_count.keys().zipWithIndex().filter(lambda x: x[1]<100000).collectAsMap()"
   ]
  },
  {
   "cell_type": "markdown",
   "metadata": {},
   "source": [
    "Make a `word_lookup` into a broadcast variable so we can use it on all the workers:"
   ]
  },
  {
   "cell_type": "code",
   "execution_count": 23,
   "metadata": {
    "collapsed": true
   },
   "outputs": [],
   "source": [
    "word_lookup_b = sc.broadcast(word_lookup)"
   ]
  },
  {
   "cell_type": "markdown",
   "metadata": {},
   "source": [
    "This dictionary is approximately 6 Mb in size - without a broadcast, it would get sent over the network to each task, resulting in a lot of network traffic! As a broadcast variable, it gets sent only *once* to each *executor*, i.e. it's transferred only 20 times (if you are using the defaults, otherwise however many executors you have). "
   ]
  },
  {
   "cell_type": "markdown",
   "metadata": {},
   "source": [
    "## Vectorize the documents\n",
    "\n",
    "Now that we have a vocabulary lookup table, we can use this to turn each document into a vector. \n",
    "\n",
    "This is done by counting up the occurrences of all words in the document that are also in the global vocabulary. \n",
    "\n",
    "The function `vectorize_doc` below accomplishes this by using a dictionary to keep track of the local word count. Once the counting is done we use the counts to create a sparse vector that represents the document. A sparse vector consists of two arrays, one representing the *locations* of the non-zero values, and the other the values themselves. \n",
    "\n",
    "To return to our contrived example from above, we had \n",
    "\n",
    "    document 1: \"a dog bit me\"\n",
    "    document 2: \"i bit the dog back\"\n",
    "    \n",
    "which turned into \n",
    "\n",
    "    document 1: [1, 1, 1, 1, 0, 0, 0]\n",
    "    document 2: [0, 1, 1, 0, 1, 1, 1]\n",
    "\n",
    "with a vocabulary of \n",
    "\n",
    "    [\"a\", \"dog\", \"bit\", \"me\", \"i\", \"the\", \"back\"]\n",
    "    \n",
    "As sparse vectors, these two documents could be represented with two arrays: \n",
    "\n",
    "    document 1: indices = [0,1,2,3]; values = [1, 1, 1, 1]\n",
    "    document 2: indices = [1,2,4,5,6]; values = [1, 1, 1, 1, 1]\n",
    "\n",
    "We use Spark's own `SparseVector` data type, for which we must specify a size (total number of features), a (sorted) array of indices, and an array of values. This means that we start to save space if sparsity is > 50%. Note that the `SparseVector` provides some nice higher-level methods, but it does not allow simple operations like addition. If a lot of vector arithmetic is needed, you should use the scipy sparse types instead. "
   ]
  },
  {
   "cell_type": "markdown",
   "metadata": {},
   "source": [
    "In the next cell, we define two functions: \n",
    "\n",
    "* **`extract_ngrams`** converts a sequence of words or characters into a sequence of n-grams (here we are just using single worde, i.e. 1-grams so we'll postpone talking about ngrams until later)\n",
    "\n",
    "* **`vectorize_doc`** converts a document into a sparse vector by using `extract_ngrams` to tokenize it and a vocabulary mapping to turn each word into a vector component"
   ]
  },
  {
   "cell_type": "code",
   "execution_count": 25,
   "metadata": {
    "collapsed": true
   },
   "outputs": [],
   "source": [
    "from pyspark.mllib.linalg import SparseVector\n",
    "\n",
    "def extract_ngrams(tokens, ngram_range=[1,1], select_ngrams = None, ngram_type='word'):\n",
    "    \"\"\"\n",
    "    Turn tokens into a sequence of n-grams \n",
    "\n",
    "    Arguments:\n",
    "\n",
    "        tokens: a list of tokens\n",
    "\n",
    "    Optional Keywords:\n",
    "\n",
    "        ngram_range: a tuple with min, max ngram ngram_range\n",
    "    \n",
    "        select_ngrams: the vocabulary to use\n",
    "    \n",
    "        ngram_type: whether to produce word or character ngrams\n",
    "\n",
    "    Output:\n",
    "\n",
    "    Generator yielding a list of ngrams in the desired range\n",
    "    generated from the input list of tokens\n",
    "\n",
    "    \"\"\"\n",
    "    join_str = \"\" if ngram_type=='character' else \" \"\n",
    "    \n",
    "    # handle token n-grams\n",
    "    min_n, max_n = ngram_range\n",
    "    n_tokens = len(tokens)\n",
    "    \n",
    "    for n in range(min_n, min(max_n + 1, n_tokens + 1)):\n",
    "        for i in range(n_tokens - n + 1):\n",
    "            if n == 1: \n",
    "                res = tokens[i]\n",
    "            else : \n",
    "                res = join_str.join(tokens[i: i+n])\n",
    "           \n",
    "            # if we are using a lookup vocabulary, check for membership here\n",
    "            if select_ngrams is not None : \n",
    "                if res in select_ngrams: \n",
    "                    yield res\n",
    "            else : \n",
    "                yield res\n",
    "            \n",
    "\n",
    "def vectorize_doc(doc, vocab, ngram_range = [1,1], ngram_type='word') : \n",
    "    \"\"\"\n",
    "    Returns a vector representation of `doc` given the reference \n",
    "    vocabulary `vocab` after tokenizing it with `tokenizer`\n",
    "    \n",
    "    Arguments: \n",
    "        \n",
    "        doc: a sequence of tokens (words or characters)\n",
    "        \n",
    "        vocab: the vocabulary mapping\n",
    "        \n",
    "    Keywords:\n",
    "    \n",
    "        ngram_range: the range of ngrams to process\n",
    "        \n",
    "        ngram_type: whether to produce character or word ngrams; default is \n",
    "        \n",
    "    Returns:\n",
    "    \n",
    "        a sparse vector representation of the document given the vocabulary mapping\n",
    "    \"\"\"\n",
    "    from collections import defaultdict\n",
    "    from scipy.sparse import csr_matrix \n",
    "        \n",
    "    # count all the word occurences \n",
    "    data = np.zeros(len(vocab))\n",
    "    \n",
    "    for ngram in extract_ngrams(doc, ngram_range, vocab, ngram_type) : \n",
    "         data[vocab[ngram]] += 1\n",
    "            \n",
    "    # only keep the nonzero indices for the sparse representation\n",
    "    indices = data.nonzero()[0]\n",
    "    values = data[indices]\n",
    "    \n",
    "    return SparseVector(len(vocab), indices, values)"
   ]
  },
  {
   "cell_type": "markdown",
   "metadata": {},
   "source": [
    "Using these functions to vectorize our two-sentence test corpus: "
   ]
  },
  {
   "cell_type": "code",
   "execution_count": 26,
   "metadata": {
    "collapsed": true
   },
   "outputs": [],
   "source": [
    "import string\n",
    "s1 = \"a dog bit me\"\n",
    "s2 = \"i bit the dog back\"\n",
    "vocab = [\"a\", \"dog\", \"bit\", \"me\", \"i\", \"the\", \"back\"]\n",
    "vocab_dict = {word:ind for ind, word in enumerate(vocab)}"
   ]
  },
  {
   "cell_type": "code",
   "execution_count": 27,
   "metadata": {},
   "outputs": [
    {
     "name": "stdout",
     "output_type": "stream",
     "text": [
      "a dog bit me\n",
      "(7,[0,1,2,3],[1.0,1.0,1.0,1.0])\n",
      "i bit the dog back\n",
      "(7,[1,2,4,5,6],[1.0,1.0,1.0,1.0,1.0])\n"
     ]
    }
   ],
   "source": [
    "print(s1)\n",
    "print(vectorize_doc(s1.split(), vocab_dict))\n",
    "print(s2)\n",
    "print(vectorize_doc(s2.split(), vocab_dict))"
   ]
  },
  {
   "cell_type": "markdown",
   "metadata": {},
   "source": [
    "Now we have all the components we need to create an RDD of english-language books vectorized using the most common 100k words. All we need to do is to use `mapValues` to map the text of each document in `english_rdd` into a vector using `vectorize_doc` and our broadcast vocabulary lookup table `word_lookup_b`. Recall that the broadcast variable, `word_lookup_b` is just a wrapper for the lookup table; to pass the actual lookup table to the `vectorize_doc` function, use `word_lookup_b.value`."
   ]
  },
  {
   "cell_type": "code",
   "execution_count": 28,
   "metadata": {
    "collapsed": true
   },
   "outputs": [],
   "source": [
    "# TODO\n",
    "vector_rdd = english_rdd.mapValues(lambda text: vectorize_doc(text.split(), word_lookup_b.value)).cache()"
   ]
  },
  {
   "cell_type": "code",
   "execution_count": 29,
   "metadata": {
    "scrolled": true
   },
   "outputs": [
    {
     "data": {
      "text/plain": [
       "[('15266',\n",
       "  SparseVector(100000, {0: 6.0, 1: 5.0, 2: 4.0, 3: 3.0, 4: 6.0, 5: 5.0, 7: 37.0, 8: 12.0, 9: 7.0, 11: 8.0, 12: 2.0, 13: 6.0, 14: 6.0, 15: 6.0, 16: 4.0, 17: 16.0, 18: 9.0, 19: 3.0, 20: 15.0, 21: 6.0, 22: 22.0, 23: 1.0, 24: 7.0, 25: 4.0, 26: 6.0, 27: 5.0, 28: 3.0, 29: 2.0, 30: 1.0, 32: 1.0, 34: 5.0, 35: 1.0, 37: 3.0, 38: 23.0, 39: 3.0, 40: 7.0, 41: 2.0, 43: 3.0, 44: 20.0, 45: 3.0, 46: 3.0, 47: 16.0, 48: 1.0, 49: 4.0, 50: 1.0, 51: 1.0, 53: 1.0, 56: 10.0, 57: 4.0, 58: 1.0, 59: 1.0, 60: 2.0, 61: 5.0, 62: 3.0, 63: 2.0, 64: 2.0, 65: 10.0, 66: 8.0, 67: 3.0, 68: 1.0, 69: 1.0, 70: 2.0, 71: 2.0, 72: 1.0, 73: 1.0, 74: 7.0, 75: 2.0, 77: 1.0, 79: 4.0, 81: 1.0, 84: 4.0, 86: 6.0, 89: 1.0, 90: 19.0, 91: 3.0, 94: 5.0, 96: 3.0, 97: 4.0, 98: 2.0, 101: 2.0, 102: 4.0, 103: 3.0, 105: 1.0, 106: 7.0, 108: 1.0, 112: 1.0, 117: 8.0, 119: 3.0, 120: 2.0, 121: 7.0, 122: 8.0, 123: 2.0, 129: 6.0, 130: 3.0, 132: 2.0, 133: 10.0, 136: 5.0, 137: 1.0, 139: 1.0, 140: 4.0, 142: 1.0, 143: 1.0, 144: 1.0, 145: 3.0, 146: 2.0, 147: 17.0, 148: 7.0, 149: 7.0, 150: 1.0, 152: 8.0, 153: 4.0, 154: 1.0, 155: 4.0, 158: 1.0, 161: 3.0, 162: 3.0, 165: 5.0, 167: 3.0, 168: 1.0, 170: 1.0, 171: 1.0, 172: 2.0, 175: 8.0, 176: 1.0, 178: 4.0, 181: 1.0, 182: 6.0, 183: 8.0, 185: 4.0, 186: 1.0, 188: 4.0, 189: 2.0, 190: 1.0, 193: 1.0, 194: 1.0, 195: 4.0, 196: 1.0, 197: 2.0, 198: 2.0, 203: 2.0, 204: 2.0, 207: 2.0, 209: 2.0, 210: 3.0, 211: 2.0, 213: 5.0, 214: 2.0, 215: 1.0, 220: 9.0, 221: 1.0, 222: 4.0, 223: 2.0, 224: 4.0, 230: 4.0, 231: 1.0, 232: 4.0, 233: 1.0, 234: 8.0, 235: 2.0, 236: 1.0, 239: 1.0, 240: 8.0, 241: 3.0, 242: 1.0, 244: 1.0, 245: 1.0, 246: 9.0, 248: 1.0, 250: 2.0, 252: 1.0, 254: 2.0, 255: 1.0, 256: 12.0, 259: 2.0, 261: 1.0, 262: 5.0, 263: 6.0, 264: 2.0, 265: 1.0, 266: 1.0, 267: 2.0, 268: 1.0, 270: 6.0, 271: 3.0, 272: 1.0, 274: 1.0, 276: 1.0, 278: 4.0, 281: 1.0, 284: 2.0, 285: 6.0, 289: 2.0, 293: 3.0, 297: 3.0, 298: 6.0, 300: 1.0, 301: 1.0, 302: 1.0, 307: 1.0, 308: 1.0, 310: 1.0, 315: 1.0, 317: 1.0, 318: 2.0, 321: 3.0, 323: 2.0, 324: 3.0, 328: 10.0, 330: 1.0, 331: 2.0, 335: 1.0, 337: 7.0, 338: 4.0, 344: 1.0, 346: 7.0, 348: 2.0, 350: 3.0, 353: 2.0, 356: 4.0, 364: 1.0, 365: 3.0, 368: 3.0, 369: 10.0, 370: 2.0, 371: 8.0, 373: 4.0, 374: 3.0, 376: 40.0, 380: 1.0, 381: 1.0, 382: 1.0, 383: 10.0, 384: 1.0, 389: 3.0, 391: 6.0, 392: 3.0, 393: 3.0, 395: 1.0, 396: 1.0, 398: 2.0, 400: 1.0, 405: 1.0, 409: 3.0, 410: 1.0, 415: 1.0, 416: 1.0, 417: 1.0, 420: 1.0, 423: 13.0, 424: 1.0, 425: 7.0, 426: 1.0, 429: 1.0, 430: 3.0, 432: 1.0, 433: 1.0, 434: 3.0, 435: 1.0, 437: 3.0, 439: 1.0, 442: 4.0, 443: 2.0, 445: 1.0, 448: 1.0, 452: 1.0, 454: 2.0, 460: 1.0, 462: 1.0, 467: 5.0, 468: 2.0, 471: 3.0, 477: 1.0, 480: 1.0, 481: 6.0, 482: 6.0, 486: 7.0, 488: 4.0, 491: 2.0, 493: 1.0, 494: 6.0, 495: 1.0, 499: 3.0, 502: 3.0, 504: 1.0, 505: 1.0, 506: 8.0, 507: 1.0, 508: 2.0, 509: 2.0, 510: 1.0, 514: 1.0, 515: 1.0, 518: 2.0, 528: 7.0, 531: 1.0, 532: 4.0, 535: 2.0, 539: 3.0, 540: 4.0, 541: 1.0, 542: 1.0, 549: 1.0, 551: 3.0, 552: 3.0, 553: 2.0, 557: 2.0, 568: 1.0, 569: 1.0, 570: 4.0, 571: 1.0, 576: 2.0, 577: 1.0, 579: 1.0, 581: 3.0, 585: 2.0, 586: 2.0, 587: 3.0, 588: 1.0, 591: 1.0, 595: 3.0, 602: 3.0, 603: 2.0, 604: 1.0, 606: 1.0, 610: 1.0, 613: 1.0, 616: 2.0, 627: 1.0, 632: 5.0, 635: 6.0, 636: 1.0, 639: 1.0, 641: 1.0, 642: 5.0, 647: 2.0, 649: 4.0, 651: 1.0, 652: 2.0, 653: 6.0, 654: 3.0, 655: 1.0, 656: 6.0, 657: 2.0, 658: 1.0, 664: 2.0, 667: 1.0, 673: 1.0, 678: 1.0, 679: 1.0, 680: 1.0, 682: 1.0, 685: 1.0, 689: 2.0, 692: 2.0, 695: 2.0, 696: 5.0, 701: 2.0, 704: 2.0, 706: 4.0, 707: 1.0, 710: 2.0, 713: 1.0, 715: 2.0, 717: 1.0, 718: 1.0, 722: 1.0, 723: 1.0, 724: 2.0, 725: 3.0, 729: 3.0, 731: 1.0, 738: 2.0, 739: 6.0, 742: 3.0, 743: 2.0, 746: 4.0, 749: 6.0, 752: 5.0, 754: 3.0, 756: 6.0, 764: 3.0, 766: 1.0, 767: 3.0, 769: 2.0, 777: 1.0, 780: 1.0, 783: 2.0, 796: 1.0, 797: 3.0, 800: 3.0, 806: 1.0, 808: 1.0, 811: 2.0, 812: 3.0, 815: 3.0, 816: 2.0, 818: 2.0, 820: 2.0, 821: 2.0, 824: 2.0, 826: 1.0, 830: 1.0, 833: 4.0, 835: 3.0, 836: 1.0, 838: 3.0, 840: 2.0, 841: 1.0, 847: 3.0, 848: 4.0, 854: 1.0, 855: 2.0, 856: 4.0, 857: 4.0, 858: 3.0, 861: 1.0, 865: 2.0, 866: 1.0, 869: 3.0, 872: 1.0, 874: 1.0, 876: 1.0, 878: 2.0, 883: 1.0, 886: 1.0, 893: 3.0, 895: 2.0, 897: 1.0, 899: 1.0, 901: 3.0, 903: 2.0, 907: 3.0, 908: 1.0, 912: 1.0, 913: 1.0, 914: 1.0, 923: 1.0, 925: 3.0, 928: 1.0, 929: 2.0, 935: 1.0, 938: 3.0, 940: 1.0, 945: 1.0, 950: 2.0, 951: 1.0, 957: 1.0, 958: 3.0, 961: 1.0, 962: 2.0, 966: 1.0, 972: 1.0, 974: 1.0, 977: 5.0, 978: 1.0, 980: 3.0, 983: 3.0, 986: 1.0, 987: 3.0, 988: 2.0, 989: 1.0, 992: 1.0, 1001: 2.0, 1005: 2.0, 1006: 3.0, 1009: 2.0, 1018: 1.0, 1020: 1.0, 1022: 1.0, 1026: 1.0, 1030: 1.0, 1037: 3.0, 1039: 1.0, 1040: 4.0, 1042: 4.0, 1043: 1.0, 1046: 1.0, 1047: 2.0, 1051: 1.0, 1055: 1.0, 1066: 2.0, 1067: 1.0, 1069: 2.0, 1070: 4.0, 1073: 2.0, 1080: 2.0, 1081: 5.0, 1082: 1.0, 1087: 1.0, 1092: 3.0, 1093: 1.0, 1098: 1.0, 1101: 4.0, 1104: 2.0, 1107: 1.0, 1109: 2.0, 1112: 4.0, 1116: 2.0, 1125: 1.0, 1127: 1.0, 1136: 2.0, 1141: 2.0, 1142: 2.0, 1151: 1.0, 1152: 1.0, 1155: 3.0, 1159: 1.0, 1163: 2.0, 1167: 4.0, 1169: 3.0, 1172: 1.0, 1173: 3.0, 1176: 1.0, 1180: 1.0, 1184: 1.0, 1195: 2.0, 1196: 1.0, 1199: 1.0, 1206: 2.0, 1212: 2.0, 1215: 2.0, 1217: 3.0, 1220: 2.0, 1221: 1.0, 1227: 1.0, 1228: 1.0, 1230: 2.0, 1234: 1.0, 1235: 1.0, 1238: 2.0, 1243: 4.0, 1248: 3.0, 1259: 1.0, 1260: 2.0, 1263: 1.0, 1271: 1.0, 1272: 2.0, 1279: 1.0, 1281: 2.0, 1283: 2.0, 1286: 1.0, 1290: 1.0, 1292: 1.0, 1295: 1.0, 1302: 2.0, 1313: 1.0, 1314: 1.0, 1315: 1.0, 1316: 3.0, 1317: 1.0, 1325: 1.0, 1334: 1.0, 1338: 4.0, 1339: 2.0, 1342: 2.0, 1343: 1.0, 1347: 1.0, 1348: 1.0, 1357: 1.0, 1358: 2.0, 1367: 2.0, 1376: 1.0, 1390: 1.0, 1397: 1.0, 1399: 1.0, 1409: 1.0, 1412: 1.0, 1413: 1.0, 1420: 1.0, 1428: 2.0, 1435: 1.0, 1436: 2.0, 1439: 1.0, 1442: 1.0, 1444: 3.0, 1445: 1.0, 1447: 1.0, 1450: 1.0, 1457: 1.0, 1460: 1.0, 1473: 1.0, 1484: 1.0, 1492: 2.0, 1495: 1.0, 1504: 1.0, 1505: 2.0, 1513: 1.0, 1516: 1.0, 1524: 1.0, 1534: 1.0, 1536: 2.0, 1539: 1.0, 1549: 1.0, 1552: 1.0, 1556: 4.0, 1566: 1.0, 1568: 1.0, 1569: 1.0, 1571: 1.0, 1573: 7.0, 1580: 1.0, 1581: 1.0, 1583: 1.0, 1587: 2.0, 1590: 1.0, 1591: 2.0, 1594: 1.0, 1595: 2.0, 1598: 1.0, 1602: 2.0, 1603: 1.0, 1604: 3.0, 1605: 1.0, 1609: 1.0, 1610: 1.0, 1611: 1.0, 1612: 1.0, 1624: 1.0, 1627: 1.0, 1628: 1.0, 1630: 1.0, 1631: 3.0, 1633: 1.0, 1637: 3.0, 1638: 1.0, 1639: 1.0, 1640: 1.0, 1643: 1.0, 1651: 1.0, 1652: 1.0, 1656: 3.0, 1665: 1.0, 1668: 1.0, 1675: 2.0, 1676: 1.0, 1680: 2.0, 1688: 2.0, 1689: 4.0, 1690: 1.0, 1694: 3.0, 1698: 1.0, 1699: 1.0, 1700: 1.0, 1701: 4.0, 1703: 1.0, 1710: 1.0, 1718: 1.0, 1724: 3.0, 1730: 1.0, 1731: 1.0, 1733: 2.0, 1737: 1.0, 1738: 1.0, 1750: 5.0, 1752: 2.0, 1755: 1.0, 1767: 1.0, 1776: 2.0, 1788: 2.0, 1791: 3.0, 1794: 1.0, 1795: 1.0, 1797: 1.0, 1803: 3.0, 1805: 1.0, 1810: 6.0, 1812: 1.0, 1815: 1.0, 1818: 3.0, 1823: 4.0, 1828: 1.0, 1829: 5.0, 1837: 1.0, 1846: 1.0, 1847: 2.0, 1848: 1.0, 1849: 2.0, 1857: 2.0, 1859: 1.0, 1866: 2.0, 1871: 1.0, 1874: 1.0, 1880: 3.0, 1883: 1.0, 1884: 1.0, 1886: 1.0, 1887: 1.0, 1888: 2.0, 1900: 2.0, 1902: 1.0, 1910: 2.0, 1913: 3.0, 1915: 1.0, 1918: 2.0, 1921: 1.0, 1926: 3.0, 1931: 1.0, 1932: 1.0, 1941: 1.0, 1943: 2.0, 1945: 2.0, 1949: 1.0, 1953: 2.0, 1955: 1.0, 1964: 1.0, 1965: 2.0, 1967: 1.0, 1970: 1.0, 1976: 3.0, 1983: 1.0, 1990: 2.0, 1992: 2.0, 1996: 2.0, 1998: 1.0, 2004: 1.0, 2015: 1.0, 2024: 1.0, 2031: 1.0, 2032: 2.0, 2045: 1.0, 2048: 1.0, 2058: 1.0, 2067: 1.0, 2068: 2.0, 2081: 1.0, 2082: 1.0, 2083: 1.0, 2085: 1.0, 2086: 2.0, 2088: 1.0, 2089: 1.0, 2091: 1.0, 2093: 1.0, 2097: 2.0, 2098: 1.0, 2113: 1.0, 2117: 2.0, 2123: 1.0, 2124: 2.0, 2125: 1.0, 2130: 1.0, 2139: 1.0, 2151: 1.0, 2157: 1.0, 2160: 3.0, 2165: 1.0, 2178: 1.0, 2182: 1.0, 2183: 1.0, 2188: 1.0, 2205: 1.0, 2209: 2.0, 2212: 1.0, 2219: 1.0, 2220: 2.0, 2221: 2.0, 2222: 1.0, 2228: 2.0, 2239: 1.0, 2240: 1.0, 2257: 1.0, 2262: 1.0, 2264: 1.0, 2282: 1.0, 2285: 2.0, 2298: 2.0, 2306: 1.0, 2311: 1.0, 2312: 1.0, 2313: 4.0, 2324: 1.0, 2330: 1.0, 2339: 1.0, 2351: 1.0, 2357: 2.0, 2360: 1.0, 2364: 2.0, 2366: 1.0, 2370: 1.0, 2382: 2.0, 2386: 1.0, 2389: 3.0, 2390: 2.0, 2394: 1.0, 2401: 1.0, 2404: 1.0, 2408: 1.0, 2428: 2.0, 2430: 1.0, 2435: 1.0, 2445: 1.0, 2449: 2.0, 2454: 2.0, 2456: 2.0, 2461: 1.0, 2463: 1.0, 2473: 1.0, 2476: 2.0, 2478: 2.0, 2480: 2.0, 2495: 2.0, 2500: 1.0, 2514: 1.0, 2516: 1.0, 2518: 1.0, 2520: 1.0, 2531: 2.0, 2538: 1.0, 2547: 1.0, 2548: 1.0, 2549: 2.0, 2567: 1.0, 2568: 2.0, 2572: 1.0, 2573: 1.0, 2583: 2.0, 2591: 1.0, 2592: 4.0, 2595: 1.0, 2600: 2.0, 2612: 3.0, 2614: 2.0, 2622: 1.0, 2624: 2.0, 2631: 1.0, 2639: 2.0, 2640: 1.0, 2641: 1.0, 2651: 1.0, 2652: 1.0, 2655: 1.0, 2662: 1.0, 2666: 1.0, 2668: 1.0, 2670: 2.0, 2671: 2.0, 2691: 1.0, 2696: 1.0, 2698: 1.0, 2702: 1.0, 2703: 1.0, 2705: 1.0, 2712: 1.0, 2715: 2.0, 2724: 1.0, 2727: 1.0, 2733: 1.0, 2744: 1.0, 2745: 1.0, 2754: 2.0, 2776: 1.0, 2781: 1.0, 2795: 1.0, 2796: 1.0, 2799: 1.0, 2807: 1.0, 2830: 2.0, 2833: 1.0, 2841: 1.0, 2844: 1.0, 2848: 1.0, 2859: 1.0, 2862: 2.0, 2899: 1.0, 2902: 1.0, 2905: 1.0, 2910: 1.0, 2917: 1.0, 2924: 1.0, 2934: 1.0, 2948: 1.0, 2952: 3.0, 2955: 2.0, 2958: 1.0, 2963: 1.0, 2968: 1.0, 2970: 1.0, 2974: 1.0, 2980: 1.0, 2983: 1.0, 2985: 1.0, 2987: 1.0, 2996: 1.0, 3009: 2.0, 3024: 1.0, 3027: 1.0, 3038: 1.0, 3042: 1.0, 3049: 1.0, 3053: 3.0, 3054: 3.0, 3077: 1.0, 3084: 1.0, 3098: 2.0, 3105: 1.0, 3107: 1.0, 3109: 1.0, 3116: 1.0, 3119: 2.0, 3123: 1.0, 3127: 2.0, 3148: 1.0, 3161: 1.0, 3172: 1.0, 3181: 2.0, 3192: 1.0, 3199: 1.0, 3209: 2.0, 3219: 1.0, 3220: 1.0, 3233: 3.0, 3235: 1.0, 3242: 1.0, 3256: 1.0, 3260: 2.0, 3273: 1.0, 3275: 1.0, 3282: 1.0, 3292: 1.0, 3311: 1.0, 3316: 1.0, 3320: 1.0, 3331: 3.0, 3337: 1.0, 3339: 1.0, 3341: 1.0, 3344: 1.0, 3359: 1.0, 3365: 1.0, 3367: 1.0, 3369: 1.0, 3373: 1.0, 3374: 1.0, 3384: 1.0, 3407: 1.0, 3408: 1.0, 3410: 1.0, 3412: 1.0, 3423: 1.0, 3441: 1.0, 3442: 1.0, 3469: 2.0, 3475: 1.0, 3476: 1.0, 3480: 1.0, 3484: 1.0, 3535: 1.0, 3541: 1.0, 3566: 1.0, 3567: 1.0, 3576: 1.0, 3586: 1.0, 3590: 1.0, 3611: 5.0, 3613: 1.0, 3622: 1.0, 3625: 1.0, 3637: 1.0, 3652: 1.0, 3655: 1.0, 3657: 1.0, 3679: 1.0, 3697: 1.0, 3702: 1.0, 3705: 1.0, 3707: 1.0, 3718: 2.0, 3723: 1.0, 3725: 1.0, 3731: 2.0, 3734: 1.0, 3746: 1.0, 3759: 1.0, 3761: 1.0, 3780: 2.0, 3792: 1.0, 3793: 2.0, 3799: 1.0, 3800: 1.0, 3804: 1.0, 3815: 1.0, 3823: 1.0, 3824: 1.0, 3840: 1.0, 3848: 1.0, 3853: 1.0, 3857: 1.0, 3867: 1.0, 3875: 1.0, 3877: 1.0, 3893: 4.0, 3904: 1.0, 3911: 1.0, 3914: 1.0, 3931: 1.0, 3950: 1.0, 3952: 1.0, 3960: 2.0, 3969: 1.0, 4000: 1.0, 4017: 3.0, 4038: 8.0, 4039: 2.0, 4047: 1.0, 4056: 1.0, 4064: 1.0, 4075: 1.0, 4078: 1.0, 4098: 1.0, 4106: 1.0, 4115: 1.0, 4121: 1.0, 4133: 1.0, 4142: 1.0, 4205: 1.0, 4217: 1.0, 4226: 1.0, 4246: 1.0, 4248: 1.0, 4262: 1.0, 4264: 1.0, 4274: 1.0, 4275: 1.0, 4283: 3.0, 4288: 1.0, 4323: 1.0, 4329: 1.0, 4334: 1.0, 4335: 1.0, 4351: 1.0, 4356: 1.0, 4364: 1.0, 4366: 1.0, 4382: 1.0, 4396: 1.0, 4431: 1.0, 4434: 1.0, 4445: 1.0, 4460: 1.0, 4471: 1.0, 4472: 1.0, 4511: 1.0, 4516: 1.0, 4520: 1.0, 4521: 1.0, 4522: 1.0, 4524: 1.0, 4531: 1.0, 4533: 1.0, 4534: 1.0, 4549: 1.0, 4562: 1.0, 4571: 1.0, 4573: 1.0, 4575: 2.0, 4578: 1.0, 4580: 1.0, 4585: 1.0, 4588: 1.0, 4591: 1.0, 4607: 1.0, 4618: 1.0, 4627: 1.0, 4648: 1.0, 4674: 1.0, 4704: 1.0, 4706: 1.0, 4708: 1.0, 4723: 3.0, 4737: 1.0, 4738: 1.0, 4740: 1.0, 4744: 1.0, 4747: 1.0, 4775: 1.0, 4798: 1.0, 4808: 1.0, 4811: 1.0, 4813: 1.0, 4823: 1.0, 4828: 1.0, 4835: 1.0, 4837: 1.0, 4844: 1.0, 4845: 1.0, 4849: 1.0, 4865: 1.0, 4875: 1.0, 4886: 1.0, 4892: 1.0, 4896: 1.0, 4911: 1.0, 4952: 1.0, 4953: 1.0, 4956: 1.0, 4971: 1.0, 4974: 1.0, 4978: 1.0, 4980: 2.0, 4988: 1.0, 5009: 1.0, 5040: 1.0, 5043: 1.0, 5059: 1.0, 5082: 1.0, 5104: 1.0, 5143: 1.0, 5157: 1.0, 5166: 1.0, 5178: 1.0, 5189: 2.0, 5190: 1.0, 5198: 1.0, 5222: 1.0, 5248: 1.0, 5271: 1.0, 5281: 1.0, 5309: 1.0, 5315: 1.0, 5348: 1.0, 5350: 2.0, 5380: 1.0, 5418: 2.0, 5425: 1.0, 5431: 1.0, 5451: 1.0, 5455: 1.0, 5511: 1.0, 5557: 1.0, 5586: 1.0, 5588: 1.0, 5595: 1.0, 5613: 1.0, 5678: 1.0, 5683: 1.0, 5685: 2.0, 5686: 1.0, 5706: 1.0, 5719: 1.0, 5728: 1.0, 5785: 1.0, 5791: 1.0, 5796: 1.0, 5801: 1.0, 5808: 2.0, 5815: 7.0, 5836: 1.0, 5853: 1.0, 5870: 1.0, 5873: 1.0, 5899: 1.0, 5930: 1.0, 5957: 1.0, 5959: 2.0, 5962: 1.0, 6007: 1.0, 6032: 1.0, 6100: 1.0, 6163: 2.0, 6166: 1.0, 6209: 1.0, 6213: 1.0, 6228: 1.0, 6251: 1.0, 6265: 1.0, 6266: 2.0, 6272: 1.0, 6282: 1.0, 6292: 1.0, 6301: 1.0, 6312: 1.0, 6321: 1.0, 6352: 1.0, 6365: 1.0, 6380: 1.0, 6392: 1.0, 6421: 1.0, 6443: 1.0, 6458: 1.0, 6462: 7.0, 6466: 1.0, 6479: 1.0, 6523: 1.0, 6535: 1.0, 6552: 2.0, 6578: 1.0, 6627: 1.0, 6665: 1.0, 6706: 1.0, 6767: 1.0, 6806: 8.0, 6859: 1.0, 6861: 1.0, 6881: 1.0, 6944: 1.0, 6957: 1.0, 6967: 2.0, 7042: 1.0, 7204: 1.0, 7224: 2.0, 7253: 1.0, 7313: 1.0, 7319: 1.0, 7330: 1.0, 7346: 1.0, 7372: 1.0, 7420: 1.0, 7422: 1.0, 7444: 1.0, 7480: 1.0, 7491: 1.0, 7498: 1.0, 7499: 1.0, 7512: 1.0, 7570: 1.0, 7577: 1.0, 7581: 1.0, 7601: 1.0, 7670: 1.0, 7679: 1.0, 7736: 1.0, 7778: 1.0, 7850: 1.0, 7877: 1.0, 7916: 1.0, 7924: 2.0, 7949: 1.0, 8042: 1.0, 8050: 1.0, 8089: 1.0, 8191: 1.0, 8193: 1.0, 8210: 1.0, 8276: 1.0, 8278: 1.0, 8281: 1.0, 8282: 1.0, 8307: 1.0, 8424: 1.0, 8485: 2.0, 8568: 1.0, 8603: 2.0, 8657: 1.0, 8698: 1.0, 8705: 1.0, 8729: 1.0, 8756: 1.0, 8914: 2.0, 8930: 2.0, 9119: 1.0, 9144: 1.0, 9173: 1.0, 9182: 1.0, 9225: 1.0, 9233: 1.0, 9241: 1.0, 9264: 1.0, 9282: 1.0, 9299: 1.0, 9353: 1.0, 9376: 1.0, 9496: 1.0, 9596: 1.0, 9717: 1.0, 9766: 1.0, 9850: 1.0, 9860: 1.0, 9903: 1.0, 9974: 1.0, 10012: 1.0, 10121: 1.0, 10295: 1.0, 10406: 2.0, 10423: 1.0, 10436: 1.0, 10466: 1.0, 10546: 1.0, 10741: 1.0, 10808: 1.0, 10843: 1.0, 10910: 1.0, 11062: 1.0, 11145: 1.0, 11160: 1.0, 11531: 1.0, 11579: 1.0, 11708: 1.0, 11713: 1.0, 11716: 1.0, 11723: 1.0, 11732: 1.0, 11763: 1.0, 11774: 1.0, 11881: 1.0, 12001: 1.0, 12005: 1.0, 12043: 1.0, 12056: 1.0, 12159: 1.0, 12206: 1.0, 12332: 1.0, 12429: 1.0, 12736: 1.0, 12757: 1.0, 12831: 2.0, 12887: 2.0, 12955: 2.0, 12980: 2.0, 13001: 1.0, 13052: 1.0, 13086: 1.0, 13338: 3.0, 13352: 1.0, 13531: 1.0, 13559: 1.0, 13594: 1.0, 13721: 2.0, 13727: 1.0, 13811: 1.0, 14018: 1.0, 14021: 4.0, 14427: 1.0, 14494: 4.0, 14540: 1.0, 14555: 1.0, 14781: 1.0, 14962: 1.0, 14991: 1.0, 15094: 1.0, 15149: 1.0, 15348: 1.0, 15385: 1.0, 15526: 1.0, 15568: 1.0, 15589: 1.0, 15658: 1.0, 15778: 2.0, 15899: 1.0, 15967: 1.0, 15984: 1.0, 15999: 1.0, 16113: 1.0, 16145: 1.0, 16285: 1.0, 16378: 1.0, 16433: 1.0, 16623: 1.0, 16659: 1.0, 16880: 1.0, 16916: 1.0, 17301: 1.0, 17336: 1.0, 17410: 1.0, 17545: 1.0, 17910: 1.0, 18014: 1.0, 18078: 1.0, 18158: 1.0, 18239: 1.0, 18626: 1.0, 18682: 1.0, 18753: 1.0, 18845: 3.0, 19239: 1.0, 19474: 1.0, 19593: 1.0, 19945: 1.0, 20012: 1.0, 20025: 1.0, 20094: 1.0, 20282: 1.0, 20340: 1.0, 20463: 1.0, 21149: 1.0, 21222: 1.0, 21759: 1.0, 21829: 1.0, 22593: 1.0, 23119: 1.0, 23243: 1.0, 23245: 1.0, 23481: 1.0, 23534: 1.0, 23715: 1.0, 23722: 1.0, 24139: 1.0, 24493: 1.0, 24674: 1.0, 24812: 1.0, 25216: 1.0, 25681: 1.0, 25813: 1.0, 25897: 1.0, 26087: 1.0, 26219: 1.0, 26406: 1.0, 26443: 1.0, 26676: 1.0, 27581: 1.0, 27682: 1.0, 27750: 1.0, 27810: 1.0, 28003: 1.0, 28272: 1.0, 28286: 1.0, 29626: 1.0, 29651: 1.0, 30303: 1.0, 30305: 1.0, 30426: 1.0, 31221: 1.0, 31643: 1.0, 32186: 1.0, 32272: 1.0, 32348: 1.0, 33103: 1.0, 33187: 1.0, 33682: 1.0, 33689: 1.0, 34579: 1.0, 35598: 1.0, 36587: 1.0, 37198: 1.0, 38339: 1.0, 38994: 1.0, 39236: 1.0, 39901: 1.0, 43434: 1.0, 43855: 1.0, 45677: 1.0, 46550: 1.0, 47230: 1.0, 49886: 1.0, 51745: 1.0, 54552: 1.0, 55556: 1.0, 57117: 1.0, 59422: 1.0, 62710: 1.0, 63797: 1.0, 65793: 1.0, 66798: 1.0, 73672: 1.0, 78909: 1.0, 81842: 1.0, 89660: 1.0, 91708: 1.0})),\n",
       " ('16265',\n",
       "  SparseVector(100000, {0: 7.0, 1: 16.0, 2: 11.0, 3: 10.0, 4: 30.0, 5: 5.0, 7: 35.0, 8: 2.0, 9: 11.0, 11: 16.0, 12: 65.0, 13: 12.0, 14: 2.0, 15: 7.0, 16: 1.0, 17: 10.0, 18: 9.0, 19: 13.0, 20: 8.0, 21: 9.0, 22: 13.0, 23: 3.0, 24: 4.0, 25: 7.0, 26: 6.0, 27: 3.0, 28: 3.0, 29: 3.0, 30: 30.0, 31: 12.0, 32: 8.0, 34: 6.0, 35: 2.0, 36: 3.0, 37: 5.0, 38: 22.0, 39: 13.0, 40: 7.0, 41: 3.0, 42: 4.0, 43: 15.0, 44: 7.0, 45: 3.0, 46: 7.0, 47: 20.0, 48: 5.0, 50: 6.0, 51: 2.0, 54: 1.0, 56: 14.0, 57: 13.0, 58: 2.0, 59: 5.0, 61: 1.0, 62: 4.0, 63: 2.0, 64: 13.0, 65: 10.0, 66: 13.0, 67: 3.0, 68: 1.0, 69: 6.0, 70: 3.0, 71: 2.0, 72: 1.0, 74: 3.0, 75: 2.0, 76: 5.0, 77: 1.0, 78: 1.0, 79: 3.0, 80: 1.0, 81: 9.0, 82: 2.0, 83: 1.0, 84: 4.0, 85: 1.0, 86: 6.0, 89: 1.0, 90: 19.0, 91: 2.0, 92: 3.0, 94: 4.0, 96: 5.0, 97: 1.0, 98: 7.0, 99: 2.0, 100: 1.0, 101: 2.0, 102: 1.0, 104: 5.0, 105: 1.0, 106: 13.0, 107: 1.0, 110: 2.0, 113: 5.0, 114: 2.0, 115: 1.0, 117: 8.0, 118: 2.0, 119: 12.0, 120: 3.0, 121: 2.0, 122: 2.0, 123: 2.0, 126: 15.0, 127: 1.0, 128: 3.0, 129: 4.0, 130: 3.0, 131: 7.0, 132: 7.0, 133: 3.0, 134: 4.0, 135: 1.0, 137: 1.0, 138: 2.0, 139: 5.0, 140: 1.0, 141: 1.0, 143: 2.0, 144: 3.0, 145: 1.0, 148: 4.0, 149: 2.0, 150: 1.0, 151: 3.0, 152: 8.0, 153: 2.0, 155: 2.0, 156: 2.0, 157: 3.0, 161: 2.0, 162: 7.0, 163: 3.0, 164: 1.0, 165: 5.0, 166: 4.0, 167: 3.0, 168: 3.0, 172: 6.0, 175: 8.0, 176: 2.0, 177: 1.0, 178: 4.0, 180: 3.0, 181: 2.0, 182: 4.0, 183: 6.0, 185: 3.0, 186: 4.0, 189: 5.0, 190: 2.0, 192: 3.0, 193: 1.0, 194: 1.0, 195: 1.0, 196: 1.0, 197: 1.0, 198: 8.0, 201: 1.0, 204: 1.0, 207: 1.0, 209: 1.0, 210: 3.0, 211: 2.0, 214: 2.0, 217: 1.0, 218: 4.0, 221: 1.0, 222: 8.0, 223: 1.0, 224: 1.0, 225: 1.0, 227: 3.0, 228: 1.0, 230: 1.0, 232: 1.0, 233: 1.0, 234: 8.0, 238: 2.0, 240: 7.0, 241: 7.0, 242: 2.0, 243: 1.0, 244: 1.0, 245: 1.0, 246: 4.0, 247: 1.0, 248: 2.0, 252: 4.0, 254: 4.0, 256: 5.0, 257: 6.0, 258: 4.0, 259: 1.0, 260: 1.0, 261: 2.0, 262: 3.0, 263: 4.0, 264: 1.0, 265: 2.0, 267: 1.0, 268: 4.0, 269: 1.0, 270: 1.0, 272: 2.0, 273: 1.0, 274: 1.0, 275: 3.0, 276: 1.0, 278: 2.0, 279: 2.0, 284: 1.0, 285: 6.0, 288: 1.0, 289: 2.0, 292: 2.0, 293: 3.0, 298: 6.0, 300: 1.0, 301: 1.0, 306: 1.0, 307: 1.0, 310: 1.0, 311: 3.0, 312: 9.0, 315: 1.0, 319: 1.0, 320: 3.0, 323: 2.0, 324: 5.0, 327: 1.0, 328: 10.0, 329: 1.0, 330: 5.0, 331: 4.0, 333: 1.0, 335: 5.0, 337: 7.0, 339: 1.0, 341: 6.0, 345: 2.0, 346: 4.0, 347: 1.0, 348: 1.0, 349: 2.0, 350: 1.0, 351: 2.0, 352: 1.0, 353: 1.0, 354: 1.0, 356: 2.0, 363: 4.0, 364: 1.0, 365: 3.0, 368: 15.0, 369: 10.0, 371: 8.0, 373: 3.0, 375: 1.0, 376: 3.0, 379: 3.0, 380: 1.0, 381: 7.0, 382: 1.0, 383: 3.0, 388: 2.0, 389: 3.0, 391: 6.0, 392: 1.0, 393: 3.0, 395: 1.0, 398: 2.0, 400: 3.0, 402: 1.0, 403: 12.0, 409: 8.0, 410: 1.0, 414: 3.0, 415: 2.0, 416: 2.0, 417: 1.0, 420: 1.0, 421: 3.0, 423: 1.0, 425: 7.0, 426: 2.0, 429: 1.0, 432: 1.0, 433: 1.0, 434: 1.0, 438: 3.0, 440: 6.0, 443: 2.0, 444: 8.0, 445: 1.0, 449: 4.0, 451: 2.0, 454: 1.0, 458: 2.0, 459: 1.0, 462: 1.0, 463: 1.0, 470: 4.0, 471: 3.0, 476: 13.0, 478: 4.0, 480: 1.0, 481: 6.0, 482: 4.0, 486: 7.0, 488: 1.0, 491: 4.0, 494: 6.0, 497: 1.0, 499: 4.0, 500: 1.0, 502: 3.0, 506: 8.0, 507: 1.0, 508: 2.0, 509: 1.0, 512: 3.0, 513: 2.0, 515: 1.0, 516: 1.0, 518: 1.0, 520: 13.0, 522: 6.0, 525: 1.0, 526: 2.0, 527: 1.0, 528: 7.0, 531: 1.0, 532: 2.0, 536: 1.0, 538: 1.0, 540: 2.0, 546: 2.0, 547: 2.0, 548: 1.0, 551: 1.0, 553: 2.0, 556: 1.0, 558: 1.0, 569: 2.0, 570: 3.0, 571: 3.0, 572: 1.0, 576: 2.0, 579: 1.0, 585: 1.0, 586: 4.0, 587: 3.0, 591: 1.0, 594: 2.0, 595: 1.0, 597: 2.0, 602: 2.0, 603: 3.0, 606: 5.0, 607: 7.0, 610: 1.0, 613: 2.0, 615: 2.0, 616: 2.0, 624: 1.0, 629: 1.0, 633: 2.0, 634: 1.0, 635: 6.0, 637: 1.0, 639: 1.0, 642: 6.0, 644: 1.0, 647: 2.0, 648: 1.0, 649: 1.0, 652: 2.0, 653: 6.0, 654: 3.0, 656: 6.0, 658: 1.0, 664: 1.0, 667: 3.0, 670: 2.0, 671: 1.0, 673: 1.0, 678: 1.0, 685: 1.0, 692: 2.0, 694: 1.0, 695: 3.0, 696: 5.0, 698: 2.0, 706: 3.0, 707: 1.0, 710: 2.0, 715: 2.0, 716: 1.0, 717: 4.0, 718: 1.0, 729: 3.0, 731: 1.0, 732: 1.0, 734: 1.0, 739: 6.0, 740: 2.0, 741: 1.0, 742: 1.0, 743: 2.0, 746: 4.0, 748: 1.0, 750: 1.0, 751: 1.0, 752: 5.0, 754: 3.0, 756: 4.0, 764: 3.0, 767: 3.0, 769: 1.0, 771: 1.0, 772: 1.0, 774: 1.0, 775: 1.0, 776: 1.0, 778: 1.0, 779: 2.0, 780: 1.0, 783: 2.0, 784: 1.0, 787: 1.0, 788: 2.0, 794: 5.0, 806: 1.0, 807: 7.0, 808: 1.0, 811: 1.0, 812: 9.0, 815: 3.0, 816: 1.0, 820: 2.0, 821: 1.0, 824: 1.0, 826: 1.0, 831: 1.0, 832: 2.0, 833: 3.0, 835: 6.0, 839: 2.0, 840: 1.0, 841: 1.0, 846: 1.0, 847: 3.0, 848: 4.0, 854: 2.0, 856: 5.0, 857: 1.0, 859: 1.0, 860: 2.0, 861: 1.0, 862: 1.0, 863: 4.0, 866: 1.0, 874: 1.0, 876: 1.0, 877: 1.0, 883: 1.0, 893: 3.0, 896: 1.0, 899: 1.0, 903: 1.0, 908: 2.0, 912: 3.0, 918: 3.0, 922: 1.0, 923: 1.0, 925: 3.0, 926: 1.0, 927: 2.0, 928: 1.0, 929: 1.0, 934: 2.0, 935: 1.0, 936: 1.0, 940: 1.0, 942: 1.0, 945: 1.0, 950: 2.0, 951: 2.0, 955: 1.0, 958: 3.0, 962: 2.0, 966: 1.0, 967: 1.0, 972: 4.0, 975: 1.0, 977: 4.0, 983: 1.0, 984: 1.0, 986: 1.0, 988: 1.0, 990: 1.0, 992: 3.0, 993: 1.0, 996: 1.0, 997: 1.0, 1001: 9.0, 1004: 3.0, 1006: 3.0, 1009: 3.0, 1010: 1.0, 1012: 2.0, 1016: 1.0, 1019: 2.0, 1020: 3.0, 1021: 1.0, 1023: 1.0, 1024: 1.0, 1026: 1.0, 1030: 3.0, 1036: 3.0, 1037: 2.0, 1039: 3.0, 1040: 4.0, 1041: 1.0, 1042: 4.0, 1043: 1.0, 1047: 1.0, 1048: 1.0, 1049: 2.0, 1051: 1.0, 1054: 1.0, 1056: 1.0, 1057: 3.0, 1061: 1.0, 1064: 1.0, 1065: 5.0, 1066: 2.0, 1069: 3.0, 1070: 1.0, 1077: 1.0, 1079: 1.0, 1080: 3.0, 1081: 3.0, 1087: 2.0, 1089: 2.0, 1092: 3.0, 1098: 1.0, 1100: 1.0, 1101: 4.0, 1106: 4.0, 1107: 1.0, 1108: 2.0, 1109: 2.0, 1112: 4.0, 1113: 2.0, 1116: 2.0, 1118: 1.0, 1120: 1.0, 1121: 1.0, 1131: 4.0, 1132: 1.0, 1135: 1.0, 1136: 1.0, 1141: 2.0, 1142: 2.0, 1145: 4.0, 1146: 1.0, 1149: 1.0, 1155: 2.0, 1165: 1.0, 1167: 4.0, 1169: 3.0, 1173: 1.0, 1181: 8.0, 1183: 1.0, 1184: 1.0, 1189: 2.0, 1190: 1.0, 1191: 1.0, 1195: 2.0, 1196: 1.0, 1207: 1.0, 1212: 2.0, 1215: 2.0, 1219: 1.0, 1220: 7.0, 1221: 1.0, 1227: 2.0, 1228: 2.0, 1230: 2.0, 1234: 1.0, 1235: 1.0, 1238: 2.0, 1239: 1.0, 1248: 1.0, 1253: 1.0, 1260: 1.0, 1262: 1.0, 1263: 1.0, 1267: 1.0, 1269: 1.0, 1270: 1.0, 1271: 1.0, 1272: 2.0, 1273: 1.0, 1276: 1.0, 1287: 3.0, 1291: 1.0, 1292: 1.0, 1299: 1.0, 1307: 1.0, 1313: 1.0, 1315: 1.0, 1316: 1.0, 1317: 1.0, 1318: 3.0, 1319: 1.0, 1320: 2.0, 1326: 1.0, 1330: 1.0, 1333: 5.0, 1334: 1.0, 1338: 4.0, 1342: 2.0, 1343: 1.0, 1345: 3.0, 1346: 1.0, 1347: 1.0, 1352: 1.0, 1355: 1.0, 1358: 2.0, 1361: 1.0, 1367: 2.0, 1375: 3.0, 1376: 1.0, 1379: 2.0, 1380: 1.0, 1381: 1.0, 1390: 1.0, 1409: 2.0, 1410: 2.0, 1411: 2.0, 1414: 1.0, 1418: 1.0, 1421: 1.0, 1422: 1.0, 1425: 1.0, 1428: 2.0, 1435: 1.0, 1436: 1.0, 1439: 1.0, 1444: 2.0, 1445: 1.0, 1450: 1.0, 1453: 2.0, 1456: 1.0, 1464: 2.0, 1466: 3.0, 1473: 1.0, 1479: 1.0, 1480: 1.0, 1484: 3.0, 1487: 1.0, 1495: 2.0, 1504: 1.0, 1505: 2.0, 1513: 1.0, 1518: 1.0, 1524: 1.0, 1526: 2.0, 1533: 1.0, 1534: 1.0, 1536: 2.0, 1539: 1.0, 1560: 1.0, 1563: 1.0, 1566: 3.0, 1569: 1.0, 1571: 2.0, 1580: 1.0, 1581: 1.0, 1584: 1.0, 1587: 1.0, 1588: 2.0, 1589: 1.0, 1591: 2.0, 1595: 1.0, 1598: 1.0, 1602: 1.0, 1611: 1.0, 1612: 1.0, 1616: 3.0, 1617: 1.0, 1621: 1.0, 1622: 1.0, 1624: 2.0, 1627: 1.0, 1631: 2.0, 1635: 1.0, 1637: 3.0, 1638: 1.0, 1639: 1.0, 1640: 1.0, 1641: 1.0, 1643: 4.0, 1646: 1.0, 1649: 5.0, 1650: 1.0, 1654: 3.0, 1656: 3.0, 1659: 3.0, 1670: 1.0, 1675: 2.0, 1688: 3.0, 1694: 3.0, 1698: 1.0, 1701: 3.0, 1703: 1.0, 1715: 2.0, 1716: 1.0, 1724: 3.0, 1726: 3.0, 1731: 1.0, 1732: 2.0, 1733: 1.0, 1734: 1.0, 1737: 3.0, 1738: 1.0, 1743: 1.0, 1747: 1.0, 1751: 3.0, 1752: 1.0, 1755: 1.0, 1759: 1.0, 1767: 1.0, 1769: 1.0, 1772: 2.0, 1788: 1.0, 1791: 3.0, 1795: 1.0, 1797: 1.0, 1800: 1.0, 1801: 3.0, 1803: 3.0, 1806: 2.0, 1809: 1.0, 1812: 1.0, 1815: 1.0, 1816: 1.0, 1818: 3.0, 1830: 1.0, 1831: 1.0, 1836: 1.0, 1837: 1.0, 1847: 2.0, 1848: 1.0, 1849: 2.0, 1857: 2.0, 1866: 2.0, 1868: 1.0, 1874: 1.0, 1881: 1.0, 1883: 1.0, 1884: 1.0, 1887: 1.0, 1888: 1.0, 1893: 1.0, 1898: 1.0, 1900: 3.0, 1902: 1.0, 1904: 4.0, 1905: 1.0, 1910: 2.0, 1913: 1.0, 1915: 1.0, 1918: 1.0, 1921: 1.0, 1927: 1.0, 1932: 1.0, 1943: 2.0, 1949: 1.0, 1953: 1.0, 1955: 1.0, 1956: 1.0, 1959: 1.0, 1962: 1.0, 1967: 1.0, 1969: 1.0, 1971: 1.0, 1983: 1.0, 1985: 1.0, 1988: 1.0, 2004: 2.0, 2006: 1.0, 2007: 3.0, 2009: 1.0, 2010: 1.0, 2011: 1.0, 2015: 1.0, 2017: 1.0, 2024: 1.0, 2026: 6.0, 2045: 1.0, 2048: 1.0, 2051: 1.0, 2060: 1.0, 2070: 3.0, 2081: 2.0, 2082: 1.0, 2083: 1.0, 2091: 1.0, 2093: 1.0, 2098: 3.0, 2100: 1.0, 2117: 2.0, 2123: 1.0, 2124: 2.0, 2125: 1.0, 2130: 1.0, 2138: 1.0, 2139: 3.0, 2140: 2.0, 2141: 1.0, 2144: 2.0, 2156: 1.0, 2163: 1.0, 2167: 1.0, 2170: 1.0, 2174: 1.0, 2182: 1.0, 2183: 1.0, 2193: 1.0, 2201: 2.0, 2209: 2.0, 2219: 1.0, 2220: 2.0, 2228: 2.0, 2236: 1.0, 2240: 1.0, 2245: 1.0, 2250: 1.0, 2261: 1.0, 2276: 1.0, 2282: 1.0, 2283: 1.0, 2285: 1.0, 2289: 2.0, 2292: 2.0, 2299: 3.0, 2304: 1.0, 2311: 1.0, 2314: 2.0, 2318: 1.0, 2330: 1.0, 2336: 2.0, 2339: 1.0, 2342: 1.0, 2351: 1.0, 2364: 2.0, 2373: 5.0, 2377: 1.0, 2380: 1.0, 2381: 1.0, 2382: 2.0, 2386: 3.0, 2390: 2.0, 2394: 1.0, 2401: 1.0, 2407: 1.0, 2410: 1.0, 2412: 1.0, 2414: 1.0, 2415: 1.0, 2428: 2.0, 2440: 2.0, 2445: 1.0, 2448: 1.0, 2449: 2.0, 2452: 2.0, 2454: 2.0, 2456: 2.0, 2458: 1.0, 2461: 1.0, 2469: 2.0, 2476: 2.0, 2478: 2.0, 2480: 2.0, 2486: 1.0, 2490: 3.0, 2492: 1.0, 2498: 3.0, 2500: 1.0, 2511: 1.0, 2514: 1.0, 2526: 1.0, 2528: 1.0, 2531: 2.0, 2539: 1.0, 2548: 1.0, 2552: 1.0, 2553: 5.0, 2568: 2.0, 2570: 4.0, 2572: 1.0, 2573: 1.0, 2583: 2.0, 2586: 1.0, 2589: 1.0, 2590: 3.0, 2591: 1.0, 2592: 1.0, 2600: 2.0, 2602: 1.0, 2606: 1.0, 2607: 2.0, 2609: 1.0, 2612: 1.0, 2614: 2.0, 2622: 1.0, 2631: 1.0, 2632: 1.0, 2635: 1.0, 2640: 1.0, 2646: 2.0, 2647: 1.0, 2650: 1.0, 2655: 1.0, 2657: 1.0, 2662: 1.0, 2663: 2.0, 2666: 1.0, 2670: 2.0, 2671: 2.0, 2676: 1.0, 2698: 1.0, 2700: 1.0, 2702: 1.0, 2712: 1.0, 2719: 1.0, 2724: 1.0, 2727: 1.0, 2739: 1.0, 2744: 1.0, 2745: 1.0, 2753: 1.0, 2758: 1.0, 2781: 1.0, 2795: 1.0, 2801: 1.0, 2809: 1.0, 2830: 1.0, 2837: 4.0, 2841: 1.0, 2844: 1.0, 2858: 3.0, 2859: 1.0, 2862: 2.0, 2864: 1.0, 2869: 1.0, 2895: 2.0, 2903: 1.0, 2911: 4.0, 2916: 2.0, 2932: 1.0, 2936: 1.0, 2948: 1.0, 2952: 1.0, 2958: 1.0, 2968: 1.0, 2972: 1.0, 2974: 1.0, 2986: 1.0, 2995: 1.0, 3007: 1.0, 3011: 2.0, 3018: 1.0, 3024: 2.0, 3027: 1.0, 3035: 1.0, 3038: 1.0, 3046: 1.0, 3053: 1.0, 3054: 2.0, 3059: 1.0, 3074: 2.0, 3085: 2.0, 3095: 1.0, 3096: 1.0, 3104: 2.0, 3105: 1.0, 3110: 1.0, 3116: 1.0, 3117: 2.0, 3127: 1.0, 3128: 1.0, 3130: 1.0, 3142: 1.0, 3148: 1.0, 3160: 1.0, 3181: 1.0, 3199: 1.0, 3203: 1.0, 3220: 1.0, 3228: 2.0, 3235: 1.0, 3240: 1.0, 3244: 1.0, 3245: 2.0, 3257: 1.0, 3260: 2.0, 3272: 1.0, 3275: 1.0, 3277: 3.0, 3286: 2.0, 3295: 1.0, 3298: 1.0, 3301: 1.0, 3316: 1.0, 3320: 1.0, 3339: 1.0, 3341: 1.0, 3344: 2.0, 3359: 2.0, 3362: 5.0, 3363: 1.0, 3369: 1.0, 3370: 2.0, 3373: 1.0, 3374: 1.0, 3377: 1.0, 3384: 1.0, 3403: 1.0, 3407: 1.0, 3410: 1.0, 3411: 2.0, 3412: 1.0, 3415: 1.0, 3426: 1.0, 3435: 1.0, 3442: 2.0, 3444: 1.0, 3464: 1.0, 3466: 2.0, 3474: 1.0, 3476: 1.0, 3480: 1.0, 3483: 1.0, 3484: 1.0, 3496: 1.0, 3507: 2.0, 3522: 1.0, 3528: 1.0, 3535: 1.0, 3536: 1.0, 3538: 1.0, 3539: 1.0, 3549: 1.0, 3558: 2.0, 3563: 1.0, 3566: 1.0, 3567: 1.0, 3576: 1.0, 3582: 2.0, 3586: 1.0, 3588: 1.0, 3589: 1.0, 3605: 1.0, 3608: 1.0, 3622: 1.0, 3623: 1.0, 3625: 1.0, 3627: 1.0, 3635: 1.0, 3636: 1.0, 3645: 1.0, 3649: 1.0, 3657: 1.0, 3687: 1.0, 3695: 1.0, 3697: 1.0, 3698: 1.0, 3702: 1.0, 3723: 1.0, 3731: 1.0, 3739: 1.0, 3754: 1.0, 3755: 1.0, 3757: 3.0, 3759: 1.0, 3761: 1.0, 3793: 2.0, 3799: 1.0, 3803: 1.0, 3815: 1.0, 3822: 2.0, 3823: 1.0, 3842: 2.0, 3851: 1.0, 3853: 1.0, 3864: 1.0, 3871: 1.0, 3875: 1.0, 3887: 2.0, 3893: 1.0, 3904: 1.0, 3907: 1.0, 3921: 1.0, 3937: 2.0, 3944: 3.0, 3950: 1.0, 3956: 1.0, 3961: 1.0, 3982: 1.0, 3991: 1.0, 3997: 1.0, 3998: 1.0, 4020: 1.0, 4038: 4.0, 4047: 1.0, 4048: 9.0, 4059: 2.0, 4067: 1.0, 4068: 2.0, 4075: 1.0, 4119: 2.0, 4133: 1.0, 4139: 1.0, 4194: 2.0, 4205: 1.0, 4208: 1.0, 4209: 1.0, 4211: 3.0, 4219: 1.0, 4224: 1.0, 4231: 1.0, 4239: 2.0, 4241: 1.0, 4248: 1.0, 4250: 1.0, 4256: 1.0, 4262: 1.0, 4265: 4.0, 4288: 1.0, 4293: 2.0, 4295: 1.0, 4303: 2.0, 4328: 1.0, 4334: 1.0, 4335: 1.0, 4353: 1.0, 4354: 1.0, 4360: 1.0, 4365: 1.0, 4378: 1.0, 4421: 2.0, 4431: 1.0, 4438: 1.0, 4444: 1.0, 4460: 1.0, 4471: 1.0, 4472: 1.0, 4473: 1.0, 4491: 1.0, 4518: 1.0, 4522: 1.0, 4524: 1.0, 4529: 1.0, 4531: 1.0, 4533: 1.0, 4534: 1.0, 4549: 1.0, 4568: 1.0, 4571: 1.0, 4573: 1.0, 4575: 1.0, 4584: 1.0, 4585: 1.0, 4588: 1.0, 4592: 2.0, 4612: 7.0, 4618: 1.0, 4627: 1.0, 4654: 1.0, 4664: 1.0, 4668: 1.0, 4684: 1.0, 4685: 2.0, 4688: 1.0, 4695: 1.0, 4706: 1.0, 4708: 1.0, 4712: 1.0, 4714: 1.0, 4720: 1.0, 4732: 1.0, 4736: 1.0, 4737: 1.0, 4740: 1.0, 4743: 11.0, 4744: 1.0, 4747: 1.0, 4776: 1.0, 4796: 18.0, 4804: 1.0, 4808: 1.0, 4809: 1.0, 4811: 1.0, 4813: 4.0, 4822: 2.0, 4823: 1.0, 4825: 1.0, 4828: 1.0, 4835: 1.0, 4844: 1.0, 4845: 1.0, 4849: 1.0, 4854: 1.0, 4860: 1.0, 4865: 1.0, 4871: 1.0, 4873: 1.0, 4874: 1.0, 4875: 1.0, 4886: 1.0, 4891: 2.0, 4892: 1.0, 4896: 1.0, 4911: 1.0, 4912: 1.0, 4920: 1.0, 4944: 1.0, 4956: 1.0, 4988: 1.0, 4990: 1.0, 4993: 1.0, 4995: 1.0, 4999: 1.0, 5003: 1.0, 5009: 1.0, 5019: 1.0, 5022: 2.0, 5040: 1.0, 5051: 3.0, 5057: 2.0, 5082: 6.0, 5107: 1.0, 5127: 1.0, 5146: 1.0, 5155: 1.0, 5173: 1.0, 5178: 1.0, 5188: 10.0, 5194: 2.0, 5197: 1.0, 5201: 1.0, 5210: 1.0, 5229: 2.0, 5249: 1.0, 5273: 1.0, 5279: 1.0, 5288: 2.0, 5299: 1.0, 5302: 2.0, 5306: 1.0, 5311: 1.0, 5316: 1.0, 5318: 2.0, 5331: 1.0, 5334: 1.0, 5342: 1.0, 5343: 1.0, 5347: 2.0, 5348: 1.0, 5357: 1.0, 5366: 1.0, 5380: 1.0, 5409: 4.0, 5430: 1.0, 5433: 1.0, 5447: 1.0, 5449: 1.0, 5490: 1.0, 5525: 1.0, 5546: 1.0, 5554: 1.0, 5560: 1.0, 5562: 3.0, 5606: 1.0, 5629: 3.0, 5639: 1.0, 5646: 1.0, 5662: 1.0, 5706: 1.0, 5727: 1.0, 5736: 1.0, 5742: 1.0, 5773: 1.0, 5829: 1.0, 5837: 1.0, 5841: 2.0, 5887: 3.0, 5889: 1.0, 5934: 1.0, 5936: 1.0, 5950: 1.0, 5961: 1.0, 5972: 1.0, 5986: 1.0, 5989: 1.0, 6003: 1.0, 6009: 1.0, 6011: 1.0, 6014: 1.0, 6018: 1.0, 6019: 3.0, 6037: 1.0, 6046: 1.0, 6048: 1.0, 6058: 1.0, 6073: 1.0, 6084: 1.0, 6110: 1.0, 6124: 1.0, 6127: 1.0, 6142: 2.0, 6143: 1.0, 6155: 1.0, 6206: 1.0, 6209: 1.0, 6231: 1.0, 6293: 1.0, 6295: 1.0, 6298: 1.0, 6299: 1.0, 6306: 2.0, 6324: 1.0, 6335: 1.0, 6342: 1.0, 6363: 1.0, 6393: 1.0, 6409: 1.0, 6413: 2.0, 6418: 1.0, 6443: 2.0, 6453: 1.0, 6504: 1.0, 6517: 1.0, 6519: 1.0, 6523: 1.0, 6569: 1.0, 6578: 1.0, 6579: 1.0, 6591: 1.0, 6623: 1.0, 6643: 1.0, 6646: 1.0, 6654: 1.0, 6655: 1.0, 6676: 1.0, 6677: 2.0, 6690: 1.0, 6698: 1.0, 6719: 2.0, 6726: 1.0, 6752: 1.0, 6755: 1.0, 6759: 1.0, 6780: 4.0, 6794: 2.0, 6814: 1.0, 6815: 1.0, 6881: 1.0, 6949: 1.0, 6964: 1.0, 6969: 1.0, 6973: 2.0, 6980: 1.0, 7051: 1.0, 7053: 1.0, 7065: 1.0, 7074: 2.0, 7076: 1.0, 7082: 1.0, 7090: 1.0, 7093: 6.0, 7097: 1.0, 7108: 1.0, 7132: 1.0, 7144: 2.0, 7152: 1.0, 7160: 1.0, 7188: 1.0, 7194: 1.0, 7213: 1.0, 7279: 1.0, 7285: 2.0, 7290: 1.0, 7341: 1.0, 7348: 1.0, 7366: 1.0, 7370: 2.0, 7371: 1.0, 7389: 1.0, 7408: 2.0, 7448: 1.0, 7449: 1.0, 7453: 1.0, 7456: 1.0, 7461: 1.0, 7585: 1.0, 7626: 1.0, 7629: 1.0, 7647: 1.0, 7694: 2.0, 7727: 1.0, 7743: 1.0, 7749: 1.0, 7760: 1.0, 7779: 1.0, 7812: 1.0, 7817: 1.0, 7853: 1.0, 7881: 1.0, 7897: 1.0, 7901: 1.0, 7916: 1.0, 7934: 1.0, 7952: 1.0, 7985: 1.0, 7987: 2.0, 8027: 1.0, 8039: 1.0, 8046: 1.0, 8066: 1.0, 8071: 1.0, 8083: 1.0, 8097: 1.0, 8178: 1.0, 8187: 1.0, 8253: 1.0, 8300: 1.0, 8305: 1.0, 8307: 2.0, 8314: 1.0, 8329: 1.0, 8332: 1.0, 8342: 1.0, 8357: 1.0, 8362: 1.0, 8366: 1.0, 8383: 1.0, 8390: 1.0, 8435: 2.0, 8455: 1.0, 8473: 1.0, 8481: 2.0, 8531: 1.0, 8537: 1.0, 8563: 1.0, 8575: 1.0, 8579: 1.0, 8583: 1.0, 8603: 1.0, 8640: 1.0, 8643: 1.0, 8665: 1.0, 8701: 1.0, 8740: 1.0, 8748: 1.0, 8750: 1.0, 8789: 1.0, 8796: 1.0, 8863: 2.0, 8888: 1.0, 8910: 1.0, 8950: 1.0, 8954: 1.0, 8965: 1.0, 9001: 1.0, 9003: 1.0, 9010: 1.0, 9054: 1.0, 9069: 4.0, 9113: 1.0, 9119: 1.0, 9155: 1.0, 9175: 1.0, 9187: 1.0, 9206: 1.0, 9267: 1.0, 9344: 2.0, 9345: 1.0, 9350: 1.0, 9355: 1.0, 9391: 2.0, 9394: 1.0, 9401: 1.0, 9432: 1.0, 9467: 1.0, 9480: 1.0, 9498: 1.0, 9524: 1.0, 9563: 1.0, 9597: 1.0, 9635: 1.0, 9671: 1.0, 9676: 1.0, 9678: 1.0, 9696: 1.0, 9709: 2.0, 9722: 1.0, 9725: 1.0, 9732: 1.0, 9755: 1.0, 9779: 1.0, 9784: 1.0, 9805: 1.0, 9810: 1.0, 9855: 1.0, 9860: 1.0, 9862: 1.0, 9881: 1.0, 9895: 1.0, 9934: 1.0, 9951: 1.0, 9962: 1.0, 9964: 1.0, 9976: 1.0, 9992: 1.0, 9995: 1.0, 10123: 2.0, 10125: 1.0, 10152: 1.0, 10198: 1.0, 10211: 1.0, 10255: 1.0, 10298: 1.0, 10311: 1.0, 10446: 1.0, 10466: 1.0, 10574: 1.0, 10575: 7.0, 10578: 2.0, 10594: 4.0, 10595: 1.0, 10667: 1.0, 10750: 3.0, 10812: 1.0, 10836: 1.0, 10901: 1.0, 10918: 1.0, 10924: 1.0, 10954: 1.0, 10988: 2.0, 10996: 2.0, 11055: 1.0, 11069: 1.0, 11167: 2.0, 11250: 1.0, 11293: 1.0, 11359: 1.0, 11376: 1.0, 11432: 2.0, 11433: 1.0, 11465: 1.0, 11487: 1.0, 11568: 1.0, 11579: 1.0, 11589: 1.0, 11591: 1.0, 11660: 1.0, 11711: 1.0, 11784: 1.0, 11841: 1.0, 11845: 1.0, 11928: 1.0, 11932: 1.0, 11941: 1.0, 11964: 1.0, 11976: 1.0, 12012: 1.0, 12028: 1.0, 12030: 1.0, 12048: 1.0, 12062: 1.0, 12080: 1.0, 12094: 2.0, 12106: 1.0, 12216: 1.0, 12225: 1.0, 12261: 1.0, 12465: 3.0, 12528: 1.0, 12583: 1.0, 12597: 1.0, 12640: 2.0, 12678: 1.0, 12704: 1.0, 12751: 1.0, 12800: 1.0, 12808: 1.0, 12840: 1.0, 12875: 1.0, 12896: 1.0, 12962: 1.0, 13008: 1.0, 13011: 2.0, 13055: 2.0, 13105: 1.0, 13148: 1.0, 13206: 1.0, 13321: 1.0, 13355: 1.0, 13368: 1.0, 13383: 1.0, 13447: 1.0, 13464: 1.0, 13526: 1.0, 13558: 14.0, 13559: 1.0, 13597: 1.0, 13617: 1.0, 13642: 1.0, 13762: 1.0, 13768: 1.0, 13786: 1.0, 13807: 1.0, 13812: 1.0, 13832: 2.0, 13961: 1.0, 14010: 1.0, 14043: 1.0, 14058: 1.0, 14079: 1.0, 14130: 1.0, 14134: 1.0, 14183: 1.0, 14228: 1.0, 14246: 1.0, 14310: 1.0, 14444: 1.0, 14522: 1.0, 14808: 2.0, 14884: 1.0, 14898: 1.0, 14904: 1.0, 14907: 1.0, 14908: 4.0, 15103: 1.0, 15146: 1.0, 15191: 1.0, 15202: 1.0, 15216: 2.0, 15256: 1.0, 15317: 1.0, 15353: 1.0, 15409: 1.0, 15435: 2.0, 15799: 1.0, 15873: 1.0, 15901: 1.0, 15977: 1.0, 16012: 2.0, 16131: 1.0, 16190: 1.0, 16201: 1.0, 16238: 1.0, 16263: 1.0, 16336: 1.0, 16383: 1.0, 16420: 1.0, 16449: 2.0, 16485: 1.0, 16514: 1.0, 16525: 1.0, 16553: 1.0, 16727: 1.0, 16776: 1.0, 16807: 1.0, 16931: 1.0, 17043: 1.0, 17083: 1.0, 17097: 1.0, 17102: 1.0, 17189: 1.0, 17224: 2.0, 17239: 1.0, 17301: 2.0, 17318: 1.0, 17335: 1.0, 17397: 1.0, 17451: 1.0, 17484: 1.0, 17532: 1.0, 17534: 1.0, 17597: 1.0, 17608: 1.0, 17770: 1.0, 17906: 1.0, 17913: 1.0, 18048: 1.0, 18081: 1.0, 18190: 3.0, 18192: 1.0, 18225: 1.0, 18231: 1.0, 18239: 1.0, 18266: 5.0, 18271: 1.0, 18443: 2.0, 18594: 1.0, 18735: 1.0, 18807: 1.0, 18835: 2.0, 18861: 1.0, 18866: 6.0, 18874: 1.0, 18915: 1.0, 18940: 2.0, 18945: 3.0, 18984: 1.0, 18996: 1.0, 19020: 1.0, 19067: 1.0, 19079: 4.0, 19145: 1.0, 19219: 2.0, 19225: 2.0, 19264: 1.0, 19500: 1.0, 19689: 1.0, 19734: 1.0, 19790: 2.0, 19890: 1.0, 19911: 1.0, 19963: 1.0, 20031: 1.0, 20173: 1.0, 20245: 1.0, 20247: 1.0, 20279: 1.0, 20417: 1.0, 20439: 1.0, 20479: 1.0, 20499: 1.0, 20609: 1.0, 20621: 1.0, 20654: 1.0, 20938: 1.0, 20982: 1.0, 21100: 1.0, 21159: 1.0, 21368: 1.0, 21402: 1.0, 21599: 1.0, 21728: 1.0, 21774: 1.0, 21857: 2.0, 21884: 1.0, 22001: 1.0, 22023: 1.0, 22098: 1.0, 22133: 1.0, 22352: 1.0, 22422: 1.0, 22447: 1.0, 22578: 1.0, 22579: 1.0, 22707: 1.0, 22718: 1.0, 22829: 1.0, 22967: 1.0, 23055: 1.0, 23143: 1.0, 23264: 1.0, 23902: 1.0, 23944: 3.0, 24039: 1.0, 24130: 1.0, 24267: 1.0, 24463: 1.0, 24471: 1.0, 24578: 1.0, 24675: 1.0, 24703: 1.0, 24768: 1.0, 24778: 1.0, 24806: 1.0, 24812: 1.0, 24837: 1.0, 24863: 1.0, 24879: 1.0, 24924: 1.0, 24979: 1.0, 25027: 1.0, 25216: 1.0, 25266: 1.0, 25416: 1.0, 25589: 1.0, 25650: 1.0, 25653: 1.0, 25696: 1.0, 26027: 1.0, 26169: 1.0, 26444: 1.0, 26565: 1.0, 26659: 1.0, 26674: 1.0, 26729: 1.0, 26913: 1.0, 26937: 1.0, 27304: 1.0, 27330: 1.0, 27499: 1.0, 27600: 1.0, 27810: 1.0, 27824: 1.0, 28036: 1.0, 28167: 2.0, 28293: 1.0, 28367: 1.0, 28507: 1.0, 28771: 1.0, 28805: 1.0, 29157: 1.0, 29206: 1.0, 29257: 1.0, 29308: 1.0, 29438: 1.0, 29443: 1.0, 29447: 1.0, 29525: 1.0, 29597: 1.0, 29662: 1.0, 29772: 1.0, 29835: 1.0, 29940: 2.0, 29977: 2.0, 30398: 1.0, 30399: 1.0, 30482: 1.0, 30716: 1.0, 31245: 1.0, 31383: 1.0, 31453: 1.0, 31510: 1.0, 31912: 1.0, 31945: 2.0, 31985: 1.0, 32081: 1.0, 32192: 1.0, 32196: 1.0, 32415: 1.0, 32433: 1.0, 32741: 1.0, 33104: 2.0, 33211: 1.0, 33227: 1.0, 33273: 1.0, 33330: 2.0, 33362: 1.0, 33447: 1.0, 33785: 1.0, 34024: 1.0, 34905: 1.0, 34912: 1.0, 35424: 3.0, 36038: 1.0, 36191: 1.0, 36280: 1.0, 36305: 1.0, 36617: 1.0, 36768: 1.0, 37236: 1.0, 37245: 1.0, 37714: 1.0, 37737: 1.0, 37873: 1.0, 37984: 1.0, 38120: 1.0, 38175: 1.0, 38648: 1.0, 38812: 1.0, 39187: 4.0, 39643: 2.0, 39782: 1.0, 39846: 1.0, 40048: 1.0, 40375: 1.0, 40707: 1.0, 40829: 1.0, 41110: 1.0, 41368: 1.0, 41495: 1.0, 41713: 1.0, 41744: 1.0, 42524: 1.0, 42596: 1.0, 43320: 1.0, 44317: 1.0, 44897: 1.0, 45560: 1.0, 46353: 1.0, 46787: 1.0, 47104: 1.0, 47382: 1.0, 48272: 3.0, 49137: 1.0, 49274: 1.0, 49613: 1.0, 50058: 1.0, 52005: 1.0, 53286: 1.0, 53331: 1.0, 53337: 1.0, 55465: 1.0, 55980: 1.0, 56238: 2.0, 56604: 1.0, 57172: 1.0, 57346: 1.0, 59155: 6.0, 59395: 1.0, 60099: 1.0, 62241: 1.0, 63999: 1.0, 64029: 1.0, 64370: 12.0, 64649: 1.0, 65005: 1.0, 65144: 1.0, 65397: 1.0, 67439: 1.0, 70189: 1.0, 71556: 2.0, 74004: 1.0, 75785: 1.0, 77246: 1.0, 81273: 1.0, 83332: 1.0, 90216: 1.0, 91365: 1.0, 93172: 2.0, 98915: 1.0})),\n",
       " ('24966',\n",
       "  SparseVector(100000, {0: 3.0, 1: 3.0, 2: 3.0, 3: 5.0, 4: 11.0, 5: 2.0, 7: 32.0, 9: 2.0, 12: 2.0, 14: 2.0, 15: 6.0, 16: 3.0, 17: 5.0, 19: 2.0, 20: 6.0, 22: 2.0, 23: 1.0, 24: 5.0, 25: 8.0, 26: 7.0, 27: 3.0, 28: 3.0, 29: 1.0, 30: 10.0, 31: 2.0, 32: 1.0, 34: 6.0, 35: 1.0, 37: 1.0, 38: 22.0, 39: 3.0, 40: 6.0, 41: 2.0, 42: 2.0, 45: 6.0, 48: 4.0, 50: 1.0, 54: 4.0, 56: 9.0, 57: 6.0, 58: 5.0, 59: 2.0, 62: 3.0, 63: 8.0, 64: 2.0, 65: 8.0, 69: 1.0, 70: 2.0, 73: 1.0, 74: 1.0, 76: 1.0, 80: 1.0, 81: 4.0, 84: 4.0, 85: 1.0, 86: 5.0, 89: 1.0, 90: 19.0, 91: 2.0, 96: 4.0, 99: 5.0, 100: 2.0, 101: 1.0, 102: 2.0, 103: 1.0, 105: 7.0, 108: 1.0, 110: 2.0, 111: 4.0, 113: 1.0, 114: 1.0, 115: 8.0, 117: 8.0, 119: 3.0, 120: 2.0, 121: 1.0, 122: 1.0, 127: 4.0, 130: 3.0, 133: 4.0, 134: 7.0, 137: 1.0, 140: 2.0, 141: 4.0, 143: 1.0, 144: 1.0, 145: 1.0, 148: 2.0, 149: 1.0, 150: 1.0, 152: 8.0, 155: 4.0, 159: 1.0, 162: 1.0, 165: 5.0, 166: 2.0, 167: 3.0, 168: 1.0, 171: 2.0, 175: 8.0, 177: 2.0, 178: 4.0, 181: 2.0, 182: 1.0, 183: 5.0, 185: 3.0, 189: 1.0, 192: 2.0, 193: 1.0, 195: 1.0, 196: 2.0, 203: 1.0, 206: 1.0, 207: 2.0, 210: 4.0, 211: 1.0, 214: 3.0, 219: 1.0, 220: 2.0, 223: 2.0, 226: 1.0, 227: 1.0, 232: 1.0, 234: 8.0, 236: 1.0, 238: 5.0, 240: 7.0, 242: 4.0, 244: 1.0, 245: 2.0, 246: 2.0, 247: 1.0, 248: 1.0, 254: 2.0, 256: 3.0, 259: 3.0, 260: 2.0, 262: 4.0, 265: 1.0, 270: 1.0, 284: 1.0, 285: 6.0, 289: 2.0, 292: 4.0, 293: 3.0, 296: 1.0, 298: 7.0, 302: 1.0, 305: 1.0, 314: 1.0, 315: 1.0, 318: 1.0, 322: 3.0, 323: 2.0, 324: 1.0, 325: 1.0, 328: 10.0, 331: 2.0, 332: 2.0, 333: 2.0, 337: 7.0, 338: 1.0, 341: 1.0, 343: 1.0, 344: 1.0, 345: 3.0, 346: 3.0, 349: 1.0, 352: 1.0, 356: 1.0, 362: 1.0, 364: 2.0, 365: 3.0, 369: 10.0, 371: 8.0, 372: 2.0, 373: 3.0, 377: 1.0, 380: 1.0, 382: 1.0, 383: 1.0, 385: 1.0, 389: 1.0, 391: 6.0, 392: 1.0, 393: 3.0, 395: 1.0, 397: 4.0, 398: 6.0, 407: 2.0, 410: 1.0, 420: 1.0, 425: 7.0, 426: 1.0, 432: 1.0, 434: 1.0, 438: 7.0, 440: 1.0, 443: 2.0, 449: 7.0, 450: 3.0, 454: 4.0, 455: 1.0, 456: 1.0, 460: 9.0, 463: 4.0, 464: 2.0, 466: 1.0, 470: 1.0, 471: 3.0, 473: 1.0, 481: 6.0, 482: 4.0, 486: 7.0, 488: 1.0, 491: 2.0, 494: 6.0, 496: 1.0, 497: 1.0, 499: 3.0, 502: 3.0, 506: 8.0, 507: 1.0, 509: 2.0, 515: 1.0, 517: 1.0, 518: 1.0, 527: 2.0, 528: 7.0, 529: 1.0, 532: 2.0, 542: 3.0, 545: 1.0, 550: 3.0, 551: 1.0, 553: 2.0, 556: 3.0, 561: 1.0, 565: 1.0, 568: 1.0, 570: 3.0, 571: 1.0, 572: 2.0, 576: 2.0, 578: 2.0, 580: 1.0, 582: 2.0, 586: 2.0, 595: 1.0, 598: 1.0, 602: 2.0, 607: 1.0, 610: 1.0, 615: 1.0, 616: 2.0, 623: 1.0, 626: 1.0, 635: 6.0, 636: 1.0, 638: 1.0, 639: 2.0, 644: 2.0, 646: 11.0, 647: 1.0, 650: 1.0, 652: 2.0, 653: 6.0, 654: 3.0, 656: 6.0, 660: 1.0, 664: 1.0, 671: 2.0, 678: 1.0, 682: 1.0, 688: 1.0, 691: 3.0, 692: 2.0, 696: 5.0, 697: 1.0, 700: 2.0, 706: 3.0, 707: 1.0, 710: 2.0, 713: 3.0, 715: 2.0, 716: 1.0, 727: 1.0, 729: 3.0, 731: 1.0, 732: 1.0, 734: 1.0, 735: 1.0, 736: 1.0, 739: 6.0, 740: 1.0, 742: 1.0, 743: 2.0, 746: 4.0, 752: 5.0, 754: 3.0, 756: 4.0, 763: 1.0, 764: 3.0, 767: 3.0, 769: 1.0, 770: 1.0, 771: 2.0, 772: 5.0, 775: 2.0, 776: 1.0, 778: 2.0, 780: 1.0, 783: 2.0, 787: 1.0, 788: 2.0, 806: 1.0, 808: 1.0, 811: 1.0, 815: 3.0, 818: 1.0, 820: 2.0, 822: 1.0, 826: 5.0, 832: 1.0, 833: 3.0, 840: 2.0, 841: 1.0, 846: 1.0, 847: 1.0, 848: 4.0, 852: 3.0, 853: 1.0, 854: 1.0, 856: 5.0, 861: 1.0, 866: 1.0, 868: 3.0, 876: 3.0, 877: 1.0, 879: 1.0, 882: 1.0, 885: 4.0, 887: 2.0, 890: 6.0, 891: 1.0, 893: 3.0, 894: 1.0, 899: 4.0, 904: 1.0, 908: 1.0, 912: 1.0, 914: 1.0, 918: 1.0, 923: 1.0, 924: 1.0, 925: 4.0, 928: 1.0, 935: 1.0, 940: 1.0, 945: 1.0, 950: 2.0, 951: 1.0, 952: 1.0, 953: 1.0, 957: 1.0, 958: 3.0, 962: 2.0, 966: 1.0, 970: 2.0, 972: 1.0, 974: 1.0, 975: 1.0, 981: 1.0, 983: 1.0, 986: 1.0, 987: 4.0, 988: 1.0, 990: 2.0, 994: 1.0, 1006: 3.0, 1011: 1.0, 1019: 1.0, 1026: 1.0, 1035: 2.0, 1037: 2.0, 1039: 1.0, 1040: 5.0, 1041: 1.0, 1042: 4.0, 1043: 1.0, 1047: 1.0, 1050: 1.0, 1051: 1.0, 1054: 1.0, 1057: 2.0, 1064: 2.0, 1066: 2.0, 1068: 1.0, 1070: 1.0, 1080: 1.0, 1084: 3.0, 1092: 3.0, 1093: 1.0, 1098: 1.0, 1101: 4.0, 1107: 1.0, 1108: 3.0, 1109: 2.0, 1110: 5.0, 1112: 4.0, 1116: 2.0, 1117: 1.0, 1118: 1.0, 1120: 1.0, 1136: 1.0, 1141: 2.0, 1149: 1.0, 1152: 1.0, 1155: 2.0, 1166: 2.0, 1167: 4.0, 1169: 3.0, 1173: 1.0, 1184: 1.0, 1187: 1.0, 1196: 1.0, 1206: 1.0, 1215: 2.0, 1218: 1.0, 1230: 2.0, 1233: 1.0, 1234: 1.0, 1235: 1.0, 1238: 2.0, 1263: 1.0, 1267: 2.0, 1270: 1.0, 1271: 4.0, 1272: 2.0, 1274: 1.0, 1281: 1.0, 1291: 1.0, 1292: 1.0, 1293: 1.0, 1299: 1.0, 1304: 1.0, 1313: 2.0, 1315: 1.0, 1316: 1.0, 1317: 1.0, 1318: 1.0, 1326: 1.0, 1333: 1.0, 1334: 1.0, 1338: 4.0, 1342: 2.0, 1343: 1.0, 1351: 2.0, 1357: 1.0, 1358: 2.0, 1367: 2.0, 1373: 1.0, 1376: 1.0, 1379: 1.0, 1390: 1.0, 1392: 3.0, 1400: 2.0, 1408: 1.0, 1409: 1.0, 1410: 2.0, 1411: 3.0, 1417: 5.0, 1428: 2.0, 1439: 1.0, 1440: 1.0, 1444: 2.0, 1445: 1.0, 1450: 1.0, 1473: 1.0, 1480: 2.0, 1486: 1.0, 1489: 2.0, 1494: 1.0, 1504: 1.0, 1505: 2.0, 1512: 3.0, 1518: 4.0, 1522: 1.0, 1524: 1.0, 1530: 1.0, 1533: 1.0, 1534: 1.0, 1536: 2.0, 1550: 1.0, 1555: 1.0, 1569: 1.0, 1571: 1.0, 1577: 3.0, 1579: 1.0, 1580: 1.0, 1581: 1.0, 1588: 2.0, 1591: 2.0, 1592: 1.0, 1598: 1.0, 1602: 1.0, 1607: 1.0, 1611: 1.0, 1612: 2.0, 1627: 2.0, 1630: 1.0, 1632: 1.0, 1637: 3.0, 1638: 1.0, 1640: 1.0, 1645: 1.0, 1653: 1.0, 1656: 3.0, 1658: 1.0, 1659: 1.0, 1675: 2.0, 1685: 1.0, 1688: 2.0, 1690: 1.0, 1694: 3.0, 1696: 1.0, 1698: 1.0, 1700: 1.0, 1701: 3.0, 1713: 1.0, 1716: 2.0, 1722: 4.0, 1724: 3.0, 1731: 1.0, 1736: 2.0, 1746: 1.0, 1755: 1.0, 1767: 1.0, 1777: 1.0, 1778: 1.0, 1788: 1.0, 1791: 3.0, 1795: 2.0, 1797: 1.0, 1803: 3.0, 1815: 1.0, 1816: 2.0, 1818: 3.0, 1819: 1.0, 1826: 1.0, 1837: 2.0, 1847: 2.0, 1848: 1.0, 1849: 2.0, 1857: 2.0, 1862: 1.0, 1866: 2.0, 1871: 1.0, 1874: 1.0, 1884: 1.0, 1885: 6.0, 1886: 1.0, 1900: 2.0, 1909: 4.0, 1910: 2.0, 1915: 1.0, 1918: 1.0, 1921: 1.0, 1924: 1.0, 1931: 1.0, 1932: 1.0, 1949: 1.0, 1953: 1.0, 1955: 1.0, 1966: 1.0, 1983: 1.0, 1985: 1.0, 1991: 1.0, 1993: 1.0, 2004: 1.0, 2005: 1.0, 2010: 1.0, 2015: 1.0, 2019: 1.0, 2022: 1.0, 2024: 1.0, 2048: 1.0, 2063: 1.0, 2081: 1.0, 2082: 1.0, 2083: 1.0, 2091: 1.0, 2093: 1.0, 2094: 1.0, 2109: 1.0, 2112: 1.0, 2116: 1.0, 2117: 2.0, 2119: 2.0, 2123: 1.0, 2124: 2.0, 2128: 1.0, 2130: 2.0, 2134: 1.0, 2138: 4.0, 2165: 1.0, 2182: 1.0, 2183: 1.0, 2194: 1.0, 2209: 2.0, 2215: 1.0, 2220: 2.0, 2224: 7.0, 2227: 1.0, 2229: 1.0, 2240: 1.0, 2244: 1.0, 2253: 1.0, 2267: 1.0, 2268: 2.0, 2278: 1.0, 2282: 1.0, 2285: 1.0, 2311: 1.0, 2330: 1.0, 2338: 1.0, 2351: 2.0, 2360: 1.0, 2364: 2.0, 2372: 4.0, 2378: 1.0, 2382: 2.0, 2386: 1.0, 2387: 1.0, 2390: 2.0, 2394: 1.0, 2413: 1.0, 2423: 1.0, 2428: 2.0, 2436: 1.0, 2445: 1.0, 2449: 2.0, 2454: 2.0, 2456: 2.0, 2461: 1.0, 2463: 1.0, 2468: 2.0, 2476: 1.0, 2478: 2.0, 2480: 2.0, 2481: 1.0, 2487: 1.0, 2490: 1.0, 2500: 1.0, 2506: 1.0, 2514: 1.0, 2519: 1.0, 2528: 1.0, 2529: 2.0, 2531: 2.0, 2543: 1.0, 2548: 1.0, 2550: 1.0, 2564: 1.0, 2567: 1.0, 2568: 2.0, 2573: 1.0, 2583: 2.0, 2586: 1.0, 2591: 1.0, 2592: 1.0, 2593: 1.0, 2600: 2.0, 2610: 2.0, 2614: 2.0, 2622: 1.0, 2631: 1.0, 2635: 1.0, 2640: 1.0, 2648: 1.0, 2655: 1.0, 2662: 1.0, 2666: 1.0, 2670: 2.0, 2671: 6.0, 2690: 1.0, 2698: 1.0, 2702: 1.0, 2716: 1.0, 2724: 1.0, 2727: 1.0, 2745: 1.0, 2749: 1.0, 2758: 1.0, 2767: 1.0, 2773: 1.0, 2781: 1.0, 2787: 1.0, 2789: 1.0, 2795: 1.0, 2797: 1.0, 2810: 1.0, 2844: 1.0, 2849: 1.0, 2859: 1.0, 2869: 4.0, 2913: 1.0, 2914: 3.0, 2923: 1.0, 2934: 1.0, 2948: 1.0, 2949: 1.0, 2958: 1.0, 2970: 1.0, 2974: 1.0, 3025: 1.0, 3027: 1.0, 3040: 1.0, 3055: 1.0, 3063: 1.0, 3081: 1.0, 3096: 1.0, 3105: 1.0, 3106: 2.0, 3112: 1.0, 3115: 1.0, 3117: 1.0, 3126: 1.0, 3127: 1.0, 3132: 1.0, 3145: 1.0, 3148: 1.0, 3156: 3.0, 3176: 1.0, 3194: 1.0, 3199: 1.0, 3218: 1.0, 3220: 1.0, 3224: 1.0, 3235: 1.0, 3243: 1.0, 3260: 1.0, 3275: 1.0, 3276: 1.0, 3305: 1.0, 3316: 1.0, 3320: 1.0, 3339: 1.0, 3341: 1.0, 3351: 1.0, 3369: 1.0, 3374: 1.0, 3384: 1.0, 3407: 1.0, 3412: 1.0, 3437: 2.0, 3444: 2.0, 3448: 1.0, 3449: 4.0, 3468: 1.0, 3476: 1.0, 3480: 1.0, 3489: 2.0, 3504: 1.0, 3533: 1.0, 3535: 1.0, 3538: 1.0, 3545: 1.0, 3549: 1.0, 3557: 1.0, 3566: 1.0, 3567: 1.0, 3576: 1.0, 3586: 1.0, 3602: 1.0, 3605: 1.0, 3608: 1.0, 3625: 1.0, 3628: 1.0, 3657: 1.0, 3665: 2.0, 3681: 1.0, 3693: 2.0, 3697: 1.0, 3701: 1.0, 3702: 1.0, 3710: 1.0, 3723: 1.0, 3731: 1.0, 3741: 1.0, 3743: 2.0, 3759: 1.0, 3761: 1.0, 3797: 1.0, 3799: 1.0, 3815: 1.0, 3823: 1.0, 3828: 3.0, 3853: 1.0, 3862: 1.0, 3875: 1.0, 3881: 1.0, 3900: 1.0, 3904: 1.0, 3923: 1.0, 3944: 1.0, 3948: 1.0, 3950: 1.0, 3960: 1.0, 3974: 1.0, 4010: 1.0, 4074: 1.0, 4075: 1.0, 4093: 2.0, 4103: 1.0, 4127: 1.0, 4133: 1.0, 4140: 1.0, 4173: 1.0, 4197: 1.0, 4205: 1.0, 4239: 2.0, 4248: 1.0, 4252: 1.0, 4262: 1.0, 4288: 1.0, 4303: 1.0, 4334: 1.0, 4335: 1.0, 4344: 3.0, 4349: 2.0, 4372: 1.0, 4381: 1.0, 4400: 1.0, 4403: 1.0, 4420: 1.0, 4421: 1.0, 4431: 1.0, 4446: 2.0, 4460: 1.0, 4471: 1.0, 4472: 1.0, 4522: 1.0, 4524: 1.0, 4531: 1.0, 4533: 1.0, 4534: 1.0, 4545: 1.0, 4549: 1.0, 4552: 1.0, 4573: 1.0, 4585: 1.0, 4588: 1.0, 4613: 1.0, 4618: 1.0, 4627: 1.0, 4643: 1.0, 4706: 1.0, 4708: 1.0, 4737: 1.0, 4740: 1.0, 4744: 1.0, 4747: 1.0, 4791: 1.0, 4807: 1.0, 4811: 1.0, 4823: 1.0, 4828: 1.0, 4835: 1.0, 4837: 1.0, 4844: 1.0, 4845: 1.0, 4849: 1.0, 4853: 1.0, 4865: 1.0, 4874: 1.0, 4875: 1.0, 4886: 1.0, 4892: 1.0, 4896: 1.0, 4911: 1.0, 4956: 1.0, 4959: 1.0, 4960: 1.0, 4963: 3.0, 4988: 1.0, 5009: 1.0, 5032: 1.0, 5040: 1.0, 5045: 1.0, 5049: 1.0, 5054: 3.0, 5122: 3.0, 5150: 2.0, 5157: 3.0, 5175: 2.0, 5182: 1.0, 5226: 1.0, 5231: 1.0, 5246: 2.0, 5252: 1.0, 5353: 1.0, 5385: 1.0, 5391: 1.0, 5416: 1.0, 5434: 1.0, 5435: 2.0, 5482: 1.0, 5502: 2.0, 5641: 1.0, 5664: 1.0, 5666: 1.0, 5711: 2.0, 5755: 1.0, 5768: 2.0, 5771: 1.0, 5802: 1.0, 5805: 4.0, 5832: 1.0, 5838: 1.0, 5843: 16.0, 5858: 1.0, 5874: 1.0, 5901: 1.0, 5934: 1.0, 6005: 1.0, 6032: 1.0, 6043: 2.0, 6056: 1.0, 6092: 2.0, 6144: 2.0, 6193: 1.0, 6264: 1.0, 6339: 1.0, 6388: 1.0, 6390: 1.0, 6396: 1.0, 6418: 3.0, 6473: 1.0, 6495: 1.0, 6543: 1.0, 6659: 1.0, 6664: 3.0, 6738: 1.0, 6846: 3.0, 6888: 1.0, 6949: 1.0, 6953: 1.0, 7004: 2.0, 7045: 1.0, 7112: 1.0, 7156: 1.0, 7203: 2.0, 7230: 1.0, 7272: 2.0, 7354: 1.0, 7362: 1.0, 7376: 1.0, 7460: 2.0, 7461: 1.0, 7509: 1.0, 7527: 1.0, 7549: 1.0, 7627: 1.0, 7628: 1.0, 7665: 1.0, 7682: 4.0, 7693: 1.0, 7765: 1.0, 7787: 1.0, 7806: 1.0, 7879: 2.0, 7994: 1.0, 8003: 1.0, 8023: 1.0, 8039: 1.0, 8130: 2.0, 8184: 1.0, 8300: 1.0, 8327: 6.0, 8348: 1.0, 8358: 1.0, 8389: 1.0, 8409: 2.0, 8451: 1.0, 8505: 1.0, 8553: 1.0, 8591: 1.0, 8595: 1.0, 8602: 1.0, 8648: 1.0, 8662: 1.0, 8712: 1.0, 8760: 1.0, 8772: 1.0, 8809: 2.0, 8818: 2.0, 8827: 1.0, 8832: 1.0, 8846: 1.0, 8921: 1.0, 9008: 1.0, 9101: 1.0, 9106: 1.0, 9125: 3.0, 9146: 2.0, 9188: 2.0, 9210: 1.0, 9241: 1.0, 9249: 3.0, 9284: 1.0, 9470: 1.0, 9527: 1.0, 9597: 2.0, 9629: 1.0, 9904: 1.0, 10160: 1.0, 10293: 1.0, 10297: 1.0, 10300: 1.0, 10446: 3.0, 10481: 1.0, 10513: 1.0, 10546: 2.0, 10604: 2.0, 10685: 3.0, 11037: 1.0, 11113: 1.0, 11121: 1.0, 11170: 1.0, 11365: 1.0, 11466: 1.0, 11469: 1.0, 11698: 1.0, 11922: 1.0, 12003: 1.0, 12029: 1.0, 12048: 1.0, 12050: 1.0, 12131: 1.0, 12275: 1.0, 12313: 1.0, 12346: 1.0, 12352: 1.0, 12365: 2.0, 12441: 1.0, 12447: 1.0, 12463: 1.0, 12837: 1.0, 12865: 1.0, 12916: 1.0, 13069: 1.0, 13189: 1.0, 13206: 1.0, 13430: 2.0, 13634: 1.0, 13641: 1.0, 13671: 3.0, 13694: 5.0, 13771: 1.0, 13821: 1.0, 13845: 1.0, 13940: 1.0, 13951: 1.0, 13985: 1.0, 14132: 3.0, 14224: 1.0, 14307: 1.0, 14420: 1.0, 14465: 4.0, 14470: 2.0, 14556: 1.0, 14576: 1.0, 14719: 1.0, 14729: 1.0, 15268: 1.0, 15269: 1.0, 15280: 1.0, 15436: 1.0, 15437: 1.0, 15639: 2.0, 15962: 1.0, 16001: 2.0, 16024: 3.0, 16129: 3.0, 16258: 3.0, 16547: 1.0, 16554: 1.0, 16737: 1.0, 16775: 1.0, 16793: 1.0, 16841: 1.0, 16852: 1.0, 16861: 1.0, 16907: 1.0, 17072: 1.0, 17079: 1.0, 17100: 1.0, 17134: 1.0, 17224: 1.0, 17384: 1.0, 17400: 2.0, 17492: 1.0, 17577: 1.0, 17591: 1.0, 17621: 1.0, 17731: 2.0, 18249: 2.0, 18305: 1.0, 18385: 1.0, 18439: 1.0, 18450: 1.0, 18454: 1.0, 18516: 1.0, 18680: 1.0, 18936: 1.0, 19228: 1.0, 19232: 1.0, 19401: 1.0, 19469: 1.0, 19509: 1.0, 19521: 1.0, 19589: 1.0, 20183: 1.0, 20232: 1.0, 20284: 1.0, 20492: 1.0, 20513: 1.0, 20917: 1.0, 21361: 1.0, 21662: 2.0, 21694: 1.0, 21832: 2.0, 22005: 3.0, 22352: 1.0, 22367: 1.0, 22761: 2.0, 22911: 1.0, 22949: 1.0, 22978: 1.0, 23471: 1.0, 23782: 1.0, 24231: 1.0, 24497: 1.0, 24523: 1.0, 24750: 1.0, 24829: 1.0, 24931: 1.0, 24961: 5.0, 25354: 1.0, 25542: 2.0, 25780: 1.0, 25800: 1.0, 25859: 1.0, 25949: 2.0, 26176: 1.0, 26371: 1.0, 26384: 1.0, 26868: 1.0, 26871: 3.0, 26955: 1.0, 27370: 1.0, 27715: 1.0, 28108: 1.0, 28358: 1.0, 28615: 1.0, 29089: 1.0, 29121: 1.0, 29826: 2.0, 29931: 1.0, 30076: 1.0, 30709: 1.0, 31049: 2.0, 31675: 1.0, 31861: 1.0, 32032: 1.0, 32527: 1.0, 33028: 1.0, 33472: 1.0, 34108: 1.0, 34120: 2.0, 37122: 1.0, 37875: 1.0, 39496: 2.0, 40109: 26.0, 40255: 1.0, 40728: 1.0, 41712: 2.0, 42896: 1.0, 43645: 1.0, 43889: 1.0, 44267: 1.0, 44502: 1.0, 45489: 1.0, 46434: 1.0, 46925: 2.0, 47083: 1.0, 49478: 2.0, 50110: 1.0, 51555: 1.0, 52045: 1.0, 52581: 1.0, 52883: 21.0, 53360: 1.0, 53435: 1.0, 53716: 1.0, 54290: 3.0, 55714: 1.0, 56192: 1.0, 56241: 10.0, 56492: 1.0, 60347: 1.0, 60635: 1.0, 61043: 3.0, 61987: 1.0, 64117: 1.0, 65651: 1.0, 66904: 1.0, 73123: 1.0, 74582: 1.0, 76069: 1.0, 76143: 1.0, 77147: 1.0, 77864: 2.0, 80986: 1.0, 84381: 1.0, 97450: 1.0})),\n",
       " ('24341',\n",
       "  SparseVector(100000, {0: 10.0, 1: 17.0, 2: 25.0, 3: 14.0, 4: 13.0, 5: 51.0, 7: 33.0, 8: 7.0, 9: 12.0, 11: 13.0, 12: 6.0, 13: 12.0, 14: 63.0, 15: 15.0, 16: 29.0, 17: 2.0, 18: 22.0, 19: 16.0, 20: 12.0, 21: 3.0, 22: 5.0, 23: 4.0, 24: 6.0, 25: 14.0, 26: 9.0, 27: 8.0, 28: 8.0, 29: 18.0, 30: 3.0, 31: 3.0, 32: 14.0, 34: 22.0, 36: 6.0, 37: 9.0, 38: 22.0, 39: 4.0, 40: 11.0, 41: 21.0, 42: 7.0, 43: 6.0, 44: 1.0, 45: 15.0, 46: 3.0, 47: 1.0, 48: 21.0, 49: 25.0, 50: 16.0, 51: 2.0, 54: 6.0, 56: 20.0, 57: 21.0, 58: 6.0, 59: 2.0, 61: 12.0, 62: 1.0, 63: 9.0, 64: 8.0, 65: 12.0, 66: 1.0, 67: 7.0, 68: 4.0, 69: 8.0, 70: 3.0, 71: 2.0, 72: 24.0, 73: 4.0, 74: 10.0, 75: 8.0, 76: 7.0, 77: 10.0, 78: 3.0, 79: 5.0, 80: 6.0, 81: 3.0, 84: 7.0, 85: 7.0, 86: 7.0, 87: 1.0, 89: 2.0, 90: 20.0, 91: 2.0, 94: 1.0, 96: 4.0, 97: 7.0, 98: 2.0, 99: 6.0, 101: 4.0, 102: 5.0, 103: 9.0, 104: 15.0, 105: 6.0, 106: 3.0, 108: 8.0, 110: 3.0, 111: 12.0, 113: 1.0, 114: 1.0, 115: 4.0, 117: 8.0, 119: 5.0, 120: 3.0, 121: 1.0, 122: 9.0, 123: 3.0, 124: 15.0, 125: 2.0, 126: 2.0, 127: 5.0, 129: 3.0, 130: 7.0, 132: 1.0, 133: 5.0, 134: 8.0, 135: 25.0, 136: 5.0, 137: 5.0, 138: 3.0, 139: 6.0, 140: 11.0, 142: 3.0, 143: 3.0, 144: 10.0, 145: 3.0, 146: 2.0, 147: 23.0, 148: 2.0, 149: 5.0, 151: 3.0, 152: 10.0, 153: 1.0, 154: 3.0, 155: 5.0, 156: 5.0, 158: 1.0, 159: 1.0, 161: 1.0, 162: 5.0, 163: 2.0, 164: 4.0, 165: 11.0, 166: 6.0, 167: 6.0, 168: 5.0, 169: 2.0, 170: 6.0, 171: 3.0, 172: 5.0, 173: 1.0, 175: 9.0, 176: 1.0, 177: 1.0, 178: 4.0, 180: 13.0, 181: 9.0, 183: 7.0, 184: 3.0, 185: 6.0, 186: 3.0, 187: 2.0, 189: 11.0, 191: 2.0, 193: 2.0, 195: 7.0, 197: 1.0, 198: 4.0, 203: 4.0, 204: 5.0, 206: 4.0, 207: 3.0, 209: 3.0, 210: 5.0, 211: 3.0, 214: 19.0, 215: 1.0, 216: 1.0, 217: 2.0, 219: 21.0, 220: 1.0, 221: 8.0, 222: 1.0, 223: 2.0, 226: 4.0, 227: 16.0, 228: 1.0, 229: 5.0, 230: 3.0, 231: 2.0, 232: 4.0, 233: 9.0, 234: 8.0, 235: 1.0, 238: 11.0, 239: 5.0, 240: 7.0, 242: 1.0, 243: 5.0, 244: 1.0, 245: 3.0, 246: 3.0, 247: 6.0, 248: 6.0, 249: 3.0, 250: 2.0, 251: 3.0, 252: 2.0, 254: 6.0, 255: 3.0, 256: 3.0, 257: 6.0, 258: 3.0, 260: 25.0, 261: 2.0, 262: 6.0, 264: 1.0, 265: 10.0, 266: 7.0, 267: 4.0, 269: 2.0, 270: 3.0, 271: 4.0, 275: 4.0, 278: 3.0, 279: 3.0, 284: 6.0, 285: 8.0, 288: 10.0, 289: 5.0, 291: 1.0, 293: 5.0, 295: 9.0, 296: 5.0, 297: 4.0, 298: 13.0, 299: 1.0, 301: 1.0, 302: 3.0, 304: 2.0, 305: 16.0, 306: 1.0, 307: 2.0, 308: 4.0, 309: 3.0, 311: 15.0, 312: 1.0, 313: 2.0, 314: 1.0, 315: 6.0, 316: 2.0, 317: 4.0, 318: 1.0, 319: 2.0, 321: 3.0, 322: 10.0, 323: 2.0, 324: 7.0, 326: 4.0, 327: 45.0, 328: 10.0, 329: 4.0, 330: 1.0, 331: 2.0, 332: 4.0, 333: 1.0, 334: 13.0, 337: 7.0, 338: 4.0, 339: 6.0, 340: 1.0, 341: 2.0, 342: 2.0, 343: 1.0, 344: 3.0, 345: 3.0, 346: 4.0, 347: 1.0, 349: 2.0, 350: 4.0, 351: 4.0, 352: 1.0, 353: 3.0, 354: 8.0, 356: 3.0, 360: 1.0, 362: 1.0, 364: 1.0, 365: 7.0, 369: 10.0, 370: 1.0, 371: 7.0, 372: 3.0, 373: 6.0, 374: 2.0, 375: 5.0, 376: 1.0, 377: 2.0, 379: 6.0, 381: 1.0, 382: 1.0, 383: 2.0, 385: 3.0, 388: 1.0, 389: 6.0, 391: 6.0, 392: 2.0, 393: 3.0, 394: 2.0, 395: 2.0, 396: 4.0, 398: 2.0, 399: 3.0, 400: 3.0, 402: 2.0, 403: 5.0, 405: 1.0, 407: 7.0, 409: 1.0, 410: 5.0, 411: 5.0, 412: 2.0, 413: 1.0, 417: 2.0, 420: 2.0, 421: 1.0, 425: 7.0, 426: 1.0, 427: 3.0, 428: 5.0, 429: 2.0, 432: 1.0, 434: 2.0, 438: 3.0, 439: 3.0, 440: 1.0, 442: 3.0, 443: 2.0, 445: 1.0, 446: 2.0, 449: 2.0, 450: 3.0, 452: 5.0, 454: 6.0, 455: 1.0, 457: 7.0, 458: 1.0, 460: 3.0, 462: 1.0, 463: 3.0, 464: 4.0, 466: 6.0, 467: 1.0, 469: 1.0, 470: 1.0, 471: 6.0, 472: 3.0, 473: 4.0, 474: 2.0, 475: 3.0, 476: 1.0, 478: 4.0, 479: 1.0, 480: 1.0, 481: 9.0, 482: 4.0, 483: 1.0, 485: 1.0, 486: 7.0, 487: 5.0, 488: 1.0, 489: 1.0, 491: 3.0, 493: 14.0, 494: 6.0, 495: 2.0, 496: 3.0, 497: 2.0, 498: 7.0, 499: 6.0, 501: 1.0, 502: 5.0, 503: 3.0, 504: 3.0, 505: 1.0, 506: 8.0, 507: 1.0, 509: 3.0, 510: 1.0, 512: 1.0, 514: 1.0, 515: 4.0, 516: 1.0, 518: 1.0, 519: 1.0, 520: 1.0, 527: 1.0, 528: 7.0, 531: 4.0, 532: 5.0, 534: 1.0, 536: 4.0, 538: 3.0, 540: 2.0, 542: 2.0, 545: 10.0, 546: 4.0, 548: 4.0, 549: 2.0, 550: 2.0, 551: 2.0, 553: 2.0, 554: 1.0, 555: 4.0, 556: 2.0, 557: 1.0, 560: 2.0, 563: 1.0, 565: 4.0, 566: 5.0, 568: 4.0, 569: 2.0, 570: 3.0, 571: 3.0, 576: 3.0, 577: 1.0, 578: 3.0, 579: 1.0, 580: 39.0, 582: 7.0, 584: 8.0, 585: 8.0, 586: 1.0, 588: 3.0, 589: 1.0, 590: 5.0, 591: 5.0, 592: 4.0, 593: 2.0, 594: 1.0, 595: 1.0, 596: 2.0, 597: 1.0, 598: 5.0, 599: 2.0, 602: 2.0, 603: 1.0, 604: 1.0, 606: 1.0, 607: 1.0, 608: 2.0, 609: 1.0, 610: 3.0, 611: 13.0, 613: 3.0, 615: 1.0, 616: 3.0, 617: 2.0, 618: 4.0, 620: 4.0, 623: 5.0, 627: 8.0, 628: 2.0, 630: 13.0, 632: 1.0, 633: 1.0, 635: 6.0, 639: 1.0, 643: 2.0, 644: 3.0, 645: 3.0, 646: 4.0, 647: 4.0, 648: 9.0, 649: 2.0, 650: 4.0, 652: 3.0, 653: 6.0, 654: 4.0, 655: 2.0, 656: 7.0, 658: 1.0, 659: 1.0, 662: 12.0, 664: 6.0, 668: 4.0, 671: 3.0, 673: 1.0, 677: 2.0, 678: 4.0, 679: 1.0, 682: 11.0, 683: 3.0, 684: 3.0, 685: 3.0, 686: 1.0, 688: 3.0, 689: 18.0, 690: 1.0, 691: 1.0, 692: 3.0, 693: 1.0, 694: 5.0, 695: 1.0, 696: 5.0, 697: 1.0, 698: 2.0, 700: 3.0, 702: 1.0, 704: 2.0, 705: 6.0, 706: 4.0, 707: 4.0, 708: 1.0, 709: 2.0, 710: 2.0, 712: 1.0, 713: 2.0, 715: 2.0, 717: 2.0, 718: 1.0, 723: 6.0, 725: 2.0, 726: 2.0, 729: 3.0, 731: 1.0, 732: 1.0, 734: 1.0, 736: 1.0, 738: 2.0, 739: 6.0, 740: 4.0, 741: 4.0, 742: 1.0, 743: 2.0, 744: 5.0, 745: 2.0, 746: 4.0, 747: 4.0, 749: 1.0, 751: 5.0, 752: 5.0, 753: 2.0, 754: 3.0, 755: 5.0, 756: 4.0, 760: 1.0, 761: 1.0, 764: 3.0, 765: 3.0, 766: 3.0, 767: 7.0, 769: 2.0, 770: 2.0, 771: 1.0, 773: 3.0, 776: 5.0, 777: 1.0, 780: 2.0, 782: 2.0, 783: 2.0, 784: 1.0, 785: 2.0, 787: 1.0, 788: 2.0, 790: 4.0, 793: 1.0, 796: 3.0, 797: 2.0, 798: 1.0, 799: 2.0, 801: 4.0, 804: 4.0, 805: 1.0, 806: 2.0, 811: 3.0, 815: 3.0, 818: 3.0, 820: 4.0, 821: 1.0, 824: 1.0, 826: 1.0, 828: 3.0, 830: 7.0, 831: 1.0, 833: 3.0, 836: 7.0, 837: 1.0, 838: 1.0, 839: 1.0, 840: 3.0, 841: 2.0, 844: 1.0, 845: 1.0, 847: 2.0, 848: 4.0, 850: 1.0, 853: 1.0, 854: 2.0, 855: 1.0, 856: 8.0, 858: 1.0, 861: 2.0, 863: 1.0, 864: 1.0, 866: 4.0, 867: 1.0, 868: 5.0, 869: 2.0, 870: 2.0, 872: 1.0, 873: 1.0, 876: 3.0, 878: 1.0, 879: 5.0, 880: 2.0, 881: 1.0, 884: 2.0, 886: 2.0, 887: 2.0, 888: 1.0, 889: 1.0, 890: 4.0, 891: 6.0, 893: 3.0, 894: 1.0, 896: 8.0, 897: 2.0, 899: 1.0, 900: 2.0, 901: 1.0, 902: 14.0, 904: 3.0, 905: 1.0, 907: 5.0, 908: 5.0, 909: 5.0, 911: 1.0, 912: 1.0, 914: 3.0, 915: 1.0, 917: 1.0, 918: 1.0, 923: 1.0, 924: 6.0, 925: 3.0, 926: 5.0, 927: 12.0, 928: 3.0, 930: 6.0, 932: 2.0, 933: 3.0, 935: 3.0, 940: 2.0, 941: 4.0, 944: 2.0, 945: 2.0, 948: 2.0, 949: 1.0, 950: 3.0, 951: 4.0, 952: 2.0, 954: 4.0, 955: 1.0, 956: 3.0, 958: 3.0, 959: 1.0, 961: 2.0, 962: 2.0, 963: 2.0, 966: 1.0, 970: 1.0, 971: 4.0, 977: 1.0, 980: 1.0, 982: 3.0, 983: 2.0, 984: 1.0, 985: 2.0, 986: 4.0, 987: 2.0, 988: 2.0, 990: 2.0, 991: 1.0, 993: 3.0, 995: 2.0, 996: 3.0, 999: 3.0, 1000: 1.0, 1003: 2.0, 1006: 3.0, 1007: 3.0, 1008: 1.0, 1011: 4.0, 1012: 2.0, 1014: 2.0, 1020: 1.0, 1021: 2.0, 1022: 1.0, 1024: 6.0, 1026: 1.0, 1030: 2.0, 1032: 2.0, 1034: 1.0, 1035: 1.0, 1037: 2.0, 1038: 1.0, 1039: 1.0, 1040: 4.0, 1041: 2.0, 1042: 4.0, 1043: 5.0, 1044: 3.0, 1047: 1.0, 1048: 1.0, 1049: 3.0, 1050: 5.0, 1051: 1.0, 1053: 2.0, 1058: 7.0, 1059: 2.0, 1060: 1.0, 1066: 5.0, 1068: 2.0, 1070: 2.0, 1073: 4.0, 1076: 2.0, 1077: 10.0, 1079: 1.0, 1080: 1.0, 1082: 1.0, 1085: 2.0, 1092: 3.0, 1094: 1.0, 1098: 1.0, 1101: 4.0, 1103: 2.0, 1104: 1.0, 1105: 6.0, 1106: 1.0, 1107: 2.0, 1109: 2.0, 1110: 1.0, 1112: 6.0, 1114: 4.0, 1115: 2.0, 1116: 2.0, 1119: 1.0, 1123: 1.0, 1125: 1.0, 1126: 3.0, 1127: 3.0, 1129: 2.0, 1130: 2.0, 1133: 3.0, 1136: 3.0, 1137: 1.0, 1140: 1.0, 1141: 2.0, 1142: 1.0, 1144: 2.0, 1145: 1.0, 1147: 1.0, 1149: 1.0, 1151: 8.0, 1152: 1.0, 1153: 4.0, 1154: 1.0, 1155: 3.0, 1157: 3.0, 1158: 2.0, 1159: 2.0, 1163: 4.0, 1164: 5.0, 1165: 3.0, 1167: 4.0, 1169: 3.0, 1170: 2.0, 1172: 1.0, 1173: 2.0, 1175: 2.0, 1176: 1.0, 1181: 1.0, 1182: 1.0, 1183: 1.0, 1184: 1.0, 1186: 11.0, 1187: 2.0, 1188: 1.0, 1190: 1.0, 1192: 2.0, 1193: 4.0, 1195: 1.0, 1196: 1.0, 1202: 1.0, 1203: 2.0, 1204: 4.0, 1207: 1.0, 1211: 2.0, 1215: 3.0, 1220: 8.0, 1221: 1.0, 1224: 1.0, 1230: 2.0, 1231: 1.0, 1232: 2.0, 1233: 1.0, 1234: 1.0, 1235: 2.0, 1236: 1.0, 1238: 3.0, 1241: 7.0, 1244: 2.0, 1245: 1.0, 1247: 1.0, 1248: 3.0, 1251: 3.0, 1253: 1.0, 1254: 1.0, 1255: 8.0, 1258: 2.0, 1259: 3.0, 1261: 1.0, 1262: 1.0, 1263: 1.0, 1266: 1.0, 1267: 1.0, 1271: 2.0, 1272: 2.0, 1273: 1.0, 1274: 2.0, 1278: 6.0, 1279: 2.0, 1280: 1.0, 1281: 5.0, 1282: 1.0, 1285: 2.0, 1287: 5.0, 1289: 4.0, 1291: 1.0, 1292: 1.0, 1293: 3.0, 1294: 11.0, 1295: 3.0, 1297: 1.0, 1298: 3.0, 1300: 1.0, 1302: 2.0, 1304: 1.0, 1305: 4.0, 1307: 1.0, 1309: 3.0, 1310: 1.0, 1311: 1.0, 1312: 4.0, 1313: 1.0, 1315: 1.0, 1316: 1.0, 1317: 1.0, 1323: 4.0, 1325: 3.0, 1326: 4.0, 1330: 1.0, 1331: 7.0, 1334: 1.0, 1336: 3.0, 1338: 4.0, 1339: 5.0, 1340: 2.0, 1342: 2.0, 1343: 2.0, 1347: 2.0, 1350: 1.0, 1351: 2.0, 1356: 3.0, 1357: 2.0, 1358: 2.0, 1359: 5.0, 1361: 1.0, 1364: 1.0, 1365: 2.0, 1367: 2.0, 1370: 1.0, 1376: 2.0, 1377: 1.0, 1379: 1.0, 1380: 1.0, 1381: 1.0, 1382: 4.0, 1385: 1.0, 1389: 3.0, 1390: 2.0, 1395: 2.0, 1397: 7.0, 1398: 2.0, 1400: 3.0, 1402: 5.0, 1404: 1.0, 1405: 1.0, 1408: 1.0, 1410: 2.0, 1413: 3.0, 1416: 1.0, 1417: 1.0, 1418: 1.0, 1419: 1.0, 1420: 1.0, 1422: 1.0, 1425: 1.0, 1427: 4.0, 1428: 5.0, 1432: 5.0, 1433: 1.0, 1436: 1.0, 1438: 7.0, 1439: 3.0, 1440: 2.0, 1441: 1.0, 1442: 2.0, 1444: 2.0, 1445: 2.0, 1450: 3.0, 1454: 1.0, 1455: 1.0, 1456: 1.0, 1458: 2.0, 1460: 1.0, 1462: 2.0, 1465: 2.0, 1467: 1.0, 1469: 1.0, 1473: 2.0, 1474: 2.0, 1477: 2.0, 1478: 1.0, 1479: 1.0, 1480: 2.0, 1484: 4.0, 1486: 1.0, 1487: 1.0, 1495: 1.0, 1497: 1.0, 1503: 1.0, 1504: 1.0, 1505: 2.0, 1506: 1.0, 1507: 1.0, 1510: 1.0, 1512: 1.0, 1513: 1.0, 1516: 2.0, 1517: 1.0, 1518: 4.0, 1520: 3.0, 1521: 1.0, 1524: 1.0, 1525: 1.0, 1528: 3.0, 1532: 1.0, 1533: 1.0, 1534: 2.0, 1536: 2.0, 1537: 1.0, 1538: 3.0, 1541: 2.0, 1543: 2.0, 1547: 4.0, 1550: 2.0, 1551: 1.0, 1554: 2.0, 1555: 1.0, 1558: 1.0, 1563: 3.0, 1564: 1.0, 1567: 1.0, 1569: 1.0, 1571: 5.0, 1572: 3.0, 1573: 4.0, 1576: 2.0, 1577: 2.0, 1578: 1.0, 1580: 2.0, 1581: 1.0, 1584: 2.0, 1586: 1.0, 1590: 2.0, 1591: 2.0, 1594: 2.0, 1596: 1.0, 1597: 1.0, 1598: 1.0, 1602: 6.0, 1603: 1.0, 1604: 3.0, 1606: 1.0, 1607: 1.0, 1608: 1.0, 1610: 4.0, 1611: 1.0, 1612: 4.0, 1615: 2.0, 1617: 4.0, 1623: 1.0, 1627: 1.0, 1629: 1.0, 1631: 1.0, 1633: 1.0, 1637: 3.0, 1638: 1.0, 1639: 1.0, 1640: 2.0, 1641: 1.0, 1642: 1.0, 1643: 1.0, 1646: 2.0, 1647: 1.0, 1648: 2.0, 1649: 2.0, 1650: 2.0, 1656: 3.0, 1657: 1.0, 1661: 1.0, 1663: 1.0, 1668: 1.0, 1670: 2.0, 1672: 4.0, 1675: 2.0, 1678: 1.0, 1679: 5.0, 1682: 9.0, 1683: 9.0, 1684: 1.0, 1688: 4.0, 1689: 5.0, 1690: 4.0, 1692: 4.0, 1694: 3.0, 1698: 3.0, 1700: 1.0, 1701: 3.0, 1703: 1.0, 1704: 3.0, 1706: 2.0, 1708: 1.0, 1709: 2.0, 1710: 1.0, 1713: 2.0, 1714: 2.0, 1717: 1.0, 1718: 1.0, 1720: 1.0, 1721: 2.0, 1722: 1.0, 1723: 3.0, 1724: 3.0, 1725: 3.0, 1727: 2.0, 1728: 1.0, 1729: 3.0, 1730: 1.0, 1731: 3.0, 1732: 1.0, 1736: 1.0, 1737: 1.0, 1740: 2.0, 1741: 1.0, 1748: 2.0, 1753: 3.0, 1755: 4.0, 1756: 5.0, 1757: 2.0, 1761: 1.0, 1762: 1.0, 1763: 3.0, 1765: 2.0, 1766: 2.0, 1767: 3.0, 1770: 1.0, 1772: 2.0, 1774: 1.0, 1775: 1.0, 1778: 2.0, 1781: 1.0, 1784: 1.0, 1785: 1.0, 1786: 1.0, 1787: 1.0, 1788: 1.0, 1791: 3.0, 1793: 7.0, 1795: 1.0, 1797: 1.0, 1798: 1.0, 1801: 1.0, 1802: 1.0, 1803: 3.0, 1808: 1.0, 1810: 1.0, 1815: 1.0, 1816: 1.0, 1817: 1.0, 1818: 3.0, 1819: 1.0, 1821: 5.0, 1827: 1.0, 1828: 1.0, 1829: 2.0, 1831: 1.0, 1832: 1.0, 1833: 2.0, 1834: 4.0, 1837: 1.0, 1843: 1.0, 1846: 8.0, 1847: 2.0, 1848: 1.0, 1849: 2.0, 1851: 1.0, 1853: 4.0, 1854: 1.0, 1855: 1.0, 1857: 3.0, 1860: 2.0, 1862: 1.0, 1866: 2.0, 1871: 1.0, 1873: 1.0, 1874: 1.0, 1877: 1.0, 1879: 1.0, 1882: 4.0, 1883: 1.0, 1884: 1.0, 1885: 1.0, 1888: 1.0, 1889: 1.0, 1892: 3.0, 1894: 5.0, 1896: 1.0, 1900: 2.0, 1905: 1.0, 1908: 1.0, 1910: 2.0, 1913: 1.0, 1914: 2.0, 1915: 2.0, 1917: 1.0, 1918: 2.0, 1921: 1.0, 1924: 2.0, 1927: 3.0, 1931: 1.0, 1932: 1.0, 1935: 1.0, 1936: 1.0, 1938: 1.0, 1940: 2.0, 1941: 2.0, 1946: 2.0, 1949: 1.0, 1950: 1.0, 1953: 1.0, 1954: 1.0, 1955: 1.0, 1957: 2.0, 1962: 1.0, 1966: 1.0, 1970: 1.0, 1975: 3.0, 1976: 1.0, 1980: 9.0, 1981: 1.0, 1983: 2.0, 1988: 1.0, 1989: 1.0, 1991: 1.0, 1994: 3.0, 1996: 1.0, 1999: 1.0, 2004: 1.0, 2006: 1.0, 2007: 2.0, 2011: 2.0, 2012: 7.0, 2015: 1.0, 2017: 3.0, 2021: 4.0, 2024: 1.0, 2027: 1.0, 2033: 2.0, 2037: 1.0, 2038: 1.0, 2043: 1.0, 2046: 1.0, 2047: 1.0, 2048: 1.0, 2050: 1.0, 2055: 2.0, 2057: 2.0, 2063: 1.0, 2066: 1.0, 2070: 1.0, 2072: 1.0, 2073: 1.0, 2075: 1.0, 2079: 2.0, 2080: 1.0, 2081: 2.0, 2082: 2.0, 2083: 1.0, 2084: 1.0, 2087: 1.0, 2088: 1.0, 2089: 1.0, 2091: 2.0, 2092: 1.0, 2093: 2.0, 2094: 1.0, 2095: 2.0, 2096: 8.0, 2097: 1.0, 2102: 3.0, 2104: 1.0, 2105: 3.0, 2109: 1.0, 2110: 3.0, 2113: 1.0, 2117: 2.0, 2121: 1.0, 2123: 1.0, 2124: 2.0, 2130: 1.0, 2131: 2.0, 2134: 1.0, 2136: 1.0, 2138: 1.0, 2142: 2.0, 2144: 1.0, 2154: 1.0, 2156: 1.0, 2157: 2.0, 2158: 1.0, 2160: 1.0, 2162: 1.0, 2164: 1.0, 2165: 1.0, 2167: 1.0, 2175: 1.0, 2178: 1.0, 2180: 1.0, 2182: 2.0, 2184: 3.0, 2190: 1.0, 2200: 1.0, 2207: 1.0, 2209: 2.0, 2212: 1.0, 2215: 2.0, 2217: 2.0, 2218: 2.0, 2220: 2.0, 2221: 1.0, 2222: 1.0, 2224: 4.0, 2227: 1.0, 2228: 1.0, 2230: 1.0, 2232: 1.0, 2240: 1.0, 2243: 2.0, 2244: 1.0, 2246: 5.0, 2247: 1.0, 2254: 1.0, 2255: 8.0, 2257: 3.0, 2259: 1.0, 2260: 3.0, 2265: 1.0, 2269: 3.0, 2275: 2.0, 2277: 2.0, 2278: 2.0, 2280: 1.0, 2282: 1.0, 2285: 1.0, 2287: 6.0, 2293: 1.0, 2297: 1.0, 2299: 1.0, 2302: 1.0, 2306: 1.0, 2309: 1.0, 2311: 1.0, 2314: 1.0, 2318: 2.0, 2320: 1.0, 2322: 2.0, 2324: 2.0, 2328: 1.0, 2330: 1.0, 2333: 2.0, 2334: 1.0, 2338: 1.0, 2347: 1.0, 2348: 10.0, 2350: 3.0, 2351: 1.0, 2353: 3.0, 2358: 1.0, 2359: 1.0, 2361: 2.0, 2362: 1.0, 2363: 1.0, 2364: 4.0, 2370: 2.0, 2377: 1.0, 2379: 1.0, 2380: 2.0, 2381: 1.0, 2382: 2.0, 2383: 1.0, 2386: 1.0, 2388: 2.0, 2390: 2.0, 2391: 1.0, 2394: 1.0, 2396: 1.0, 2397: 2.0, 2399: 1.0, 2401: 3.0, 2411: 1.0, 2414: 3.0, 2415: 1.0, 2419: 19.0, 2422: 1.0, 2424: 1.0, 2426: 1.0, 2428: 2.0, 2432: 1.0, 2435: 2.0, 2437: 1.0, 2440: 1.0, 2441: 8.0, 2443: 4.0, 2444: 1.0, 2445: 1.0, 2447: 1.0, 2449: 2.0, 2450: 2.0, 2451: 1.0, 2452: 1.0, 2454: 2.0, 2455: 1.0, 2456: 2.0, 2458: 2.0, 2461: 1.0, 2463: 1.0, 2471: 1.0, 2472: 1.0, 2473: 1.0, 2476: 1.0, 2478: 2.0, 2480: 2.0, 2491: 3.0, 2493: 1.0, 2495: 1.0, 2500: 1.0, 2504: 2.0, 2505: 1.0, 2506: 2.0, 2514: 5.0, 2517: 1.0, 2520: 2.0, 2521: 2.0, 2522: 1.0, 2528: 2.0, 2529: 1.0, 2530: 1.0, 2531: 2.0, 2536: 1.0, 2537: 1.0, 2542: 4.0, 2545: 1.0, 2547: 1.0, 2548: 1.0, 2558: 1.0, 2559: 1.0, 2560: 2.0, 2563: 2.0, 2568: 2.0, 2571: 1.0, 2573: 1.0, 2574: 2.0, 2580: 2.0, 2583: 2.0, 2586: 1.0, 2591: 1.0, 2592: 1.0, 2596: 1.0, 2600: 2.0, 2611: 3.0, 2614: 2.0, 2617: 2.0, 2618: 1.0, 2621: 2.0, 2622: 1.0, 2625: 3.0, 2631: 1.0, 2632: 2.0, 2635: 2.0, 2640: 1.0, 2652: 3.0, 2654: 1.0, 2655: 1.0, 2656: 1.0, 2659: 2.0, 2661: 1.0, 2662: 1.0, 2664: 1.0, 2666: 1.0, 2667: 1.0, 2670: 2.0, 2671: 2.0, 2676: 1.0, 2679: 2.0, 2684: 2.0, 2689: 1.0, 2691: 2.0, 2692: 1.0, 2698: 2.0, 2701: 11.0, 2702: 1.0, 2704: 1.0, 2707: 2.0, 2709: 3.0, 2711: 1.0, 2712: 1.0, 2716: 1.0, 2724: 1.0, 2725: 1.0, 2727: 1.0, 2734: 3.0, 2741: 2.0, 2742: 2.0, 2744: 1.0, 2745: 1.0, 2747: 1.0, 2758: 1.0, 2762: 1.0, 2764: 2.0, 2776: 1.0, 2777: 2.0, 2779: 6.0, 2781: 1.0, 2785: 6.0, 2786: 13.0, 2787: 1.0, 2795: 1.0, 2796: 2.0, 2799: 2.0, 2802: 3.0, 2807: 1.0, 2808: 2.0, 2811: 1.0, 2820: 3.0, 2821: 2.0, 2822: 1.0, 2832: 1.0, 2833: 1.0, 2835: 2.0, 2838: 1.0, 2844: 1.0, 2845: 1.0, 2847: 1.0, 2852: 1.0, 2853: 12.0, 2854: 1.0, 2856: 1.0, 2859: 1.0, 2862: 1.0, 2864: 1.0, 2865: 2.0, 2866: 1.0, 2871: 2.0, 2875: 1.0, 2883: 2.0, 2886: 1.0, 2893: 2.0, 2899: 1.0, 2901: 2.0, 2909: 1.0, 2915: 1.0, 2921: 2.0, 2928: 5.0, 2937: 1.0, 2938: 4.0, 2944: 1.0, 2945: 2.0, 2948: 1.0, 2949: 1.0, 2956: 3.0, 2958: 1.0, 2959: 2.0, 2960: 2.0, 2963: 2.0, 2967: 1.0, 2970: 2.0, 2974: 1.0, 2975: 1.0, 2984: 1.0, 2986: 3.0, 2987: 5.0, 2990: 1.0, 2992: 1.0, 2995: 1.0, 2999: 1.0, 3001: 1.0, 3006: 1.0, 3015: 1.0, 3022: 1.0, 3027: 1.0, 3029: 1.0, 3030: 1.0, 3038: 1.0, 3040: 2.0, 3041: 2.0, 3046: 1.0, 3048: 1.0, 3050: 1.0, 3052: 3.0, 3059: 2.0, 3063: 1.0, 3068: 1.0, 3078: 1.0, 3084: 1.0, 3087: 1.0, 3096: 2.0, 3105: 1.0, 3112: 1.0, 3114: 1.0, 3115: 2.0, 3119: 2.0, 3122: 1.0, 3123: 1.0, 3127: 1.0, 3139: 1.0, 3148: 1.0, 3149: 3.0, 3150: 1.0, 3152: 2.0, 3157: 1.0, 3160: 1.0, 3165: 1.0, 3166: 1.0, 3169: 1.0, 3171: 1.0, 3173: 2.0, 3179: 3.0, 3181: 2.0, 3182: 2.0, 3186: 3.0, 3187: 1.0, 3193: 2.0, 3199: 1.0, 3207: 2.0, 3210: 1.0, 3220: 1.0, 3222: 1.0, 3226: 1.0, 3227: 1.0, 3229: 2.0, 3230: 2.0, 3235: 1.0, 3239: 2.0, 3242: 1.0, 3258: 1.0, 3260: 3.0, 3267: 8.0, 3268: 1.0, 3269: 1.0, 3272: 1.0, 3275: 1.0, 3276: 3.0, 3279: 2.0, 3285: 7.0, 3287: 1.0, 3296: 4.0, 3297: 1.0, 3298: 1.0, 3311: 2.0, 3316: 1.0, 3317: 1.0, 3320: 2.0, 3324: 1.0, 3325: 2.0, 3329: 1.0, 3335: 1.0, 3336: 1.0, 3338: 1.0, 3339: 2.0, 3340: 1.0, 3341: 1.0, 3349: 1.0, 3350: 1.0, 3351: 1.0, 3353: 1.0, 3355: 1.0, 3361: 2.0, 3369: 1.0, 3373: 1.0, 3374: 1.0, 3375: 1.0, 3376: 2.0, 3381: 2.0, 3384: 1.0, 3385: 1.0, 3386: 8.0, 3396: 1.0, 3402: 3.0, 3404: 1.0, 3407: 2.0, 3411: 1.0, 3412: 1.0, 3415: 1.0, 3426: 2.0, 3427: 2.0, 3442: 1.0, 3445: 1.0, 3446: 1.0, 3459: 2.0, 3462: 1.0, 3465: 1.0, 3467: 3.0, 3469: 2.0, 3476: 2.0, 3478: 1.0, 3480: 1.0, 3482: 1.0, 3483: 1.0, 3487: 3.0, 3490: 1.0, 3491: 3.0, 3493: 1.0, 3495: 1.0, 3505: 1.0, 3512: 1.0, 3514: 3.0, 3516: 2.0, 3517: 2.0, 3518: 1.0, 3533: 2.0, 3535: 1.0, 3543: 2.0, 3547: 5.0, 3548: 2.0, 3549: 2.0, 3552: 1.0, 3562: 1.0, 3563: 1.0, 3566: 1.0, 3567: 1.0, 3573: 1.0, 3576: 1.0, 3578: 2.0, 3580: 1.0, 3584: 3.0, 3586: 1.0, 3587: 1.0, 3594: 1.0, 3597: 1.0, 3599: 1.0, 3602: 1.0, 3603: 4.0, 3605: 3.0, 3606: 1.0, 3609: 2.0, 3611: 1.0, 3614: 1.0, 3618: 2.0, 3623: 1.0, 3625: 1.0, 3626: 1.0, 3628: 11.0, 3634: 2.0, 3656: 1.0, 3657: 1.0, 3660: 1.0, 3661: 2.0, 3667: 4.0, 3672: 1.0, 3676: 7.0, 3677: 5.0, 3679: 1.0, 3690: 1.0, 3692: 1.0, 3693: 1.0, 3696: 1.0, 3697: 1.0, 3702: 1.0, 3710: 1.0, 3712: 3.0, 3714: 2.0, 3718: 1.0, 3723: 1.0, 3726: 1.0, 3731: 1.0, 3732: 2.0, 3737: 3.0, 3741: 2.0, 3744: 1.0, 3745: 1.0, 3747: 1.0, 3753: 1.0, 3754: 1.0, 3755: 1.0, 3756: 1.0, 3757: 1.0, 3759: 1.0, 3761: 1.0, 3766: 1.0, 3767: 1.0, 3772: 3.0, 3775: 1.0, 3776: 1.0, 3777: 1.0, 3778: 1.0, 3779: 1.0, 3780: 3.0, 3782: 1.0, 3788: 1.0, 3799: 1.0, 3800: 1.0, 3811: 1.0, 3814: 1.0, 3815: 1.0, 3818: 1.0, 3822: 1.0, 3823: 1.0, 3824: 2.0, 3828: 1.0, 3845: 1.0, 3853: 1.0, 3858: 1.0, 3861: 1.0, 3866: 1.0, 3868: 2.0, 3871: 1.0, 3872: 1.0, 3875: 1.0, 3876: 1.0, 3883: 4.0, 3888: 2.0, 3891: 1.0, 3892: 2.0, 3898: 1.0, 3900: 1.0, 3904: 1.0, 3908: 2.0, 3909: 1.0, 3911: 2.0, 3912: 2.0, 3916: 1.0, 3920: 4.0, 3932: 1.0, 3943: 1.0, 3945: 4.0, 3949: 1.0, 3950: 1.0, 3955: 1.0, 3960: 1.0, 3961: 1.0, 3963: 1.0, 3967: 1.0, 3973: 1.0, 3981: 1.0, 3982: 2.0, 3987: 1.0, 3991: 1.0, 3996: 1.0, 3997: 1.0, 3998: 1.0, 4001: 1.0, 4004: 1.0, 4006: 1.0, 4017: 1.0, 4022: 4.0, 4026: 8.0, 4033: 3.0, 4034: 1.0, 4049: 1.0, 4050: 1.0, 4053: 1.0, 4062: 1.0, 4067: 1.0, 4074: 1.0, 4075: 1.0, 4077: 1.0, 4080: 1.0, 4089: 1.0, 4090: 1.0, 4092: 1.0, 4093: 2.0, 4107: 3.0, 4110: 1.0, 4119: 1.0, 4125: 1.0, 4133: 1.0, 4137: 1.0, 4145: 2.0, 4154: 1.0, 4164: 1.0, 4167: 1.0, 4173: 2.0, 4177: 1.0, 4181: 1.0, 4182: 27.0, 4189: 1.0, 4191: 1.0, 4194: 1.0, 4196: 3.0, 4198: 1.0, 4201: 1.0, 4202: 2.0, 4205: 1.0, 4207: 1.0, 4221: 1.0, 4233: 1.0, 4235: 3.0, 4237: 1.0, 4238: 1.0, 4248: 1.0, 4249: 1.0, 4252: 1.0, 4254: 1.0, 4257: 3.0, 4262: 1.0, 4264: 1.0, 4268: 1.0, 4274: 1.0, 4282: 1.0, 4288: 1.0, 4298: 3.0, 4299: 1.0, 4304: 3.0, 4305: 1.0, 4310: 1.0, 4312: 5.0, 4313: 2.0, 4314: 1.0, 4318: 2.0, 4321: 1.0, 4326: 2.0, 4331: 1.0, 4334: 1.0, 4335: 1.0, 4341: 1.0, 4344: 1.0, 4345: 1.0, 4350: 1.0, 4374: 2.0, 4375: 1.0, 4380: 1.0, 4383: 1.0, 4387: 1.0, 4388: 2.0, 4395: 1.0, 4399: 1.0, 4400: 2.0, 4402: 1.0, 4403: 2.0, 4404: 1.0, 4409: 1.0, 4415: 3.0, 4416: 1.0, 4419: 1.0, 4421: 1.0, 4431: 1.0, 4434: 1.0, 4438: 1.0, 4439: 2.0, 4441: 1.0, 4442: 2.0, 4445: 1.0, 4452: 1.0, 4455: 1.0, 4460: 1.0, 4464: 1.0, 4468: 1.0, 4469: 1.0, 4470: 1.0, 4471: 1.0, 4472: 1.0, 4484: 2.0, 4486: 6.0, 4489: 2.0, 4493: 1.0, 4502: 1.0, 4508: 1.0, 4512: 1.0, 4522: 1.0, 4524: 1.0, 4531: 1.0, 4532: 1.0, 4533: 1.0, 4534: 1.0, 4539: 2.0, 4541: 3.0, 4549: 1.0, 4558: 3.0, 4567: 2.0, 4573: 1.0, 4585: 1.0, 4588: 1.0, 4595: 1.0, 4597: 4.0, 4603: 2.0, 4608: 1.0, 4611: 2.0, 4614: 1.0, 4618: 1.0, 4627: 1.0, 4628: 2.0, 4630: 5.0, 4650: 1.0, 4671: 1.0, 4675: 4.0, 4676: 1.0, 4680: 1.0, 4686: 1.0, 4692: 1.0, 4697: 1.0, 4699: 1.0, 4706: 1.0, 4708: 1.0, 4711: 2.0, 4712: 1.0, 4730: 2.0, 4737: 1.0, 4740: 1.0, 4744: 1.0, 4747: 1.0, 4748: 3.0, 4763: 1.0, 4766: 2.0, 4775: 2.0, 4777: 1.0, 4778: 1.0, 4811: 1.0, 4818: 1.0, 4823: 1.0, 4824: 1.0, 4828: 1.0, 4835: 1.0, 4844: 1.0, 4845: 1.0, 4849: 1.0, 4851: 1.0, 4857: 1.0, 4864: 1.0, 4865: 1.0, 4866: 1.0, 4867: 1.0, 4869: 2.0, 4874: 1.0, 4875: 1.0, 4886: 1.0, 4887: 1.0, 4890: 3.0, 4892: 1.0, 4896: 1.0, 4899: 2.0, 4904: 2.0, 4911: 1.0, 4924: 1.0, 4928: 1.0, 4930: 1.0, 4938: 1.0, 4944: 1.0, 4945: 1.0, 4952: 1.0, 4956: 1.0, 4960: 1.0, 4963: 1.0, 4969: 1.0, 4979: 1.0, 4980: 1.0, 4982: 1.0, 4986: 1.0, 4988: 1.0, 5001: 1.0, 5006: 2.0, 5009: 1.0, 5012: 1.0, 5040: 1.0, 5049: 1.0, 5051: 1.0, 5063: 2.0, 5064: 1.0, 5074: 1.0, 5090: 9.0, 5092: 1.0, 5093: 1.0, 5108: 1.0, 5117: 1.0, 5140: 1.0, 5141: 2.0, 5150: 2.0, 5153: 1.0, 5165: 1.0, 5169: 1.0, 5176: 1.0, 5184: 1.0, 5190: 1.0, 5196: 2.0, 5208: 2.0, 5211: 1.0, 5213: 1.0, 5215: 3.0, 5217: 2.0, 5219: 2.0, 5228: 1.0, 5239: 1.0, 5240: 3.0, 5264: 1.0, 5268: 1.0, 5278: 1.0, 5291: 1.0, 5292: 1.0, 5295: 1.0, 5296: 1.0, 5304: 2.0, 5315: 1.0, 5322: 1.0, 5324: 1.0, 5338: 1.0, 5339: 1.0, 5349: 2.0, 5354: 2.0, 5370: 1.0, 5375: 1.0, 5378: 2.0, 5380: 1.0, 5389: 1.0, 5392: 1.0, 5403: 1.0, 5409: 1.0, 5418: 1.0, 5425: 1.0, 5436: 1.0, 5440: 1.0, 5449: 1.0, 5459: 1.0, 5460: 2.0, 5461: 1.0, 5490: 2.0, 5492: 1.0, 5493: 1.0, 5507: 1.0, 5511: 1.0, 5516: 2.0, 5518: 2.0, 5550: 1.0, 5554: 1.0, 5561: 2.0, 5583: 1.0, 5590: 1.0, 5592: 1.0, 5594: 1.0, 5596: 2.0, 5598: 1.0, 5604: 1.0, 5607: 1.0, 5613: 1.0, 5619: 1.0, 5622: 1.0, 5635: 1.0, 5639: 1.0, 5641: 1.0, 5645: 1.0, 5657: 1.0, 5661: 2.0, 5668: 1.0, 5670: 1.0, 5680: 1.0, 5688: 1.0, 5691: 1.0, 5711: 1.0, 5748: 1.0, 5753: 1.0, 5762: 2.0, 5765: 1.0, 5772: 2.0, 5774: 1.0, 5781: 1.0, 5786: 1.0, 5799: 1.0, 5801: 2.0, 5802: 3.0, 5826: 2.0, 5831: 1.0, 5837: 1.0, 5838: 1.0, 5852: 1.0, 5853: 1.0, 5865: 2.0, 5886: 1.0, 5899: 1.0, 5907: 1.0, 5912: 2.0, 5913: 1.0, 5935: 1.0, 5936: 1.0, 5965: 1.0, 5966: 2.0, 5978: 1.0, 5986: 1.0, 5993: 1.0, 5997: 1.0, 6006: 4.0, 6007: 1.0, 6008: 2.0, 6017: 2.0, 6020: 1.0, 6023: 1.0, 6028: 1.0, 6035: 1.0, 6041: 1.0, 6043: 1.0, 6058: 1.0, 6059: 1.0, 6060: 1.0, 6063: 1.0, 6077: 1.0, 6095: 1.0, 6141: 1.0, 6149: 2.0, 6188: 2.0, 6193: 2.0, 6199: 2.0, 6203: 2.0, 6208: 1.0, 6210: 1.0, 6213: 5.0, 6260: 1.0, 6267: 1.0, 6276: 1.0, 6292: 1.0, 6294: 1.0, 6296: 1.0, 6302: 1.0, 6305: 1.0, 6310: 1.0, 6312: 1.0, 6316: 1.0, 6318: 1.0, 6332: 1.0, 6355: 1.0, 6358: 2.0, 6367: 1.0, 6383: 1.0, 6391: 1.0, 6419: 1.0, 6421: 2.0, 6432: 3.0, 6441: 1.0, 6444: 4.0, 6448: 1.0, 6471: 1.0, 6475: 1.0, 6494: 1.0, 6500: 1.0, 6517: 1.0, 6519: 5.0, 6521: 1.0, 6525: 2.0, 6534: 2.0, 6535: 1.0, 6536: 1.0, 6537: 1.0, 6556: 1.0, 6558: 1.0, 6565: 1.0, 6568: 1.0, 6576: 2.0, 6583: 1.0, 6588: 1.0, 6597: 1.0, 6621: 1.0, 6653: 1.0, 6658: 1.0, 6660: 1.0, 6662: 1.0, 6669: 1.0, 6674: 1.0, 6678: 1.0, 6684: 1.0, 6696: 1.0, 6698: 1.0, 6705: 2.0, 6711: 1.0, 6712: 1.0, 6732: 1.0, 6747: 1.0, 6767: 2.0, 6771: 1.0, 6789: 1.0, 6790: 1.0, 6807: 1.0, 6852: 1.0, 6858: 1.0, 6861: 1.0, 6869: 1.0, 6886: 1.0, 6896: 1.0, 6913: 1.0, 6938: 4.0, 6944: 1.0, 6949: 1.0, 6966: 1.0, 6970: 1.0, 6982: 1.0, 7004: 1.0, 7012: 1.0, 7013: 1.0, 7015: 1.0, 7021: 1.0, 7032: 1.0, 7037: 2.0, 7039: 1.0, 7063: 1.0, 7072: 1.0, 7078: 1.0, 7090: 2.0, 7094: 1.0, 7107: 2.0, 7113: 2.0, 7118: 1.0, 7142: 1.0, 7145: 1.0, 7155: 3.0, 7176: 3.0, 7178: 1.0, 7184: 1.0, 7186: 1.0, 7189: 2.0, 7190: 1.0, 7196: 1.0, 7201: 1.0, 7209: 1.0, 7212: 1.0, 7245: 1.0, 7248: 1.0, 7254: 1.0, 7255: 3.0, 7262: 3.0, 7268: 2.0, 7272: 1.0, 7273: 1.0, 7278: 1.0, 7296: 1.0, 7300: 1.0, 7312: 2.0, 7315: 1.0, 7319: 1.0, 7330: 1.0, 7333: 1.0, 7334: 1.0, 7338: 1.0, 7340: 1.0, 7342: 1.0, 7346: 1.0, 7362: 3.0, 7380: 2.0, 7381: 2.0, 7384: 1.0, 7388: 1.0, 7392: 1.0, 7400: 2.0, 7402: 2.0, 7404: 1.0, 7405: 2.0, 7417: 1.0, 7430: 1.0, 7442: 1.0, 7449: 1.0, 7452: 1.0, 7474: 1.0, 7476: 1.0, 7477: 2.0, 7480: 1.0, 7533: 1.0, 7540: 1.0, 7559: 2.0, 7560: 1.0, 7569: 1.0, 7585: 1.0, 7591: 1.0, 7604: 1.0, 7627: 1.0, 7631: 4.0, 7639: 2.0, 7650: 2.0, 7664: 2.0, 7667: 1.0, 7668: 1.0, 7675: 1.0, 7680: 1.0, 7697: 1.0, 7705: 1.0, 7726: 1.0, 7746: 2.0, 7759: 1.0, 7766: 1.0, 7781: 1.0, 7802: 1.0, 7803: 1.0, 7810: 1.0, 7824: 1.0, 7866: 1.0, 7889: 1.0, 7894: 1.0, 7908: 1.0, 7918: 1.0, 7926: 1.0, 7931: 4.0, 7934: 1.0, 7937: 1.0, 7948: 1.0, 7953: 1.0, 7955: 5.0, 7961: 1.0, 8008: 1.0, 8012: 5.0, 8017: 1.0, 8032: 1.0, 8050: 1.0, 8053: 1.0, 8082: 1.0, 8084: 2.0, 8091: 1.0, 8107: 2.0, 8116: 1.0, 8149: 1.0, 8157: 1.0, 8189: 1.0, 8199: 1.0, 8210: 1.0, 8213: 1.0, 8220: 1.0, 8228: 1.0, 8233: 1.0, 8289: 1.0, 8292: 1.0, 8295: 1.0, 8313: 2.0, 8319: 3.0, 8325: 7.0, 8327: 1.0, 8339: 1.0, 8340: 1.0, 8394: 1.0, 8402: 1.0, 8404: 2.0, 8437: 1.0, 8457: 2.0, 8477: 1.0, 8489: 2.0, 8497: 2.0, 8513: 1.0, 8514: 1.0, 8538: 1.0, 8539: 1.0, 8574: 1.0, 8596: 1.0, 8597: 1.0, 8611: 1.0, 8658: 1.0, 8675: 1.0, 8691: 1.0, 8719: 1.0, 8727: 2.0, 8729: 1.0, 8733: 1.0, 8735: 1.0, 8742: 1.0, 8747: 1.0, 8748: 1.0, 8751: 1.0, 8762: 1.0, 8763: 1.0, 8765: 1.0, 8784: 1.0, 8794: 1.0, 8798: 1.0, 8806: 1.0, 8811: 1.0, 8873: 1.0, 8890: 1.0, 8898: 1.0, 8911: 7.0, 8919: 1.0, 8933: 1.0, 8956: 2.0, 8960: 1.0, 8982: 1.0, 9022: 2.0, 9025: 1.0, 9075: 1.0, 9084: 2.0, 9126: 1.0, 9129: 1.0, 9140: 1.0, 9166: 1.0, 9169: 1.0, 9171: 1.0, 9180: 1.0, 9182: 1.0, 9187: 1.0, 9216: 2.0, 9260: 1.0, 9294: 3.0, 9309: 1.0, 9317: 1.0, 9338: 1.0, 9343: 2.0, 9350: 1.0, 9358: 1.0, 9369: 1.0, 9382: 1.0, 9388: 1.0, 9421: 1.0, 9425: 1.0, 9439: 1.0, 9456: 1.0, 9468: 1.0, 9485: 1.0, 9508: 1.0, 9526: 1.0, 9583: 4.0, 9629: 1.0, 9634: 1.0, 9652: 1.0, 9673: 1.0, 9683: 1.0, 9700: 2.0, 9712: 1.0, 9717: 1.0, 9734: 1.0, 9760: 1.0, 9772: 1.0, 9788: 1.0, 9799: 1.0, 9807: 2.0, 9817: 1.0, 9832: 1.0, 9837: 1.0, 9878: 1.0, 9889: 1.0, 9921: 1.0, 9946: 2.0, 9947: 1.0, 10020: 1.0, 10021: 1.0, 10027: 1.0, 10038: 1.0, 10065: 1.0, 10070: 1.0, 10079: 2.0, 10096: 1.0, 10122: 1.0, 10165: 5.0, 10170: 1.0, 10206: 1.0, 10243: 1.0, 10266: 1.0, 10281: 1.0, 10291: 1.0, 10297: 1.0, 10318: 1.0, 10338: 1.0, 10361: 1.0, 10375: 5.0, 10403: 1.0, 10406: 1.0, 10424: 2.0, 10444: 1.0, 10446: 3.0, 10447: 2.0, 10538: 1.0, 10571: 1.0, 10572: 1.0, 10585: 1.0, 10587: 1.0, 10602: 1.0, 10605: 1.0, 10663: 1.0, 10672: 1.0, 10692: 1.0, 10697: 2.0, 10719: 1.0, 10720: 1.0, 10724: 1.0, 10732: 1.0, 10758: 1.0, 10759: 1.0, 10790: 1.0, 10804: 1.0, 10825: 1.0, 10828: 1.0, 10898: 1.0, 10932: 1.0, 10936: 2.0, 10946: 1.0, 10982: 1.0, 11013: 1.0, 11090: 1.0, 11093: 1.0, 11111: 1.0, 11183: 1.0, 11193: 1.0, 11223: 1.0, 11231: 1.0, 11249: 1.0, 11266: 1.0, 11274: 3.0, 11343: 4.0, 11353: 1.0, 11357: 1.0, 11358: 1.0, 11403: 1.0, 11438: 1.0, 11451: 1.0, 11469: 1.0, 11484: 1.0, 11497: 1.0, 11504: 1.0, 11510: 1.0, 11511: 1.0, 11512: 1.0, 11515: 1.0, 11534: 1.0, 11538: 1.0, 11540: 1.0, 11561: 1.0, 11567: 1.0, 11607: 1.0, 11608: 1.0, 11612: 1.0, 11648: 1.0, 11663: 1.0, 11667: 1.0, 11693: 1.0, 11723: 1.0, 11727: 1.0, 11775: 3.0, 11792: 1.0, 11808: 1.0, 11812: 1.0, 11846: 1.0, 11869: 1.0, 11880: 1.0, 11951: 1.0, 11954: 1.0, 11989: 1.0, 12011: 1.0, 12023: 1.0, 12035: 1.0, 12040: 1.0, 12127: 1.0, 12133: 1.0, 12138: 1.0, 12146: 1.0, 12216: 1.0, 12227: 3.0, 12229: 1.0, 12245: 2.0, 12266: 1.0, 12328: 1.0, 12341: 1.0, 12350: 1.0, 12372: 1.0, 12385: 2.0, 12403: 1.0, 12404: 2.0, 12406: 1.0, 12415: 1.0, 12429: 2.0, 12450: 1.0, 12465: 1.0, 12476: 2.0, 12479: 1.0, 12497: 1.0, 12530: 2.0, 12543: 1.0, 12551: 1.0, 12552: 1.0, 12564: 1.0, 12595: 1.0, 12609: 1.0, 12621: 1.0, 12669: 1.0, 12694: 1.0, 12706: 1.0, 12711: 1.0, 12724: 1.0, 12736: 1.0, 12778: 1.0, 12801: 1.0, 12805: 1.0, 12847: 1.0, 12864: 1.0, 12883: 1.0, 12906: 2.0, 12934: 1.0, 13074: 4.0, 13079: 1.0, 13117: 3.0, 13120: 2.0, 13188: 1.0, 13189: 1.0, 13204: 1.0, 13239: 1.0, 13288: 1.0, 13304: 3.0, 13309: 1.0, 13347: 1.0, 13354: 1.0, 13391: 1.0, 13411: 1.0, 13506: 1.0, 13507: 1.0, 13513: 1.0, 13525: 1.0, 13534: 1.0, 13545: 1.0, 13556: 1.0, 13571: 1.0, 13590: 1.0, 13592: 1.0, 13600: 1.0, 13636: 1.0, 13703: 1.0, 13757: 1.0, 13795: 1.0, 13818: 1.0, 13834: 1.0, 13863: 1.0, 13899: 1.0, 13902: 1.0, 13905: 1.0, 13935: 3.0, 13958: 1.0, 13980: 1.0, 13997: 1.0, 14000: 1.0, 14005: 1.0, 14067: 1.0, 14072: 1.0, 14092: 1.0, 14110: 1.0, 14123: 1.0, 14132: 2.0, 14158: 1.0, 14169: 1.0, 14173: 1.0, 14231: 1.0, 14232: 1.0, 14236: 1.0, 14245: 3.0, 14267: 1.0, 14286: 1.0, 14365: 1.0, 14379: 1.0, 14425: 1.0, 14453: 1.0, 14468: 1.0, 14496: 1.0, 14505: 1.0, 14513: 1.0, 14518: 1.0, 14575: 1.0, 14577: 1.0, 14653: 1.0, 14691: 1.0, 14726: 1.0, 14747: 1.0, 14754: 1.0, 14785: 1.0, 14793: 1.0, 14794: 1.0, 14854: 1.0, 14916: 2.0, 14946: 1.0, 14972: 2.0, 14976: 3.0, 15003: 2.0, 15026: 1.0, 15054: 1.0, 15069: 1.0, 15094: 1.0, 15107: 1.0, 15180: 1.0, 15196: 1.0, 15197: 1.0, 15215: 1.0, 15255: 1.0, 15269: 1.0, 15279: 1.0, 15302: 1.0, 15305: 1.0, 15307: 1.0, 15349: 1.0, 15355: 1.0, 15395: 1.0, 15467: 1.0, 15483: 1.0, 15522: 1.0, 15533: 1.0, 15535: 1.0, 15553: 1.0, 15592: 1.0, 15636: 1.0, 15665: 1.0, 15690: 1.0, 15716: 1.0, 15733: 1.0, 15763: 1.0, 15822: 1.0, 15823: 1.0, 15884: 1.0, 15914: 1.0, 15923: 2.0, 15925: 1.0, 15932: 1.0, 15937: 1.0, 15948: 1.0, 15975: 1.0, 16025: 1.0, 16044: 1.0, 16075: 1.0, 16194: 1.0, 16258: 1.0, 16305: 1.0, 16352: 1.0, 16369: 1.0, 16391: 1.0, 16408: 1.0, 16411: 1.0, 16426: 1.0, 16484: 2.0, 16492: 1.0, 16501: 1.0, 16519: 1.0, 16533: 1.0, 16576: 1.0, 16618: 1.0, 16645: 1.0, 16762: 1.0, 16821: 1.0, 16823: 1.0, 16874: 1.0, 16901: 1.0, 16938: 1.0, 16951: 1.0, 16968: 1.0, 17070: 1.0, 17105: 2.0, 17189: 1.0, 17218: 1.0, 17332: 2.0, 17344: 1.0, 17365: 1.0, 17388: 1.0, 17390: 1.0, 17422: 1.0, 17439: 1.0, 17447: 1.0, 17486: 1.0, 17494: 1.0, 17545: 1.0, 17565: 1.0, 17614: 1.0, 17639: 1.0, 17773: 1.0, 17790: 1.0, 17815: 1.0, 17863: 2.0, 17875: 1.0, 17880: 1.0, 17887: 1.0, 17900: 1.0, 17938: 1.0, 17950: 1.0, 17962: 1.0, 17985: 1.0, 18017: 1.0, 18110: 1.0, 18185: 1.0, 18200: 1.0, 18243: 1.0, 18319: 1.0, 18342: 1.0, 18395: 1.0, 18397: 1.0, 18428: 2.0, 18475: 1.0, 18516: 1.0, 18540: 1.0, 18542: 1.0, 18683: 1.0, 18717: 1.0, 18804: 1.0, 18867: 1.0, 18908: 1.0, 18912: 2.0, 19005: 1.0, 19012: 1.0, 19097: 1.0, 19156: 1.0, 19169: 1.0, 19182: 1.0, 19233: 2.0, 19364: 1.0, 19368: 1.0, 19483: 1.0, 19565: 1.0, 19609: 2.0, 19714: 1.0, 19799: 2.0, 19805: 1.0, 19813: 1.0, 19905: 1.0, 19913: 1.0, 19959: 1.0, 19976: 1.0, 19986: 1.0, 19998: 1.0, 20009: 1.0, 20015: 1.0, 20074: 1.0, 20104: 1.0, 20153: 1.0, 20192: 1.0, 20225: 1.0, 20388: 2.0, 20403: 1.0, 20457: 1.0, 20743: 1.0, 20768: 1.0, 20803: 1.0, 20818: 1.0, 20888: 1.0, 20951: 1.0, 20975: 1.0, 21006: 1.0, 21241: 1.0, 21311: 2.0, 21369: 1.0, 21449: 1.0, 21504: 1.0, 21524: 1.0, 21547: 2.0, 21612: 1.0, 21878: 1.0, 22086: 1.0, 22178: 1.0, 22189: 1.0, 22205: 1.0, 22239: 1.0, 22315: 1.0, 22375: 1.0, 22442: 1.0, 22453: 1.0, 22658: 1.0, 22675: 1.0, 22791: 1.0, 22795: 1.0, 22827: 1.0, 22906: 1.0, 22974: 1.0, 23037: 1.0, 23042: 1.0, 23190: 1.0, 23207: 1.0, 23215: 1.0, 23226: 2.0, 23242: 1.0, 23412: 1.0, 23429: 1.0, 23440: 1.0, 23702: 1.0, 23715: 1.0, 23721: 1.0, 23753: 2.0, 23826: 2.0, 24231: 3.0, 24309: 1.0, 24360: 1.0, 24481: 1.0, 24636: 1.0, 24739: 1.0, 24748: 1.0, 24773: 1.0, 24826: 1.0, 25158: 1.0, 25257: 1.0, 25270: 1.0, 25282: 1.0, 25371: 1.0, 25421: 1.0, 25473: 1.0, 25476: 1.0, 25650: 1.0, 25838: 1.0, 25946: 1.0, 25980: 1.0, 26068: 1.0, 26078: 1.0, 26282: 3.0, 26388: 1.0, 26418: 1.0, 26541: 1.0, 26607: 1.0, 26684: 1.0, 26686: 1.0, 26776: 1.0, 26797: 1.0, 26831: 2.0, 26841: 1.0, 26965: 1.0, 27127: 1.0, 27241: 1.0, 27318: 1.0, 27319: 1.0, 27378: 1.0, 27454: 1.0, 27649: 1.0, 27885: 2.0, 27985: 1.0, 28083: 1.0, 28117: 1.0, 28131: 1.0, 28166: 1.0, 28420: 1.0, 28791: 2.0, 28868: 1.0, 28922: 1.0, 28999: 1.0, 29065: 2.0, 29167: 1.0, 29310: 1.0, 29396: 1.0, 29465: 1.0, 29535: 2.0, 29634: 1.0, 29876: 1.0, 29936: 1.0, 29993: 1.0, 30042: 1.0, 30109: 1.0, 30133: 1.0, 30668: 1.0, 30698: 1.0, 30715: 1.0, 30956: 1.0, 31039: 1.0, 31174: 1.0, 31217: 1.0, 31481: 1.0, 31642: 1.0, 31643: 1.0, 31733: 1.0, 31830: 1.0, 31839: 1.0, 31864: 1.0, 31943: 1.0, 31989: 1.0, 32137: 1.0, 32292: 1.0, 32408: 1.0, 32480: 2.0, 32590: 1.0, 32817: 1.0, 33074: 1.0, 33461: 1.0, 33656: 1.0, 33660: 1.0, 33705: 1.0, 34227: 1.0, 34319: 1.0, 34516: 1.0, 34576: 1.0, 34666: 1.0, 34805: 1.0, 35086: 1.0, 35183: 1.0, 35194: 1.0, 35409: 1.0, 35553: 1.0, 35731: 1.0, 35765: 2.0, 35795: 1.0, 35797: 1.0, 35977: 1.0, 36027: 1.0, 36044: 1.0, 36299: 1.0, 36536: 2.0, 36553: 1.0, 36700: 1.0, 36884: 1.0, 37133: 1.0, 37255: 1.0, 37359: 1.0, 37714: 1.0, 37827: 1.0, 37842: 1.0, 37885: 1.0, 38178: 1.0, 38438: 1.0, 38666: 1.0, 38746: 1.0, 38878: 1.0, 39258: 1.0, 39500: 1.0, 40085: 1.0, 40103: 1.0, 41121: 1.0, 41281: 1.0, 41379: 1.0, 41668: 1.0, 41690: 1.0, 42148: 1.0, 42403: 1.0, 43241: 2.0, 43426: 1.0, 44197: 1.0, 44778: 1.0, 45265: 1.0, 45559: 1.0, 46059: 1.0, 46087: 1.0, 46093: 1.0, 46259: 1.0, 46985: 1.0, 47299: 1.0, 49452: 1.0, 49601: 1.0, 49694: 1.0, 50256: 1.0, 51700: 1.0, 52013: 1.0, 52682: 1.0, 53039: 1.0, 53170: 1.0, 53657: 2.0, 54042: 2.0, 54434: 1.0, 54775: 1.0, 55200: 1.0, 57112: 1.0, 57313: 1.0, 57811: 1.0, 57931: 1.0, 59177: 1.0, 60052: 1.0, 60110: 2.0, 60515: 1.0, 60531: 1.0, 61595: 1.0, 61859: 1.0, 62643: 1.0, 64312: 1.0, 65536: 1.0, 66041: 1.0, 66434: 3.0, 66572: 1.0, 66611: 13.0, 68476: 2.0, 69548: 1.0, 69639: 1.0, 69745: 1.0, 71512: 2.0, 73312: 1.0, 73511: 1.0, 74911: 6.0, 75179: 3.0, 75761: 1.0, 77378: 1.0, 77688: 1.0, 81237: 1.0, 87120: 1.0, 88973: 1.0, 90541: 1.0, 99146: 1.0})),\n",
       " ('458',\n",
       "  SparseVector(100000, {0: 4.0, 1: 13.0, 2: 3.0, 3: 20.0, 4: 20.0, 5: 7.0, 7: 33.0, 8: 8.0, 9: 8.0, 11: 6.0, 12: 16.0, 13: 14.0, 14: 11.0, 15: 8.0, 16: 8.0, 17: 17.0, 18: 7.0, 19: 6.0, 20: 16.0, 21: 4.0, 22: 26.0, 23: 3.0, 24: 11.0, 25: 3.0, 26: 5.0, 27: 4.0, 28: 12.0, 29: 2.0, 30: 11.0, 31: 3.0, 32: 5.0, 34: 4.0, 35: 1.0, 37: 4.0, 38: 22.0, 39: 10.0, 40: 12.0, 41: 6.0, 42: 4.0, 43: 10.0, 44: 21.0, 45: 5.0, 46: 2.0, 47: 31.0, 48: 8.0, 49: 1.0, 50: 7.0, 51: 4.0, 53: 10.0, 54: 1.0, 56: 16.0, 57: 8.0, 58: 1.0, 59: 1.0, 62: 9.0, 63: 2.0, 65: 10.0, 66: 29.0, 70: 7.0, 71: 1.0, 72: 1.0, 74: 2.0, 75: 7.0, 76: 7.0, 79: 3.0, 81: 1.0, 82: 2.0, 83: 1.0, 84: 4.0, 85: 1.0, 86: 5.0, 87: 1.0, 89: 1.0, 90: 19.0, 91: 8.0, 92: 2.0, 94: 6.0, 95: 3.0, 96: 17.0, 97: 2.0, 99: 8.0, 101: 5.0, 102: 1.0, 103: 3.0, 104: 5.0, 105: 7.0, 106: 1.0, 107: 1.0, 110: 3.0, 112: 1.0, 113: 4.0, 114: 1.0, 115: 6.0, 117: 8.0, 119: 4.0, 120: 2.0, 121: 1.0, 122: 10.0, 124: 2.0, 127: 6.0, 128: 5.0, 129: 2.0, 130: 3.0, 132: 2.0, 133: 3.0, 134: 10.0, 135: 1.0, 136: 1.0, 137: 4.0, 138: 1.0, 139: 2.0, 140: 3.0, 141: 1.0, 143: 7.0, 144: 11.0, 146: 1.0, 147: 2.0, 148: 3.0, 149: 8.0, 151: 5.0, 152: 8.0, 153: 3.0, 154: 1.0, 155: 2.0, 156: 1.0, 161: 2.0, 162: 5.0, 163: 1.0, 164: 3.0, 165: 5.0, 167: 3.0, 168: 4.0, 170: 6.0, 171: 7.0, 172: 8.0, 173: 3.0, 175: 15.0, 177: 4.0, 178: 4.0, 180: 5.0, 181: 4.0, 182: 1.0, 183: 6.0, 185: 3.0, 186: 1.0, 189: 3.0, 190: 6.0, 191: 1.0, 192: 2.0, 193: 1.0, 194: 2.0, 196: 4.0, 197: 1.0, 198: 4.0, 204: 6.0, 206: 2.0, 207: 1.0, 209: 13.0, 210: 3.0, 211: 4.0, 213: 2.0, 214: 2.0, 217: 3.0, 218: 11.0, 219: 1.0, 220: 2.0, 223: 3.0, 224: 3.0, 225: 4.0, 227: 2.0, 228: 1.0, 229: 2.0, 230: 6.0, 231: 2.0, 232: 1.0, 233: 6.0, 234: 8.0, 238: 1.0, 240: 7.0, 241: 18.0, 242: 8.0, 243: 5.0, 244: 1.0, 245: 2.0, 246: 3.0, 247: 2.0, 248: 1.0, 250: 1.0, 251: 3.0, 252: 9.0, 254: 10.0, 256: 8.0, 257: 2.0, 260: 2.0, 261: 1.0, 263: 16.0, 264: 2.0, 265: 1.0, 269: 6.0, 270: 4.0, 272: 5.0, 274: 1.0, 275: 2.0, 276: 1.0, 278: 2.0, 279: 1.0, 280: 1.0, 284: 3.0, 285: 7.0, 288: 1.0, 289: 2.0, 291: 3.0, 292: 2.0, 293: 4.0, 296: 1.0, 298: 6.0, 300: 18.0, 301: 3.0, 306: 1.0, 307: 5.0, 310: 3.0, 311: 1.0, 312: 8.0, 318: 9.0, 320: 30.0, 322: 2.0, 323: 2.0, 324: 6.0, 328: 10.0, 329: 1.0, 331: 2.0, 332: 8.0, 333: 1.0, 334: 1.0, 337: 7.0, 340: 3.0, 343: 1.0, 345: 1.0, 346: 6.0, 348: 8.0, 349: 4.0, 350: 1.0, 351: 4.0, 352: 7.0, 353: 2.0, 356: 2.0, 364: 13.0, 365: 3.0, 368: 3.0, 369: 10.0, 370: 1.0, 371: 8.0, 372: 3.0, 373: 4.0, 375: 1.0, 376: 2.0, 379: 3.0, 382: 1.0, 383: 4.0, 386: 2.0, 387: 1.0, 388: 4.0, 389: 5.0, 391: 6.0, 392: 1.0, 393: 3.0, 395: 2.0, 397: 1.0, 400: 2.0, 402: 3.0, 403: 1.0, 405: 4.0, 406: 1.0, 409: 7.0, 410: 1.0, 411: 3.0, 414: 6.0, 415: 11.0, 417: 6.0, 419: 1.0, 420: 1.0, 421: 1.0, 423: 4.0, 425: 7.0, 426: 1.0, 429: 1.0, 432: 1.0, 433: 2.0, 434: 1.0, 435: 1.0, 437: 1.0, 438: 2.0, 439: 1.0, 442: 1.0, 443: 2.0, 444: 14.0, 445: 4.0, 449: 1.0, 454: 15.0, 456: 1.0, 457: 1.0, 458: 1.0, 462: 2.0, 463: 2.0, 464: 4.0, 468: 5.0, 470: 2.0, 471: 3.0, 473: 1.0, 476: 2.0, 478: 1.0, 481: 6.0, 482: 4.0, 483: 1.0, 486: 7.0, 487: 1.0, 488: 1.0, 491: 2.0, 494: 6.0, 499: 3.0, 500: 1.0, 502: 3.0, 506: 8.0, 507: 1.0, 508: 2.0, 509: 1.0, 510: 1.0, 511: 3.0, 512: 1.0, 513: 2.0, 515: 1.0, 518: 4.0, 519: 1.0, 520: 5.0, 523: 1.0, 525: 5.0, 528: 7.0, 531: 7.0, 532: 3.0, 535: 1.0, 538: 1.0, 540: 7.0, 545: 2.0, 546: 4.0, 549: 5.0, 550: 2.0, 551: 1.0, 553: 2.0, 555: 4.0, 557: 6.0, 558: 26.0, 561: 2.0, 567: 2.0, 569: 1.0, 570: 3.0, 571: 3.0, 572: 1.0, 574: 4.0, 576: 2.0, 580: 6.0, 583: 1.0, 585: 3.0, 586: 1.0, 587: 1.0, 590: 1.0, 591: 1.0, 592: 1.0, 595: 1.0, 597: 1.0, 602: 4.0, 603: 8.0, 606: 7.0, 607: 5.0, 608: 3.0, 610: 2.0, 613: 2.0, 615: 2.0, 616: 2.0, 632: 1.0, 633: 3.0, 634: 8.0, 635: 6.0, 636: 1.0, 639: 6.0, 642: 2.0, 644: 2.0, 645: 1.0, 647: 2.0, 649: 1.0, 652: 3.0, 653: 6.0, 654: 3.0, 655: 9.0, 656: 6.0, 658: 4.0, 664: 1.0, 665: 1.0, 669: 3.0, 678: 1.0, 680: 1.0, 684: 1.0, 685: 1.0, 692: 2.0, 694: 2.0, 695: 7.0, 696: 5.0, 698: 3.0, 700: 2.0, 703: 1.0, 704: 1.0, 706: 3.0, 707: 1.0, 708: 3.0, 710: 2.0, 715: 2.0, 717: 2.0, 727: 4.0, 729: 3.0, 731: 4.0, 732: 1.0, 739: 6.0, 740: 9.0, 741: 1.0, 742: 1.0, 743: 5.0, 746: 4.0, 750: 6.0, 751: 1.0, 752: 5.0, 754: 3.0, 756: 4.0, 764: 3.0, 767: 3.0, 769: 1.0, 771: 2.0, 774: 4.0, 779: 2.0, 780: 1.0, 783: 2.0, 784: 2.0, 787: 2.0, 794: 6.0, 796: 1.0, 806: 1.0, 807: 6.0, 808: 1.0, 810: 5.0, 811: 1.0, 813: 1.0, 814: 2.0, 815: 3.0, 816: 1.0, 819: 1.0, 820: 2.0, 821: 1.0, 824: 3.0, 826: 3.0, 830: 1.0, 833: 3.0, 835: 4.0, 838: 1.0, 839: 1.0, 840: 3.0, 841: 1.0, 844: 2.0, 845: 2.0, 847: 5.0, 848: 4.0, 851: 4.0, 852: 3.0, 854: 7.0, 856: 5.0, 857: 2.0, 860: 1.0, 861: 1.0, 863: 1.0, 865: 1.0, 866: 3.0, 869: 1.0, 876: 1.0, 877: 1.0, 878: 3.0, 883: 1.0, 885: 2.0, 886: 1.0, 889: 2.0, 892: 1.0, 893: 3.0, 899: 1.0, 900: 1.0, 901: 4.0, 903: 11.0, 904: 1.0, 905: 5.0, 908: 1.0, 909: 1.0, 912: 3.0, 914: 1.0, 915: 1.0, 918: 3.0, 922: 1.0, 923: 1.0, 924: 1.0, 925: 3.0, 928: 1.0, 929: 5.0, 934: 1.0, 935: 1.0, 938: 1.0, 940: 1.0, 941: 4.0, 945: 1.0, 950: 2.0, 951: 2.0, 953: 2.0, 958: 3.0, 960: 1.0, 961: 2.0, 962: 2.0, 964: 1.0, 966: 1.0, 967: 4.0, 972: 3.0, 975: 10.0, 977: 10.0, 980: 5.0, 983: 1.0, 984: 2.0, 986: 1.0, 987: 1.0, 988: 1.0, 993: 2.0, 999: 1.0, 1000: 3.0, 1001: 14.0, 1003: 1.0, 1004: 1.0, 1006: 3.0, 1009: 1.0, 1014: 1.0, 1016: 1.0, 1018: 1.0, 1020: 3.0, 1021: 2.0, 1022: 6.0, 1026: 1.0, 1030: 6.0, 1032: 2.0, 1035: 2.0, 1036: 1.0, 1037: 2.0, 1039: 2.0, 1040: 4.0, 1042: 4.0, 1043: 1.0, 1045: 5.0, 1046: 2.0, 1047: 1.0, 1050: 1.0, 1051: 1.0, 1056: 2.0, 1057: 1.0, 1061: 1.0, 1065: 8.0, 1066: 3.0, 1069: 13.0, 1070: 1.0, 1077: 1.0, 1079: 1.0, 1081: 9.0, 1084: 1.0, 1087: 3.0, 1089: 2.0, 1092: 3.0, 1093: 1.0, 1098: 1.0, 1101: 4.0, 1106: 2.0, 1108: 1.0, 1109: 2.0, 1110: 2.0, 1112: 4.0, 1114: 4.0, 1116: 2.0, 1120: 2.0, 1126: 3.0, 1131: 4.0, 1132: 1.0, 1134: 1.0, 1135: 2.0, 1136: 1.0, 1137: 1.0, 1141: 2.0, 1142: 5.0, 1145: 2.0, 1149: 4.0, 1155: 3.0, 1160: 2.0, 1162: 2.0, 1163: 5.0, 1165: 1.0, 1167: 4.0, 1168: 2.0, 1169: 3.0, 1170: 3.0, 1173: 2.0, 1180: 8.0, 1181: 2.0, 1183: 3.0, 1184: 1.0, 1189: 6.0, 1196: 1.0, 1198: 1.0, 1200: 1.0, 1204: 4.0, 1207: 3.0, 1209: 3.0, 1212: 1.0, 1215: 2.0, 1218: 1.0, 1219: 4.0, 1220: 1.0, 1221: 1.0, 1228: 1.0, 1229: 1.0, 1230: 2.0, 1231: 3.0, 1233: 1.0, 1234: 1.0, 1235: 1.0, 1236: 1.0, 1238: 2.0, 1248: 2.0, 1249: 1.0, 1254: 2.0, 1263: 1.0, 1270: 2.0, 1272: 2.0, 1274: 1.0, 1281: 2.0, 1287: 4.0, 1289: 1.0, 1292: 1.0, 1295: 8.0, 1302: 1.0, 1305: 1.0, 1310: 1.0, 1313: 1.0, 1315: 1.0, 1316: 1.0, 1317: 1.0, 1318: 3.0, 1319: 11.0, 1320: 3.0, 1321: 1.0, 1323: 3.0, 1327: 1.0, 1329: 1.0, 1330: 1.0, 1331: 8.0, 1332: 2.0, 1333: 8.0, 1334: 1.0, 1337: 4.0, 1338: 4.0, 1342: 2.0, 1343: 1.0, 1345: 1.0, 1347: 4.0, 1355: 1.0, 1357: 2.0, 1358: 2.0, 1367: 2.0, 1375: 3.0, 1376: 1.0, 1379: 5.0, 1381: 1.0, 1382: 3.0, 1386: 1.0, 1390: 1.0, 1398: 2.0, 1399: 2.0, 1402: 2.0, 1403: 2.0, 1409: 2.0, 1411: 4.0, 1418: 3.0, 1422: 6.0, 1424: 1.0, 1427: 3.0, 1428: 2.0, 1430: 2.0, 1439: 1.0, 1440: 1.0, 1442: 1.0, 1444: 2.0, 1445: 1.0, 1447: 5.0, 1450: 1.0, 1453: 2.0, 1455: 1.0, 1461: 1.0, 1464: 2.0, 1465: 2.0, 1466: 3.0, 1469: 1.0, 1473: 1.0, 1480: 1.0, 1481: 2.0, 1482: 1.0, 1486: 2.0, 1487: 3.0, 1488: 3.0, 1492: 4.0, 1495: 1.0, 1497: 1.0, 1504: 1.0, 1505: 2.0, 1508: 2.0, 1522: 1.0, 1524: 2.0, 1528: 2.0, 1533: 1.0, 1534: 1.0, 1536: 2.0, 1539: 1.0, 1549: 1.0, 1560: 1.0, 1562: 3.0, 1566: 5.0, 1569: 1.0, 1570: 1.0, 1571: 2.0, 1573: 1.0, 1580: 1.0, 1581: 1.0, 1583: 1.0, 1587: 1.0, 1591: 2.0, 1592: 1.0, 1593: 1.0, 1598: 1.0, 1602: 1.0, 1603: 3.0, 1605: 3.0, 1606: 1.0, 1608: 3.0, 1611: 1.0, 1612: 1.0, 1616: 2.0, 1624: 1.0, 1627: 2.0, 1628: 1.0, 1630: 6.0, 1631: 3.0, 1632: 1.0, 1634: 7.0, 1637: 3.0, 1638: 1.0, 1640: 1.0, 1641: 2.0, 1643: 14.0, 1645: 3.0, 1647: 2.0, 1648: 1.0, 1649: 1.0, 1650: 1.0, 1654: 3.0, 1656: 3.0, 1658: 1.0, 1659: 1.0, 1667: 1.0, 1669: 1.0, 1671: 4.0, 1675: 2.0, 1682: 1.0, 1687: 1.0, 1688: 2.0, 1689: 5.0, 1692: 1.0, 1694: 3.0, 1695: 1.0, 1696: 2.0, 1698: 1.0, 1701: 3.0, 1703: 8.0, 1715: 3.0, 1716: 3.0, 1724: 3.0, 1726: 5.0, 1728: 3.0, 1730: 2.0, 1731: 1.0, 1732: 5.0, 1733: 2.0, 1735: 5.0, 1738: 6.0, 1746: 1.0, 1751: 4.0, 1752: 2.0, 1755: 1.0, 1758: 1.0, 1765: 2.0, 1766: 1.0, 1767: 1.0, 1772: 10.0, 1774: 4.0, 1778: 2.0, 1786: 1.0, 1788: 1.0, 1789: 2.0, 1791: 3.0, 1795: 1.0, 1797: 1.0, 1800: 1.0, 1801: 4.0, 1802: 2.0, 1803: 3.0, 1806: 1.0, 1809: 1.0, 1812: 3.0, 1815: 1.0, 1816: 2.0, 1818: 3.0, 1823: 1.0, 1825: 1.0, 1826: 2.0, 1828: 2.0, 1829: 1.0, 1834: 2.0, 1836: 3.0, 1837: 1.0, 1838: 2.0, 1840: 2.0, 1841: 1.0, 1847: 2.0, 1848: 1.0, 1849: 2.0, 1850: 1.0, 1857: 2.0, 1866: 2.0, 1867: 1.0, 1868: 2.0, 1870: 1.0, 1871: 1.0, 1874: 1.0, 1876: 2.0, 1878: 2.0, 1879: 1.0, 1880: 1.0, 1881: 1.0, 1883: 2.0, 1884: 1.0, 1888: 2.0, 1891: 1.0, 1895: 4.0, 1900: 2.0, 1902: 1.0, 1904: 9.0, 1910: 2.0, 1912: 1.0, 1915: 1.0, 1918: 1.0, 1921: 1.0, 1927: 1.0, 1931: 5.0, 1932: 1.0, 1943: 3.0, 1945: 2.0, 1949: 1.0, 1951: 1.0, 1953: 1.0, 1955: 1.0, 1956: 8.0, 1959: 3.0, 1962: 3.0, 1969: 1.0, 1983: 1.0, 1992: 1.0, 1993: 1.0, 1998: 1.0, 2004: 1.0, 2005: 1.0, 2006: 1.0, 2007: 1.0, 2010: 1.0, 2015: 1.0, 2019: 2.0, 2020: 1.0, 2024: 2.0, 2026: 10.0, 2032: 2.0, 2034: 1.0, 2038: 3.0, 2040: 1.0, 2044: 4.0, 2045: 1.0, 2048: 1.0, 2050: 7.0, 2051: 1.0, 2060: 1.0, 2068: 1.0, 2070: 5.0, 2076: 1.0, 2081: 3.0, 2082: 1.0, 2083: 1.0, 2084: 1.0, 2085: 1.0, 2086: 1.0, 2091: 1.0, 2093: 1.0, 2098: 1.0, 2100: 1.0, 2109: 1.0, 2110: 4.0, 2113: 1.0, 2116: 1.0, 2117: 2.0, 2123: 1.0, 2124: 2.0, 2125: 4.0, 2130: 1.0, 2138: 1.0, 2139: 1.0, 2140: 2.0, 2141: 1.0, 2144: 9.0, 2148: 3.0, 2149: 1.0, 2167: 1.0, 2173: 9.0, 2182: 1.0, 2183: 4.0, 2185: 4.0, 2187: 3.0, 2189: 2.0, 2193: 2.0, 2195: 3.0, 2196: 2.0, 2198: 2.0, 2202: 2.0, 2207: 1.0, 2209: 2.0, 2211: 1.0, 2212: 5.0, 2219: 1.0, 2220: 2.0, 2223: 1.0, 2233: 1.0, 2240: 1.0, 2244: 1.0, 2247: 3.0, 2250: 1.0, 2253: 3.0, 2254: 5.0, 2256: 2.0, 2264: 1.0, 2267: 2.0, 2268: 1.0, 2270: 1.0, 2274: 6.0, 2275: 1.0, 2276: 1.0, 2277: 2.0, 2278: 1.0, 2280: 2.0, 2282: 1.0, 2285: 1.0, 2297: 1.0, 2302: 1.0, 2311: 1.0, 2313: 1.0, 2323: 1.0, 2328: 1.0, 2330: 1.0, 2333: 1.0, 2336: 2.0, 2339: 3.0, 2351: 1.0, 2364: 2.0, 2371: 1.0, 2372: 7.0, 2382: 2.0, 2384: 1.0, 2386: 2.0, 2387: 1.0, 2390: 2.0, 2394: 2.0, 2399: 1.0, 2407: 1.0, 2408: 1.0, 2410: 1.0, 2411: 2.0, 2415: 1.0, 2424: 3.0, 2428: 2.0, 2431: 2.0, 2443: 1.0, 2445: 1.0, 2446: 2.0, 2449: 2.0, 2452: 2.0, 2454: 2.0, 2456: 2.0, 2458: 2.0, 2461: 1.0, 2476: 3.0, 2478: 2.0, 2480: 2.0, 2481: 2.0, 2487: 2.0, 2489: 1.0, 2490: 4.0, 2500: 1.0, 2511: 8.0, 2514: 1.0, 2519: 4.0, 2523: 1.0, 2528: 2.0, 2531: 2.0, 2532: 2.0, 2538: 1.0, 2540: 2.0, 2541: 1.0, 2544: 3.0, 2547: 1.0, 2548: 1.0, 2556: 3.0, 2558: 2.0, 2563: 1.0, 2568: 2.0, 2569: 1.0, 2572: 3.0, 2573: 1.0, 2578: 2.0, 2581: 3.0, 2583: 2.0, 2589: 3.0, 2590: 14.0, 2591: 1.0, 2592: 1.0, 2593: 1.0, 2595: 1.0, 2600: 2.0, 2602: 2.0, 2607: 1.0, 2614: 2.0, 2618: 2.0, 2622: 1.0, 2624: 1.0, 2628: 1.0, 2629: 1.0, 2631: 1.0, 2636: 1.0, 2637: 5.0, 2640: 1.0, 2650: 1.0, 2651: 1.0, 2652: 1.0, 2653: 5.0, 2655: 1.0, 2657: 1.0, 2662: 1.0, 2666: 1.0, 2670: 2.0, 2671: 2.0, 2672: 7.0, 2673: 1.0, 2676: 1.0, 2692: 3.0, 2698: 1.0, 2702: 1.0, 2712: 1.0, 2719: 1.0, 2724: 1.0, 2727: 1.0, 2743: 11.0, 2744: 1.0, 2745: 1.0, 2750: 3.0, 2763: 3.0, 2766: 2.0, 2767: 4.0, 2781: 1.0, 2787: 2.0, 2793: 2.0, 2795: 1.0, 2801: 1.0, 2809: 2.0, 2813: 1.0, 2814: 1.0, 2815: 1.0, 2821: 1.0, 2822: 1.0, 2830: 1.0, 2841: 6.0, 2844: 1.0, 2849: 1.0, 2858: 4.0, 2859: 1.0, 2864: 7.0, 2869: 2.0, 2872: 6.0, 2879: 2.0, 2895: 3.0, 2898: 1.0, 2899: 1.0, 2903: 1.0, 2904: 1.0, 2909: 2.0, 2913: 3.0, 2916: 6.0, 2917: 1.0, 2922: 1.0, 2924: 3.0, 2926: 2.0, 2927: 1.0, 2932: 1.0, 2935: 1.0, 2936: 1.0, 2948: 2.0, 2958: 1.0, 2967: 1.0, 2968: 3.0, 2972: 1.0, 2974: 1.0, 2976: 2.0, 2984: 1.0, 2987: 1.0, 2989: 3.0, 2995: 5.0, 2996: 1.0, 2998: 1.0, 3001: 1.0, 3002: 1.0, 3007: 6.0, 3024: 4.0, 3027: 1.0, 3028: 1.0, 3038: 2.0, 3040: 1.0, 3046: 3.0, 3053: 1.0, 3059: 1.0, 3064: 2.0, 3074: 1.0, 3079: 2.0, 3085: 1.0, 3087: 3.0, 3091: 6.0, 3092: 4.0, 3095: 6.0, 3096: 2.0, 3105: 1.0, 3109: 2.0, 3111: 3.0, 3124: 2.0, 3127: 1.0, 3130: 1.0, 3131: 1.0, 3139: 1.0, 3140: 4.0, 3148: 1.0, 3152: 1.0, 3164: 1.0, 3166: 2.0, 3173: 2.0, 3179: 1.0, 3186: 1.0, 3192: 1.0, 3198: 1.0, 3199: 1.0, 3201: 1.0, 3204: 2.0, 3205: 1.0, 3219: 1.0, 3220: 1.0, 3228: 1.0, 3229: 3.0, 3235: 3.0, 3239: 1.0, 3242: 3.0, 3251: 1.0, 3256: 1.0, 3257: 1.0, 3260: 3.0, 3275: 1.0, 3281: 1.0, 3282: 1.0, 3283: 1.0, 3286: 3.0, 3287: 2.0, 3292: 2.0, 3296: 1.0, 3301: 1.0, 3305: 2.0, 3312: 2.0, 3316: 1.0, 3320: 1.0, 3331: 1.0, 3339: 1.0, 3341: 1.0, 3344: 2.0, 3345: 1.0, 3346: 1.0, 3348: 1.0, 3354: 1.0, 3356: 1.0, 3360: 4.0, 3362: 5.0, 3363: 1.0, 3365: 1.0, 3368: 1.0, 3369: 1.0, 3370: 2.0, 3373: 6.0, 3374: 1.0, 3376: 1.0, 3377: 1.0, 3384: 1.0, 3388: 1.0, 3405: 1.0, 3407: 1.0, 3412: 1.0, 3413: 2.0, 3434: 5.0, 3438: 1.0, 3457: 3.0, 3461: 1.0, 3464: 3.0, 3469: 1.0, 3472: 1.0, 3474: 2.0, 3475: 1.0, 3476: 1.0, 3477: 5.0, 3478: 1.0, 3479: 2.0, 3480: 1.0, 3483: 2.0, 3484: 1.0, 3486: 1.0, 3496: 16.0, 3497: 2.0, 3499: 1.0, 3503: 2.0, 3504: 1.0, 3510: 1.0, 3517: 1.0, 3522: 10.0, 3527: 1.0, 3530: 3.0, 3533: 2.0, 3535: 1.0, 3545: 1.0, 3549: 1.0, 3562: 2.0, 3566: 1.0, 3567: 1.0, 3572: 1.0, 3576: 1.0, 3579: 3.0, 3580: 1.0, 3581: 1.0, 3586: 1.0, 3589: 3.0, 3615: 3.0, 3622: 1.0, 3625: 1.0, 3636: 2.0, 3637: 1.0, 3653: 1.0, 3655: 3.0, 3657: 1.0, 3660: 1.0, 3680: 2.0, 3691: 1.0, 3697: 1.0, 3699: 2.0, 3702: 1.0, 3707: 3.0, 3719: 1.0, 3723: 1.0, 3731: 1.0, 3748: 1.0, 3759: 1.0, 3761: 1.0, 3780: 3.0, 3792: 1.0, 3793: 1.0, 3798: 1.0, 3799: 1.0, 3803: 1.0, 3815: 1.0, 3821: 1.0, 3823: 1.0, 3837: 1.0, 3842: 1.0, 3845: 1.0, 3853: 1.0, 3857: 2.0, 3858: 3.0, 3867: 1.0, 3870: 1.0, 3874: 1.0, 3875: 1.0, 3877: 1.0, 3885: 2.0, 3887: 1.0, 3891: 3.0, 3893: 1.0, 3904: 1.0, 3907: 3.0, 3911: 1.0, 3949: 1.0, 3950: 1.0, 3956: 2.0, 3960: 2.0, 3965: 1.0, 3987: 1.0, 3990: 2.0, 3991: 4.0, 3995: 2.0, 3998: 2.0, 4010: 2.0, 4020: 2.0, 4038: 1.0, 4047: 2.0, 4054: 1.0, 4059: 2.0, 4062: 1.0, 4075: 1.0, 4079: 2.0, 4081: 1.0, 4085: 3.0, 4091: 1.0, 4100: 1.0, 4107: 2.0, 4109: 1.0, 4110: 2.0, 4121: 2.0, 4133: 1.0, 4135: 1.0, 4140: 1.0, 4143: 1.0, 4151: 1.0, 4152: 1.0, 4153: 1.0, 4166: 1.0, 4181: 1.0, 4185: 1.0, 4189: 1.0, 4191: 1.0, 4195: 1.0, 4199: 1.0, 4203: 1.0, 4205: 1.0, 4211: 2.0, 4219: 2.0, 4226: 2.0, 4231: 1.0, 4234: 1.0, 4239: 2.0, 4241: 1.0, 4242: 1.0, 4244: 3.0, 4248: 1.0, 4258: 1.0, 4259: 2.0, 4262: 1.0, 4267: 1.0, 4277: 1.0, 4288: 1.0, 4295: 3.0, 4302: 2.0, 4303: 1.0, 4317: 4.0, 4331: 2.0, 4334: 1.0, 4335: 1.0, 4345: 1.0, 4348: 13.0, 4353: 3.0, 4354: 1.0, 4357: 1.0, 4359: 1.0, 4371: 1.0, 4374: 1.0, 4375: 3.0, 4376: 1.0, 4378: 1.0, 4405: 1.0, 4413: 2.0, 4419: 1.0, 4423: 1.0, 4429: 6.0, 4431: 1.0, 4438: 1.0, 4440: 1.0, 4441: 2.0, 4460: 1.0, 4469: 1.0, 4471: 1.0, 4472: 1.0, 4473: 4.0, 4488: 3.0, 4497: 5.0, 4517: 4.0, 4522: 1.0, 4524: 1.0, 4528: 1.0, 4531: 1.0, 4533: 1.0, 4534: 1.0, 4549: 1.0, 4553: 2.0, 4573: 1.0, 4585: 1.0, 4588: 1.0, 4594: 1.0, 4596: 1.0, 4618: 1.0, 4627: 1.0, 4638: 3.0, 4648: 6.0, 4653: 1.0, 4669: 1.0, 4686: 1.0, 4706: 1.0, 4708: 1.0, 4713: 1.0, 4714: 1.0, 4737: 1.0, 4740: 1.0, 4742: 1.0, 4744: 1.0, 4747: 1.0, 4778: 1.0, 4790: 1.0, 4792: 1.0, 4808: 4.0, 4809: 2.0, 4811: 1.0, 4813: 2.0, 4823: 1.0, 4828: 1.0, 4834: 1.0, 4835: 1.0, 4844: 1.0, 4845: 1.0, 4846: 4.0, 4849: 1.0, 4865: 1.0, 4875: 1.0, 4881: 1.0, 4886: 1.0, 4888: 1.0, 4890: 4.0, 4892: 1.0, 4896: 1.0, 4899: 1.0, 4902: 1.0, 4908: 1.0, 4909: 2.0, 4911: 1.0, 4934: 1.0, 4949: 1.0, 4955: 1.0, 4956: 1.0, 4971: 1.0, 4973: 3.0, 4988: 1.0, 4990: 1.0, 5006: 1.0, 5009: 1.0, 5016: 1.0, 5019: 3.0, 5031: 2.0, 5032: 1.0, 5040: 1.0, 5051: 1.0, 5057: 5.0, 5070: 1.0, 5074: 2.0, 5077: 2.0, 5082: 7.0, 5083: 2.0, 5095: 1.0, 5115: 1.0, 5120: 2.0, 5143: 2.0, 5171: 1.0, 5178: 4.0, 5189: 1.0, 5199: 1.0, 5209: 4.0, 5210: 1.0, 5215: 1.0, 5216: 2.0, 5219: 1.0, 5223: 1.0, 5229: 1.0, 5232: 1.0, 5242: 1.0, 5246: 3.0, 5254: 3.0, 5255: 3.0, 5263: 1.0, 5266: 2.0, 5276: 1.0, 5286: 1.0, 5288: 1.0, 5293: 1.0, 5306: 5.0, 5308: 1.0, 5311: 1.0, 5317: 1.0, 5323: 1.0, 5345: 1.0, 5346: 5.0, 5351: 1.0, 5366: 1.0, 5373: 1.0, 5377: 1.0, 5409: 3.0, 5423: 1.0, 5430: 1.0, 5441: 1.0, 5444: 1.0, 5469: 1.0, 5472: 1.0, 5486: 2.0, 5503: 1.0, 5511: 2.0, 5522: 3.0, 5534: 1.0, 5546: 3.0, 5556: 2.0, 5562: 1.0, 5570: 1.0, 5574: 1.0, 5584: 1.0, 5593: 1.0, 5595: 2.0, 5603: 8.0, 5618: 1.0, 5620: 1.0, 5641: 1.0, 5648: 1.0, 5662: 3.0, 5674: 1.0, 5680: 2.0, 5682: 1.0, 5686: 2.0, 5701: 1.0, 5711: 1.0, 5716: 3.0, 5727: 1.0, 5736: 3.0, 5745: 1.0, 5751: 2.0, 5757: 2.0, 5771: 1.0, 5775: 3.0, 5799: 1.0, 5829: 8.0, 5836: 1.0, 5855: 3.0, 5863: 1.0, 5870: 1.0, 5884: 2.0, 5887: 2.0, 5899: 2.0, 5903: 2.0, 5904: 1.0, 5936: 2.0, 5941: 7.0, 5943: 2.0, 5945: 1.0, 5947: 1.0, 5971: 1.0, 5972: 2.0, 5983: 1.0, 6000: 1.0, 6003: 2.0, 6008: 1.0, 6011: 1.0, 6018: 4.0, 6019: 2.0, 6034: 1.0, 6044: 4.0, 6050: 1.0, 6052: 1.0, 6057: 1.0, 6066: 1.0, 6070: 1.0, 6074: 6.0, 6077: 1.0, 6084: 2.0, 6107: 1.0, 6115: 1.0, 6117: 2.0, 6123: 1.0, 6128: 1.0, 6131: 1.0, 6162: 1.0, 6215: 2.0, 6224: 1.0, 6238: 1.0, 6245: 1.0, 6264: 2.0, 6277: 1.0, 6279: 1.0, 6295: 1.0, 6296: 1.0, 6298: 1.0, 6301: 3.0, 6302: 1.0, 6306: 1.0, 6335: 1.0, 6356: 1.0, 6363: 1.0, 6367: 1.0, 6381: 1.0, 6383: 3.0, 6386: 1.0, 6388: 2.0, 6413: 2.0, 6418: 2.0, 6439: 2.0, 6453: 1.0, 6458: 1.0, 6465: 1.0, 6497: 4.0, 6502: 1.0, 6508: 1.0, 6513: 4.0, 6515: 2.0, 6519: 2.0, 6538: 1.0, 6557: 2.0, 6569: 2.0, 6582: 1.0, 6592: 1.0, 6596: 2.0, 6607: 1.0, 6626: 3.0, 6636: 1.0, 6673: 1.0, 6676: 2.0, 6677: 1.0, 6735: 2.0, 6738: 1.0, 6752: 3.0, 6753: 2.0, 6759: 4.0, 6767: 1.0, 6776: 1.0, 6778: 2.0, 6788: 1.0, 6794: 4.0, 6812: 1.0, 6815: 1.0, 6824: 1.0, 6855: 1.0, 6857: 2.0, 6888: 1.0, 6889: 1.0, 6895: 4.0, 6905: 1.0, 6909: 1.0, 6918: 1.0, 6932: 2.0, 6943: 1.0, 6948: 1.0, 6949: 4.0, 6969: 2.0, 6975: 1.0, 6977: 1.0, 6980: 4.0, 7000: 1.0, 7016: 2.0, 7020: 3.0, 7021: 1.0, 7025: 1.0, 7038: 1.0, 7045: 1.0, 7051: 1.0, 7056: 5.0, 7060: 1.0, 7064: 1.0, 7069: 2.0, 7074: 1.0, 7082: 2.0, 7088: 2.0, 7112: 1.0, 7137: 1.0, 7143: 1.0, 7150: 2.0, 7151: 1.0, 7152: 1.0, 7155: 1.0, 7163: 2.0, 7183: 3.0, 7191: 2.0, 7194: 1.0, 7198: 1.0, 7203: 1.0, 7209: 1.0, 7221: 2.0, 7224: 1.0, 7261: 1.0, 7267: 1.0, 7285: 11.0, 7290: 3.0, 7292: 1.0, 7300: 2.0, 7327: 2.0, 7341: 2.0, 7348: 1.0, 7371: 1.0, 7382: 2.0, 7383: 3.0, 7408: 2.0, 7414: 1.0, 7415: 1.0, 7448: 2.0, 7449: 1.0, 7460: 1.0, 7461: 2.0, 7473: 2.0, 7474: 1.0, 7480: 1.0, 7491: 7.0, 7493: 2.0, 7498: 1.0, 7499: 2.0, 7508: 1.0, 7527: 1.0, 7540: 1.0, 7546: 1.0, 7548: 1.0, 7551: 1.0, 7554: 2.0, 7569: 3.0, 7585: 5.0, 7596: 1.0, 7618: 1.0, 7636: 2.0, 7643: 1.0, 7646: 3.0, 7656: 1.0, 7657: 1.0, 7668: 1.0, 7682: 1.0, 7694: 1.0, 7702: 1.0, 7710: 1.0, 7733: 1.0, 7793: 3.0, 7795: 1.0, 7847: 1.0, 7856: 1.0, 7874: 1.0, 7878: 4.0, 7882: 1.0, 7891: 1.0, 7896: 1.0, 7904: 1.0, 7915: 1.0, 7926: 2.0, 7931: 1.0, 7980: 1.0, 7988: 2.0, 7990: 1.0, 8008: 2.0, 8027: 3.0, 8034: 1.0, 8053: 1.0, 8056: 1.0, 8059: 1.0, 8064: 1.0, 8109: 1.0, 8136: 1.0, 8137: 1.0, 8138: 1.0, 8146: 6.0, 8182: 1.0, 8186: 2.0, 8187: 1.0, 8189: 4.0, 8194: 3.0, 8208: 6.0, 8214: 1.0, 8220: 1.0, 8221: 5.0, 8239: 1.0, 8245: 2.0, 8252: 2.0, 8254: 1.0, 8260: 1.0, 8261: 3.0, 8266: 1.0, 8274: 2.0, 8275: 1.0, 8307: 1.0, 8317: 3.0, 8332: 5.0, 8337: 1.0, 8357: 1.0, 8427: 2.0, 8437: 2.0, 8457: 1.0, 8481: 5.0, 8483: 2.0, 8526: 1.0, 8553: 2.0, 8563: 1.0, 8579: 1.0, 8606: 1.0, 8612: 1.0, 8622: 2.0, 8639: 2.0, 8648: 1.0, 8687: 1.0, 8692: 2.0, 8710: 1.0, 8722: 1.0, 8728: 1.0, 8732: 4.0, 8733: 1.0, 8751: 2.0, 8755: 3.0, 8761: 1.0, 8785: 1.0, 8789: 1.0, 8796: 1.0, 8818: 1.0, 8819: 1.0, 8825: 2.0, 8837: 1.0, 8857: 1.0, 8881: 1.0, 8918: 1.0, 8922: 1.0, 8940: 1.0, 8986: 1.0, 9006: 1.0, 9008: 2.0, 9035: 1.0, 9038: 2.0, 9050: 5.0, 9057: 2.0, 9058: 1.0, 9061: 3.0, 9076: 1.0, 9080: 1.0, 9083: 1.0, 9084: 3.0, 9119: 1.0, 9136: 2.0, 9159: 1.0, 9163: 1.0, 9167: 1.0, 9169: 2.0, 9179: 1.0, 9187: 2.0, 9188: 1.0, 9189: 1.0, 9196: 1.0, 9220: 2.0, 9241: 1.0, 9283: 1.0, 9288: 1.0, 9329: 1.0, 9347: 5.0, 9358: 1.0, 9364: 1.0, 9394: 2.0, 9396: 1.0, 9410: 2.0, 9426: 1.0, 9432: 3.0, 9435: 1.0, 9447: 1.0, 9464: 1.0, 9471: 2.0, 9473: 1.0, 9491: 1.0, 9497: 1.0, 9533: 1.0, 9542: 1.0, 9571: 1.0, 9605: 1.0, 9637: 1.0, 9639: 1.0, 9696: 1.0, 9699: 1.0, 9708: 1.0, 9709: 4.0, 9722: 1.0, 9739: 1.0, 9749: 1.0, 9754: 1.0, 9760: 1.0, 9788: 1.0, 9796: 2.0, 9805: 1.0, 9834: 1.0, 9845: 2.0, 9850: 1.0, 9860: 2.0, 9864: 1.0, 9872: 1.0, 9880: 1.0, 9903: 1.0, 9904: 1.0, 9918: 1.0, 9921: 1.0, 9922: 1.0, 9923: 1.0, 9991: 1.0, 10018: 2.0, 10053: 1.0, 10068: 1.0, 10076: 1.0, 10077: 1.0, 10097: 1.0, 10124: 1.0, 10136: 1.0, 10150: 1.0, 10158: 4.0, 10160: 2.0, 10176: 7.0, 10190: 5.0, 10255: 1.0, 10263: 1.0, 10275: 1.0, 10282: 2.0, 10295: 1.0, 10301: 1.0, 10309: 2.0, 10311: 2.0, 10343: 1.0, 10348: 2.0, 10396: 1.0, 10448: 1.0, 10485: 1.0, 10509: 1.0, 10519: 3.0, 10561: 1.0, 10566: 1.0, 10582: 1.0, 10595: 1.0, 10604: 3.0, 10611: 1.0, 10661: 1.0, 10702: 1.0, 10750: 2.0, 10778: 1.0, 10803: 1.0, 10847: 1.0, 10864: 1.0, 10870: 1.0, 10876: 2.0, 10917: 1.0, 10951: 4.0, 10961: 1.0, 10964: 1.0, 10977: 1.0, 11018: 1.0, 11032: 1.0, 11046: 2.0, 11088: 2.0, 11091: 3.0, 11105: 1.0, 11120: 1.0, 11139: 2.0, 11188: 1.0, 11250: 1.0, 11270: 1.0, 11280: 1.0, 11363: 8.0, 11367: 1.0, 11379: 1.0, 11384: 1.0, 11398: 4.0, 11417: 1.0, 11426: 1.0, 11432: 2.0, 11487: 1.0, 11579: 1.0, 11597: 2.0, 11626: 1.0, 11641: 2.0, 11651: 1.0, 11660: 1.0, 11665: 2.0, 11675: 2.0, 11709: 1.0, 11716: 1.0, 11718: 2.0, 11756: 6.0, 11758: 2.0, 11766: 2.0, 11776: 1.0, 11815: 2.0, 11822: 5.0, 11888: 2.0, 11917: 3.0, 11935: 1.0, 11945: 2.0, 11959: 1.0, 11991: 1.0, 12001: 1.0, 12028: 1.0, 12030: 3.0, 12055: 1.0, 12061: 1.0, 12084: 2.0, 12090: 1.0, 12094: 7.0, 12100: 5.0, 12198: 1.0, 12205: 1.0, 12239: 1.0, 12261: 2.0, 12307: 1.0, 12336: 1.0, 12356: 3.0, 12365: 1.0, 12374: 2.0, 12382: 1.0, 12402: 2.0, 12415: 1.0, 12427: 1.0, 12439: 1.0, 12441: 1.0, 12476: 1.0, 12482: 1.0, 12528: 2.0, 12577: 2.0, 12582: 2.0, 12586: 2.0, 12592: 1.0, 12606: 1.0, 12619: 1.0, 12640: 1.0, 12664: 1.0, 12670: 1.0, 12676: 1.0, 12681: 1.0, 12722: 2.0, 12751: 1.0, 12757: 1.0, 12769: 1.0, 12804: 4.0, 12840: 1.0, 12865: 1.0, 12878: 1.0, 12918: 2.0, 12922: 1.0, 12990: 2.0, 12991: 2.0, 13032: 2.0, 13055: 1.0, 13058: 1.0, 13064: 3.0, 13077: 1.0, 13144: 1.0, 13167: 1.0, 13178: 1.0, 13186: 2.0, 13197: 2.0, 13204: 3.0, 13223: 3.0, 13254: 1.0, 13255: 1.0, 13256: 1.0, 13257: 2.0, 13261: 1.0, 13316: 1.0, 13383: 1.0, 13444: 1.0, 13479: 2.0, 13525: 2.0, 13528: 1.0, 13531: 1.0, 13612: 1.0, 13633: 1.0, 13641: 1.0, 13642: 3.0, 13653: 1.0, 13659: 1.0, 13692: 1.0, 13701: 1.0, 13757: 2.0, 13786: 1.0, 13845: 1.0, 13865: 2.0, 13881: 1.0, 13891: 2.0, 13892: 1.0, 13897: 1.0, 13901: 2.0, 13932: 1.0, 13953: 1.0, 13964: 1.0, 13965: 1.0, 13967: 1.0, 13973: 1.0, 13997: 1.0, 14006: 1.0, 14007: 1.0, 14063: 2.0, 14065: 1.0, 14079: 2.0, 14092: 1.0, 14110: 1.0, 14134: 1.0, 14169: 1.0, 14171: 1.0, 14176: 1.0, 14188: 1.0, 14199: 1.0, 14217: 1.0, 14218: 2.0, 14228: 1.0, 14242: 2.0, 14308: 1.0, 14334: 1.0, 14380: 1.0, 14410: 1.0, 14457: 1.0, 14459: 2.0, 14462: 1.0, 14470: 2.0, 14555: 5.0, 14563: 2.0, 14575: 1.0, 14579: 1.0, 14595: 1.0, 14641: 1.0, 14646: 1.0, 14736: 1.0, 14758: 2.0, 14793: 1.0, 14805: 1.0, 14808: 1.0, 14832: 1.0, 14860: 1.0, 14902: 1.0, 14923: 1.0, 14960: 1.0, 14971: 1.0, 14995: 1.0, 15006: 1.0, 15038: 1.0, 15129: 1.0, 15141: 3.0, 15176: 1.0, 15178: 1.0, 15258: 1.0, 15269: 1.0, 15271: 1.0, 15315: 1.0, 15338: 1.0, 15346: 1.0, 15353: 1.0, 15366: 1.0, 15373: 1.0, 15376: 1.0, 15381: 1.0, 15382: 1.0, 15396: 1.0, 15417: 1.0, 15430: 3.0, 15440: 1.0, 15451: 1.0, 15529: 1.0, 15568: 2.0, 15579: 1.0, 15599: 1.0, 15608: 2.0, 15620: 1.0, 15663: 1.0, 15691: 1.0, 15712: 1.0, 15728: 3.0, 15755: 2.0, 15816: 1.0, 15827: 1.0, 15838: 1.0, 15870: 2.0, 15877: 1.0, 15910: 1.0, 15920: 2.0, 15942: 1.0, 15950: 4.0, 15973: 1.0, 16024: 1.0, 16034: 3.0, 16055: 1.0, 16093: 1.0, 16131: 1.0, 16187: 2.0, 16190: 1.0, 16201: 1.0, 16202: 3.0, 16236: 1.0, 16244: 1.0, 16297: 1.0, 16448: 1.0, 16466: 1.0, 16485: 1.0, 16525: 1.0, 16555: 1.0, 16667: 1.0, 16685: 1.0, 16731: 1.0, 16775: 1.0, 16844: 1.0, 16880: 3.0, 16891: 2.0, 17010: 2.0, 17027: 1.0, 17048: 1.0, 17079: 1.0, 17180: 1.0, 17245: 1.0, 17249: 2.0, 17258: 1.0, 17272: 1.0, 17335: 1.0, 17494: 2.0, 17536: 1.0, 17550: 2.0, 17553: 1.0, 17561: 1.0, 17562: 2.0, 17597: 1.0, 17720: 1.0, 17834: 1.0, 17841: 2.0, 17866: 2.0, 17898: 1.0, 17906: 1.0, 17967: 2.0, 17980: 2.0, 18030: 1.0, 18035: 1.0, 18143: 2.0, 18181: 2.0, 18190: 1.0, 18231: 1.0, 18345: 1.0, 18353: 1.0, 18382: 1.0, 18466: 1.0, 18476: 1.0, 18477: 2.0, 18554: 1.0, 18556: 1.0, 18590: 1.0, 18599: 1.0, 18619: 1.0, 18657: 1.0, 18696: 1.0, 18703: 1.0, 18775: 1.0, 18842: 1.0, 18861: 1.0, 18945: 1.0, 19020: 1.0, 19034: 1.0, 19151: 1.0, 19199: 1.0, 19228: 1.0, 19257: 1.0, 19313: 1.0, 19377: 1.0, 19389: 2.0, 19395: 1.0, 19462: 1.0, 19687: 1.0, 19699: 1.0, 19855: 1.0, 19858: 1.0, 19912: 2.0, 19930: 4.0, 19967: 2.0, 20020: 1.0, 20044: 1.0, 20062: 1.0, 20119: 1.0, 20178: 2.0, 20245: 1.0, 20246: 4.0, 20283: 1.0, 20341: 1.0, 20356: 1.0, 20380: 1.0, 20429: 1.0, 20491: 1.0, 20569: 1.0, 20601: 1.0, 20621: 1.0, 20638: 2.0, 20644: 2.0, 20648: 1.0, 20671: 1.0, 20765: 2.0, 20779: 1.0, 20785: 2.0, 20879: 1.0, 20886: 1.0, 20894: 1.0, 20916: 1.0, 20952: 1.0, 20992: 6.0, 20997: 1.0, 21006: 1.0, 21137: 1.0, 21266: 1.0, 21337: 1.0, 21485: 2.0, 21589: 1.0, 21604: 1.0, 21606: 1.0, 21634: 1.0, 21640: 1.0, 21662: 1.0, 21688: 1.0, 21790: 1.0, 21846: 1.0, 21854: 1.0, 21995: 1.0, 22001: 1.0, 22013: 1.0, 22111: 1.0, 22134: 1.0, 22140: 1.0, 22168: 1.0, 22270: 2.0, 22331: 1.0, 22390: 1.0, 22433: 2.0, 22478: 1.0, 22482: 2.0, 22501: 1.0, 22518: 3.0, 22668: 1.0, 22782: 3.0, 22802: 1.0, 22838: 2.0, 22885: 1.0, 22968: 1.0, 23002: 1.0, 23076: 1.0, 23147: 1.0, 23167: 2.0, 23170: 2.0, 23206: 2.0, 23218: 1.0, 23236: 2.0, 23407: 1.0, 23439: 2.0, 23544: 1.0, 23654: 1.0, 23742: 1.0, 23838: 1.0, 23846: 1.0, 23917: 1.0, 23943: 1.0, 23944: 2.0, 23971: 1.0, 24079: 1.0, 24115: 1.0, 24164: 1.0, 24225: 1.0, 24230: 1.0, 24245: 1.0, 24249: 1.0, 24267: 1.0, 24486: 1.0, 24526: 2.0, 24584: 1.0, 24625: 2.0, 24683: 2.0, 24716: 1.0, 24805: 1.0, 24900: 1.0, 24908: 1.0, 25007: 1.0, 25091: 1.0, 25105: 1.0, 25142: 1.0, 25253: 1.0, 25290: 1.0, 25358: 1.0, 25415: 1.0, 25417: 1.0, 25511: 1.0, 25654: 1.0, 25676: 1.0, 25782: 2.0, 25801: 1.0, 25898: 1.0, 25902: 1.0, 25936: 1.0, 25981: 1.0, 26054: 1.0, 26136: 1.0, 26155: 1.0, 26208: 1.0, 26274: 1.0, 26355: 2.0, 26364: 3.0, 26450: 1.0, 26454: 1.0, 26480: 1.0, 26615: 1.0, 26729: 1.0, 26763: 1.0, 26813: 1.0, 26821: 2.0, 26829: 1.0, 26859: 1.0, 26913: 3.0, 26993: 2.0, 27124: 1.0, 27157: 1.0, 27160: 1.0, 27191: 1.0, 27223: 1.0, 27225: 1.0, 27304: 1.0, 27468: 2.0, 27520: 1.0, 27555: 1.0, 27672: 2.0, 27824: 1.0, 27833: 1.0, 27961: 1.0, 27991: 1.0, 28122: 1.0, 28141: 1.0, 28173: 1.0, 28274: 2.0, 28286: 1.0, 28293: 1.0, 28384: 1.0, 28856: 1.0, 28894: 1.0, 29040: 1.0, 29221: 1.0, 29332: 2.0, 29399: 1.0, 29447: 1.0, 29464: 1.0, 29535: 1.0, 29542: 1.0, 29580: 2.0, 29617: 1.0, 29619: 1.0, 29665: 1.0, 29831: 2.0, 29852: 1.0, 29861: 1.0, 29916: 2.0, 30052: 1.0, 30078: 1.0, 30236: 4.0, 30401: 2.0, 30559: 1.0, 30574: 1.0, 30641: 1.0, 30964: 3.0, 31051: 1.0, 31063: 1.0, 31147: 1.0, 31163: 1.0, 31252: 1.0, 31260: 2.0, 31386: 1.0, 31441: 1.0, 31492: 1.0, 31517: 1.0, 31638: 1.0, 31700: 1.0, 31774: 1.0, 31883: 1.0, 31918: 1.0, 31943: 1.0, 32030: 1.0, 32135: 2.0, 32150: 1.0, 32356: 1.0, 32381: 1.0, 32392: 2.0, 32398: 1.0, 32420: 1.0, 32427: 1.0, 32475: 1.0, 32588: 1.0, 32626: 2.0, 32749: 1.0, 32835: 2.0, 33032: 1.0, 33167: 1.0, 33172: 1.0, 33175: 1.0, 33391: 1.0, 33462: 1.0, 33577: 1.0, 33742: 1.0, 33849: 1.0, 33978: 2.0, 34004: 1.0, 34122: 1.0, 34261: 1.0, 34349: 3.0, 34375: 1.0, 34433: 1.0, 34556: 1.0, 34858: 1.0, 34897: 1.0, 34907: 2.0, 34925: 1.0, 35045: 1.0, 35076: 1.0, 35178: 1.0, 35440: 1.0, 35673: 1.0, 35768: 1.0, 35851: 1.0, 36029: 1.0, 36280: 1.0, 36326: 1.0, 36351: 1.0, 36723: 1.0, 36782: 1.0, 37234: 2.0, 37245: 1.0, 37314: 1.0, 37336: 1.0, 37345: 2.0, 37468: 1.0, 37661: 1.0, 37816: 1.0, 38047: 1.0, 38396: 1.0, 38403: 1.0, 38493: 1.0, 38697: 1.0, 38764: 1.0, 38773: 1.0, 38800: 1.0, 38812: 1.0, 38827: 1.0, 38849: 1.0, 38875: 1.0, 38990: 1.0, 39288: 1.0, 39360: 1.0, 39364: 1.0, 39387: 1.0, 39396: 1.0, 39793: 1.0, 39808: 1.0, 40379: 1.0, 40548: 1.0, 40560: 1.0, 40703: 1.0, 41261: 1.0, 41375: 1.0, 41634: 1.0, 41830: 1.0, 41948: 1.0, 41997: 1.0, 42047: 1.0, 42065: 1.0, 42393: 1.0, 42395: 1.0, 42402: 1.0, 42511: 1.0, 42991: 1.0, 43007: 1.0, 43129: 1.0, 43293: 1.0, 43528: 1.0, 43529: 1.0, 43594: 1.0, 43890: 1.0, 44062: 1.0, 44085: 1.0, 44156: 1.0, 44360: 1.0, 44476: 1.0, 45315: 1.0, 45411: 1.0, 45631: 1.0, 46200: 1.0, 46689: 1.0, 46757: 1.0, 47036: 1.0, 47104: 1.0, 47166: 1.0, 47365: 1.0, 48008: 1.0, 48235: 1.0, 48390: 1.0, 49556: 1.0, 49641: 1.0, 49769: 1.0, 50058: 2.0, 50420: 1.0, 50465: 1.0, 50541: 1.0, 50643: 1.0, 50690: 1.0, 51068: 1.0, 51096: 2.0, 51287: 1.0, 51302: 1.0, 51378: 1.0, 51508: 2.0, 51555: 1.0, 51866: 1.0, 51908: 4.0, 52080: 1.0, 52359: 1.0, 52381: 1.0, 53336: 1.0, 53448: 2.0, 53454: 1.0, 53618: 1.0, 53899: 1.0, 54217: 2.0, 54262: 1.0, 54386: 1.0, 54539: 1.0, 54616: 1.0, 54819: 1.0, 54989: 1.0, 55102: 1.0, 55224: 1.0, 55523: 1.0, 56194: 1.0, 56242: 1.0, 57014: 1.0, 57188: 1.0, 57449: 1.0, 57579: 1.0, 57857: 1.0, 58182: 1.0, 58799: 1.0, 59422: 1.0, 59460: 2.0, 59540: 1.0, 59813: 1.0, 60024: 1.0, 60181: 1.0, 60256: 1.0, 60405: 1.0, 60454: 1.0, 60652: 1.0, 60664: 1.0, 61108: 1.0, 61838: 1.0, 62888: 6.0, 63091: 1.0, 63686: 1.0, 63762: 1.0, 64362: 2.0, 64377: 1.0, 64602: 1.0, 64918: 1.0, 65145: 2.0, 65346: 1.0, 65764: 1.0, 65916: 1.0, 66219: 1.0, 66796: 1.0, 66850: 1.0, 66900: 1.0, 67016: 1.0, 67748: 1.0, 67781: 1.0, 67800: 1.0, 68065: 1.0, 70259: 1.0, 70586: 1.0, 73145: 1.0, 73672: 2.0, 73928: 1.0, 73958: 1.0, 74255: 1.0, 75761: 1.0, 77545: 1.0, 78385: 1.0, 79153: 1.0, 79163: 1.0, 79517: 1.0, 83899: 2.0, 83903: 1.0, 84946: 1.0, 85592: 1.0, 85776: 1.0, 86448: 1.0, 86729: 1.0, 87278: 1.0, 89937: 1.0, 92650: 1.0, 94642: 2.0, 95121: 1.0, 95377: 1.0, 95420: 1.0, 95884: 1.0, 96522: 2.0, 96935: 1.0, 97141: 1.0}))]"
      ]
     },
     "execution_count": 29,
     "metadata": {},
     "output_type": "execute_result"
    }
   ],
   "source": [
    "vector_rdd.take(5)"
   ]
  },
  {
   "cell_type": "code",
   "execution_count": 24,
   "metadata": {},
   "outputs": [
    {
     "data": {
      "text/plain": [
       "14921"
      ]
     },
     "execution_count": 24,
     "metadata": {},
     "output_type": "execute_result"
    }
   ],
   "source": [
    "# make sure the transformation can be carried out for all elements by using count\n",
    "# this is a good way of catching anomalies in the data\n",
    "vector_rdd.count()"
   ]
  },
  {
   "cell_type": "markdown",
   "metadata": {},
   "source": [
    "## Perform the aggregation\n",
    "\n",
    "We now have the entire Gutenberg English book corpus in the form of sparse vectors encoding the most used 100k words. \n",
    "\n",
    "To get the yearly sums, we will turn the metadata of each document into its publication year (i.e. the key will be the year, the value is the vector) and then do an aggregation by year. \n",
    "\n",
    "We will use the powerful [`treeAggregate`](http://spark.apache.org/docs/latest/api/python/pyspark.html?highlight=values#pyspark.RDD.treeAggregate) method, which requires that we specify three different components:\n",
    "\n",
    "1. the starting aggregate\n",
    "2. a function that adds a new value to the aggregate \n",
    "3. a function that adds together two aggregates\n",
    "\n",
    "The way `treeAggregate` works is that it performs the reduction in a tree pattern in order to minimize the strain on the driver. In a \"normal\" reduction, the workers send their results to the driver, which is tasked with putting it all together -- however, if these partial results are large (as is potentially the case here) then the driver can run into memory issues. Furthermore, most of the cluster is sitting idle while the driver performs the aggregation. `treeAggregate` fixes this by performing partial aggregations on the workers and only sending the final stages to the driver. See this [blog post](https://databricks.com/blog/2014/09/22/spark-1-1-mllib-performance-improvements.html) for a bit more description of this method. \n",
    "\n",
    "The aggregation methods are powerful because the \"aggregate\" can be any object -- we can write a class that gets passed around to do the aggregation, for example. Aggregation methods are more general reduction methods because they allow you to change the type of the variables -- in our case here, we are converting the data `(year, vector)` tuples into a dictionary of arrays. \n",
    "\n",
    "Below, we will use an instance of a dictionary as the aggregation object and define two functions that will do the actual aggregation. "
   ]
  },
  {
   "cell_type": "code",
   "execution_count": 30,
   "metadata": {
    "collapsed": true
   },
   "outputs": [],
   "source": [
    "def add_vector(d, data_tuple) : \n",
    "    \"\"\"Add a new vector to the aggregation dictionary\n",
    "    \n",
    "    The vectors in the aggregation dictionary are dense since for most years we can expect that \n",
    "    this will be the case anyway. Note that we use 32-bit floats to save a bit on memory. \n",
    "    \n",
    "    Arguments: \n",
    "        d: the aggregation dictionary\n",
    "        \n",
    "        data_tuple: the (year, vec) tuple\n",
    "        \n",
    "    Returns: \n",
    "        the updated aggregation dictionary \n",
    "    \"\"\"\n",
    "    # expand the data tuple\n",
    "    year, vec = data_tuple\n",
    "    \n",
    "    if year in d : \n",
    "        \n",
    "        d[year][vec.indices] += vec.values\n",
    "    else :\n",
    "        # this is the first time we've encountered this year --> make an empty vector \n",
    "        new_vec = np.zeros(vec.size, dtype=np.float32)\n",
    "        \n",
    "        # now put in the contents of the current vector\n",
    "        new_vec[vec.indices] = vec.values\n",
    "        \n",
    "        # create the year in the dictionary\n",
    "        d[year] = new_vec\n",
    "        \n",
    "    return d\n",
    "\n",
    "def add_dicts(d1, d2) : \n",
    "    \"\"\"Add two dictionaries together\n",
    "    \n",
    "    Arguments: \n",
    "        d1: first dictionary\n",
    "        \n",
    "        d2: second dictionary\n",
    "        \n",
    "    Returns: \n",
    "        merged dictionaries\n",
    "    \"\"\"\n",
    "    \n",
    "    # iterate through all the items in the second dictionary\n",
    "    for year, vec in d2.items() : \n",
    "        # if this year is also in d1, add the vectors together\n",
    "        if year in d1 : \n",
    "            d1[year] += vec\n",
    "        # if not, create a new year entry in d1\n",
    "        else : \n",
    "            d1[year] = vec\n",
    "    return d1"
   ]
  },
  {
   "cell_type": "markdown",
   "metadata": {},
   "source": [
    "Now we create an RDD of `(year, vec)` pairs using the `publication_year` function we defined at the top:"
   ]
  },
  {
   "cell_type": "code",
   "execution_count": 35,
   "metadata": {
    "collapsed": true
   },
   "outputs": [],
   "source": [
    "year_vec = vector_rdd.map(lambda doc: (publication_year(doc[0]), doc[1]))"
   ]
  },
  {
   "cell_type": "markdown",
   "metadata": {},
   "source": [
    "Before we perform the aggregation, we can do one final bit of optimization. Passing around dictionaries full of large arrays can get expensive very quickly. The memory footprint of our partial results will depend on how heterogeneous the years on each partition or group of partitions are: if most of the data on a partition is for the same key (year in this case) then the dictionary we create on that partition will only contain a handful of vectors.  We can control this by first partitioning the RDD in a way that groups data with the same keys onto the same partitions. \n",
    "\n",
    "Spark provides a `partitionBy` method that does exactly this -- by default, it uses a hash function to map the keys to partitions, but you can also pass a custom partitioner if you want. If you look at the Spark UI after executing the next cell, you'll see that the partition step caused some shuffling of data, but that the aggregation itself ran very quickly and with minimal data movement. "
   ]
  },
  {
   "cell_type": "code",
   "execution_count": 36,
   "metadata": {
    "collapsed": true
   },
   "outputs": [],
   "source": [
    "n_partitions = year_vec.getNumPartitions()"
   ]
  },
  {
   "cell_type": "code",
   "execution_count": 37,
   "metadata": {},
   "outputs": [
    {
     "data": {
      "text/plain": [
       "(1895,\n",
       " SparseVector(100000, {0: 6.0, 1: 5.0, 2: 4.0, 3: 3.0, 4: 6.0, 5: 5.0, 7: 37.0, 8: 12.0, 9: 7.0, 11: 8.0, 12: 2.0, 13: 6.0, 14: 6.0, 15: 6.0, 16: 4.0, 17: 16.0, 18: 9.0, 19: 3.0, 20: 15.0, 21: 6.0, 22: 22.0, 23: 1.0, 24: 7.0, 25: 4.0, 26: 6.0, 27: 5.0, 28: 3.0, 29: 2.0, 30: 1.0, 32: 1.0, 34: 5.0, 35: 1.0, 37: 3.0, 38: 23.0, 39: 3.0, 40: 7.0, 41: 2.0, 43: 3.0, 44: 20.0, 45: 3.0, 46: 3.0, 47: 16.0, 48: 1.0, 49: 4.0, 50: 1.0, 51: 1.0, 53: 1.0, 56: 10.0, 57: 4.0, 58: 1.0, 59: 1.0, 60: 2.0, 61: 5.0, 62: 3.0, 63: 2.0, 64: 2.0, 65: 10.0, 66: 8.0, 67: 3.0, 68: 1.0, 69: 1.0, 70: 2.0, 71: 2.0, 72: 1.0, 73: 1.0, 74: 7.0, 75: 2.0, 77: 1.0, 79: 4.0, 81: 1.0, 84: 4.0, 86: 6.0, 89: 1.0, 90: 19.0, 91: 3.0, 94: 5.0, 96: 3.0, 97: 4.0, 98: 2.0, 101: 2.0, 102: 4.0, 103: 3.0, 105: 1.0, 106: 7.0, 108: 1.0, 112: 1.0, 117: 8.0, 119: 3.0, 120: 2.0, 121: 7.0, 122: 8.0, 123: 2.0, 129: 6.0, 130: 3.0, 132: 2.0, 133: 10.0, 136: 5.0, 137: 1.0, 139: 1.0, 140: 4.0, 142: 1.0, 143: 1.0, 144: 1.0, 145: 3.0, 146: 2.0, 147: 17.0, 148: 7.0, 149: 7.0, 150: 1.0, 152: 8.0, 153: 4.0, 154: 1.0, 155: 4.0, 158: 1.0, 161: 3.0, 162: 3.0, 165: 5.0, 167: 3.0, 168: 1.0, 170: 1.0, 171: 1.0, 172: 2.0, 175: 8.0, 176: 1.0, 178: 4.0, 181: 1.0, 182: 6.0, 183: 8.0, 185: 4.0, 186: 1.0, 188: 4.0, 189: 2.0, 190: 1.0, 193: 1.0, 194: 1.0, 195: 4.0, 196: 1.0, 197: 2.0, 198: 2.0, 203: 2.0, 204: 2.0, 207: 2.0, 209: 2.0, 210: 3.0, 211: 2.0, 213: 5.0, 214: 2.0, 215: 1.0, 220: 9.0, 221: 1.0, 222: 4.0, 223: 2.0, 224: 4.0, 230: 4.0, 231: 1.0, 232: 4.0, 233: 1.0, 234: 8.0, 235: 2.0, 236: 1.0, 239: 1.0, 240: 8.0, 241: 3.0, 242: 1.0, 244: 1.0, 245: 1.0, 246: 9.0, 248: 1.0, 250: 2.0, 252: 1.0, 254: 2.0, 255: 1.0, 256: 12.0, 259: 2.0, 261: 1.0, 262: 5.0, 263: 6.0, 264: 2.0, 265: 1.0, 266: 1.0, 267: 2.0, 268: 1.0, 270: 6.0, 271: 3.0, 272: 1.0, 274: 1.0, 276: 1.0, 278: 4.0, 281: 1.0, 284: 2.0, 285: 6.0, 289: 2.0, 293: 3.0, 297: 3.0, 298: 6.0, 300: 1.0, 301: 1.0, 302: 1.0, 307: 1.0, 308: 1.0, 310: 1.0, 315: 1.0, 317: 1.0, 318: 2.0, 321: 3.0, 323: 2.0, 324: 3.0, 328: 10.0, 330: 1.0, 331: 2.0, 335: 1.0, 337: 7.0, 338: 4.0, 344: 1.0, 346: 7.0, 348: 2.0, 350: 3.0, 353: 2.0, 356: 4.0, 364: 1.0, 365: 3.0, 368: 3.0, 369: 10.0, 370: 2.0, 371: 8.0, 373: 4.0, 374: 3.0, 376: 40.0, 380: 1.0, 381: 1.0, 382: 1.0, 383: 10.0, 384: 1.0, 389: 3.0, 391: 6.0, 392: 3.0, 393: 3.0, 395: 1.0, 396: 1.0, 398: 2.0, 400: 1.0, 405: 1.0, 409: 3.0, 410: 1.0, 415: 1.0, 416: 1.0, 417: 1.0, 420: 1.0, 423: 13.0, 424: 1.0, 425: 7.0, 426: 1.0, 429: 1.0, 430: 3.0, 432: 1.0, 433: 1.0, 434: 3.0, 435: 1.0, 437: 3.0, 439: 1.0, 442: 4.0, 443: 2.0, 445: 1.0, 448: 1.0, 452: 1.0, 454: 2.0, 460: 1.0, 462: 1.0, 467: 5.0, 468: 2.0, 471: 3.0, 477: 1.0, 480: 1.0, 481: 6.0, 482: 6.0, 486: 7.0, 488: 4.0, 491: 2.0, 493: 1.0, 494: 6.0, 495: 1.0, 499: 3.0, 502: 3.0, 504: 1.0, 505: 1.0, 506: 8.0, 507: 1.0, 508: 2.0, 509: 2.0, 510: 1.0, 514: 1.0, 515: 1.0, 518: 2.0, 528: 7.0, 531: 1.0, 532: 4.0, 535: 2.0, 539: 3.0, 540: 4.0, 541: 1.0, 542: 1.0, 549: 1.0, 551: 3.0, 552: 3.0, 553: 2.0, 557: 2.0, 568: 1.0, 569: 1.0, 570: 4.0, 571: 1.0, 576: 2.0, 577: 1.0, 579: 1.0, 581: 3.0, 585: 2.0, 586: 2.0, 587: 3.0, 588: 1.0, 591: 1.0, 595: 3.0, 602: 3.0, 603: 2.0, 604: 1.0, 606: 1.0, 610: 1.0, 613: 1.0, 616: 2.0, 627: 1.0, 632: 5.0, 635: 6.0, 636: 1.0, 639: 1.0, 641: 1.0, 642: 5.0, 647: 2.0, 649: 4.0, 651: 1.0, 652: 2.0, 653: 6.0, 654: 3.0, 655: 1.0, 656: 6.0, 657: 2.0, 658: 1.0, 664: 2.0, 667: 1.0, 673: 1.0, 678: 1.0, 679: 1.0, 680: 1.0, 682: 1.0, 685: 1.0, 689: 2.0, 692: 2.0, 695: 2.0, 696: 5.0, 701: 2.0, 704: 2.0, 706: 4.0, 707: 1.0, 710: 2.0, 713: 1.0, 715: 2.0, 717: 1.0, 718: 1.0, 722: 1.0, 723: 1.0, 724: 2.0, 725: 3.0, 729: 3.0, 731: 1.0, 738: 2.0, 739: 6.0, 742: 3.0, 743: 2.0, 746: 4.0, 749: 6.0, 752: 5.0, 754: 3.0, 756: 6.0, 764: 3.0, 766: 1.0, 767: 3.0, 769: 2.0, 777: 1.0, 780: 1.0, 783: 2.0, 796: 1.0, 797: 3.0, 800: 3.0, 806: 1.0, 808: 1.0, 811: 2.0, 812: 3.0, 815: 3.0, 816: 2.0, 818: 2.0, 820: 2.0, 821: 2.0, 824: 2.0, 826: 1.0, 830: 1.0, 833: 4.0, 835: 3.0, 836: 1.0, 838: 3.0, 840: 2.0, 841: 1.0, 847: 3.0, 848: 4.0, 854: 1.0, 855: 2.0, 856: 4.0, 857: 4.0, 858: 3.0, 861: 1.0, 865: 2.0, 866: 1.0, 869: 3.0, 872: 1.0, 874: 1.0, 876: 1.0, 878: 2.0, 883: 1.0, 886: 1.0, 893: 3.0, 895: 2.0, 897: 1.0, 899: 1.0, 901: 3.0, 903: 2.0, 907: 3.0, 908: 1.0, 912: 1.0, 913: 1.0, 914: 1.0, 923: 1.0, 925: 3.0, 928: 1.0, 929: 2.0, 935: 1.0, 938: 3.0, 940: 1.0, 945: 1.0, 950: 2.0, 951: 1.0, 957: 1.0, 958: 3.0, 961: 1.0, 962: 2.0, 966: 1.0, 972: 1.0, 974: 1.0, 977: 5.0, 978: 1.0, 980: 3.0, 983: 3.0, 986: 1.0, 987: 3.0, 988: 2.0, 989: 1.0, 992: 1.0, 1001: 2.0, 1005: 2.0, 1006: 3.0, 1009: 2.0, 1018: 1.0, 1020: 1.0, 1022: 1.0, 1026: 1.0, 1030: 1.0, 1037: 3.0, 1039: 1.0, 1040: 4.0, 1042: 4.0, 1043: 1.0, 1046: 1.0, 1047: 2.0, 1051: 1.0, 1055: 1.0, 1066: 2.0, 1067: 1.0, 1069: 2.0, 1070: 4.0, 1073: 2.0, 1080: 2.0, 1081: 5.0, 1082: 1.0, 1087: 1.0, 1092: 3.0, 1093: 1.0, 1098: 1.0, 1101: 4.0, 1104: 2.0, 1107: 1.0, 1109: 2.0, 1112: 4.0, 1116: 2.0, 1125: 1.0, 1127: 1.0, 1136: 2.0, 1141: 2.0, 1142: 2.0, 1151: 1.0, 1152: 1.0, 1155: 3.0, 1159: 1.0, 1163: 2.0, 1167: 4.0, 1169: 3.0, 1172: 1.0, 1173: 3.0, 1176: 1.0, 1180: 1.0, 1184: 1.0, 1195: 2.0, 1196: 1.0, 1199: 1.0, 1206: 2.0, 1212: 2.0, 1215: 2.0, 1217: 3.0, 1220: 2.0, 1221: 1.0, 1227: 1.0, 1228: 1.0, 1230: 2.0, 1234: 1.0, 1235: 1.0, 1238: 2.0, 1243: 4.0, 1248: 3.0, 1259: 1.0, 1260: 2.0, 1263: 1.0, 1271: 1.0, 1272: 2.0, 1279: 1.0, 1281: 2.0, 1283: 2.0, 1286: 1.0, 1290: 1.0, 1292: 1.0, 1295: 1.0, 1302: 2.0, 1313: 1.0, 1314: 1.0, 1315: 1.0, 1316: 3.0, 1317: 1.0, 1325: 1.0, 1334: 1.0, 1338: 4.0, 1339: 2.0, 1342: 2.0, 1343: 1.0, 1347: 1.0, 1348: 1.0, 1357: 1.0, 1358: 2.0, 1367: 2.0, 1376: 1.0, 1390: 1.0, 1397: 1.0, 1399: 1.0, 1409: 1.0, 1412: 1.0, 1413: 1.0, 1420: 1.0, 1428: 2.0, 1435: 1.0, 1436: 2.0, 1439: 1.0, 1442: 1.0, 1444: 3.0, 1445: 1.0, 1447: 1.0, 1450: 1.0, 1457: 1.0, 1460: 1.0, 1473: 1.0, 1484: 1.0, 1492: 2.0, 1495: 1.0, 1504: 1.0, 1505: 2.0, 1513: 1.0, 1516: 1.0, 1524: 1.0, 1534: 1.0, 1536: 2.0, 1539: 1.0, 1549: 1.0, 1552: 1.0, 1556: 4.0, 1566: 1.0, 1568: 1.0, 1569: 1.0, 1571: 1.0, 1573: 7.0, 1580: 1.0, 1581: 1.0, 1583: 1.0, 1587: 2.0, 1590: 1.0, 1591: 2.0, 1594: 1.0, 1595: 2.0, 1598: 1.0, 1602: 2.0, 1603: 1.0, 1604: 3.0, 1605: 1.0, 1609: 1.0, 1610: 1.0, 1611: 1.0, 1612: 1.0, 1624: 1.0, 1627: 1.0, 1628: 1.0, 1630: 1.0, 1631: 3.0, 1633: 1.0, 1637: 3.0, 1638: 1.0, 1639: 1.0, 1640: 1.0, 1643: 1.0, 1651: 1.0, 1652: 1.0, 1656: 3.0, 1665: 1.0, 1668: 1.0, 1675: 2.0, 1676: 1.0, 1680: 2.0, 1688: 2.0, 1689: 4.0, 1690: 1.0, 1694: 3.0, 1698: 1.0, 1699: 1.0, 1700: 1.0, 1701: 4.0, 1703: 1.0, 1710: 1.0, 1718: 1.0, 1724: 3.0, 1730: 1.0, 1731: 1.0, 1733: 2.0, 1737: 1.0, 1738: 1.0, 1750: 5.0, 1752: 2.0, 1755: 1.0, 1767: 1.0, 1776: 2.0, 1788: 2.0, 1791: 3.0, 1794: 1.0, 1795: 1.0, 1797: 1.0, 1803: 3.0, 1805: 1.0, 1810: 6.0, 1812: 1.0, 1815: 1.0, 1818: 3.0, 1823: 4.0, 1828: 1.0, 1829: 5.0, 1837: 1.0, 1846: 1.0, 1847: 2.0, 1848: 1.0, 1849: 2.0, 1857: 2.0, 1859: 1.0, 1866: 2.0, 1871: 1.0, 1874: 1.0, 1880: 3.0, 1883: 1.0, 1884: 1.0, 1886: 1.0, 1887: 1.0, 1888: 2.0, 1900: 2.0, 1902: 1.0, 1910: 2.0, 1913: 3.0, 1915: 1.0, 1918: 2.0, 1921: 1.0, 1926: 3.0, 1931: 1.0, 1932: 1.0, 1941: 1.0, 1943: 2.0, 1945: 2.0, 1949: 1.0, 1953: 2.0, 1955: 1.0, 1964: 1.0, 1965: 2.0, 1967: 1.0, 1970: 1.0, 1976: 3.0, 1983: 1.0, 1990: 2.0, 1992: 2.0, 1996: 2.0, 1998: 1.0, 2004: 1.0, 2015: 1.0, 2024: 1.0, 2031: 1.0, 2032: 2.0, 2045: 1.0, 2048: 1.0, 2058: 1.0, 2067: 1.0, 2068: 2.0, 2081: 1.0, 2082: 1.0, 2083: 1.0, 2085: 1.0, 2086: 2.0, 2088: 1.0, 2089: 1.0, 2091: 1.0, 2093: 1.0, 2097: 2.0, 2098: 1.0, 2113: 1.0, 2117: 2.0, 2123: 1.0, 2124: 2.0, 2125: 1.0, 2130: 1.0, 2139: 1.0, 2151: 1.0, 2157: 1.0, 2160: 3.0, 2165: 1.0, 2178: 1.0, 2182: 1.0, 2183: 1.0, 2188: 1.0, 2205: 1.0, 2209: 2.0, 2212: 1.0, 2219: 1.0, 2220: 2.0, 2221: 2.0, 2222: 1.0, 2228: 2.0, 2239: 1.0, 2240: 1.0, 2257: 1.0, 2262: 1.0, 2264: 1.0, 2282: 1.0, 2285: 2.0, 2298: 2.0, 2306: 1.0, 2311: 1.0, 2312: 1.0, 2313: 4.0, 2324: 1.0, 2330: 1.0, 2339: 1.0, 2351: 1.0, 2357: 2.0, 2360: 1.0, 2364: 2.0, 2366: 1.0, 2370: 1.0, 2382: 2.0, 2386: 1.0, 2389: 3.0, 2390: 2.0, 2394: 1.0, 2401: 1.0, 2404: 1.0, 2408: 1.0, 2428: 2.0, 2430: 1.0, 2435: 1.0, 2445: 1.0, 2449: 2.0, 2454: 2.0, 2456: 2.0, 2461: 1.0, 2463: 1.0, 2473: 1.0, 2476: 2.0, 2478: 2.0, 2480: 2.0, 2495: 2.0, 2500: 1.0, 2514: 1.0, 2516: 1.0, 2518: 1.0, 2520: 1.0, 2531: 2.0, 2538: 1.0, 2547: 1.0, 2548: 1.0, 2549: 2.0, 2567: 1.0, 2568: 2.0, 2572: 1.0, 2573: 1.0, 2583: 2.0, 2591: 1.0, 2592: 4.0, 2595: 1.0, 2600: 2.0, 2612: 3.0, 2614: 2.0, 2622: 1.0, 2624: 2.0, 2631: 1.0, 2639: 2.0, 2640: 1.0, 2641: 1.0, 2651: 1.0, 2652: 1.0, 2655: 1.0, 2662: 1.0, 2666: 1.0, 2668: 1.0, 2670: 2.0, 2671: 2.0, 2691: 1.0, 2696: 1.0, 2698: 1.0, 2702: 1.0, 2703: 1.0, 2705: 1.0, 2712: 1.0, 2715: 2.0, 2724: 1.0, 2727: 1.0, 2733: 1.0, 2744: 1.0, 2745: 1.0, 2754: 2.0, 2776: 1.0, 2781: 1.0, 2795: 1.0, 2796: 1.0, 2799: 1.0, 2807: 1.0, 2830: 2.0, 2833: 1.0, 2841: 1.0, 2844: 1.0, 2848: 1.0, 2859: 1.0, 2862: 2.0, 2899: 1.0, 2902: 1.0, 2905: 1.0, 2910: 1.0, 2917: 1.0, 2924: 1.0, 2934: 1.0, 2948: 1.0, 2952: 3.0, 2955: 2.0, 2958: 1.0, 2963: 1.0, 2968: 1.0, 2970: 1.0, 2974: 1.0, 2980: 1.0, 2983: 1.0, 2985: 1.0, 2987: 1.0, 2996: 1.0, 3009: 2.0, 3024: 1.0, 3027: 1.0, 3038: 1.0, 3042: 1.0, 3049: 1.0, 3053: 3.0, 3054: 3.0, 3077: 1.0, 3084: 1.0, 3098: 2.0, 3105: 1.0, 3107: 1.0, 3109: 1.0, 3116: 1.0, 3119: 2.0, 3123: 1.0, 3127: 2.0, 3148: 1.0, 3161: 1.0, 3172: 1.0, 3181: 2.0, 3192: 1.0, 3199: 1.0, 3209: 2.0, 3219: 1.0, 3220: 1.0, 3233: 3.0, 3235: 1.0, 3242: 1.0, 3256: 1.0, 3260: 2.0, 3273: 1.0, 3275: 1.0, 3282: 1.0, 3292: 1.0, 3311: 1.0, 3316: 1.0, 3320: 1.0, 3331: 3.0, 3337: 1.0, 3339: 1.0, 3341: 1.0, 3344: 1.0, 3359: 1.0, 3365: 1.0, 3367: 1.0, 3369: 1.0, 3373: 1.0, 3374: 1.0, 3384: 1.0, 3407: 1.0, 3408: 1.0, 3410: 1.0, 3412: 1.0, 3423: 1.0, 3441: 1.0, 3442: 1.0, 3469: 2.0, 3475: 1.0, 3476: 1.0, 3480: 1.0, 3484: 1.0, 3535: 1.0, 3541: 1.0, 3566: 1.0, 3567: 1.0, 3576: 1.0, 3586: 1.0, 3590: 1.0, 3611: 5.0, 3613: 1.0, 3622: 1.0, 3625: 1.0, 3637: 1.0, 3652: 1.0, 3655: 1.0, 3657: 1.0, 3679: 1.0, 3697: 1.0, 3702: 1.0, 3705: 1.0, 3707: 1.0, 3718: 2.0, 3723: 1.0, 3725: 1.0, 3731: 2.0, 3734: 1.0, 3746: 1.0, 3759: 1.0, 3761: 1.0, 3780: 2.0, 3792: 1.0, 3793: 2.0, 3799: 1.0, 3800: 1.0, 3804: 1.0, 3815: 1.0, 3823: 1.0, 3824: 1.0, 3840: 1.0, 3848: 1.0, 3853: 1.0, 3857: 1.0, 3867: 1.0, 3875: 1.0, 3877: 1.0, 3893: 4.0, 3904: 1.0, 3911: 1.0, 3914: 1.0, 3931: 1.0, 3950: 1.0, 3952: 1.0, 3960: 2.0, 3969: 1.0, 4000: 1.0, 4017: 3.0, 4038: 8.0, 4039: 2.0, 4047: 1.0, 4056: 1.0, 4064: 1.0, 4075: 1.0, 4078: 1.0, 4098: 1.0, 4106: 1.0, 4115: 1.0, 4121: 1.0, 4133: 1.0, 4142: 1.0, 4205: 1.0, 4217: 1.0, 4226: 1.0, 4246: 1.0, 4248: 1.0, 4262: 1.0, 4264: 1.0, 4274: 1.0, 4275: 1.0, 4283: 3.0, 4288: 1.0, 4323: 1.0, 4329: 1.0, 4334: 1.0, 4335: 1.0, 4351: 1.0, 4356: 1.0, 4364: 1.0, 4366: 1.0, 4382: 1.0, 4396: 1.0, 4431: 1.0, 4434: 1.0, 4445: 1.0, 4460: 1.0, 4471: 1.0, 4472: 1.0, 4511: 1.0, 4516: 1.0, 4520: 1.0, 4521: 1.0, 4522: 1.0, 4524: 1.0, 4531: 1.0, 4533: 1.0, 4534: 1.0, 4549: 1.0, 4562: 1.0, 4571: 1.0, 4573: 1.0, 4575: 2.0, 4578: 1.0, 4580: 1.0, 4585: 1.0, 4588: 1.0, 4591: 1.0, 4607: 1.0, 4618: 1.0, 4627: 1.0, 4648: 1.0, 4674: 1.0, 4704: 1.0, 4706: 1.0, 4708: 1.0, 4723: 3.0, 4737: 1.0, 4738: 1.0, 4740: 1.0, 4744: 1.0, 4747: 1.0, 4775: 1.0, 4798: 1.0, 4808: 1.0, 4811: 1.0, 4813: 1.0, 4823: 1.0, 4828: 1.0, 4835: 1.0, 4837: 1.0, 4844: 1.0, 4845: 1.0, 4849: 1.0, 4865: 1.0, 4875: 1.0, 4886: 1.0, 4892: 1.0, 4896: 1.0, 4911: 1.0, 4952: 1.0, 4953: 1.0, 4956: 1.0, 4971: 1.0, 4974: 1.0, 4978: 1.0, 4980: 2.0, 4988: 1.0, 5009: 1.0, 5040: 1.0, 5043: 1.0, 5059: 1.0, 5082: 1.0, 5104: 1.0, 5143: 1.0, 5157: 1.0, 5166: 1.0, 5178: 1.0, 5189: 2.0, 5190: 1.0, 5198: 1.0, 5222: 1.0, 5248: 1.0, 5271: 1.0, 5281: 1.0, 5309: 1.0, 5315: 1.0, 5348: 1.0, 5350: 2.0, 5380: 1.0, 5418: 2.0, 5425: 1.0, 5431: 1.0, 5451: 1.0, 5455: 1.0, 5511: 1.0, 5557: 1.0, 5586: 1.0, 5588: 1.0, 5595: 1.0, 5613: 1.0, 5678: 1.0, 5683: 1.0, 5685: 2.0, 5686: 1.0, 5706: 1.0, 5719: 1.0, 5728: 1.0, 5785: 1.0, 5791: 1.0, 5796: 1.0, 5801: 1.0, 5808: 2.0, 5815: 7.0, 5836: 1.0, 5853: 1.0, 5870: 1.0, 5873: 1.0, 5899: 1.0, 5930: 1.0, 5957: 1.0, 5959: 2.0, 5962: 1.0, 6007: 1.0, 6032: 1.0, 6100: 1.0, 6163: 2.0, 6166: 1.0, 6209: 1.0, 6213: 1.0, 6228: 1.0, 6251: 1.0, 6265: 1.0, 6266: 2.0, 6272: 1.0, 6282: 1.0, 6292: 1.0, 6301: 1.0, 6312: 1.0, 6321: 1.0, 6352: 1.0, 6365: 1.0, 6380: 1.0, 6392: 1.0, 6421: 1.0, 6443: 1.0, 6458: 1.0, 6462: 7.0, 6466: 1.0, 6479: 1.0, 6523: 1.0, 6535: 1.0, 6552: 2.0, 6578: 1.0, 6627: 1.0, 6665: 1.0, 6706: 1.0, 6767: 1.0, 6806: 8.0, 6859: 1.0, 6861: 1.0, 6881: 1.0, 6944: 1.0, 6957: 1.0, 6967: 2.0, 7042: 1.0, 7204: 1.0, 7224: 2.0, 7253: 1.0, 7313: 1.0, 7319: 1.0, 7330: 1.0, 7346: 1.0, 7372: 1.0, 7420: 1.0, 7422: 1.0, 7444: 1.0, 7480: 1.0, 7491: 1.0, 7498: 1.0, 7499: 1.0, 7512: 1.0, 7570: 1.0, 7577: 1.0, 7581: 1.0, 7601: 1.0, 7670: 1.0, 7679: 1.0, 7736: 1.0, 7778: 1.0, 7850: 1.0, 7877: 1.0, 7916: 1.0, 7924: 2.0, 7949: 1.0, 8042: 1.0, 8050: 1.0, 8089: 1.0, 8191: 1.0, 8193: 1.0, 8210: 1.0, 8276: 1.0, 8278: 1.0, 8281: 1.0, 8282: 1.0, 8307: 1.0, 8424: 1.0, 8485: 2.0, 8568: 1.0, 8603: 2.0, 8657: 1.0, 8698: 1.0, 8705: 1.0, 8729: 1.0, 8756: 1.0, 8914: 2.0, 8930: 2.0, 9119: 1.0, 9144: 1.0, 9173: 1.0, 9182: 1.0, 9225: 1.0, 9233: 1.0, 9241: 1.0, 9264: 1.0, 9282: 1.0, 9299: 1.0, 9353: 1.0, 9376: 1.0, 9496: 1.0, 9596: 1.0, 9717: 1.0, 9766: 1.0, 9850: 1.0, 9860: 1.0, 9903: 1.0, 9974: 1.0, 10012: 1.0, 10121: 1.0, 10295: 1.0, 10406: 2.0, 10423: 1.0, 10436: 1.0, 10466: 1.0, 10546: 1.0, 10741: 1.0, 10808: 1.0, 10843: 1.0, 10910: 1.0, 11062: 1.0, 11145: 1.0, 11160: 1.0, 11531: 1.0, 11579: 1.0, 11708: 1.0, 11713: 1.0, 11716: 1.0, 11723: 1.0, 11732: 1.0, 11763: 1.0, 11774: 1.0, 11881: 1.0, 12001: 1.0, 12005: 1.0, 12043: 1.0, 12056: 1.0, 12159: 1.0, 12206: 1.0, 12332: 1.0, 12429: 1.0, 12736: 1.0, 12757: 1.0, 12831: 2.0, 12887: 2.0, 12955: 2.0, 12980: 2.0, 13001: 1.0, 13052: 1.0, 13086: 1.0, 13338: 3.0, 13352: 1.0, 13531: 1.0, 13559: 1.0, 13594: 1.0, 13721: 2.0, 13727: 1.0, 13811: 1.0, 14018: 1.0, 14021: 4.0, 14427: 1.0, 14494: 4.0, 14540: 1.0, 14555: 1.0, 14781: 1.0, 14962: 1.0, 14991: 1.0, 15094: 1.0, 15149: 1.0, 15348: 1.0, 15385: 1.0, 15526: 1.0, 15568: 1.0, 15589: 1.0, 15658: 1.0, 15778: 2.0, 15899: 1.0, 15967: 1.0, 15984: 1.0, 15999: 1.0, 16113: 1.0, 16145: 1.0, 16285: 1.0, 16378: 1.0, 16433: 1.0, 16623: 1.0, 16659: 1.0, 16880: 1.0, 16916: 1.0, 17301: 1.0, 17336: 1.0, 17410: 1.0, 17545: 1.0, 17910: 1.0, 18014: 1.0, 18078: 1.0, 18158: 1.0, 18239: 1.0, 18626: 1.0, 18682: 1.0, 18753: 1.0, 18845: 3.0, 19239: 1.0, 19474: 1.0, 19593: 1.0, 19945: 1.0, 20012: 1.0, 20025: 1.0, 20094: 1.0, 20282: 1.0, 20340: 1.0, 20463: 1.0, 21149: 1.0, 21222: 1.0, 21759: 1.0, 21829: 1.0, 22593: 1.0, 23119: 1.0, 23243: 1.0, 23245: 1.0, 23481: 1.0, 23534: 1.0, 23715: 1.0, 23722: 1.0, 24139: 1.0, 24493: 1.0, 24674: 1.0, 24812: 1.0, 25216: 1.0, 25681: 1.0, 25813: 1.0, 25897: 1.0, 26087: 1.0, 26219: 1.0, 26406: 1.0, 26443: 1.0, 26676: 1.0, 27581: 1.0, 27682: 1.0, 27750: 1.0, 27810: 1.0, 28003: 1.0, 28272: 1.0, 28286: 1.0, 29626: 1.0, 29651: 1.0, 30303: 1.0, 30305: 1.0, 30426: 1.0, 31221: 1.0, 31643: 1.0, 32186: 1.0, 32272: 1.0, 32348: 1.0, 33103: 1.0, 33187: 1.0, 33682: 1.0, 33689: 1.0, 34579: 1.0, 35598: 1.0, 36587: 1.0, 37198: 1.0, 38339: 1.0, 38994: 1.0, 39236: 1.0, 39901: 1.0, 43434: 1.0, 43855: 1.0, 45677: 1.0, 46550: 1.0, 47230: 1.0, 49886: 1.0, 51745: 1.0, 54552: 1.0, 55556: 1.0, 57117: 1.0, 59422: 1.0, 62710: 1.0, 63797: 1.0, 65793: 1.0, 66798: 1.0, 73672: 1.0, 78909: 1.0, 81842: 1.0, 89660: 1.0, 91708: 1.0}))"
      ]
     },
     "execution_count": 37,
     "metadata": {},
     "output_type": "execute_result"
    }
   ],
   "source": [
    "year_vec.first()"
   ]
  },
  {
   "cell_type": "code",
   "execution_count": 39,
   "metadata": {
    "collapsed": true
   },
   "outputs": [],
   "source": [
    "# TODO: use an empty dictionary and the two functions defined above as arguments to the treeAggregate method\n",
    "year_sums = (year_vec.partitionBy(n_partitions)\n",
    "                     .treeAggregate({}, add_vector, add_dicts))"
   ]
  },
  {
   "cell_type": "markdown",
   "metadata": {},
   "source": [
    "Note that `year_sums` is a single \"value\", in this case our aggregate dictionary containing years as keys and vectors representing cummulative word counts as values. "
   ]
  },
  {
   "cell_type": "code",
   "execution_count": 40,
   "metadata": {},
   "outputs": [
    {
     "data": {
      "text/plain": [
       "[(1880,\n",
       "  array([ 17601.,   8562.,   9754., ...,      0.,      0.,      0.], dtype=float32)),\n",
       " (1684, array([ 103.,   64.,  423., ...,    0.,    0.,    0.], dtype=float32)),\n",
       " (1978, array([ 72.,  18.,  21., ...,   0.,   0.,   0.], dtype=float32)),\n",
       " (1782, array([ 327.,  334.,  692., ...,    0.,    0.,    0.], dtype=float32)),\n",
       " (1586, array([ 417.,  138.,  113., ...,    0.,    0.,    0.], dtype=float32)),\n",
       " (1907,\n",
       "  array([ 42029.,  23422.,  18030., ...,      0.,      0.,      0.], dtype=float32)),\n",
       " (1809, array([ 532.,  296.,  573., ...,    0.,    0.,    0.], dtype=float32)),\n",
       " (2005, array([ 41.,  30.,  92., ...,   0.,   0.,   0.], dtype=float32)),\n",
       " (1515, array([  0.,  25.,   2., ...,   0.,   0.,   0.], dtype=float32)),\n",
       " (1613, array([  49.,  177.,   69., ...,    0.,    0.,    0.], dtype=float32))]"
      ]
     },
     "execution_count": 40,
     "metadata": {},
     "output_type": "execute_result"
    }
   ],
   "source": [
    "list(year_sums.items())[0:10]"
   ]
  },
  {
   "cell_type": "markdown",
   "metadata": {},
   "source": [
    "## Gutenberg Project N-gram viewer\n",
    "\n",
    "Lets plot some results!\n",
    "\n",
    "Below we define a plotting function and then make a plot of some interesting examples -- feel free to change the word list..."
   ]
  },
  {
   "cell_type": "code",
   "execution_count": 41,
   "metadata": {
    "collapsed": true
   },
   "outputs": [],
   "source": [
    "def plot_usage_frequency(words, year_data, word_lookup, plot_range = [1500,2015]) : \n",
    "    years = sorted(year_data.keys())\n",
    "    tot_count = np.array([year_data[year].sum() for year in years])\n",
    "    \n",
    "    if ',' in words:\n",
    "        words = [word.strip() for word in words.split(',')]\n",
    "    elif type(words) is not list: \n",
    "        words = [words]\n",
    "        \n",
    "    n_words = len(words)\n",
    "    \n",
    "    for i, word in enumerate(words) : \n",
    "        word_ind = word_lookup[word]\n",
    "        w_count = np.array([year_data[year][word_ind] for year in years])\n",
    "        \n",
    "        plt.plot(years, smooth(w_count/(tot_count-w_count)),label=word, color = plt.cm.Set1(1.*i/n_words))\n",
    "    \n",
    "    plt.xlim(plot_range)\n",
    "    plt.xlabel('year')\n",
    "    plt.ylabel('relative frequency')\n",
    "    plt.legend(loc='upper left', fontsize = 'small')\n",
    "    \n",
    "    \n",
    "def smooth(x,window_len=11,window='hanning'):\n",
    "        if x.ndim != 1:\n",
    "                raise ValueError(\"smooth only accepts 1 dimension arrays.\")\n",
    "        if x.size < window_len:\n",
    "                raise ValueError(\"Input vector needs to be bigger than window size.\")\n",
    "        if window_len<3:\n",
    "                return x\n",
    "        if not window in ['flat', 'hanning', 'hamming', 'bartlett', 'blackman']:\n",
    "                raise ValueError(\"Window is on of 'flat', 'hanning', 'hamming', 'bartlett', 'blackman'\")\n",
    "        s=np.r_[2*x[0]-x[window_len-1::-1],x,2*x[-1]-x[-1:-window_len:-1]]\n",
    "        if window == 'flat': #moving average\n",
    "                w=np.ones(window_len,'d')\n",
    "        else:  \n",
    "                w=eval('np.'+window+'(window_len)')\n",
    "        y=np.convolve(w/w.sum(),s,mode='same')\n",
    "        return y[window_len:-window_len+1]\n",
    "    \n",
    "from ipywidgets import interact, interactive, fixed\n",
    "import ipywidgets as widgets\n",
    "\n",
    "plot_partial = lambda words: plot_usage_frequency(words, year_sums, word_lookup)"
   ]
  },
  {
   "cell_type": "markdown",
   "metadata": {},
   "source": [
    "Here are just some illustrative examples -- feel free to try your own..."
   ]
  },
  {
   "cell_type": "code",
   "execution_count": 42,
   "metadata": {
    "scrolled": false
   },
   "outputs": [
    {
     "data": {
      "application/vnd.jupyter.widget-view+json": {
       "model_id": "875a5505b266406999dd37d1cd5b9278",
       "version_major": 2,
       "version_minor": 0
      },
      "text/plain": [
       "A Jupyter Widget"
      ]
     },
     "metadata": {},
     "output_type": "display_data"
    },
    {
     "data": {
      "text/plain": [
       "<function __main__.<lambda>>"
      ]
     },
     "execution_count": 42,
     "metadata": {},
     "output_type": "execute_result"
    }
   ],
   "source": [
    "interact(plot_partial, words = 'giveth, environment, machine')"
   ]
  },
  {
   "cell_type": "markdown",
   "metadata": {},
   "source": [
    "If you are very motivated, you can adapt the workflow above to work with higher-order n-grams and allow for the lookup of phrases (i.e. \"world war\") instead of just single words. To do this, you have to create a new `word_lookup` table and regenerate the vectors. Since single words (i.e. one-grams) will dominate, it might make sense to build separate list of top N-grams (top two-grams, top three-grams) and then merge them together into a vocabulary map. Beware that the size of the data will increase quickly for N > 1!"
   ]
  },
  {
   "cell_type": "code",
   "execution_count": 43,
   "metadata": {
    "collapsed": true
   },
   "outputs": [],
   "source": [
    "sc.stop()"
   ]
  }
 ],
 "metadata": {
  "kernelspec": {
   "display_name": "Python 3",
   "language": "python",
   "name": "python3"
  },
  "language_info": {
   "codemirror_mode": {
    "name": "ipython",
    "version": 3
   },
   "file_extension": ".py",
   "mimetype": "text/x-python",
   "name": "python",
   "nbconvert_exporter": "python",
   "pygments_lexer": "ipython3",
   "version": "3.6.3"
  }
 },
 "nbformat": 4,
 "nbformat_minor": 1
}
