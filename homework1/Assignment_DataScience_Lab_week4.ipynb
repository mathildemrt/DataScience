{
 "cells": [
  {
   "cell_type": "markdown",
   "metadata": {},
   "source": [
    "## Description of the project:\n",
    "\n",
    "   In this part of the class, we will curate a set of **CO2 measurements**, measured from cheap but inaccurate sensors, that have been deployed in the city of Zurich. The goal of the exercise is twofold: \n",
    "\n",
    "1. Learn how to deal with real world sensor timeseries data, and organize them efficiently using python dataframes.\n",
    "\n",
    "2. Apply data science tools to model the measurements, and use the learned model to process them (e.g., detect outliers and drifts in the sensor measurements). \n",
    "\n",
    "The sensor network consists of 46 sites, located in different parts of the city. Each site contains three different sensors measuring (a) **CO2 concentration**, (b) **temperature**, and (c) **humidity**. Beside these measurements, we have the following additional information that can be used to process the measurements: \n",
    "\n",
    "\n",
    "1. The average **daily wind pattern** for the city of Zurich \n",
    "\n",
    "2. The **altitude** at which the CO2 sensor is located\n",
    "\n",
    "3. A clustering of the city of Zurich in 17 different zones and the **city zone** in which the sensor belongs to. Some characteristic zones are industrial area, residential area, forest, glacier, lake, etc.\n",
    "\n",
    "Given this knowledge, you are asked to define a machine learning algorithm that curates the data, by detecting potential outliers or drifts. The algorithm should be based on the fact that sensors in similar conditions are expected to have similar measurements."
   ]
  },
  {
   "cell_type": "markdown",
   "metadata": {},
   "source": [
    "## Prior knowledge:\n",
    "    \n",
    "The average value of the CO2 in a city is approximately 400 ppm. However, the exact measurement in each site depends on parameters such as the temperature, the humidity, the wind, the altitude, and the level of traffic around the site. For example, sensors positioned in high altitude (mountains) and exposed to stronger winds, are expected to have a much lower and uniform level of CO2 than sensors that are positioned in a business area with much higher traffic activity. Moreover, we know that there is a strong dependence of the CO2 measurements, on temperature and humidity.\n",
    "\n"
   ]
  },
  {
   "cell_type": "markdown",
   "metadata": {},
   "source": [
    "## Goal:\n",
    "    \n",
    "  We would like to use the above knowledge in order to fit a robust regression model to the CO2 measurements. This model should be built by processing the measurements of the entire sensor network jointly, and it should take into account the dependence on the above mentioned parameters. Finally, the learned model will be used to curate the CO2 measurements by detecting possible outliers and drifts. "
   ]
  },
  {
   "cell_type": "markdown",
   "metadata": {},
   "source": [
    "**Note:**\n",
    "Different machine learning approaches can be used to solve the problem. For simplicity, we provide a suggested approach, and the corresponding steps that can guide your solution. \n"
   ]
  },
  {
   "cell_type": "markdown",
   "metadata": {},
   "source": [
    "### Imports\n",
    "\n",
    "Import the following python packages: pandas, datetime, matplotlib, numpy, sklearn"
   ]
  },
  {
   "cell_type": "code",
   "execution_count": 1,
   "metadata": {},
   "outputs": [],
   "source": [
    "import numpy as np\n",
    "import pandas as pd\n",
    "import datetime\n",
    "import matplotlib.pyplot as plt\n",
    "import matplotlib.dates as mdates\n",
    "import sklearn\n",
    "import array\n",
    "\n",
    "import warnings\n",
    "warnings.filterwarnings(\"ignore\")\n",
    "\n",
    "%matplotlib inline"
   ]
  },
  {
   "cell_type": "markdown",
   "metadata": {},
   "source": [
    "### To start with: "
   ]
  },
  {
   "cell_type": "markdown",
   "metadata": {},
   "source": [
    "The following csv files will be needed: \n",
    "\n",
    "- `CO2_sensor_measurements.csv`\n",
    "\n",
    "Description: It containts the CO2 measurements (CO2), the name of the site (LocationName), a unique sensor identifier (SensorUnit_ID), and the time instance in which the measurement was taken (timestamp).\n",
    "    \n",
    "- `temperature_humidity.csv`\n",
    "\n",
    "Description: It contains the temperature and the humidity measurements for each sensor identifier, at each timestamp (Timestamp). For each SensorUnit_ID, the temperature and the humidity can be found in the corresponding columns of the dataframe (SensorUnit_ID.temperature, SensorUnit_ID.humidity).\n",
    "    \n",
    "- `sensor_metadata.csv`\n",
    "\n",
    "Description: It contains the name of the site (LocationName), the zone index (zone), and the altitude in meters. \n",
    "    \n",
    "- `zurich_average_wind.csv`\n",
    "\n",
    "Description: It contains the average wind speed (wind_speed) in the city of Zurich measured every 30 minutes (timestamp)."
   ]
  },
  {
   "cell_type": "code",
   "execution_count": 2,
   "metadata": {},
   "outputs": [],
   "source": [
    "CO2_measurement = pd.read_csv('CO2_sensor_measurements.csv', sep='\\t')\n",
    "zurich_average_wind = pd.read_csv('zurich_average_wind.csv', sep='\\t')\n",
    "zurich_temp_humidity= pd.read_csv('temperature_humidity.csv', sep='\\t')\n",
    "sensors_metadata = pd.read_csv('sensors_metadata.csv', sep='\\t') "
   ]
  },
  {
   "cell_type": "markdown",
   "metadata": {},
   "source": [
    "\n",
    "\n",
    "\n",
    "## PART I: Handling time series with pandas (15 points)\n",
    "\n",
    "### Question I.a. (12/15)\n",
    "\n",
    "Organize the CO2_sensor_measurements.csv and temperature_humidity.csv files into a single dataframe that contains as index the time instance (timestamp) of the measurements, and columns the location of the site (LocationName), the sensor ID (SensorUnit_ID), the CO2 measurement, the temperature, and the humidity. For each measurement (CO2, humidity, temperature), take the average over an interval of 30 min. If there are missing measurements, interpolate them linearly from measurements that are close by in time.\n",
    "\n",
    "Hints: the following methods could be useful:\n",
    "\n",
    "- [pandas.DataFrame.resample()](https://pandas.pydata.org/pandas-docs/stable/generated/pandas.DataFrame.resample.html)\n",
    "    \n",
    "- [pandas.DataFrame.interpolate()](https://pandas.pydata.org/pandasdocs/stable/generated/pandas.DataFrame.interpolate.html)\n",
    "\n",
    "- [pandas.DataFrame.mean()](https://pandas.pydata.org/pandas-docs/stable/generated/pandas.DataFrame.mean.html)\n",
    "\n",
    "- [pandas.DataFrame.append()](https://pandas.pydata.org/pandas-docs/stable/generated/pandas.DataFrame.append.html)"
   ]
  },
  {
   "cell_type": "markdown",
   "metadata": {},
   "source": [
    "First of all, we make sure each sensor is assocaited to a single location.  "
   ]
  },
  {
   "cell_type": "code",
   "execution_count": 3,
   "metadata": {},
   "outputs": [
    {
     "name": "stdout",
     "output_type": "stream",
     "text": [
      "There are 46 sensors.\n",
      "There are 46 locations.\n",
      "\n",
      "There are 46 unique pairs Location/Sensor, each location having only 1 sensor : True\n"
     ]
    }
   ],
   "source": [
    "print( \"There are %s sensors.\" % len( pd.unique(CO2_measurement[\"SensorUnit_ID\"]) ) )\n",
    "print( \"There are %s locations.\\n\" % len( pd.unique(CO2_measurement[\"LocationName\"]) ) )\n",
    "\n",
    "sensors_location = pd.DataFrame()\n",
    "sensors_location = CO2_measurement[[\"SensorUnit_ID\", \"LocationName\"]].drop_duplicates().groupby(\"LocationName\").count()\n",
    "sensors_location.rename(columns={ 'SensorUnit_ID': 'SensorsCount' }, inplace=True)\n",
    "\n",
    "\n",
    "print( \"There are %s unique pairs Location/Sensor, each location having only 1 sensor : %s\" % \n",
    "      (sensors_location.shape[0], sensors_location[ sensors_location.SensorsCount != 1 ].empty ) ) "
   ]
  },
  {
   "cell_type": "markdown",
   "metadata": {},
   "source": [
    "#### Resample CO2 measurement"
   ]
  },
  {
   "cell_type": "code",
   "execution_count": 4,
   "metadata": {
    "scrolled": true
   },
   "outputs": [
    {
     "data": {
      "text/html": [
       "<div>\n",
       "<style scoped>\n",
       "    .dataframe tbody tr th:only-of-type {\n",
       "        vertical-align: middle;\n",
       "    }\n",
       "\n",
       "    .dataframe tbody tr th {\n",
       "        vertical-align: top;\n",
       "    }\n",
       "\n",
       "    .dataframe thead th {\n",
       "        text-align: right;\n",
       "    }\n",
       "</style>\n",
       "<table border=\"1\" class=\"dataframe\">\n",
       "  <thead>\n",
       "    <tr style=\"text-align: right;\">\n",
       "      <th></th>\n",
       "      <th>timestamp</th>\n",
       "      <th>LocationName</th>\n",
       "      <th>SensorUnit_ID</th>\n",
       "      <th>CO2</th>\n",
       "    </tr>\n",
       "  </thead>\n",
       "  <tbody>\n",
       "    <tr>\n",
       "      <th>0</th>\n",
       "      <td>2017-10-01 00:05:00</td>\n",
       "      <td>ZGHD</td>\n",
       "      <td>1014</td>\n",
       "      <td>593.321562</td>\n",
       "    </tr>\n",
       "    <tr>\n",
       "      <th>1</th>\n",
       "      <td>2017-10-01 00:15:00</td>\n",
       "      <td>ZGHD</td>\n",
       "      <td>1014</td>\n",
       "      <td>595.846258</td>\n",
       "    </tr>\n",
       "    <tr>\n",
       "      <th>2</th>\n",
       "      <td>2017-10-01 00:25:00</td>\n",
       "      <td>ZGHD</td>\n",
       "      <td>1014</td>\n",
       "      <td>595.845353</td>\n",
       "    </tr>\n",
       "    <tr>\n",
       "      <th>3</th>\n",
       "      <td>2017-10-01 00:45:00</td>\n",
       "      <td>ZGHD</td>\n",
       "      <td>1014</td>\n",
       "      <td>599.039129</td>\n",
       "    </tr>\n",
       "    <tr>\n",
       "      <th>4</th>\n",
       "      <td>2017-10-01 00:55:00</td>\n",
       "      <td>ZGHD</td>\n",
       "      <td>1014</td>\n",
       "      <td>594.996629</td>\n",
       "    </tr>\n",
       "  </tbody>\n",
       "</table>\n",
       "</div>"
      ],
      "text/plain": [
       "             timestamp LocationName  SensorUnit_ID         CO2\n",
       "0  2017-10-01 00:05:00         ZGHD           1014  593.321562\n",
       "1  2017-10-01 00:15:00         ZGHD           1014  595.846258\n",
       "2  2017-10-01 00:25:00         ZGHD           1014  595.845353\n",
       "3  2017-10-01 00:45:00         ZGHD           1014  599.039129\n",
       "4  2017-10-01 00:55:00         ZGHD           1014  594.996629"
      ]
     },
     "execution_count": 4,
     "metadata": {},
     "output_type": "execute_result"
    }
   ],
   "source": [
    "CO2_measurement.head()"
   ]
  },
  {
   "cell_type": "code",
   "execution_count": 5,
   "metadata": {},
   "outputs": [
    {
     "data": {
      "text/plain": [
       "timestamp        False\n",
       "LocationName     False\n",
       "SensorUnit_ID    False\n",
       "CO2              False\n",
       "dtype: bool"
      ]
     },
     "execution_count": 5,
     "metadata": {},
     "output_type": "execute_result"
    }
   ],
   "source": [
    "# Check for NaN values in the dataframe\n",
    "CO2_measurement.isnull().any()"
   ]
  },
  {
   "cell_type": "code",
   "execution_count": 6,
   "metadata": {},
   "outputs": [],
   "source": [
    " def resample_CO2 ( data ) :\n",
    "    \"\"\"\n",
    "    Function to resample the CO2 measurement dataframe\n",
    "    \"\"\"\n",
    "    resampled_df = pd.DataFrame()\n",
    "    \n",
    "    for sensor in set( data['SensorUnit_ID'].values ):\n",
    "        \n",
    "        df = data.loc[data['SensorUnit_ID'] == sensor]\n",
    "        df = df.set_index(['timestamp',])\n",
    "        df.index = pd.to_datetime(df.index)        \n",
    "        df = df.groupby(['LocationName','SensorUnit_ID']).resample('30T').mean()\n",
    "        resampled_df = resampled_df.append([df])\n",
    "        \n",
    "    return resampled_df"
   ]
  },
  {
   "cell_type": "code",
   "execution_count": 7,
   "metadata": {},
   "outputs": [],
   "source": [
    "resampled_CO2 = resample_CO2(CO2_measurement).interpolate(method='linear').drop('SensorUnit_ID',axis=1)"
   ]
  },
  {
   "cell_type": "code",
   "execution_count": 8,
   "metadata": {},
   "outputs": [
    {
     "data": {
      "text/html": [
       "<div>\n",
       "<style scoped>\n",
       "    .dataframe tbody tr th:only-of-type {\n",
       "        vertical-align: middle;\n",
       "    }\n",
       "\n",
       "    .dataframe tbody tr th {\n",
       "        vertical-align: top;\n",
       "    }\n",
       "\n",
       "    .dataframe thead th {\n",
       "        text-align: right;\n",
       "    }\n",
       "</style>\n",
       "<table border=\"1\" class=\"dataframe\">\n",
       "  <thead>\n",
       "    <tr style=\"text-align: right;\">\n",
       "      <th></th>\n",
       "      <th>LocationName</th>\n",
       "      <th>SensorUnit_ID</th>\n",
       "      <th>CO2</th>\n",
       "    </tr>\n",
       "    <tr>\n",
       "      <th>timestamp</th>\n",
       "      <th></th>\n",
       "      <th></th>\n",
       "      <th></th>\n",
       "    </tr>\n",
       "  </thead>\n",
       "  <tbody>\n",
       "    <tr>\n",
       "      <th>2017-10-01 00:00:00</th>\n",
       "      <td>ZSBN</td>\n",
       "      <td>1031</td>\n",
       "      <td>418.493079</td>\n",
       "    </tr>\n",
       "    <tr>\n",
       "      <th>2017-10-01 00:30:00</th>\n",
       "      <td>ZSBN</td>\n",
       "      <td>1031</td>\n",
       "      <td>418.169200</td>\n",
       "    </tr>\n",
       "    <tr>\n",
       "      <th>2017-10-01 01:00:00</th>\n",
       "      <td>ZSBN</td>\n",
       "      <td>1031</td>\n",
       "      <td>421.749522</td>\n",
       "    </tr>\n",
       "    <tr>\n",
       "      <th>2017-10-01 01:30:00</th>\n",
       "      <td>ZSBN</td>\n",
       "      <td>1031</td>\n",
       "      <td>424.363039</td>\n",
       "    </tr>\n",
       "    <tr>\n",
       "      <th>2017-10-01 02:00:00</th>\n",
       "      <td>ZSBN</td>\n",
       "      <td>1031</td>\n",
       "      <td>423.172512</td>\n",
       "    </tr>\n",
       "  </tbody>\n",
       "</table>\n",
       "</div>"
      ],
      "text/plain": [
       "                    LocationName  SensorUnit_ID         CO2\n",
       "timestamp                                                  \n",
       "2017-10-01 00:00:00         ZSBN           1031  418.493079\n",
       "2017-10-01 00:30:00         ZSBN           1031  418.169200\n",
       "2017-10-01 01:00:00         ZSBN           1031  421.749522\n",
       "2017-10-01 01:30:00         ZSBN           1031  424.363039\n",
       "2017-10-01 02:00:00         ZSBN           1031  423.172512"
      ]
     },
     "execution_count": 8,
     "metadata": {},
     "output_type": "execute_result"
    }
   ],
   "source": [
    "# Convert multi-index to column\n",
    "resampled_CO2 = resampled_CO2.reset_index().set_index('timestamp', drop=True)\n",
    "resampled_CO2.head()"
   ]
  },
  {
   "cell_type": "code",
   "execution_count": 9,
   "metadata": {},
   "outputs": [
    {
     "data": {
      "text/plain": [
       "(66667, 3)"
      ]
     },
     "execution_count": 9,
     "metadata": {},
     "output_type": "execute_result"
    }
   ],
   "source": [
    "resampled_CO2.shape"
   ]
  },
  {
   "cell_type": "markdown",
   "metadata": {},
   "source": [
    "#### Resample temperature and humidity"
   ]
  },
  {
   "cell_type": "code",
   "execution_count": 10,
   "metadata": {},
   "outputs": [
    {
     "data": {
      "text/html": [
       "<div>\n",
       "<style scoped>\n",
       "    .dataframe tbody tr th:only-of-type {\n",
       "        vertical-align: middle;\n",
       "    }\n",
       "\n",
       "    .dataframe tbody tr th {\n",
       "        vertical-align: top;\n",
       "    }\n",
       "\n",
       "    .dataframe thead th {\n",
       "        text-align: right;\n",
       "    }\n",
       "</style>\n",
       "<table border=\"1\" class=\"dataframe\">\n",
       "  <thead>\n",
       "    <tr style=\"text-align: right;\">\n",
       "      <th></th>\n",
       "      <th>Timestamp</th>\n",
       "      <th>1014.temperature</th>\n",
       "      <th>1014.humidity</th>\n",
       "      <th>1015.temperature</th>\n",
       "      <th>1015.humidity</th>\n",
       "      <th>1016.temperature</th>\n",
       "      <th>1016.humidity</th>\n",
       "      <th>1017.temperature</th>\n",
       "      <th>1017.humidity</th>\n",
       "      <th>1018.temperature</th>\n",
       "      <th>...</th>\n",
       "      <th>1291.temperature</th>\n",
       "      <th>1291.humidity</th>\n",
       "      <th>1292.temperature</th>\n",
       "      <th>1292.humidity</th>\n",
       "      <th>1297.temperature</th>\n",
       "      <th>1297.humidity</th>\n",
       "      <th>1298.temperature</th>\n",
       "      <th>1298.humidity</th>\n",
       "      <th>1299.temperature</th>\n",
       "      <th>1299.humidity</th>\n",
       "    </tr>\n",
       "  </thead>\n",
       "  <tbody>\n",
       "    <tr>\n",
       "      <th>0</th>\n",
       "      <td>2017-10-01 00:00:00</td>\n",
       "      <td>11.39</td>\n",
       "      <td>92.262787</td>\n",
       "      <td>10.55</td>\n",
       "      <td>91.949982</td>\n",
       "      <td>11.02</td>\n",
       "      <td>92.613739</td>\n",
       "      <td>11.05</td>\n",
       "      <td>89.811844</td>\n",
       "      <td>11.38</td>\n",
       "      <td>...</td>\n",
       "      <td>10.13</td>\n",
       "      <td>96.828979</td>\n",
       "      <td>10.50</td>\n",
       "      <td>95.858139</td>\n",
       "      <td>10.70</td>\n",
       "      <td>94.524902</td>\n",
       "      <td>11.35</td>\n",
       "      <td>90.288681</td>\n",
       "      <td>11.44</td>\n",
       "      <td>90.118927</td>\n",
       "    </tr>\n",
       "    <tr>\n",
       "      <th>1</th>\n",
       "      <td>2017-10-01 00:10:00</td>\n",
       "      <td>11.39</td>\n",
       "      <td>92.579407</td>\n",
       "      <td>10.48</td>\n",
       "      <td>92.079681</td>\n",
       "      <td>11.04</td>\n",
       "      <td>93.063873</td>\n",
       "      <td>11.05</td>\n",
       "      <td>90.042633</td>\n",
       "      <td>11.38</td>\n",
       "      <td>...</td>\n",
       "      <td>10.12</td>\n",
       "      <td>97.322983</td>\n",
       "      <td>10.45</td>\n",
       "      <td>95.903915</td>\n",
       "      <td>10.53</td>\n",
       "      <td>94.395203</td>\n",
       "      <td>11.35</td>\n",
       "      <td>90.422195</td>\n",
       "      <td>11.46</td>\n",
       "      <td>90.073151</td>\n",
       "    </tr>\n",
       "    <tr>\n",
       "      <th>2</th>\n",
       "      <td>2017-10-01 00:20:00</td>\n",
       "      <td>11.41</td>\n",
       "      <td>92.480225</td>\n",
       "      <td>10.51</td>\n",
       "      <td>92.583221</td>\n",
       "      <td>11.06</td>\n",
       "      <td>93.201202</td>\n",
       "      <td>11.02</td>\n",
       "      <td>89.888138</td>\n",
       "      <td>11.35</td>\n",
       "      <td>...</td>\n",
       "      <td>10.14</td>\n",
       "      <td>97.780746</td>\n",
       "      <td>10.43</td>\n",
       "      <td>95.343155</td>\n",
       "      <td>10.45</td>\n",
       "      <td>94.620270</td>\n",
       "      <td>11.33</td>\n",
       "      <td>91.023010</td>\n",
       "      <td>11.41</td>\n",
       "      <td>89.466614</td>\n",
       "    </tr>\n",
       "    <tr>\n",
       "      <th>3</th>\n",
       "      <td>2017-10-01 00:30:00</td>\n",
       "      <td>11.35</td>\n",
       "      <td>91.902298</td>\n",
       "      <td>10.55</td>\n",
       "      <td>92.714828</td>\n",
       "      <td>11.02</td>\n",
       "      <td>92.932266</td>\n",
       "      <td>10.96</td>\n",
       "      <td>89.790863</td>\n",
       "      <td>11.31</td>\n",
       "      <td>...</td>\n",
       "      <td>10.13</td>\n",
       "      <td>97.904724</td>\n",
       "      <td>10.43</td>\n",
       "      <td>95.322174</td>\n",
       "      <td>10.42</td>\n",
       "      <td>94.973129</td>\n",
       "      <td>11.32</td>\n",
       "      <td>91.019196</td>\n",
       "      <td>11.39</td>\n",
       "      <td>89.249176</td>\n",
       "    </tr>\n",
       "    <tr>\n",
       "      <th>4</th>\n",
       "      <td>2017-10-01 00:40:00</td>\n",
       "      <td>11.30</td>\n",
       "      <td>91.639084</td>\n",
       "      <td>10.59</td>\n",
       "      <td>92.764420</td>\n",
       "      <td>10.99</td>\n",
       "      <td>92.598480</td>\n",
       "      <td>10.95</td>\n",
       "      <td>89.821381</td>\n",
       "      <td>11.27</td>\n",
       "      <td>...</td>\n",
       "      <td>10.13</td>\n",
       "      <td>97.931427</td>\n",
       "      <td>10.48</td>\n",
       "      <td>96.451324</td>\n",
       "      <td>10.46</td>\n",
       "      <td>95.282120</td>\n",
       "      <td>11.28</td>\n",
       "      <td>90.443176</td>\n",
       "      <td>11.31</td>\n",
       "      <td>88.871521</td>\n",
       "    </tr>\n",
       "  </tbody>\n",
       "</table>\n",
       "<p>5 rows × 93 columns</p>\n",
       "</div>"
      ],
      "text/plain": [
       "             Timestamp  1014.temperature  1014.humidity  1015.temperature  \\\n",
       "0  2017-10-01 00:00:00             11.39      92.262787             10.55   \n",
       "1  2017-10-01 00:10:00             11.39      92.579407             10.48   \n",
       "2  2017-10-01 00:20:00             11.41      92.480225             10.51   \n",
       "3  2017-10-01 00:30:00             11.35      91.902298             10.55   \n",
       "4  2017-10-01 00:40:00             11.30      91.639084             10.59   \n",
       "\n",
       "   1015.humidity  1016.temperature  1016.humidity  1017.temperature  \\\n",
       "0      91.949982             11.02      92.613739             11.05   \n",
       "1      92.079681             11.04      93.063873             11.05   \n",
       "2      92.583221             11.06      93.201202             11.02   \n",
       "3      92.714828             11.02      92.932266             10.96   \n",
       "4      92.764420             10.99      92.598480             10.95   \n",
       "\n",
       "   1017.humidity  1018.temperature      ...        1291.temperature  \\\n",
       "0      89.811844             11.38      ...                   10.13   \n",
       "1      90.042633             11.38      ...                   10.12   \n",
       "2      89.888138             11.35      ...                   10.14   \n",
       "3      89.790863             11.31      ...                   10.13   \n",
       "4      89.821381             11.27      ...                   10.13   \n",
       "\n",
       "   1291.humidity  1292.temperature  1292.humidity  1297.temperature  \\\n",
       "0      96.828979             10.50      95.858139             10.70   \n",
       "1      97.322983             10.45      95.903915             10.53   \n",
       "2      97.780746             10.43      95.343155             10.45   \n",
       "3      97.904724             10.43      95.322174             10.42   \n",
       "4      97.931427             10.48      96.451324             10.46   \n",
       "\n",
       "   1297.humidity  1298.temperature  1298.humidity  1299.temperature  \\\n",
       "0      94.524902             11.35      90.288681             11.44   \n",
       "1      94.395203             11.35      90.422195             11.46   \n",
       "2      94.620270             11.33      91.023010             11.41   \n",
       "3      94.973129             11.32      91.019196             11.39   \n",
       "4      95.282120             11.28      90.443176             11.31   \n",
       "\n",
       "   1299.humidity  \n",
       "0      90.118927  \n",
       "1      90.073151  \n",
       "2      89.466614  \n",
       "3      89.249176  \n",
       "4      88.871521  \n",
       "\n",
       "[5 rows x 93 columns]"
      ]
     },
     "execution_count": 10,
     "metadata": {},
     "output_type": "execute_result"
    }
   ],
   "source": [
    "zurich_temp_humidity.head()"
   ]
  },
  {
   "cell_type": "code",
   "execution_count": 11,
   "metadata": {
    "scrolled": true
   },
   "outputs": [],
   "source": [
    "def resample_temp_humidity(data):\n",
    "    \"\"\"\n",
    "    Function to resample the dataframe containing humidity and temperature\n",
    "    \"\"\"\n",
    "    data = data.set_index('Timestamp')\n",
    "    data.index = pd.to_datetime(data.index)\n",
    "    \n",
    "    new_data=pd.DataFrame(index = data.index)\n",
    "    #new_data['LocationName']  = pd.Series()\n",
    "    new_data['SensorUnit_ID'] = pd.Series()\n",
    "    new_data['temperature']   = pd.Series()\n",
    "    new_data['humidity']      = pd.Series()\n",
    "\n",
    "    temp = new_data\n",
    "    empty = temp\n",
    "    new_data = pd.DataFrame()\n",
    "\n",
    "    for i in data.columns :\n",
    "        \n",
    "        [ID,col] = i.split('.')\n",
    "        temp[col] = data[i]\n",
    "        #Here we assume that pair of columns are always ordered as [id_1.temp, id_1.hum, id_2.temp, id_2.hum ....]\n",
    "        if col == 'humidity':# ie, if we are treating the second column for this particular sensorID\n",
    "            temp['SensorUnit_ID']  = int(ID)\n",
    "            temp=temp.groupby('SensorUnit_ID').resample('30T').mean()\n",
    "            new_data = new_data.append(temp)\n",
    "            temp = empty\n",
    "    \n",
    "    \n",
    "    return new_data"
   ]
  },
  {
   "cell_type": "code",
   "execution_count": 12,
   "metadata": {
    "scrolled": true
   },
   "outputs": [
    {
     "data": {
      "text/html": [
       "<div>\n",
       "<style scoped>\n",
       "    .dataframe tbody tr th:only-of-type {\n",
       "        vertical-align: middle;\n",
       "    }\n",
       "\n",
       "    .dataframe tbody tr th {\n",
       "        vertical-align: top;\n",
       "    }\n",
       "\n",
       "    .dataframe thead th {\n",
       "        text-align: right;\n",
       "    }\n",
       "</style>\n",
       "<table border=\"1\" class=\"dataframe\">\n",
       "  <thead>\n",
       "    <tr style=\"text-align: right;\">\n",
       "      <th></th>\n",
       "      <th>SensorUnit_ID</th>\n",
       "      <th>temperature</th>\n",
       "      <th>humidity</th>\n",
       "    </tr>\n",
       "    <tr>\n",
       "      <th>Timestamp</th>\n",
       "      <th></th>\n",
       "      <th></th>\n",
       "      <th></th>\n",
       "    </tr>\n",
       "  </thead>\n",
       "  <tbody>\n",
       "    <tr>\n",
       "      <th>2017-10-01 00:00:00</th>\n",
       "      <td>1014</td>\n",
       "      <td>11.396667</td>\n",
       "      <td>92.440806</td>\n",
       "    </tr>\n",
       "    <tr>\n",
       "      <th>2017-10-01 00:30:00</th>\n",
       "      <td>1014</td>\n",
       "      <td>11.325000</td>\n",
       "      <td>91.770691</td>\n",
       "    </tr>\n",
       "    <tr>\n",
       "      <th>2017-10-01 01:00:00</th>\n",
       "      <td>1014</td>\n",
       "      <td>11.240000</td>\n",
       "      <td>91.096761</td>\n",
       "    </tr>\n",
       "    <tr>\n",
       "      <th>2017-10-01 01:30:00</th>\n",
       "      <td>1014</td>\n",
       "      <td>11.260000</td>\n",
       "      <td>91.275734</td>\n",
       "    </tr>\n",
       "    <tr>\n",
       "      <th>2017-10-01 02:00:00</th>\n",
       "      <td>1014</td>\n",
       "      <td>11.290000</td>\n",
       "      <td>91.061157</td>\n",
       "    </tr>\n",
       "  </tbody>\n",
       "</table>\n",
       "</div>"
      ],
      "text/plain": [
       "                     SensorUnit_ID  temperature   humidity\n",
       "Timestamp                                                 \n",
       "2017-10-01 00:00:00           1014    11.396667  92.440806\n",
       "2017-10-01 00:30:00           1014    11.325000  91.770691\n",
       "2017-10-01 01:00:00           1014    11.240000  91.096761\n",
       "2017-10-01 01:30:00           1014    11.260000  91.275734\n",
       "2017-10-01 02:00:00           1014    11.290000  91.061157"
      ]
     },
     "execution_count": 12,
     "metadata": {},
     "output_type": "execute_result"
    }
   ],
   "source": [
    "resampled_temp_humidity = resample_temp_humidity(zurich_temp_humidity).interpolate(method='linear').drop('SensorUnit_ID', axis=1)\n",
    "resampled_temp_humidity = resampled_temp_humidity.reset_index().set_index('Timestamp', drop=True)\n",
    "resampled_temp_humidity.head()"
   ]
  },
  {
   "cell_type": "code",
   "execution_count": 13,
   "metadata": {},
   "outputs": [
    {
     "data": {
      "text/plain": [
       "(68448, 3)"
      ]
     },
     "execution_count": 13,
     "metadata": {},
     "output_type": "execute_result"
    }
   ],
   "source": [
    "resampled_temp_humidity.shape"
   ]
  },
  {
   "cell_type": "markdown",
   "metadata": {},
   "source": [
    "#### Merge the 2 dataframes"
   ]
  },
  {
   "cell_type": "markdown",
   "metadata": {},
   "source": [
    "Before merging the 2 resampled dataframe, we make sure that each sensor is present in the 2 dataframe. That none is present in one dataframe but not in the other.\n",
    "\n",
    "Then, we notice that our dataframes have different shape because the measurements from sensor ***ZPFW 1174*** start on 2017-10-19 at 13:00:00 and measurements from sensor ***ZHRO 1117*** start on 2017-10-19 at 13:30:00. Before that time we have no CO2 measurements for ZPFW and ZHRO.\n",
    "\n",
    "Knowing this, we are still doing an outer join in order not to lose the information on the temperature and humidity performed before that date."
   ]
  },
  {
   "cell_type": "code",
   "execution_count": 14,
   "metadata": {},
   "outputs": [
    {
     "data": {
      "text/html": [
       "<div>\n",
       "<style scoped>\n",
       "    .dataframe tbody tr th:only-of-type {\n",
       "        vertical-align: middle;\n",
       "    }\n",
       "\n",
       "    .dataframe tbody tr th {\n",
       "        vertical-align: top;\n",
       "    }\n",
       "\n",
       "    .dataframe thead th {\n",
       "        text-align: right;\n",
       "    }\n",
       "</style>\n",
       "<table border=\"1\" class=\"dataframe\">\n",
       "  <thead>\n",
       "    <tr style=\"text-align: right;\">\n",
       "      <th></th>\n",
       "      <th>LocationName</th>\n",
       "      <th>SensorUnit_ID</th>\n",
       "      <th>CO2</th>\n",
       "    </tr>\n",
       "    <tr>\n",
       "      <th>timestamp</th>\n",
       "      <th></th>\n",
       "      <th></th>\n",
       "      <th></th>\n",
       "    </tr>\n",
       "  </thead>\n",
       "  <tbody>\n",
       "    <tr>\n",
       "      <th>2017-10-19 13:00:00</th>\n",
       "      <td>ZPFW</td>\n",
       "      <td>1174</td>\n",
       "      <td>424.071578</td>\n",
       "    </tr>\n",
       "    <tr>\n",
       "      <th>2017-10-19 13:30:00</th>\n",
       "      <td>ZPFW</td>\n",
       "      <td>1174</td>\n",
       "      <td>419.365710</td>\n",
       "    </tr>\n",
       "    <tr>\n",
       "      <th>2017-10-19 14:00:00</th>\n",
       "      <td>ZPFW</td>\n",
       "      <td>1174</td>\n",
       "      <td>413.355557</td>\n",
       "    </tr>\n",
       "    <tr>\n",
       "      <th>2017-10-19 14:30:00</th>\n",
       "      <td>ZPFW</td>\n",
       "      <td>1174</td>\n",
       "      <td>415.245809</td>\n",
       "    </tr>\n",
       "    <tr>\n",
       "      <th>2017-10-19 15:00:00</th>\n",
       "      <td>ZPFW</td>\n",
       "      <td>1174</td>\n",
       "      <td>415.895096</td>\n",
       "    </tr>\n",
       "  </tbody>\n",
       "</table>\n",
       "</div>"
      ],
      "text/plain": [
       "                    LocationName  SensorUnit_ID         CO2\n",
       "timestamp                                                  \n",
       "2017-10-19 13:00:00         ZPFW           1174  424.071578\n",
       "2017-10-19 13:30:00         ZPFW           1174  419.365710\n",
       "2017-10-19 14:00:00         ZPFW           1174  413.355557\n",
       "2017-10-19 14:30:00         ZPFW           1174  415.245809\n",
       "2017-10-19 15:00:00         ZPFW           1174  415.895096"
      ]
     },
     "execution_count": 14,
     "metadata": {},
     "output_type": "execute_result"
    }
   ],
   "source": [
    "resampled_CO2[resampled_CO2.SensorUnit_ID == 1174 ].head()"
   ]
  },
  {
   "cell_type": "code",
   "execution_count": 15,
   "metadata": {},
   "outputs": [
    {
     "data": {
      "text/html": [
       "<div>\n",
       "<style scoped>\n",
       "    .dataframe tbody tr th:only-of-type {\n",
       "        vertical-align: middle;\n",
       "    }\n",
       "\n",
       "    .dataframe tbody tr th {\n",
       "        vertical-align: top;\n",
       "    }\n",
       "\n",
       "    .dataframe thead th {\n",
       "        text-align: right;\n",
       "    }\n",
       "</style>\n",
       "<table border=\"1\" class=\"dataframe\">\n",
       "  <thead>\n",
       "    <tr style=\"text-align: right;\">\n",
       "      <th></th>\n",
       "      <th>LocationName</th>\n",
       "      <th>SensorUnit_ID</th>\n",
       "      <th>CO2</th>\n",
       "    </tr>\n",
       "    <tr>\n",
       "      <th>timestamp</th>\n",
       "      <th></th>\n",
       "      <th></th>\n",
       "      <th></th>\n",
       "    </tr>\n",
       "  </thead>\n",
       "  <tbody>\n",
       "    <tr>\n",
       "      <th>2017-10-19 13:30:00</th>\n",
       "      <td>ZHRO</td>\n",
       "      <td>1117</td>\n",
       "      <td>433.718986</td>\n",
       "    </tr>\n",
       "    <tr>\n",
       "      <th>2017-10-19 14:00:00</th>\n",
       "      <td>ZHRO</td>\n",
       "      <td>1117</td>\n",
       "      <td>430.520888</td>\n",
       "    </tr>\n",
       "    <tr>\n",
       "      <th>2017-10-19 14:30:00</th>\n",
       "      <td>ZHRO</td>\n",
       "      <td>1117</td>\n",
       "      <td>425.265832</td>\n",
       "    </tr>\n",
       "    <tr>\n",
       "      <th>2017-10-19 15:00:00</th>\n",
       "      <td>ZHRO</td>\n",
       "      <td>1117</td>\n",
       "      <td>432.520878</td>\n",
       "    </tr>\n",
       "    <tr>\n",
       "      <th>2017-10-19 15:30:00</th>\n",
       "      <td>ZHRO</td>\n",
       "      <td>1117</td>\n",
       "      <td>435.753967</td>\n",
       "    </tr>\n",
       "  </tbody>\n",
       "</table>\n",
       "</div>"
      ],
      "text/plain": [
       "                    LocationName  SensorUnit_ID         CO2\n",
       "timestamp                                                  \n",
       "2017-10-19 13:30:00         ZHRO           1117  433.718986\n",
       "2017-10-19 14:00:00         ZHRO           1117  430.520888\n",
       "2017-10-19 14:30:00         ZHRO           1117  425.265832\n",
       "2017-10-19 15:00:00         ZHRO           1117  432.520878\n",
       "2017-10-19 15:30:00         ZHRO           1117  435.753967"
      ]
     },
     "execution_count": 15,
     "metadata": {},
     "output_type": "execute_result"
    }
   ],
   "source": [
    "resampled_CO2[resampled_CO2.SensorUnit_ID == 1117 ].head()"
   ]
  },
  {
   "cell_type": "code",
   "execution_count": 16,
   "metadata": {},
   "outputs": [
    {
     "name": "stdout",
     "output_type": "stream",
     "text": [
      "No sensors are present in resampled_temp_humidity but not in resampled_CO2 :  True\n"
     ]
    }
   ],
   "source": [
    "print( \"No sensors are present in resampled_temp_humidity but not in resampled_CO2 : \",  \n",
    "      resampled_temp_humidity[~resampled_temp_humidity.SensorUnit_ID.isin(resampled_CO2.SensorUnit_ID)].empty )"
   ]
  },
  {
   "cell_type": "code",
   "execution_count": 17,
   "metadata": {},
   "outputs": [
    {
     "name": "stdout",
     "output_type": "stream",
     "text": [
      "No sensors are present in resampled_CO2 but not in resampled_temp_humidity :  True\n"
     ]
    }
   ],
   "source": [
    "print( \"No sensors are present in resampled_CO2 but not in resampled_temp_humidity : \",  \n",
    "      resampled_CO2[~resampled_CO2.SensorUnit_ID.isin(resampled_temp_humidity.SensorUnit_ID)].empty )"
   ]
  },
  {
   "cell_type": "code",
   "execution_count": 18,
   "metadata": {},
   "outputs": [
    {
     "data": {
      "text/html": [
       "<div>\n",
       "<style scoped>\n",
       "    .dataframe tbody tr th:only-of-type {\n",
       "        vertical-align: middle;\n",
       "    }\n",
       "\n",
       "    .dataframe tbody tr th {\n",
       "        vertical-align: top;\n",
       "    }\n",
       "\n",
       "    .dataframe thead th {\n",
       "        text-align: right;\n",
       "    }\n",
       "</style>\n",
       "<table border=\"1\" class=\"dataframe\">\n",
       "  <thead>\n",
       "    <tr style=\"text-align: right;\">\n",
       "      <th></th>\n",
       "      <th>LocationName</th>\n",
       "      <th>SensorUnit_ID</th>\n",
       "      <th>CO2</th>\n",
       "      <th>temperature</th>\n",
       "      <th>humidity</th>\n",
       "    </tr>\n",
       "    <tr>\n",
       "      <th>timestamp</th>\n",
       "      <th></th>\n",
       "      <th></th>\n",
       "      <th></th>\n",
       "      <th></th>\n",
       "      <th></th>\n",
       "    </tr>\n",
       "  </thead>\n",
       "  <tbody>\n",
       "    <tr>\n",
       "      <th>2017-10-19 10:30:00</th>\n",
       "      <td>NaN</td>\n",
       "      <td>1174</td>\n",
       "      <td>NaN</td>\n",
       "      <td>14.856667</td>\n",
       "      <td>67.263804</td>\n",
       "    </tr>\n",
       "    <tr>\n",
       "      <th>2017-10-19 11:00:00</th>\n",
       "      <td>NaN</td>\n",
       "      <td>1174</td>\n",
       "      <td>NaN</td>\n",
       "      <td>15.863333</td>\n",
       "      <td>65.317673</td>\n",
       "    </tr>\n",
       "    <tr>\n",
       "      <th>2017-10-19 11:30:00</th>\n",
       "      <td>NaN</td>\n",
       "      <td>1174</td>\n",
       "      <td>NaN</td>\n",
       "      <td>20.733333</td>\n",
       "      <td>57.518524</td>\n",
       "    </tr>\n",
       "    <tr>\n",
       "      <th>2017-10-19 12:00:00</th>\n",
       "      <td>NaN</td>\n",
       "      <td>1174</td>\n",
       "      <td>NaN</td>\n",
       "      <td>22.943333</td>\n",
       "      <td>50.104660</td>\n",
       "    </tr>\n",
       "    <tr>\n",
       "      <th>2017-10-19 12:30:00</th>\n",
       "      <td>NaN</td>\n",
       "      <td>1174</td>\n",
       "      <td>NaN</td>\n",
       "      <td>23.916667</td>\n",
       "      <td>43.019496</td>\n",
       "    </tr>\n",
       "  </tbody>\n",
       "</table>\n",
       "</div>"
      ],
      "text/plain": [
       "                    LocationName  SensorUnit_ID  CO2  temperature   humidity\n",
       "timestamp                                                                   \n",
       "2017-10-19 10:30:00          NaN           1174  NaN    14.856667  67.263804\n",
       "2017-10-19 11:00:00          NaN           1174  NaN    15.863333  65.317673\n",
       "2017-10-19 11:30:00          NaN           1174  NaN    20.733333  57.518524\n",
       "2017-10-19 12:00:00          NaN           1174  NaN    22.943333  50.104660\n",
       "2017-10-19 12:30:00          NaN           1174  NaN    23.916667  43.019496"
      ]
     },
     "execution_count": 18,
     "metadata": {},
     "output_type": "execute_result"
    }
   ],
   "source": [
    "resampled_CO2['timestamp'] = resampled_CO2.index\n",
    "resampled_temp_humidity['timestamp'] = resampled_temp_humidity.index\n",
    "\n",
    "resampled_meas = pd.merge( resampled_CO2, resampled_temp_humidity, on=['timestamp','SensorUnit_ID'], how=\"outer\" )\n",
    "resampled_meas = resampled_meas.set_index('timestamp', drop=True)\n",
    "resampled_meas.tail()"
   ]
  },
  {
   "cell_type": "code",
   "execution_count": 19,
   "metadata": {},
   "outputs": [
    {
     "data": {
      "text/plain": [
       "LocationName      True\n",
       "SensorUnit_ID    False\n",
       "CO2               True\n",
       "temperature      False\n",
       "humidity         False\n",
       "dtype: bool"
      ]
     },
     "execution_count": 19,
     "metadata": {},
     "output_type": "execute_result"
    }
   ],
   "source": [
    "resampled_meas.isnull().any()"
   ]
  },
  {
   "cell_type": "code",
   "execution_count": 20,
   "metadata": {
    "scrolled": true
   },
   "outputs": [
    {
     "name": "stdout",
     "output_type": "stream",
     "text": [
      "As expected, we are missing CO2 measurements in the merged dataframe for sensors ID in [1117 1174]\n"
     ]
    }
   ],
   "source": [
    "print( \"As expected, we are missing CO2 measurements in the merged dataframe for sensors ID in\", \n",
    "      resampled_meas[ resampled_meas.CO2.isnull() ].SensorUnit_ID.unique() )"
   ]
  },
  {
   "cell_type": "markdown",
   "metadata": {},
   "source": [
    "Since `LocationName` is needed in order to get the metadata of the sensors later one. We retrieve the missing data. "
   ]
  },
  {
   "cell_type": "code",
   "execution_count": 21,
   "metadata": {},
   "outputs": [
    {
     "data": {
      "text/html": [
       "<div>\n",
       "<style scoped>\n",
       "    .dataframe tbody tr th:only-of-type {\n",
       "        vertical-align: middle;\n",
       "    }\n",
       "\n",
       "    .dataframe tbody tr th {\n",
       "        vertical-align: top;\n",
       "    }\n",
       "\n",
       "    .dataframe thead th {\n",
       "        text-align: right;\n",
       "    }\n",
       "</style>\n",
       "<table border=\"1\" class=\"dataframe\">\n",
       "  <thead>\n",
       "    <tr style=\"text-align: right;\">\n",
       "      <th></th>\n",
       "      <th>LocationName</th>\n",
       "      <th>SensorUnit_ID</th>\n",
       "      <th>CO2</th>\n",
       "      <th>temperature</th>\n",
       "      <th>humidity</th>\n",
       "    </tr>\n",
       "    <tr>\n",
       "      <th>timestamp</th>\n",
       "      <th></th>\n",
       "      <th></th>\n",
       "      <th></th>\n",
       "      <th></th>\n",
       "      <th></th>\n",
       "    </tr>\n",
       "  </thead>\n",
       "  <tbody>\n",
       "    <tr>\n",
       "      <th>2017-10-19 10:30:00</th>\n",
       "      <td>ZPFW</td>\n",
       "      <td>1174</td>\n",
       "      <td>NaN</td>\n",
       "      <td>14.856667</td>\n",
       "      <td>67.263804</td>\n",
       "    </tr>\n",
       "    <tr>\n",
       "      <th>2017-10-19 11:00:00</th>\n",
       "      <td>ZPFW</td>\n",
       "      <td>1174</td>\n",
       "      <td>NaN</td>\n",
       "      <td>15.863333</td>\n",
       "      <td>65.317673</td>\n",
       "    </tr>\n",
       "    <tr>\n",
       "      <th>2017-10-19 11:30:00</th>\n",
       "      <td>ZPFW</td>\n",
       "      <td>1174</td>\n",
       "      <td>NaN</td>\n",
       "      <td>20.733333</td>\n",
       "      <td>57.518524</td>\n",
       "    </tr>\n",
       "    <tr>\n",
       "      <th>2017-10-19 12:00:00</th>\n",
       "      <td>ZPFW</td>\n",
       "      <td>1174</td>\n",
       "      <td>NaN</td>\n",
       "      <td>22.943333</td>\n",
       "      <td>50.104660</td>\n",
       "    </tr>\n",
       "    <tr>\n",
       "      <th>2017-10-19 12:30:00</th>\n",
       "      <td>ZPFW</td>\n",
       "      <td>1174</td>\n",
       "      <td>NaN</td>\n",
       "      <td>23.916667</td>\n",
       "      <td>43.019496</td>\n",
       "    </tr>\n",
       "  </tbody>\n",
       "</table>\n",
       "</div>"
      ],
      "text/plain": [
       "                    LocationName  SensorUnit_ID  CO2  temperature   humidity\n",
       "timestamp                                                                   \n",
       "2017-10-19 10:30:00         ZPFW           1174  NaN    14.856667  67.263804\n",
       "2017-10-19 11:00:00         ZPFW           1174  NaN    15.863333  65.317673\n",
       "2017-10-19 11:30:00         ZPFW           1174  NaN    20.733333  57.518524\n",
       "2017-10-19 12:00:00         ZPFW           1174  NaN    22.943333  50.104660\n",
       "2017-10-19 12:30:00         ZPFW           1174  NaN    23.916667  43.019496"
      ]
     },
     "execution_count": 21,
     "metadata": {},
     "output_type": "execute_result"
    }
   ],
   "source": [
    "# Add missing LocationName\n",
    "resampled_meas.loc[resampled_meas.SensorUnit_ID == 1174, 'LocationName'] = 'ZPFW'\n",
    "resampled_meas.loc[resampled_meas.SensorUnit_ID == 1117, 'LocationName'] = 'ZHRO'\n",
    "resampled_meas.tail()"
   ]
  },
  {
   "cell_type": "code",
   "execution_count": 22,
   "metadata": {},
   "outputs": [
    {
     "data": {
      "text/plain": [
       "LocationName     False\n",
       "SensorUnit_ID    False\n",
       "CO2               True\n",
       "temperature      False\n",
       "humidity         False\n",
       "dtype: bool"
      ]
     },
     "execution_count": 22,
     "metadata": {},
     "output_type": "execute_result"
    }
   ],
   "source": [
    "resampled_meas.isnull().any()"
   ]
  },
  {
   "cell_type": "markdown",
   "metadata": {},
   "source": [
    "Hint: Your dataframe should look like that"
   ]
  },
  {
   "cell_type": "code",
   "execution_count": 23,
   "metadata": {},
   "outputs": [
    {
     "data": {
      "text/html": [
       "<div>\n",
       "<style scoped>\n",
       "    .dataframe tbody tr th:only-of-type {\n",
       "        vertical-align: middle;\n",
       "    }\n",
       "\n",
       "    .dataframe tbody tr th {\n",
       "        vertical-align: top;\n",
       "    }\n",
       "\n",
       "    .dataframe thead th {\n",
       "        text-align: right;\n",
       "    }\n",
       "</style>\n",
       "<table border=\"1\" class=\"dataframe\">\n",
       "  <thead>\n",
       "    <tr style=\"text-align: right;\">\n",
       "      <th></th>\n",
       "      <th>CO2</th>\n",
       "      <th>LocationName</th>\n",
       "      <th>SensorUnit_ID</th>\n",
       "      <th>temperature</th>\n",
       "      <th>humidity</th>\n",
       "    </tr>\n",
       "  </thead>\n",
       "  <tbody>\n",
       "    <tr>\n",
       "      <th>2017-10-01 00:00:00</th>\n",
       "      <td>595.004391</td>\n",
       "      <td>ZGHD</td>\n",
       "      <td>1014</td>\n",
       "      <td>11.396667</td>\n",
       "      <td>92.440806</td>\n",
       "    </tr>\n",
       "    <tr>\n",
       "      <th>2017-10-01 00:30:00</th>\n",
       "      <td>597.017879</td>\n",
       "      <td>ZGHD</td>\n",
       "      <td>1014</td>\n",
       "      <td>11.325000</td>\n",
       "      <td>91.770691</td>\n",
       "    </tr>\n",
       "    <tr>\n",
       "      <th>2017-10-01 01:00:00</th>\n",
       "      <td>596.487010</td>\n",
       "      <td>ZGHD</td>\n",
       "      <td>1014</td>\n",
       "      <td>11.240000</td>\n",
       "      <td>91.096761</td>\n",
       "    </tr>\n",
       "    <tr>\n",
       "      <th>2017-10-01 01:30:00</th>\n",
       "      <td>598.787639</td>\n",
       "      <td>ZGHD</td>\n",
       "      <td>1014</td>\n",
       "      <td>11.260000</td>\n",
       "      <td>91.275734</td>\n",
       "    </tr>\n",
       "    <tr>\n",
       "      <th>2017-10-01 02:00:00</th>\n",
       "      <td>595.366394</td>\n",
       "      <td>ZGHD</td>\n",
       "      <td>1014</td>\n",
       "      <td>11.290000</td>\n",
       "      <td>91.061157</td>\n",
       "    </tr>\n",
       "  </tbody>\n",
       "</table>\n",
       "</div>"
      ],
      "text/plain": [
       "                            CO2 LocationName  SensorUnit_ID  temperature  \\\n",
       "2017-10-01 00:00:00  595.004391         ZGHD           1014    11.396667   \n",
       "2017-10-01 00:30:00  597.017879         ZGHD           1014    11.325000   \n",
       "2017-10-01 01:00:00  596.487010         ZGHD           1014    11.240000   \n",
       "2017-10-01 01:30:00  598.787639         ZGHD           1014    11.260000   \n",
       "2017-10-01 02:00:00  595.366394         ZGHD           1014    11.290000   \n",
       "\n",
       "                      humidity  \n",
       "2017-10-01 00:00:00  92.440806  \n",
       "2017-10-01 00:30:00  91.770691  \n",
       "2017-10-01 01:00:00  91.096761  \n",
       "2017-10-01 01:30:00  91.275734  \n",
       "2017-10-01 02:00:00  91.061157  "
      ]
     },
     "execution_count": 23,
     "metadata": {},
     "output_type": "execute_result"
    }
   ],
   "source": [
    "pd.read_csv('Hint_Ia.csv', index_col='Unnamed: 0')"
   ]
  },
  {
   "cell_type": "markdown",
   "metadata": {},
   "source": [
    "### Question I.b. (3/15)\n",
    "\n",
    "Export the curated and ready to use timeseries to a csv file. "
   ]
  },
  {
   "cell_type": "code",
   "execution_count": 24,
   "metadata": {},
   "outputs": [],
   "source": [
    "resampled_meas.to_csv('zurich_measurements.csv')"
   ]
  },
  {
   "cell_type": "markdown",
   "metadata": {},
   "source": [
    "## PART II: Finding meaningful structures/patterns in the data (20 points)\n",
    "\n",
    "### Question II.a. (3/30)\n",
    "\n",
    "Plot the daily median CO2 measurement for each site with respect to the altitude. Annotate each point of the plot with the name of the location (LocationName)."
   ]
  },
  {
   "cell_type": "markdown",
   "metadata": {},
   "source": [
    "#### Import the measurments from sensors in Zurich area "
   ]
  },
  {
   "cell_type": "code",
   "execution_count": 25,
   "metadata": {},
   "outputs": [
    {
     "data": {
      "text/html": [
       "<div>\n",
       "<style scoped>\n",
       "    .dataframe tbody tr th:only-of-type {\n",
       "        vertical-align: middle;\n",
       "    }\n",
       "\n",
       "    .dataframe tbody tr th {\n",
       "        vertical-align: top;\n",
       "    }\n",
       "\n",
       "    .dataframe thead th {\n",
       "        text-align: right;\n",
       "    }\n",
       "</style>\n",
       "<table border=\"1\" class=\"dataframe\">\n",
       "  <thead>\n",
       "    <tr style=\"text-align: right;\">\n",
       "      <th></th>\n",
       "      <th>timestamp</th>\n",
       "      <th>LocationName</th>\n",
       "      <th>SensorUnit_ID</th>\n",
       "      <th>CO2</th>\n",
       "      <th>temperature</th>\n",
       "      <th>humidity</th>\n",
       "    </tr>\n",
       "  </thead>\n",
       "  <tbody>\n",
       "    <tr>\n",
       "      <th>0</th>\n",
       "      <td>2017-10-01 00:00:00</td>\n",
       "      <td>ZSBN</td>\n",
       "      <td>1031</td>\n",
       "      <td>418.493079</td>\n",
       "      <td>11.146667</td>\n",
       "      <td>92.608017</td>\n",
       "    </tr>\n",
       "    <tr>\n",
       "      <th>1</th>\n",
       "      <td>2017-10-01 00:30:00</td>\n",
       "      <td>ZSBN</td>\n",
       "      <td>1031</td>\n",
       "      <td>418.169200</td>\n",
       "      <td>10.915000</td>\n",
       "      <td>92.220825</td>\n",
       "    </tr>\n",
       "    <tr>\n",
       "      <th>2</th>\n",
       "      <td>2017-10-01 01:00:00</td>\n",
       "      <td>ZSBN</td>\n",
       "      <td>1031</td>\n",
       "      <td>421.749522</td>\n",
       "      <td>10.860000</td>\n",
       "      <td>92.662059</td>\n",
       "    </tr>\n",
       "    <tr>\n",
       "      <th>3</th>\n",
       "      <td>2017-10-01 01:30:00</td>\n",
       "      <td>ZSBN</td>\n",
       "      <td>1031</td>\n",
       "      <td>424.363039</td>\n",
       "      <td>10.820000</td>\n",
       "      <td>92.934809</td>\n",
       "    </tr>\n",
       "    <tr>\n",
       "      <th>4</th>\n",
       "      <td>2017-10-01 02:00:00</td>\n",
       "      <td>ZSBN</td>\n",
       "      <td>1031</td>\n",
       "      <td>423.172512</td>\n",
       "      <td>10.760000</td>\n",
       "      <td>93.407832</td>\n",
       "    </tr>\n",
       "  </tbody>\n",
       "</table>\n",
       "</div>"
      ],
      "text/plain": [
       "             timestamp LocationName  SensorUnit_ID         CO2  temperature  \\\n",
       "0  2017-10-01 00:00:00         ZSBN           1031  418.493079    11.146667   \n",
       "1  2017-10-01 00:30:00         ZSBN           1031  418.169200    10.915000   \n",
       "2  2017-10-01 01:00:00         ZSBN           1031  421.749522    10.860000   \n",
       "3  2017-10-01 01:30:00         ZSBN           1031  424.363039    10.820000   \n",
       "4  2017-10-01 02:00:00         ZSBN           1031  423.172512    10.760000   \n",
       "\n",
       "    humidity  \n",
       "0  92.608017  \n",
       "1  92.220825  \n",
       "2  92.662059  \n",
       "3  92.934809  \n",
       "4  93.407832  "
      ]
     },
     "execution_count": 25,
     "metadata": {},
     "output_type": "execute_result"
    }
   ],
   "source": [
    "zurich_meas = pd.read_csv(\"zurich_measurements.csv\")\n",
    "zurich_meas.head()"
   ]
  },
  {
   "cell_type": "markdown",
   "metadata": {},
   "source": [
    "#### Get the metadata of the sensors "
   ]
  },
  {
   "cell_type": "code",
   "execution_count": 26,
   "metadata": {
    "scrolled": true
   },
   "outputs": [
    {
     "data": {
      "text/html": [
       "<div>\n",
       "<style scoped>\n",
       "    .dataframe tbody tr th:only-of-type {\n",
       "        vertical-align: middle;\n",
       "    }\n",
       "\n",
       "    .dataframe tbody tr th {\n",
       "        vertical-align: top;\n",
       "    }\n",
       "\n",
       "    .dataframe thead th {\n",
       "        text-align: right;\n",
       "    }\n",
       "</style>\n",
       "<table border=\"1\" class=\"dataframe\">\n",
       "  <thead>\n",
       "    <tr style=\"text-align: right;\">\n",
       "      <th></th>\n",
       "      <th>zone</th>\n",
       "      <th>altitude</th>\n",
       "    </tr>\n",
       "    <tr>\n",
       "      <th>LocationName</th>\n",
       "      <th></th>\n",
       "      <th></th>\n",
       "    </tr>\n",
       "  </thead>\n",
       "  <tbody>\n",
       "    <tr>\n",
       "      <th>AJGR</th>\n",
       "      <td>2.0</td>\n",
       "      <td>627.8</td>\n",
       "    </tr>\n",
       "    <tr>\n",
       "      <th>BSCR</th>\n",
       "      <td>2.0</td>\n",
       "      <td>462.3</td>\n",
       "    </tr>\n",
       "    <tr>\n",
       "      <th>BUDF</th>\n",
       "      <td>10.0</td>\n",
       "      <td>490.2</td>\n",
       "    </tr>\n",
       "    <tr>\n",
       "      <th>KBRL</th>\n",
       "      <td>7.0</td>\n",
       "      <td>510.5</td>\n",
       "    </tr>\n",
       "    <tr>\n",
       "      <th>KTGM</th>\n",
       "      <td>2.0</td>\n",
       "      <td>530.3</td>\n",
       "    </tr>\n",
       "  </tbody>\n",
       "</table>\n",
       "</div>"
      ],
      "text/plain": [
       "              zone  altitude\n",
       "LocationName                \n",
       "AJGR           2.0     627.8\n",
       "BSCR           2.0     462.3\n",
       "BUDF          10.0     490.2\n",
       "KBRL           7.0     510.5\n",
       "KTGM           2.0     530.3"
      ]
     },
     "execution_count": 26,
     "metadata": {},
     "output_type": "execute_result"
    }
   ],
   "source": [
    "metadata = sensors_metadata.set_index(['LocationName'])\n",
    "altitude = metadata['altitude']\n",
    "metadata.head()"
   ]
  },
  {
   "cell_type": "markdown",
   "metadata": {},
   "source": [
    "#### Merge the measurements with the metadata on LocationName"
   ]
  },
  {
   "cell_type": "code",
   "execution_count": 27,
   "metadata": {},
   "outputs": [
    {
     "data": {
      "text/html": [
       "<div>\n",
       "<style scoped>\n",
       "    .dataframe tbody tr th:only-of-type {\n",
       "        vertical-align: middle;\n",
       "    }\n",
       "\n",
       "    .dataframe tbody tr th {\n",
       "        vertical-align: top;\n",
       "    }\n",
       "\n",
       "    .dataframe thead th {\n",
       "        text-align: right;\n",
       "    }\n",
       "</style>\n",
       "<table border=\"1\" class=\"dataframe\">\n",
       "  <thead>\n",
       "    <tr style=\"text-align: right;\">\n",
       "      <th></th>\n",
       "      <th>timestamp</th>\n",
       "      <th>LocationName</th>\n",
       "      <th>SensorUnit_ID</th>\n",
       "      <th>CO2</th>\n",
       "      <th>temperature</th>\n",
       "      <th>humidity</th>\n",
       "      <th>zone</th>\n",
       "      <th>altitude</th>\n",
       "    </tr>\n",
       "  </thead>\n",
       "  <tbody>\n",
       "    <tr>\n",
       "      <th>0</th>\n",
       "      <td>2017-10-01 00:00:00</td>\n",
       "      <td>ZSBN</td>\n",
       "      <td>1031</td>\n",
       "      <td>418.493079</td>\n",
       "      <td>11.146667</td>\n",
       "      <td>92.608017</td>\n",
       "      <td>3.0</td>\n",
       "      <td>415.4</td>\n",
       "    </tr>\n",
       "    <tr>\n",
       "      <th>1</th>\n",
       "      <td>2017-10-01 00:30:00</td>\n",
       "      <td>ZSBN</td>\n",
       "      <td>1031</td>\n",
       "      <td>418.169200</td>\n",
       "      <td>10.915000</td>\n",
       "      <td>92.220825</td>\n",
       "      <td>3.0</td>\n",
       "      <td>415.4</td>\n",
       "    </tr>\n",
       "    <tr>\n",
       "      <th>2</th>\n",
       "      <td>2017-10-01 01:00:00</td>\n",
       "      <td>ZSBN</td>\n",
       "      <td>1031</td>\n",
       "      <td>421.749522</td>\n",
       "      <td>10.860000</td>\n",
       "      <td>92.662059</td>\n",
       "      <td>3.0</td>\n",
       "      <td>415.4</td>\n",
       "    </tr>\n",
       "    <tr>\n",
       "      <th>3</th>\n",
       "      <td>2017-10-01 01:30:00</td>\n",
       "      <td>ZSBN</td>\n",
       "      <td>1031</td>\n",
       "      <td>424.363039</td>\n",
       "      <td>10.820000</td>\n",
       "      <td>92.934809</td>\n",
       "      <td>3.0</td>\n",
       "      <td>415.4</td>\n",
       "    </tr>\n",
       "    <tr>\n",
       "      <th>4</th>\n",
       "      <td>2017-10-01 02:00:00</td>\n",
       "      <td>ZSBN</td>\n",
       "      <td>1031</td>\n",
       "      <td>423.172512</td>\n",
       "      <td>10.760000</td>\n",
       "      <td>93.407832</td>\n",
       "      <td>3.0</td>\n",
       "      <td>415.4</td>\n",
       "    </tr>\n",
       "  </tbody>\n",
       "</table>\n",
       "</div>"
      ],
      "text/plain": [
       "             timestamp LocationName  SensorUnit_ID         CO2  temperature  \\\n",
       "0  2017-10-01 00:00:00         ZSBN           1031  418.493079    11.146667   \n",
       "1  2017-10-01 00:30:00         ZSBN           1031  418.169200    10.915000   \n",
       "2  2017-10-01 01:00:00         ZSBN           1031  421.749522    10.860000   \n",
       "3  2017-10-01 01:30:00         ZSBN           1031  424.363039    10.820000   \n",
       "4  2017-10-01 02:00:00         ZSBN           1031  423.172512    10.760000   \n",
       "\n",
       "    humidity  zone  altitude  \n",
       "0  92.608017   3.0     415.4  \n",
       "1  92.220825   3.0     415.4  \n",
       "2  92.662059   3.0     415.4  \n",
       "3  92.934809   3.0     415.4  \n",
       "4  93.407832   3.0     415.4  "
      ]
     },
     "execution_count": 27,
     "metadata": {},
     "output_type": "execute_result"
    }
   ],
   "source": [
    "metadata = metadata.reset_index()\n",
    "zurich_meas = zurich_meas.merge( metadata, on=['LocationName'], how=\"outer\" )\n",
    "zurich_meas.head()"
   ]
  },
  {
   "cell_type": "markdown",
   "metadata": {},
   "source": [
    "Each row has a corresponding altitude and zone. "
   ]
  },
  {
   "cell_type": "code",
   "execution_count": 28,
   "metadata": {},
   "outputs": [
    {
     "data": {
      "text/plain": [
       "timestamp        False\n",
       "LocationName     False\n",
       "SensorUnit_ID    False\n",
       "CO2               True\n",
       "temperature      False\n",
       "humidity         False\n",
       "zone             False\n",
       "altitude         False\n",
       "dtype: bool"
      ]
     },
     "execution_count": 28,
     "metadata": {},
     "output_type": "execute_result"
    }
   ],
   "source": [
    "zurich_meas.isnull().any()"
   ]
  },
  {
   "cell_type": "code",
   "execution_count": 29,
   "metadata": {},
   "outputs": [
    {
     "data": {
      "text/html": [
       "<div>\n",
       "<style scoped>\n",
       "    .dataframe tbody tr th:only-of-type {\n",
       "        vertical-align: middle;\n",
       "    }\n",
       "\n",
       "    .dataframe tbody tr th {\n",
       "        vertical-align: top;\n",
       "    }\n",
       "\n",
       "    .dataframe thead th {\n",
       "        text-align: right;\n",
       "    }\n",
       "</style>\n",
       "<table border=\"1\" class=\"dataframe\">\n",
       "  <thead>\n",
       "    <tr style=\"text-align: right;\">\n",
       "      <th></th>\n",
       "      <th></th>\n",
       "      <th>LocationName</th>\n",
       "      <th>SensorUnit_ID</th>\n",
       "      <th>CO2</th>\n",
       "      <th>altitude</th>\n",
       "    </tr>\n",
       "    <tr>\n",
       "      <th>SensorUnit_ID</th>\n",
       "      <th>timestamp</th>\n",
       "      <th></th>\n",
       "      <th></th>\n",
       "      <th></th>\n",
       "      <th></th>\n",
       "    </tr>\n",
       "  </thead>\n",
       "  <tbody>\n",
       "    <tr>\n",
       "      <th rowspan=\"5\" valign=\"top\">1178</th>\n",
       "      <th>2017-10-27</th>\n",
       "      <td>ZWCH</td>\n",
       "      <td>1178</td>\n",
       "      <td>450.443069</td>\n",
       "      <td>450.0</td>\n",
       "    </tr>\n",
       "    <tr>\n",
       "      <th>2017-10-28</th>\n",
       "      <td>ZWCH</td>\n",
       "      <td>1178</td>\n",
       "      <td>439.758763</td>\n",
       "      <td>450.0</td>\n",
       "    </tr>\n",
       "    <tr>\n",
       "      <th>2017-10-29</th>\n",
       "      <td>ZWCH</td>\n",
       "      <td>1178</td>\n",
       "      <td>434.345359</td>\n",
       "      <td>450.0</td>\n",
       "    </tr>\n",
       "    <tr>\n",
       "      <th>2017-10-30</th>\n",
       "      <td>ZWCH</td>\n",
       "      <td>1178</td>\n",
       "      <td>453.914400</td>\n",
       "      <td>450.0</td>\n",
       "    </tr>\n",
       "    <tr>\n",
       "      <th>2017-10-31</th>\n",
       "      <td>ZWCH</td>\n",
       "      <td>1178</td>\n",
       "      <td>476.797222</td>\n",
       "      <td>450.0</td>\n",
       "    </tr>\n",
       "  </tbody>\n",
       "</table>\n",
       "</div>"
      ],
      "text/plain": [
       "                         LocationName  SensorUnit_ID         CO2  altitude\n",
       "SensorUnit_ID timestamp                                                   \n",
       "1178          2017-10-27         ZWCH           1178  450.443069     450.0\n",
       "              2017-10-28         ZWCH           1178  439.758763     450.0\n",
       "              2017-10-29         ZWCH           1178  434.345359     450.0\n",
       "              2017-10-30         ZWCH           1178  453.914400     450.0\n",
       "              2017-10-31         ZWCH           1178  476.797222     450.0"
      ]
     },
     "execution_count": 29,
     "metadata": {},
     "output_type": "execute_result"
    }
   ],
   "source": [
    "# Compute the daily meadian for each sensor \n",
    "zurich_meas = zurich_meas.drop(['temperature', 'humidity','zone'], axis=1)\n",
    "zurich_meas = zurich_meas.set_index('timestamp', drop=True)\n",
    "zurich_meas.index = pd.to_datetime(zurich_meas.index)\n",
    "zurich_meas = zurich_meas.groupby(['LocationName','SensorUnit_ID'], ).resample('D').median()\n",
    "zurich_meas = zurich_meas.reset_index(\"LocationName\")\n",
    "zurich_meas = zurich_meas.dropna(axis=0, how='any')\n",
    "zurich_meas.tail()"
   ]
  },
  {
   "cell_type": "code",
   "execution_count": 30,
   "metadata": {},
   "outputs": [
    {
     "data": {
      "image/png": "[encoded data removed]",
      "text/plain": [
       "<matplotlib.figure.Figure at 0x1510dc1b38>"
      ]
     },
     "metadata": {},
     "output_type": "display_data"
    }
   ],
   "source": [
    "# Plot the daily meadian CO2 measurement for each location\n",
    "\n",
    "location = \"\"\n",
    "\n",
    "fig, ax = plt.subplots(figsize=(15, 10))\n",
    "ax.scatter(zurich_meas.CO2, zurich_meas.altitude)\n",
    "ax.set_title(\"Daily median CO2 measurement for each site with respect to the altitude\")\n",
    "ax.set_xlabel(\"CO2\")\n",
    "ax.set_ylabel(\"Altitude\")\n",
    "\n",
    "for i, row in zurich_meas.iterrows():\n",
    "    current = row.LocationName\n",
    "    store = row.LocationName\n",
    "    if current != location:\n",
    "        location = row.LocationName\n",
    "        ax.text(row.CO2, row.altitude, str(row.LocationName))\n",
    "\n",
    "plt.show()"
   ]
  },
  {
   "cell_type": "markdown",
   "metadata": {},
   "source": [
    "### Question II.b. (7/20)\n",
    "\n",
    "**Altitude clustering:** Cluster the sites based on their altitude, by performing a K-means clustering. Set the number of clusters to 4. "
   ]
  },
  {
   "cell_type": "code",
   "execution_count": 31,
   "metadata": {},
   "outputs": [],
   "source": [
    "# Convert DataFrame to matrix\n",
    "from sklearn.cluster import KMeans\n",
    "matrix = metadata.drop(['LocationName'], axis=1).as_matrix()\n",
    "\n",
    "# Apply kmeans clustering\n",
    "km = KMeans(n_clusters=4)\n",
    "km.fit(matrix)\n",
    "\n",
    "# Get cluster assignment labels\n",
    "labels = km.labels_"
   ]
  },
  {
   "cell_type": "code",
   "execution_count": 32,
   "metadata": {},
   "outputs": [],
   "source": [
    "alt_clusters = pd.Series(data = labels, index = metadata.index)"
   ]
  },
  {
   "cell_type": "code",
   "execution_count": 33,
   "metadata": {},
   "outputs": [],
   "source": [
    "metadata['cluster'] = alt_clusters"
   ]
  },
  {
   "cell_type": "code",
   "execution_count": 34,
   "metadata": {
    "scrolled": true
   },
   "outputs": [
    {
     "data": {
      "text/html": [
       "<div>\n",
       "<style scoped>\n",
       "    .dataframe tbody tr th:only-of-type {\n",
       "        vertical-align: middle;\n",
       "    }\n",
       "\n",
       "    .dataframe tbody tr th {\n",
       "        vertical-align: top;\n",
       "    }\n",
       "\n",
       "    .dataframe thead th {\n",
       "        text-align: right;\n",
       "    }\n",
       "</style>\n",
       "<table border=\"1\" class=\"dataframe\">\n",
       "  <thead>\n",
       "    <tr style=\"text-align: right;\">\n",
       "      <th></th>\n",
       "      <th>LocationName</th>\n",
       "      <th>zone</th>\n",
       "      <th>altitude</th>\n",
       "      <th>cluster</th>\n",
       "    </tr>\n",
       "  </thead>\n",
       "  <tbody>\n",
       "    <tr>\n",
       "      <th>22</th>\n",
       "      <td>ZFRK</td>\n",
       "      <td>2.0</td>\n",
       "      <td>442.0</td>\n",
       "      <td>0</td>\n",
       "    </tr>\n",
       "    <tr>\n",
       "      <th>23</th>\n",
       "      <td>ZGHD</td>\n",
       "      <td>2.0</td>\n",
       "      <td>413.5</td>\n",
       "      <td>0</td>\n",
       "    </tr>\n",
       "    <tr>\n",
       "      <th>26</th>\n",
       "      <td>ZHRG</td>\n",
       "      <td>3.0</td>\n",
       "      <td>410.5</td>\n",
       "      <td>0</td>\n",
       "    </tr>\n",
       "    <tr>\n",
       "      <th>27</th>\n",
       "      <td>ZHRO</td>\n",
       "      <td>2.0</td>\n",
       "      <td>397.6</td>\n",
       "      <td>0</td>\n",
       "    </tr>\n",
       "    <tr>\n",
       "      <th>28</th>\n",
       "      <td>ZHRZ</td>\n",
       "      <td>3.0</td>\n",
       "      <td>429.5</td>\n",
       "      <td>0</td>\n",
       "    </tr>\n",
       "  </tbody>\n",
       "</table>\n",
       "</div>"
      ],
      "text/plain": [
       "   LocationName  zone  altitude  cluster\n",
       "22         ZFRK   2.0     442.0        0\n",
       "23         ZGHD   2.0     413.5        0\n",
       "26         ZHRG   3.0     410.5        0\n",
       "27         ZHRO   2.0     397.6        0\n",
       "28         ZHRZ   3.0     429.5        0"
      ]
     },
     "execution_count": 34,
     "metadata": {},
     "output_type": "execute_result"
    }
   ],
   "source": [
    "alt_clusters = metadata.sort_values('cluster')\n",
    "alt_clusters.head()"
   ]
  },
  {
   "cell_type": "markdown",
   "metadata": {},
   "source": [
    "### Question II.c. (7/20)\n",
    "\n",
    "**Temporal clustering:** Cluster the days of the month based on the average wind conditions of the city of Zurich. \n",
    "\n",
    "First, resample the daily wind signal by computing the mean over an interval of 30 min. \n",
    "\n",
    "Then, consider each day as a 48-dimensional sample (30 min intervals per day). Perform a principle component analysis of the wind values to reduce the dimension to 2.  \n",
    "Hint: You can use `pandas.DataFrame.grouby()` and `for` to generate the daily sample ([documentation](https://pandas.pydata.org/pandas-docs/stable/groupby.html#iterating-through-groups)).\n",
    "\n",
    "Finally, apply K-means to the first two PCA coefficients. Set the number of clusters to 6."
   ]
  },
  {
   "cell_type": "code",
   "execution_count": 35,
   "metadata": {},
   "outputs": [
    {
     "data": {
      "text/html": [
       "<div>\n",
       "<style scoped>\n",
       "    .dataframe tbody tr th:only-of-type {\n",
       "        vertical-align: middle;\n",
       "    }\n",
       "\n",
       "    .dataframe tbody tr th {\n",
       "        vertical-align: top;\n",
       "    }\n",
       "\n",
       "    .dataframe thead th {\n",
       "        text-align: right;\n",
       "    }\n",
       "</style>\n",
       "<table border=\"1\" class=\"dataframe\">\n",
       "  <thead>\n",
       "    <tr style=\"text-align: right;\">\n",
       "      <th></th>\n",
       "      <th>timestamp</th>\n",
       "      <th>wind_speed</th>\n",
       "    </tr>\n",
       "  </thead>\n",
       "  <tbody>\n",
       "    <tr>\n",
       "      <th>0</th>\n",
       "      <td>2017-10-01 00:00:00</td>\n",
       "      <td>2.330000</td>\n",
       "    </tr>\n",
       "    <tr>\n",
       "      <th>1</th>\n",
       "      <td>2017-10-01 00:30:00</td>\n",
       "      <td>1.480000</td>\n",
       "    </tr>\n",
       "    <tr>\n",
       "      <th>2</th>\n",
       "      <td>2017-10-01 01:00:00</td>\n",
       "      <td>0.950000</td>\n",
       "    </tr>\n",
       "    <tr>\n",
       "      <th>3</th>\n",
       "      <td>2017-10-01 01:30:00</td>\n",
       "      <td>0.923333</td>\n",
       "    </tr>\n",
       "    <tr>\n",
       "      <th>4</th>\n",
       "      <td>2017-10-01 02:00:00</td>\n",
       "      <td>0.776667</td>\n",
       "    </tr>\n",
       "  </tbody>\n",
       "</table>\n",
       "</div>"
      ],
      "text/plain": [
       "             timestamp  wind_speed\n",
       "0  2017-10-01 00:00:00    2.330000\n",
       "1  2017-10-01 00:30:00    1.480000\n",
       "2  2017-10-01 01:00:00    0.950000\n",
       "3  2017-10-01 01:30:00    0.923333\n",
       "4  2017-10-01 02:00:00    0.776667"
      ]
     },
     "execution_count": 35,
     "metadata": {},
     "output_type": "execute_result"
    }
   ],
   "source": [
    "zurich_average_wind.head()"
   ]
  },
  {
   "cell_type": "code",
   "execution_count": 36,
   "metadata": {
    "scrolled": true
   },
   "outputs": [],
   "source": [
    "# Resample the data\n",
    "wind = zurich_average_wind.set_index(['timestamp'])\n",
    "wind.index = pd.to_datetime(wind.index)\n",
    "wind = wind.resample('30T').mean()"
   ]
  },
  {
   "cell_type": "code",
   "execution_count": 37,
   "metadata": {},
   "outputs": [],
   "source": [
    "data = wind.as_matrix().reshape((31,48))"
   ]
  },
  {
   "cell_type": "code",
   "execution_count": 38,
   "metadata": {},
   "outputs": [],
   "source": [
    "# Perform PCA\n",
    "from sklearn.decomposition import PCA\n",
    "\n",
    "pca = PCA(n_components=2)\n",
    "pca.fit(data)\n",
    "transform_data = pca.transform(data)\n",
    "PCA_data = pd.DataFrame(transform_data, index = wind.resample('D').mean().index )"
   ]
  },
  {
   "cell_type": "code",
   "execution_count": 39,
   "metadata": {},
   "outputs": [
    {
     "data": {
      "text/html": [
       "<div>\n",
       "<style scoped>\n",
       "    .dataframe tbody tr th:only-of-type {\n",
       "        vertical-align: middle;\n",
       "    }\n",
       "\n",
       "    .dataframe tbody tr th {\n",
       "        vertical-align: top;\n",
       "    }\n",
       "\n",
       "    .dataframe thead th {\n",
       "        text-align: right;\n",
       "    }\n",
       "</style>\n",
       "<table border=\"1\" class=\"dataframe\">\n",
       "  <thead>\n",
       "    <tr style=\"text-align: right;\">\n",
       "      <th></th>\n",
       "      <th>0</th>\n",
       "      <th>1</th>\n",
       "      <th>cluster</th>\n",
       "    </tr>\n",
       "    <tr>\n",
       "      <th>timestamp</th>\n",
       "      <th></th>\n",
       "      <th></th>\n",
       "      <th></th>\n",
       "    </tr>\n",
       "  </thead>\n",
       "  <tbody>\n",
       "    <tr>\n",
       "      <th>2017-10-31</th>\n",
       "      <td>-1.922598</td>\n",
       "      <td>-0.539616</td>\n",
       "      <td>0</td>\n",
       "    </tr>\n",
       "    <tr>\n",
       "      <th>2017-10-02</th>\n",
       "      <td>-0.869377</td>\n",
       "      <td>4.207631</td>\n",
       "      <td>0</td>\n",
       "    </tr>\n",
       "    <tr>\n",
       "      <th>2017-10-04</th>\n",
       "      <td>-3.281485</td>\n",
       "      <td>-0.074907</td>\n",
       "      <td>0</td>\n",
       "    </tr>\n",
       "    <tr>\n",
       "      <th>2017-10-07</th>\n",
       "      <td>-3.117599</td>\n",
       "      <td>1.896065</td>\n",
       "      <td>0</td>\n",
       "    </tr>\n",
       "    <tr>\n",
       "      <th>2017-10-20</th>\n",
       "      <td>-1.712431</td>\n",
       "      <td>3.719850</td>\n",
       "      <td>0</td>\n",
       "    </tr>\n",
       "    <tr>\n",
       "      <th>2017-10-10</th>\n",
       "      <td>-4.154495</td>\n",
       "      <td>1.617377</td>\n",
       "      <td>0</td>\n",
       "    </tr>\n",
       "    <tr>\n",
       "      <th>2017-10-11</th>\n",
       "      <td>-3.576478</td>\n",
       "      <td>1.514059</td>\n",
       "      <td>0</td>\n",
       "    </tr>\n",
       "    <tr>\n",
       "      <th>2017-10-26</th>\n",
       "      <td>-5.665380</td>\n",
       "      <td>-1.105998</td>\n",
       "      <td>1</td>\n",
       "    </tr>\n",
       "    <tr>\n",
       "      <th>2017-10-25</th>\n",
       "      <td>-5.158913</td>\n",
       "      <td>-0.270862</td>\n",
       "      <td>1</td>\n",
       "    </tr>\n",
       "    <tr>\n",
       "      <th>2017-10-24</th>\n",
       "      <td>-2.963772</td>\n",
       "      <td>-4.275269</td>\n",
       "      <td>1</td>\n",
       "    </tr>\n",
       "  </tbody>\n",
       "</table>\n",
       "</div>"
      ],
      "text/plain": [
       "                   0         1  cluster\n",
       "timestamp                              \n",
       "2017-10-31 -1.922598 -0.539616        0\n",
       "2017-10-02 -0.869377  4.207631        0\n",
       "2017-10-04 -3.281485 -0.074907        0\n",
       "2017-10-07 -3.117599  1.896065        0\n",
       "2017-10-20 -1.712431  3.719850        0\n",
       "2017-10-10 -4.154495  1.617377        0\n",
       "2017-10-11 -3.576478  1.514059        0\n",
       "2017-10-26 -5.665380 -1.105998        1\n",
       "2017-10-25 -5.158913 -0.270862        1\n",
       "2017-10-24 -2.963772 -4.275269        1"
      ]
     },
     "execution_count": 39,
     "metadata": {},
     "output_type": "execute_result"
    }
   ],
   "source": [
    "from sklearn.cluster import KMeans\n",
    "\n",
    "matrix = PCA_data.as_matrix()\n",
    "\n",
    "# Apply K-mean clustering\n",
    "km = KMeans(n_clusters=6)\n",
    "km.fit( matrix )\n",
    "\n",
    "# Get cluster assignment labels\n",
    "labels = km.labels_\n",
    "temp_clusters = pd.Series(data= labels, index = PCA_data.index)\n",
    "PCA_data['cluster'] = temp_clusters\n",
    "temp_clusters = PCA_data.sort_values('cluster')\n",
    "temp_clusters.head(10)"
   ]
  },
  {
   "cell_type": "markdown",
   "metadata": {},
   "source": [
    "### Question II.d. (3/20)\n",
    "\n",
    "Choose one of the wind clusters, and plot the average wind of the days corresponding to that cluster. "
   ]
  },
  {
   "cell_type": "code",
   "execution_count": 40,
   "metadata": {},
   "outputs": [],
   "source": [
    "# We choose cluster 5\n",
    "cluster = 5"
   ]
  },
  {
   "cell_type": "code",
   "execution_count": 41,
   "metadata": {},
   "outputs": [],
   "source": [
    "# Get the average wind by days and merge to the clusters dataframe \n",
    "wind = wind.resample('D').mean()\n",
    "temp_clusters = pd.merge(temp_clusters, wind, right_index=True, left_index=True)\n"
   ]
  },
  {
   "cell_type": "code",
   "execution_count": 42,
   "metadata": {},
   "outputs": [
    {
     "data": {
      "image/png": "[encoded data removed]",
      "text/plain": [
       "<matplotlib.figure.Figure at 0x1514b80828>"
      ]
     },
     "metadata": {},
     "output_type": "display_data"
    }
   ],
   "source": [
    "# Plot the average wind for cluster 5\n",
    "fig, ax = plt.subplots(figsize=(10, 5))\n",
    "\n",
    "ax.scatter( temp_clusters[temp_clusters.cluster == cluster ].index, \n",
    "            temp_clusters[temp_clusters.cluster == cluster ].wind_speed,\n",
    "            color='red')\n",
    "\n",
    "ax.set_title(\"Average wind of the days corresponding to cluster #%s\" % cluster )\n",
    "ax.set_xlabel(\"Day\")\n",
    "ax.set_ylabel(\"Wind speed (avg)\")\n",
    "ax.grid()\n",
    "\n",
    "plt.show()"
   ]
  },
  {
   "cell_type": "code",
   "execution_count": 43,
   "metadata": {},
   "outputs": [
    {
     "data": {
      "image/png": "[encoded data removed]",
      "text/plain": [
       "<matplotlib.figure.Figure at 0x1514b8b128>"
      ]
     },
     "metadata": {},
     "output_type": "display_data"
    }
   ],
   "source": [
    "# Plot the average wind for all clusters\n",
    "\n",
    "LABEL_COLOR_MAP = {0 : 'gray',\n",
    "                   1 : 'black',\n",
    "                   2 : 'green',\n",
    "                   3 : 'blue',\n",
    "                   4 : 'yellow',\n",
    "                   5 : 'red'\n",
    "                   }\n",
    "\n",
    "label_color = [LABEL_COLOR_MAP[l] for l in temp_clusters.cluster]\n",
    "\n",
    "fig, ax = plt.subplots(figsize=(10, 5))\n",
    "ax.scatter(temp_clusters.index, temp_clusters.wind_speed, c=label_color)\n",
    "ax.set_title(\"Average wind of the days corresponding to all the clusters\")\n",
    "ax.set_xlabel(\"Day\")\n",
    "ax.set_ylabel(\"Wind speed (avg)\")\n",
    "ax.grid()\n",
    "\n",
    "plt.show()"
   ]
  },
  {
   "cell_type": "markdown",
   "metadata": {},
   "source": [
    "## PART III: Model fitting for outlier detection (15 points)\n",
    "\n",
    "\n",
    "### Question III.a.(5/15)\n",
    "\n",
    "A domain expert indicates that there is problem with the `ZSBN` sensor, which appears after October 24. You decide to fit a linear model to the CO2 measurements of the site, by considering as features the temperature and the humidity. Plot and compare the actual CO2 measurements, and the values obtained by the prediction of the linear model for the entire month of October. Can you guess the problem from your plot?"
   ]
  },
  {
   "cell_type": "code",
   "execution_count": 44,
   "metadata": {},
   "outputs": [],
   "source": [
    "# Import the data\n",
    "resampled_meas = pd.read_csv(\"zurich_measurements.csv\")\n",
    "resampled_meas = resampled_meas.set_index('timestamp')\n",
    "resampled_meas.index = pd.to_datetime(resampled_meas.index)"
   ]
  },
  {
   "cell_type": "markdown",
   "metadata": {},
   "source": [
    "Since we decided to do an outer merge on the first part of the assignment, we have some NaN values for the CO2 measurements. We drop rows having no CO2 measurements before doing the linear regression. "
   ]
  },
  {
   "cell_type": "code",
   "execution_count": 45,
   "metadata": {},
   "outputs": [
    {
     "name": "stdout",
     "output_type": "stream",
     "text": [
      "LocationName     False\n",
      "SensorUnit_ID    False\n",
      "CO2              False\n",
      "temperature      False\n",
      "humidity         False\n",
      "dtype: bool\n"
     ]
    }
   ],
   "source": [
    "# Drop rows without CO2 measurements \n",
    "resampled_meas = resampled_meas.dropna(subset=[\"CO2\"])\n",
    "print( resampled_meas.isnull().any() )"
   ]
  },
  {
   "cell_type": "code",
   "execution_count": 46,
   "metadata": {},
   "outputs": [],
   "source": [
    "from sklearn.linear_model import LinearRegression\n",
    "from sklearn.cross_validation import train_test_split\n",
    "from sklearn.preprocessing import StandardScaler\n",
    "\n",
    "\n",
    "def linear_model( data ):\n",
    "    \"\"\"\n",
    "    Function to fit a linear model to the CO2 measurements \n",
    "    considering the temperature and the humidity as features\n",
    "    \"\"\"\n",
    "\n",
    "    lm = LinearRegression()\n",
    "    predictors = data[[\"temperature\",\"humidity\"]]\n",
    "    target = data.CO2\n",
    "    \n",
    "    X_train, X_test, y_train, y_test = train_test_split(predictors.as_matrix(), \n",
    "                                                        target.as_matrix(),\n",
    "                                                        test_size=1/7, \n",
    "                                                        random_state=5)\n",
    "    \n",
    "    lm.fit(X_train, y_train)\n",
    "        \n",
    "    score = lm.score(X_test, y_test)\n",
    "    \n",
    "    return lm"
   ]
  },
  {
   "cell_type": "code",
   "execution_count": 47,
   "metadata": {},
   "outputs": [],
   "source": [
    "# Build linear model from entire dataset\n",
    "lm = linear_model(resampled_meas)\n",
    "predictions_ZSBN = lm.predict(resampled_meas[resampled_meas.LocationName == 'ZSBN'][[\"temperature\",\"humidity\"]])"
   ]
  },
  {
   "cell_type": "code",
   "execution_count": 48,
   "metadata": {},
   "outputs": [],
   "source": [
    "def plot_prediction( prediction, measurement, index ):\n",
    "\n",
    "    fig,ax = plt.subplots(figsize=(15,5))\n",
    "    fig.autofmt_xdate()\n",
    "\n",
    "    ax.plot(index, \n",
    "            prediction)\n",
    "    ax.plot( index, \n",
    "            measurement)\n",
    "    ax.set_title(\"Comparison between the CO2 measurements of ZSBN and the prediction of the linear model for the month of October.\")\n",
    "    ax.set_ylabel(\"CO2\")\n",
    "    ax.legend(['Prediction', 'Measurements'])\n",
    "    ax.xaxis.set_major_locator( mdates.DayLocator() )\n",
    "    ax.xaxis.set_major_formatter(mdates.DateFormatter('%D'))\n",
    "\n",
    "    plt.show()"
   ]
  },
  {
   "cell_type": "code",
   "execution_count": 49,
   "metadata": {},
   "outputs": [
    {
     "data": {
      "image/png": "[encoded data removed]",
      "text/plain": [
       "<matplotlib.figure.Figure at 0x1514df1ef0>"
      ]
     },
     "metadata": {},
     "output_type": "display_data"
    }
   ],
   "source": [
    "plot_prediction(predictions_ZSBN, resampled_meas[resampled_meas.LocationName == 'ZSBN'].CO2 , resampled_meas[resampled_meas.LocationName == 'ZSBN'].index)"
   ]
  },
  {
   "cell_type": "markdown",
   "metadata": {},
   "source": [
    "Yes, we can clearly see the problem with this plot, starting from 24th of October (even thow the ticks dont show this date), we can see the difference between the prediction and the mesurement for this particular sensor grows with time after that date. Thez are no longuer superposable"
   ]
  },
  {
   "cell_type": "markdown",
   "metadata": {},
   "source": [
    "### Question III.b. (8/15)\n",
    "\n",
    "In your next attempt to find the problem, you decide to use the temporal and altitude clusters computed in PART II, together with the zone clusters of the city that are already provided, to improve your model. \n",
    "\n",
    "First, find the sensors belonging to the same zone and altitude cluster. Keep only the part of the dataframe from Part I.a that matches the same zone and altitude cluster with `ZSBN`.\n",
    "\n",
    "Then, partition the obtained dataframe into six parts, each corresponding to one of the wind clusters.  \n",
    "\n",
    "Use the partitioned dataframes to learn a new regression model for each of them. For each linear model, use as features 1) the temperature, 2) the humidity, and 3) the time of the day measured in the range between 0 and 47 (intervals of 30 min). At the end of this step, you should have obtained a simple linear regression model for each wind cluster.\n",
    "\n",
    "Finally, plot and compare the actual CO2 measurements, and the values obtained by the linear model for the entire month of October. If all the steps are done correcly, you should be able to clearly detect the drift observed after October 26th."
   ]
  },
  {
   "cell_type": "code",
   "execution_count": 50,
   "metadata": {},
   "outputs": [
    {
     "name": "stdout",
     "output_type": "stream",
     "text": [
      "The zone of ZSBN is 3.0, and the wind cluster is 0\n"
     ]
    }
   ],
   "source": [
    "zone = float( alt_clusters[alt_clusters.LocationName == 'ZSBN'].zone )\n",
    "cluster = int( alt_clusters[alt_clusters.LocationName == 'ZSBN'].cluster )\n",
    "print(\"The zone of ZSBN is %s, and the wind cluster is %s\" % (zone, cluster))"
   ]
  },
  {
   "cell_type": "code",
   "execution_count": 51,
   "metadata": {},
   "outputs": [
    {
     "data": {
      "text/html": [
       "<div>\n",
       "<style scoped>\n",
       "    .dataframe tbody tr th:only-of-type {\n",
       "        vertical-align: middle;\n",
       "    }\n",
       "\n",
       "    .dataframe tbody tr th {\n",
       "        vertical-align: top;\n",
       "    }\n",
       "\n",
       "    .dataframe thead th {\n",
       "        text-align: right;\n",
       "    }\n",
       "</style>\n",
       "<table border=\"1\" class=\"dataframe\">\n",
       "  <thead>\n",
       "    <tr style=\"text-align: right;\">\n",
       "      <th></th>\n",
       "      <th>LocationName</th>\n",
       "      <th>zone</th>\n",
       "      <th>altitude</th>\n",
       "      <th>cluster</th>\n",
       "    </tr>\n",
       "  </thead>\n",
       "  <tbody>\n",
       "    <tr>\n",
       "      <th>26</th>\n",
       "      <td>ZHRG</td>\n",
       "      <td>3.0</td>\n",
       "      <td>410.5</td>\n",
       "      <td>0</td>\n",
       "    </tr>\n",
       "    <tr>\n",
       "      <th>28</th>\n",
       "      <td>ZHRZ</td>\n",
       "      <td>3.0</td>\n",
       "      <td>429.5</td>\n",
       "      <td>0</td>\n",
       "    </tr>\n",
       "    <tr>\n",
       "      <th>44</th>\n",
       "      <td>ZUE</td>\n",
       "      <td>3.0</td>\n",
       "      <td>408.8</td>\n",
       "      <td>0</td>\n",
       "    </tr>\n",
       "    <tr>\n",
       "      <th>36</th>\n",
       "      <td>ZSBN</td>\n",
       "      <td>3.0</td>\n",
       "      <td>415.4</td>\n",
       "      <td>0</td>\n",
       "    </tr>\n",
       "  </tbody>\n",
       "</table>\n",
       "</div>"
      ],
      "text/plain": [
       "   LocationName  zone  altitude  cluster\n",
       "26         ZHRG   3.0     410.5        0\n",
       "28         ZHRZ   3.0     429.5        0\n",
       "44          ZUE   3.0     408.8        0\n",
       "36         ZSBN   3.0     415.4        0"
      ]
     },
     "execution_count": 51,
     "metadata": {},
     "output_type": "execute_result"
    }
   ],
   "source": [
    "alt_clusters_ZSBN = alt_clusters[ alt_clusters.cluster == cluster]\n",
    "alt_clusters_ZSBN = alt_clusters_ZSBN[ alt_clusters_ZSBN.zone == zone]\n",
    "alt_clusters_ZSBN"
   ]
  },
  {
   "cell_type": "markdown",
   "metadata": {},
   "source": [
    "See below the sensors that are in the same zone and altitude cluster than ZSBN."
   ]
  },
  {
   "cell_type": "code",
   "execution_count": 52,
   "metadata": {},
   "outputs": [],
   "source": [
    "# Keep only measurements from sensors belonging to the same zone and altitude cluster than ZSBN\n",
    "sensors_location = alt_clusters_ZSBN.LocationName.tolist()\n",
    "\n",
    "resampled_meas = pd.read_csv(\"zurich_measurements.csv\")\n",
    "resampled_meas = resampled_meas.set_index('timestamp')\n",
    "resampled_meas.index = pd.to_datetime(resampled_meas.index)\n",
    "\n",
    "ZSBN_neighbors = resampled_meas[ resampled_meas.LocationName.isin( sensors_location ) ]"
   ]
  },
  {
   "cell_type": "code",
   "execution_count": 53,
   "metadata": {},
   "outputs": [
    {
     "name": "stdout",
     "output_type": "stream",
     "text": [
      "Periods spread from 0 to 47 \n"
     ]
    },
    {
     "data": {
      "text/html": [
       "<div>\n",
       "<style scoped>\n",
       "    .dataframe tbody tr th:only-of-type {\n",
       "        vertical-align: middle;\n",
       "    }\n",
       "\n",
       "    .dataframe tbody tr th {\n",
       "        vertical-align: top;\n",
       "    }\n",
       "\n",
       "    .dataframe thead th {\n",
       "        text-align: right;\n",
       "    }\n",
       "</style>\n",
       "<table border=\"1\" class=\"dataframe\">\n",
       "  <thead>\n",
       "    <tr style=\"text-align: right;\">\n",
       "      <th></th>\n",
       "      <th>LocationName</th>\n",
       "      <th>SensorUnit_ID</th>\n",
       "      <th>CO2</th>\n",
       "      <th>temperature</th>\n",
       "      <th>humidity</th>\n",
       "      <th>date</th>\n",
       "      <th>period</th>\n",
       "    </tr>\n",
       "    <tr>\n",
       "      <th>timestamp</th>\n",
       "      <th></th>\n",
       "      <th></th>\n",
       "      <th></th>\n",
       "      <th></th>\n",
       "      <th></th>\n",
       "      <th></th>\n",
       "      <th></th>\n",
       "    </tr>\n",
       "  </thead>\n",
       "  <tbody>\n",
       "    <tr>\n",
       "      <th>2017-10-01 00:00:00</th>\n",
       "      <td>ZSBN</td>\n",
       "      <td>1031</td>\n",
       "      <td>418.493079</td>\n",
       "      <td>11.146667</td>\n",
       "      <td>92.608017</td>\n",
       "      <td>2017-10-01</td>\n",
       "      <td>0</td>\n",
       "    </tr>\n",
       "    <tr>\n",
       "      <th>2017-10-01 00:30:00</th>\n",
       "      <td>ZSBN</td>\n",
       "      <td>1031</td>\n",
       "      <td>418.169200</td>\n",
       "      <td>10.915000</td>\n",
       "      <td>92.220825</td>\n",
       "      <td>2017-10-01</td>\n",
       "      <td>1</td>\n",
       "    </tr>\n",
       "    <tr>\n",
       "      <th>2017-10-01 01:00:00</th>\n",
       "      <td>ZSBN</td>\n",
       "      <td>1031</td>\n",
       "      <td>421.749522</td>\n",
       "      <td>10.860000</td>\n",
       "      <td>92.662059</td>\n",
       "      <td>2017-10-01</td>\n",
       "      <td>2</td>\n",
       "    </tr>\n",
       "    <tr>\n",
       "      <th>2017-10-01 01:30:00</th>\n",
       "      <td>ZSBN</td>\n",
       "      <td>1031</td>\n",
       "      <td>424.363039</td>\n",
       "      <td>10.820000</td>\n",
       "      <td>92.934809</td>\n",
       "      <td>2017-10-01</td>\n",
       "      <td>3</td>\n",
       "    </tr>\n",
       "    <tr>\n",
       "      <th>2017-10-01 02:00:00</th>\n",
       "      <td>ZSBN</td>\n",
       "      <td>1031</td>\n",
       "      <td>423.172512</td>\n",
       "      <td>10.760000</td>\n",
       "      <td>93.407832</td>\n",
       "      <td>2017-10-01</td>\n",
       "      <td>4</td>\n",
       "    </tr>\n",
       "  </tbody>\n",
       "</table>\n",
       "</div>"
      ],
      "text/plain": [
       "                    LocationName  SensorUnit_ID         CO2  temperature  \\\n",
       "timestamp                                                                  \n",
       "2017-10-01 00:00:00         ZSBN           1031  418.493079    11.146667   \n",
       "2017-10-01 00:30:00         ZSBN           1031  418.169200    10.915000   \n",
       "2017-10-01 01:00:00         ZSBN           1031  421.749522    10.860000   \n",
       "2017-10-01 01:30:00         ZSBN           1031  424.363039    10.820000   \n",
       "2017-10-01 02:00:00         ZSBN           1031  423.172512    10.760000   \n",
       "\n",
       "                      humidity       date  period  \n",
       "timestamp                                          \n",
       "2017-10-01 00:00:00  92.608017 2017-10-01       0  \n",
       "2017-10-01 00:30:00  92.220825 2017-10-01       1  \n",
       "2017-10-01 01:00:00  92.662059 2017-10-01       2  \n",
       "2017-10-01 01:30:00  92.934809 2017-10-01       3  \n",
       "2017-10-01 02:00:00  93.407832 2017-10-01       4  "
      ]
     },
     "execution_count": 53,
     "metadata": {},
     "output_type": "execute_result"
    }
   ],
   "source": [
    "# Compute a period number ( from 0 to 47 ) based on the time of the day\n",
    "ZSBN_neighbors['date'] = pd.to_datetime( ZSBN_neighbors.index.date )\n",
    "ZSBN_neighbors['period'] = ( ( ZSBN_neighbors.index.hour*60+ZSBN_neighbors.index.minute+ZSBN_neighbors.index.second/60 ) / 30 )\n",
    "ZSBN_neighbors['period'] = ZSBN_neighbors['period'].astype(int)\n",
    "\n",
    "print( \"Periods spread from %s to %s \" % ( ZSBN_neighbors.period.min(), ZSBN_neighbors.period.max()) )\n",
    "\n",
    "ZSBN_neighbors.head()"
   ]
  },
  {
   "cell_type": "code",
   "execution_count": 54,
   "metadata": {},
   "outputs": [],
   "source": [
    "# Merge measurements to the wind_cluster \n",
    "ZSBN_neighbors['time']=ZSBN_neighbors.index\n",
    "temp_clusters['date'] = temp_clusters.index\n",
    "ZSBN_neighbors = pd.merge( ZSBN_neighbors, temp_clusters, how='outer', on='date') "
   ]
  },
  {
   "cell_type": "code",
   "execution_count": 55,
   "metadata": {},
   "outputs": [],
   "source": [
    "ZSBN_neighbors= ZSBN_neighbors.set_index('time')"
   ]
  },
  {
   "cell_type": "code",
   "execution_count": 56,
   "metadata": {},
   "outputs": [
    {
     "data": {
      "text/plain": [
       "LocationName     False\n",
       "SensorUnit_ID    False\n",
       "CO2              False\n",
       "temperature      False\n",
       "humidity         False\n",
       "date             False\n",
       "period           False\n",
       "0                False\n",
       "1                False\n",
       "cluster          False\n",
       "wind_speed       False\n",
       "dtype: bool"
      ]
     },
     "execution_count": 56,
     "metadata": {},
     "output_type": "execute_result"
    }
   ],
   "source": [
    "ZSBN_neighbors.isnull().any()"
   ]
  },
  {
   "cell_type": "code",
   "execution_count": 57,
   "metadata": {},
   "outputs": [],
   "source": [
    "ZSBN_neighbors = ZSBN_neighbors.drop([0,1], axis=1)"
   ]
  },
  {
   "cell_type": "code",
   "execution_count": 58,
   "metadata": {},
   "outputs": [],
   "source": [
    "# Divide the dataframe into 6 dataframes, each corresponding to a wind cluster\n",
    "ZSBN_neighbors_by_cluster = {}\n",
    "\n",
    "for i in range(0,6):\n",
    "    ZSBN_neighbors_by_cluster[i] = ZSBN_neighbors[ ZSBN_neighbors.cluster == i ]"
   ]
  },
  {
   "cell_type": "code",
   "execution_count": 59,
   "metadata": {},
   "outputs": [
    {
     "data": {
      "text/html": [
       "<div>\n",
       "<style scoped>\n",
       "    .dataframe tbody tr th:only-of-type {\n",
       "        vertical-align: middle;\n",
       "    }\n",
       "\n",
       "    .dataframe tbody tr th {\n",
       "        vertical-align: top;\n",
       "    }\n",
       "\n",
       "    .dataframe thead th {\n",
       "        text-align: right;\n",
       "    }\n",
       "</style>\n",
       "<table border=\"1\" class=\"dataframe\">\n",
       "  <thead>\n",
       "    <tr style=\"text-align: right;\">\n",
       "      <th></th>\n",
       "      <th>LocationName</th>\n",
       "      <th>SensorUnit_ID</th>\n",
       "      <th>CO2</th>\n",
       "      <th>temperature</th>\n",
       "      <th>humidity</th>\n",
       "      <th>date</th>\n",
       "      <th>period</th>\n",
       "      <th>cluster</th>\n",
       "      <th>wind_speed</th>\n",
       "    </tr>\n",
       "    <tr>\n",
       "      <th>time</th>\n",
       "      <th></th>\n",
       "      <th></th>\n",
       "      <th></th>\n",
       "      <th></th>\n",
       "      <th></th>\n",
       "      <th></th>\n",
       "      <th></th>\n",
       "      <th></th>\n",
       "      <th></th>\n",
       "    </tr>\n",
       "  </thead>\n",
       "  <tbody>\n",
       "    <tr>\n",
       "      <th>2017-10-02 00:00:00</th>\n",
       "      <td>ZSBN</td>\n",
       "      <td>1031</td>\n",
       "      <td>450.524917</td>\n",
       "      <td>10.313333</td>\n",
       "      <td>93.402110</td>\n",
       "      <td>2017-10-02</td>\n",
       "      <td>0</td>\n",
       "      <td>0</td>\n",
       "      <td>1.608333</td>\n",
       "    </tr>\n",
       "    <tr>\n",
       "      <th>2017-10-02 00:30:00</th>\n",
       "      <td>ZSBN</td>\n",
       "      <td>1031</td>\n",
       "      <td>457.765648</td>\n",
       "      <td>10.346667</td>\n",
       "      <td>93.639257</td>\n",
       "      <td>2017-10-02</td>\n",
       "      <td>1</td>\n",
       "      <td>0</td>\n",
       "      <td>1.608333</td>\n",
       "    </tr>\n",
       "    <tr>\n",
       "      <th>2017-10-02 01:00:00</th>\n",
       "      <td>ZSBN</td>\n",
       "      <td>1031</td>\n",
       "      <td>456.454367</td>\n",
       "      <td>10.406667</td>\n",
       "      <td>93.930445</td>\n",
       "      <td>2017-10-02</td>\n",
       "      <td>2</td>\n",
       "      <td>0</td>\n",
       "      <td>1.608333</td>\n",
       "    </tr>\n",
       "    <tr>\n",
       "      <th>2017-10-02 01:30:00</th>\n",
       "      <td>ZSBN</td>\n",
       "      <td>1031</td>\n",
       "      <td>455.316726</td>\n",
       "      <td>10.485000</td>\n",
       "      <td>93.916458</td>\n",
       "      <td>2017-10-02</td>\n",
       "      <td>3</td>\n",
       "      <td>0</td>\n",
       "      <td>1.608333</td>\n",
       "    </tr>\n",
       "    <tr>\n",
       "      <th>2017-10-02 02:00:00</th>\n",
       "      <td>ZSBN</td>\n",
       "      <td>1031</td>\n",
       "      <td>465.162407</td>\n",
       "      <td>10.513333</td>\n",
       "      <td>94.168864</td>\n",
       "      <td>2017-10-02</td>\n",
       "      <td>4</td>\n",
       "      <td>0</td>\n",
       "      <td>1.608333</td>\n",
       "    </tr>\n",
       "  </tbody>\n",
       "</table>\n",
       "</div>"
      ],
      "text/plain": [
       "                    LocationName  SensorUnit_ID         CO2  temperature  \\\n",
       "time                                                                       \n",
       "2017-10-02 00:00:00         ZSBN           1031  450.524917    10.313333   \n",
       "2017-10-02 00:30:00         ZSBN           1031  457.765648    10.346667   \n",
       "2017-10-02 01:00:00         ZSBN           1031  456.454367    10.406667   \n",
       "2017-10-02 01:30:00         ZSBN           1031  455.316726    10.485000   \n",
       "2017-10-02 02:00:00         ZSBN           1031  465.162407    10.513333   \n",
       "\n",
       "                      humidity       date  period  cluster  wind_speed  \n",
       "time                                                                    \n",
       "2017-10-02 00:00:00  93.402110 2017-10-02       0        0    1.608333  \n",
       "2017-10-02 00:30:00  93.639257 2017-10-02       1        0    1.608333  \n",
       "2017-10-02 01:00:00  93.930445 2017-10-02       2        0    1.608333  \n",
       "2017-10-02 01:30:00  93.916458 2017-10-02       3        0    1.608333  \n",
       "2017-10-02 02:00:00  94.168864 2017-10-02       4        0    1.608333  "
      ]
     },
     "execution_count": 59,
     "metadata": {},
     "output_type": "execute_result"
    }
   ],
   "source": [
    "ZSBN_neighbors_by_cluster[0].head()"
   ]
  },
  {
   "cell_type": "code",
   "execution_count": 60,
   "metadata": {},
   "outputs": [],
   "source": [
    "def linear_model_2( data ):\n",
    "    \"\"\"\n",
    "    Function to fit a linear model to the CO2 measurements \n",
    "    considering the temperature, the humidity and wind as features\n",
    "    \"\"\"\n",
    "\n",
    "    lm = LinearRegression()\n",
    "    predictors = data[[\"temperature\",\"humidity\",\"period\"]]\n",
    "    target = data.CO2\n",
    "        \n",
    "    X_train = predictors.as_matrix()\n",
    "    y_train = target.as_matrix()\n",
    "    lm.fit(X_train, y_train)\n",
    "        \n",
    "    return lm"
   ]
  },
  {
   "cell_type": "code",
   "execution_count": 61,
   "metadata": {},
   "outputs": [],
   "source": [
    "# Build linear models. One for each wind cluster\n",
    "lm0 = linear_model_2(ZSBN_neighbors_by_cluster[0])\n",
    "lm1 = linear_model_2(ZSBN_neighbors_by_cluster[1])\n",
    "lm2 = linear_model_2(ZSBN_neighbors_by_cluster[2])\n",
    "lm3 = linear_model_2(ZSBN_neighbors_by_cluster[3])\n",
    "lm4 = linear_model_2(ZSBN_neighbors_by_cluster[4])\n",
    "lm5 = linear_model_2(ZSBN_neighbors_by_cluster[5])"
   ]
  },
  {
   "cell_type": "code",
   "execution_count": 62,
   "metadata": {},
   "outputs": [],
   "source": [
    "# Predict the CO2 level of ZSBN using the corresponding linear model\n",
    "\n",
    "predictions_ZSBN = lm0.predict(ZSBN_neighbors_by_cluster[0][[\"temperature\",\"humidity\",\"period\"]])\n",
    "ZSBN_neighbors_by_cluster[0]['Prediction'] = predictions_ZSBN\n",
    "\n",
    "\n",
    "predictions_ZSBN = lm1.predict(ZSBN_neighbors_by_cluster[1][[\"temperature\",\"humidity\",\"period\"]])\n",
    "ZSBN_neighbors_by_cluster[1]['Prediction'] = predictions_ZSBN\n",
    "\n",
    "\n",
    "predictions_ZSBN = lm2.predict(ZSBN_neighbors_by_cluster[2][[\"temperature\",\"humidity\",\"period\"]])\n",
    "ZSBN_neighbors_by_cluster[2]['Prediction'] = predictions_ZSBN\n",
    "\n",
    "\n",
    "predictions_ZSBN = lm3.predict(ZSBN_neighbors_by_cluster[3][[\"temperature\",\"humidity\",\"period\"]])\n",
    "ZSBN_neighbors_by_cluster[3]['Prediction'] = predictions_ZSBN\n",
    "\n",
    "\n",
    "predictions_ZSBN = lm4.predict(ZSBN_neighbors_by_cluster[4][[\"temperature\",\"humidity\",\"period\"]])\n",
    "ZSBN_neighbors_by_cluster[4]['Prediction'] = predictions_ZSBN\n",
    "\n",
    "\n",
    "predictions_ZSBN = lm5.predict(ZSBN_neighbors_by_cluster[5][[\"temperature\",\"humidity\",\"period\"]])\n",
    "ZSBN_neighbors_by_cluster[5]['Prediction'] = predictions_ZSBN\n"
   ]
  },
  {
   "cell_type": "code",
   "execution_count": 63,
   "metadata": {},
   "outputs": [
    {
     "data": {
      "text/html": [
       "<div>\n",
       "<style scoped>\n",
       "    .dataframe tbody tr th:only-of-type {\n",
       "        vertical-align: middle;\n",
       "    }\n",
       "\n",
       "    .dataframe tbody tr th {\n",
       "        vertical-align: top;\n",
       "    }\n",
       "\n",
       "    .dataframe thead th {\n",
       "        text-align: right;\n",
       "    }\n",
       "</style>\n",
       "<table border=\"1\" class=\"dataframe\">\n",
       "  <thead>\n",
       "    <tr style=\"text-align: right;\">\n",
       "      <th></th>\n",
       "      <th>LocationName</th>\n",
       "      <th>SensorUnit_ID</th>\n",
       "      <th>CO2</th>\n",
       "      <th>temperature</th>\n",
       "      <th>humidity</th>\n",
       "      <th>date</th>\n",
       "      <th>period</th>\n",
       "      <th>cluster</th>\n",
       "      <th>wind_speed</th>\n",
       "      <th>Prediction</th>\n",
       "    </tr>\n",
       "    <tr>\n",
       "      <th>time</th>\n",
       "      <th></th>\n",
       "      <th></th>\n",
       "      <th></th>\n",
       "      <th></th>\n",
       "      <th></th>\n",
       "      <th></th>\n",
       "      <th></th>\n",
       "      <th></th>\n",
       "      <th></th>\n",
       "      <th></th>\n",
       "    </tr>\n",
       "  </thead>\n",
       "  <tbody>\n",
       "    <tr>\n",
       "      <th>2017-10-02 00:00:00</th>\n",
       "      <td>ZSBN</td>\n",
       "      <td>1031</td>\n",
       "      <td>450.524917</td>\n",
       "      <td>10.313333</td>\n",
       "      <td>93.402110</td>\n",
       "      <td>2017-10-02</td>\n",
       "      <td>0</td>\n",
       "      <td>0</td>\n",
       "      <td>1.608333</td>\n",
       "      <td>497.322893</td>\n",
       "    </tr>\n",
       "    <tr>\n",
       "      <th>2017-10-02 00:30:00</th>\n",
       "      <td>ZSBN</td>\n",
       "      <td>1031</td>\n",
       "      <td>457.765648</td>\n",
       "      <td>10.346667</td>\n",
       "      <td>93.639257</td>\n",
       "      <td>2017-10-02</td>\n",
       "      <td>1</td>\n",
       "      <td>0</td>\n",
       "      <td>1.608333</td>\n",
       "      <td>497.637409</td>\n",
       "    </tr>\n",
       "    <tr>\n",
       "      <th>2017-10-02 01:00:00</th>\n",
       "      <td>ZSBN</td>\n",
       "      <td>1031</td>\n",
       "      <td>456.454367</td>\n",
       "      <td>10.406667</td>\n",
       "      <td>93.930445</td>\n",
       "      <td>2017-10-02</td>\n",
       "      <td>2</td>\n",
       "      <td>0</td>\n",
       "      <td>1.608333</td>\n",
       "      <td>498.084976</td>\n",
       "    </tr>\n",
       "    <tr>\n",
       "      <th>2017-10-02 01:30:00</th>\n",
       "      <td>ZSBN</td>\n",
       "      <td>1031</td>\n",
       "      <td>455.316726</td>\n",
       "      <td>10.485000</td>\n",
       "      <td>93.916458</td>\n",
       "      <td>2017-10-02</td>\n",
       "      <td>3</td>\n",
       "      <td>0</td>\n",
       "      <td>1.608333</td>\n",
       "      <td>497.890160</td>\n",
       "    </tr>\n",
       "    <tr>\n",
       "      <th>2017-10-02 02:00:00</th>\n",
       "      <td>ZSBN</td>\n",
       "      <td>1031</td>\n",
       "      <td>465.162407</td>\n",
       "      <td>10.513333</td>\n",
       "      <td>94.168864</td>\n",
       "      <td>2017-10-02</td>\n",
       "      <td>4</td>\n",
       "      <td>0</td>\n",
       "      <td>1.608333</td>\n",
       "      <td>498.234161</td>\n",
       "    </tr>\n",
       "  </tbody>\n",
       "</table>\n",
       "</div>"
      ],
      "text/plain": [
       "                    LocationName  SensorUnit_ID         CO2  temperature  \\\n",
       "time                                                                       \n",
       "2017-10-02 00:00:00         ZSBN           1031  450.524917    10.313333   \n",
       "2017-10-02 00:30:00         ZSBN           1031  457.765648    10.346667   \n",
       "2017-10-02 01:00:00         ZSBN           1031  456.454367    10.406667   \n",
       "2017-10-02 01:30:00         ZSBN           1031  455.316726    10.485000   \n",
       "2017-10-02 02:00:00         ZSBN           1031  465.162407    10.513333   \n",
       "\n",
       "                      humidity       date  period  cluster  wind_speed  \\\n",
       "time                                                                     \n",
       "2017-10-02 00:00:00  93.402110 2017-10-02       0        0    1.608333   \n",
       "2017-10-02 00:30:00  93.639257 2017-10-02       1        0    1.608333   \n",
       "2017-10-02 01:00:00  93.930445 2017-10-02       2        0    1.608333   \n",
       "2017-10-02 01:30:00  93.916458 2017-10-02       3        0    1.608333   \n",
       "2017-10-02 02:00:00  94.168864 2017-10-02       4        0    1.608333   \n",
       "\n",
       "                     Prediction  \n",
       "time                             \n",
       "2017-10-02 00:00:00  497.322893  \n",
       "2017-10-02 00:30:00  497.637409  \n",
       "2017-10-02 01:00:00  498.084976  \n",
       "2017-10-02 01:30:00  497.890160  \n",
       "2017-10-02 02:00:00  498.234161  "
      ]
     },
     "execution_count": 63,
     "metadata": {},
     "output_type": "execute_result"
    }
   ],
   "source": [
    "# Concat the results of the predictions and plot the results\n",
    "\n",
    "To_plot = pd.concat(ZSBN_neighbors_by_cluster)\n",
    "To_plot = To_plot.reset_index(level=0, drop=True)\n",
    "To_plot.head()"
   ]
  },
  {
   "cell_type": "code",
   "execution_count": 64,
   "metadata": {},
   "outputs": [
    {
     "data": {
      "image/png": "[encoded data removed]",
      "text/plain": [
       "<matplotlib.figure.Figure at 0x1514b59dd8>"
      ]
     },
     "metadata": {},
     "output_type": "display_data"
    }
   ],
   "source": [
    "ax = To_plot[To_plot.LocationName == 'ZSBN'][['CO2','Prediction']].plot(figsize=(20,8))\n",
    "\n",
    "\n",
    "ax.set_title(\"Comparison between the CO2 measurements of ZSBN and the prediction of the linear model for the month of October.\")\n",
    "ax.set_ylabel(\"CO2\")\n",
    "ax.legend(['Measurements', 'Predictions'])\n",
    "ax.xaxis.set_major_locator( mdates.DayLocator() )\n",
    "ax.xaxis.set_major_formatter(mdates.DateFormatter('%D'))\n",
    "ax.grid()\n",
    "\n",
    "plt.show()"
   ]
  },
  {
   "cell_type": "markdown",
   "metadata": {},
   "source": [
    "Yes, we can clearly see the problem with this plot, starting from 24th of October (even thow the ticks dont show this date), we can see the difference between the prediction and the mesurement for this particular sensor grows with time after that date. They are no longuer superposable."
   ]
  },
  {
   "cell_type": "markdown",
   "metadata": {},
   "source": [
    "### Question III.c. (2/15)\n",
    "\n",
    "Focus on the `KBRL` site. Apply the same procedure by fitting a linear model to the days with similar wind behavior. Plot and compare the actual CO2 measurements, and the values obtained by the linear model for the entire month of October. If all the steps are done correcly, you should be able detect the outlier observed in the beginning of October. "
   ]
  },
  {
   "cell_type": "code",
   "execution_count": 65,
   "metadata": {},
   "outputs": [
    {
     "name": "stdout",
     "output_type": "stream",
     "text": [
      "The zone of ZSBN is 7.0, and the wind cluster is 2\n"
     ]
    }
   ],
   "source": [
    "zone = float( alt_clusters[alt_clusters.LocationName == 'KBRL'].zone )\n",
    "cluster = int( alt_clusters[alt_clusters.LocationName == 'KBRL'].cluster )\n",
    "print(\"The zone of ZSBN is %s, and the wind cluster is %s\" % (zone, cluster))"
   ]
  },
  {
   "cell_type": "code",
   "execution_count": 66,
   "metadata": {},
   "outputs": [
    {
     "data": {
      "text/html": [
       "<div>\n",
       "<style scoped>\n",
       "    .dataframe tbody tr th:only-of-type {\n",
       "        vertical-align: middle;\n",
       "    }\n",
       "\n",
       "    .dataframe tbody tr th {\n",
       "        vertical-align: top;\n",
       "    }\n",
       "\n",
       "    .dataframe thead th {\n",
       "        text-align: right;\n",
       "    }\n",
       "</style>\n",
       "<table border=\"1\" class=\"dataframe\">\n",
       "  <thead>\n",
       "    <tr style=\"text-align: right;\">\n",
       "      <th></th>\n",
       "      <th>LocationName</th>\n",
       "      <th>zone</th>\n",
       "      <th>altitude</th>\n",
       "      <th>cluster</th>\n",
       "    </tr>\n",
       "  </thead>\n",
       "  <tbody>\n",
       "    <tr>\n",
       "      <th>10</th>\n",
       "      <td>WMOO</td>\n",
       "      <td>4.0</td>\n",
       "      <td>526.3</td>\n",
       "      <td>2</td>\n",
       "    </tr>\n",
       "    <tr>\n",
       "      <th>35</th>\n",
       "      <td>ZRDH</td>\n",
       "      <td>3.0</td>\n",
       "      <td>470.0</td>\n",
       "      <td>2</td>\n",
       "    </tr>\n",
       "    <tr>\n",
       "      <th>4</th>\n",
       "      <td>KTGM</td>\n",
       "      <td>2.0</td>\n",
       "      <td>530.3</td>\n",
       "      <td>2</td>\n",
       "    </tr>\n",
       "    <tr>\n",
       "      <th>3</th>\n",
       "      <td>KBRL</td>\n",
       "      <td>7.0</td>\n",
       "      <td>510.5</td>\n",
       "      <td>2</td>\n",
       "    </tr>\n",
       "    <tr>\n",
       "      <th>2</th>\n",
       "      <td>BUDF</td>\n",
       "      <td>10.0</td>\n",
       "      <td>490.2</td>\n",
       "      <td>2</td>\n",
       "    </tr>\n",
       "    <tr>\n",
       "      <th>21</th>\n",
       "      <td>ZFHB</td>\n",
       "      <td>8.0</td>\n",
       "      <td>518.5</td>\n",
       "      <td>2</td>\n",
       "    </tr>\n",
       "    <tr>\n",
       "      <th>1</th>\n",
       "      <td>BSCR</td>\n",
       "      <td>2.0</td>\n",
       "      <td>462.3</td>\n",
       "      <td>2</td>\n",
       "    </tr>\n",
       "    <tr>\n",
       "      <th>43</th>\n",
       "      <td>ZUBG</td>\n",
       "      <td>3.0</td>\n",
       "      <td>480.7</td>\n",
       "      <td>2</td>\n",
       "    </tr>\n",
       "  </tbody>\n",
       "</table>\n",
       "</div>"
      ],
      "text/plain": [
       "   LocationName  zone  altitude  cluster\n",
       "10         WMOO   4.0     526.3        2\n",
       "35         ZRDH   3.0     470.0        2\n",
       "4          KTGM   2.0     530.3        2\n",
       "3          KBRL   7.0     510.5        2\n",
       "2          BUDF  10.0     490.2        2\n",
       "21         ZFHB   8.0     518.5        2\n",
       "1          BSCR   2.0     462.3        2\n",
       "43         ZUBG   3.0     480.7        2"
      ]
     },
     "execution_count": 66,
     "metadata": {},
     "output_type": "execute_result"
    }
   ],
   "source": [
    "alt_clusters_KBRL = alt_clusters[ alt_clusters.cluster == cluster]\n",
    "alt_clusters_KBRL"
   ]
  },
  {
   "cell_type": "code",
   "execution_count": 67,
   "metadata": {},
   "outputs": [
    {
     "data": {
      "text/html": [
       "<div>\n",
       "<style scoped>\n",
       "    .dataframe tbody tr th:only-of-type {\n",
       "        vertical-align: middle;\n",
       "    }\n",
       "\n",
       "    .dataframe tbody tr th {\n",
       "        vertical-align: top;\n",
       "    }\n",
       "\n",
       "    .dataframe thead th {\n",
       "        text-align: right;\n",
       "    }\n",
       "</style>\n",
       "<table border=\"1\" class=\"dataframe\">\n",
       "  <thead>\n",
       "    <tr style=\"text-align: right;\">\n",
       "      <th></th>\n",
       "      <th>LocationName</th>\n",
       "      <th>SensorUnit_ID</th>\n",
       "      <th>CO2</th>\n",
       "      <th>temperature</th>\n",
       "      <th>humidity</th>\n",
       "    </tr>\n",
       "    <tr>\n",
       "      <th>timestamp</th>\n",
       "      <th></th>\n",
       "      <th></th>\n",
       "      <th></th>\n",
       "      <th></th>\n",
       "      <th></th>\n",
       "    </tr>\n",
       "  </thead>\n",
       "  <tbody>\n",
       "    <tr>\n",
       "      <th>2017-10-01 00:00:00</th>\n",
       "      <td>ZRDH</td>\n",
       "      <td>1034</td>\n",
       "      <td>337.298130</td>\n",
       "      <td>10.290000</td>\n",
       "      <td>93.370321</td>\n",
       "    </tr>\n",
       "    <tr>\n",
       "      <th>2017-10-01 00:30:00</th>\n",
       "      <td>ZRDH</td>\n",
       "      <td>1034</td>\n",
       "      <td>340.127627</td>\n",
       "      <td>10.336667</td>\n",
       "      <td>94.056966</td>\n",
       "    </tr>\n",
       "    <tr>\n",
       "      <th>2017-10-01 01:00:00</th>\n",
       "      <td>ZRDH</td>\n",
       "      <td>1034</td>\n",
       "      <td>338.640770</td>\n",
       "      <td>10.353333</td>\n",
       "      <td>94.339254</td>\n",
       "    </tr>\n",
       "    <tr>\n",
       "      <th>2017-10-01 01:30:00</th>\n",
       "      <td>ZRDH</td>\n",
       "      <td>1034</td>\n",
       "      <td>342.613645</td>\n",
       "      <td>10.293333</td>\n",
       "      <td>94.431442</td>\n",
       "    </tr>\n",
       "    <tr>\n",
       "      <th>2017-10-01 02:00:00</th>\n",
       "      <td>ZRDH</td>\n",
       "      <td>1034</td>\n",
       "      <td>342.824630</td>\n",
       "      <td>10.246667</td>\n",
       "      <td>94.425720</td>\n",
       "    </tr>\n",
       "  </tbody>\n",
       "</table>\n",
       "</div>"
      ],
      "text/plain": [
       "                    LocationName  SensorUnit_ID         CO2  temperature  \\\n",
       "timestamp                                                                  \n",
       "2017-10-01 00:00:00         ZRDH           1034  337.298130    10.290000   \n",
       "2017-10-01 00:30:00         ZRDH           1034  340.127627    10.336667   \n",
       "2017-10-01 01:00:00         ZRDH           1034  338.640770    10.353333   \n",
       "2017-10-01 01:30:00         ZRDH           1034  342.613645    10.293333   \n",
       "2017-10-01 02:00:00         ZRDH           1034  342.824630    10.246667   \n",
       "\n",
       "                      humidity  \n",
       "timestamp                       \n",
       "2017-10-01 00:00:00  93.370321  \n",
       "2017-10-01 00:30:00  94.056966  \n",
       "2017-10-01 01:00:00  94.339254  \n",
       "2017-10-01 01:30:00  94.431442  \n",
       "2017-10-01 02:00:00  94.425720  "
      ]
     },
     "execution_count": 67,
     "metadata": {},
     "output_type": "execute_result"
    }
   ],
   "source": [
    "sensors_location = alt_clusters_KBRL.LocationName.tolist()\n",
    "\n",
    "resampled_meas = pd.read_csv(\"zurich_measurements.csv\")\n",
    "resampled_meas = resampled_meas.set_index('timestamp')\n",
    "resampled_meas.index = pd.to_datetime(resampled_meas.index)\n",
    "\n",
    "KBRL_neighbors = resampled_meas[ resampled_meas.LocationName.isin( sensors_location ) ]\n",
    "KBRL_neighbors.head()"
   ]
  },
  {
   "cell_type": "code",
   "execution_count": 68,
   "metadata": {},
   "outputs": [
    {
     "name": "stdout",
     "output_type": "stream",
     "text": [
      "Periods spread from 0 to 47 \n"
     ]
    }
   ],
   "source": [
    "KBRL_neighbors['date'] = pd.to_datetime( KBRL_neighbors.index.date )\n",
    "KBRL_neighbors['period'] = ( ( KBRL_neighbors.index.hour*60+KBRL_neighbors.index.minute+KBRL_neighbors.index.second/60 ) / 30 )\n",
    "KBRL_neighbors['period'] = KBRL_neighbors['period'].astype(int)\n",
    "\n",
    "print( \"Periods spread from %s to %s \" % ( ZSBN_neighbors.period.min(), ZSBN_neighbors.period.max()) )"
   ]
  },
  {
   "cell_type": "code",
   "execution_count": 69,
   "metadata": {},
   "outputs": [
    {
     "data": {
      "text/html": [
       "<div>\n",
       "<style scoped>\n",
       "    .dataframe tbody tr th:only-of-type {\n",
       "        vertical-align: middle;\n",
       "    }\n",
       "\n",
       "    .dataframe tbody tr th {\n",
       "        vertical-align: top;\n",
       "    }\n",
       "\n",
       "    .dataframe thead th {\n",
       "        text-align: right;\n",
       "    }\n",
       "</style>\n",
       "<table border=\"1\" class=\"dataframe\">\n",
       "  <thead>\n",
       "    <tr style=\"text-align: right;\">\n",
       "      <th></th>\n",
       "      <th>LocationName</th>\n",
       "      <th>SensorUnit_ID</th>\n",
       "      <th>CO2</th>\n",
       "      <th>temperature</th>\n",
       "      <th>humidity</th>\n",
       "      <th>date</th>\n",
       "      <th>period</th>\n",
       "      <th>time</th>\n",
       "      <th>0</th>\n",
       "      <th>1</th>\n",
       "      <th>cluster</th>\n",
       "      <th>wind_speed</th>\n",
       "    </tr>\n",
       "  </thead>\n",
       "  <tbody>\n",
       "    <tr>\n",
       "      <th>0</th>\n",
       "      <td>ZRDH</td>\n",
       "      <td>1034</td>\n",
       "      <td>337.298130</td>\n",
       "      <td>10.290000</td>\n",
       "      <td>93.370321</td>\n",
       "      <td>2017-10-01</td>\n",
       "      <td>0</td>\n",
       "      <td>2017-10-01 00:00:00</td>\n",
       "      <td>-4.106523</td>\n",
       "      <td>-1.66355</td>\n",
       "      <td>1</td>\n",
       "      <td>0.923542</td>\n",
       "    </tr>\n",
       "    <tr>\n",
       "      <th>1</th>\n",
       "      <td>ZRDH</td>\n",
       "      <td>1034</td>\n",
       "      <td>340.127627</td>\n",
       "      <td>10.336667</td>\n",
       "      <td>94.056966</td>\n",
       "      <td>2017-10-01</td>\n",
       "      <td>1</td>\n",
       "      <td>2017-10-01 00:30:00</td>\n",
       "      <td>-4.106523</td>\n",
       "      <td>-1.66355</td>\n",
       "      <td>1</td>\n",
       "      <td>0.923542</td>\n",
       "    </tr>\n",
       "    <tr>\n",
       "      <th>2</th>\n",
       "      <td>ZRDH</td>\n",
       "      <td>1034</td>\n",
       "      <td>338.640770</td>\n",
       "      <td>10.353333</td>\n",
       "      <td>94.339254</td>\n",
       "      <td>2017-10-01</td>\n",
       "      <td>2</td>\n",
       "      <td>2017-10-01 01:00:00</td>\n",
       "      <td>-4.106523</td>\n",
       "      <td>-1.66355</td>\n",
       "      <td>1</td>\n",
       "      <td>0.923542</td>\n",
       "    </tr>\n",
       "    <tr>\n",
       "      <th>3</th>\n",
       "      <td>ZRDH</td>\n",
       "      <td>1034</td>\n",
       "      <td>342.613645</td>\n",
       "      <td>10.293333</td>\n",
       "      <td>94.431442</td>\n",
       "      <td>2017-10-01</td>\n",
       "      <td>3</td>\n",
       "      <td>2017-10-01 01:30:00</td>\n",
       "      <td>-4.106523</td>\n",
       "      <td>-1.66355</td>\n",
       "      <td>1</td>\n",
       "      <td>0.923542</td>\n",
       "    </tr>\n",
       "    <tr>\n",
       "      <th>4</th>\n",
       "      <td>ZRDH</td>\n",
       "      <td>1034</td>\n",
       "      <td>342.824630</td>\n",
       "      <td>10.246667</td>\n",
       "      <td>94.425720</td>\n",
       "      <td>2017-10-01</td>\n",
       "      <td>4</td>\n",
       "      <td>2017-10-01 02:00:00</td>\n",
       "      <td>-4.106523</td>\n",
       "      <td>-1.66355</td>\n",
       "      <td>1</td>\n",
       "      <td>0.923542</td>\n",
       "    </tr>\n",
       "  </tbody>\n",
       "</table>\n",
       "</div>"
      ],
      "text/plain": [
       "  LocationName  SensorUnit_ID         CO2  temperature   humidity       date  \\\n",
       "0         ZRDH           1034  337.298130    10.290000  93.370321 2017-10-01   \n",
       "1         ZRDH           1034  340.127627    10.336667  94.056966 2017-10-01   \n",
       "2         ZRDH           1034  338.640770    10.353333  94.339254 2017-10-01   \n",
       "3         ZRDH           1034  342.613645    10.293333  94.431442 2017-10-01   \n",
       "4         ZRDH           1034  342.824630    10.246667  94.425720 2017-10-01   \n",
       "\n",
       "   period                time         0        1  cluster  wind_speed  \n",
       "0       0 2017-10-01 00:00:00 -4.106523 -1.66355        1    0.923542  \n",
       "1       1 2017-10-01 00:30:00 -4.106523 -1.66355        1    0.923542  \n",
       "2       2 2017-10-01 01:00:00 -4.106523 -1.66355        1    0.923542  \n",
       "3       3 2017-10-01 01:30:00 -4.106523 -1.66355        1    0.923542  \n",
       "4       4 2017-10-01 02:00:00 -4.106523 -1.66355        1    0.923542  "
      ]
     },
     "execution_count": 69,
     "metadata": {},
     "output_type": "execute_result"
    }
   ],
   "source": [
    "KBRL_neighbors['time']=KBRL_neighbors.index\n",
    "KBRL_neighbors = pd.merge( KBRL_neighbors, temp_clusters, how='outer', on='date') \n",
    "KBRL_neighbors.head()"
   ]
  },
  {
   "cell_type": "code",
   "execution_count": 70,
   "metadata": {},
   "outputs": [
    {
     "data": {
      "text/plain": [
       "LocationName     False\n",
       "SensorUnit_ID    False\n",
       "CO2              False\n",
       "temperature      False\n",
       "humidity         False\n",
       "date             False\n",
       "period           False\n",
       "time             False\n",
       "cluster          False\n",
       "wind_speed       False\n",
       "dtype: bool"
      ]
     },
     "execution_count": 70,
     "metadata": {},
     "output_type": "execute_result"
    }
   ],
   "source": [
    "KBRL_neighbors = KBRL_neighbors.drop([0,1], axis=1)\n",
    "KBRL_neighbors.isnull().any()"
   ]
  },
  {
   "cell_type": "code",
   "execution_count": 71,
   "metadata": {},
   "outputs": [],
   "source": [
    "KBRL_neighbors_by_cluster = {}\n",
    "\n",
    "for i in range(0,6):\n",
    "    KBRL_neighbors_by_cluster[i] = KBRL_neighbors[ KBRL_neighbors.cluster == i ]"
   ]
  },
  {
   "cell_type": "code",
   "execution_count": 72,
   "metadata": {},
   "outputs": [],
   "source": [
    "lm0 = linear_model_2(KBRL_neighbors_by_cluster[0])\n",
    "lm1 = linear_model_2(KBRL_neighbors_by_cluster[1])\n",
    "lm2 = linear_model_2(KBRL_neighbors_by_cluster[2])\n",
    "lm3 = linear_model_2(KBRL_neighbors_by_cluster[3])\n",
    "lm4 = linear_model_2(KBRL_neighbors_by_cluster[4])\n",
    "lm5 = linear_model_2(KBRL_neighbors_by_cluster[5])"
   ]
  },
  {
   "cell_type": "code",
   "execution_count": 73,
   "metadata": {},
   "outputs": [],
   "source": [
    "resampled_meas['period'] = ( ( resampled_meas.index.hour*60+resampled_meas.index.minute+resampled_meas.index.second/60 ) / 30 )\n",
    "resampled_meas['period'] = resampled_meas['period'].astype(int)"
   ]
  },
  {
   "cell_type": "code",
   "execution_count": 74,
   "metadata": {},
   "outputs": [],
   "source": [
    "predictions_KBRL_0 = lm0.predict(KBRL_neighbors_by_cluster[0][[\"temperature\",\"humidity\",\"period\"]])\n",
    "KBRL_neighbors_by_cluster[0]['Prediction'] = predictions_KBRL_0\n",
    "\n",
    "predictions_KBRL_1 = lm1.predict(KBRL_neighbors_by_cluster[1][[\"temperature\",\"humidity\",\"period\"]])\n",
    "KBRL_neighbors_by_cluster[1]['Prediction'] = predictions_KBRL_1\n",
    "\n",
    "predictions_KBRL_2 = lm2.predict(KBRL_neighbors_by_cluster[2][[\"temperature\",\"humidity\",\"period\"]])\n",
    "KBRL_neighbors_by_cluster[2]['Prediction'] = predictions_KBRL_2\n",
    "\n",
    "predictions_KBRL_3 = lm3.predict(KBRL_neighbors_by_cluster[3][[\"temperature\",\"humidity\",\"period\"]])\n",
    "KBRL_neighbors_by_cluster[3]['Prediction'] = predictions_KBRL_3\n",
    "\n",
    "predictions_KBRL_4 = lm4.predict(KBRL_neighbors_by_cluster[4][[\"temperature\",\"humidity\",\"period\"]])\n",
    "KBRL_neighbors_by_cluster[4]['Prediction'] = predictions_KBRL_4\n",
    "\n",
    "predictions_KBRL_5 = lm5.predict(KBRL_neighbors_by_cluster[5][[\"temperature\",\"humidity\",\"period\"]])\n",
    "KBRL_neighbors_by_cluster[5]['Prediction'] = predictions_KBRL_5"
   ]
  },
  {
   "cell_type": "code",
   "execution_count": 75,
   "metadata": {},
   "outputs": [
    {
     "data": {
      "image/png": "[encoded data removed]",
      "text/plain": [
       "<matplotlib.figure.Figure at 0x1510de4b00>"
      ]
     },
     "metadata": {},
     "output_type": "display_data"
    }
   ],
   "source": [
    "To_plot2 = pd.concat(KBRL_neighbors_by_cluster)\n",
    "To_plot2 = To_plot2.set_index('time')\n",
    "ax = To_plot2[To_plot2.LocationName == 'KBRL'][['CO2','Prediction']].plot(figsize=(20,8))\n",
    "\n",
    "\n",
    "ax.set_title(\"Comparison between the CO2 measurements of KBRL and the prediction of the linear model for the month of October.\")\n",
    "ax.set_ylabel(\"CO2\")\n",
    "ax.legend(['Measurements', 'Predictions'])\n",
    "ax.xaxis.set_major_locator( mdates.DayLocator() )\n",
    "ax.xaxis.set_major_formatter(mdates.DateFormatter('%D'))\n",
    "ax.grid()\n",
    "\n",
    "plt.show()"
   ]
  },
  {
   "cell_type": "markdown",
   "metadata": {},
   "source": [
    "We can clearly see the outlier on the 5th of October corresponding to a CO2 measure higher than 700"
   ]
  },
  {
   "cell_type": "markdown",
   "metadata": {},
   "source": [
    "## PART IV: Share your work with the domain expert (10 points)\n",
    "\n",
    "The domain experts would like to try out your work but they have python 2.6 installed and they\n",
    "do not want to install anaconda3.\n",
    "They tried to create a `Dockerfile` in order to build a Docker image and play with the notebook\n",
    "but it didn't work.\n",
    "\n",
    "Use\n",
    "```bash\n",
    "docker build -t co2notebook .\n",
    "```\n",
    "and\n",
    "```bash\n",
    "docker run --init --rm -it -p 8888:8888 co2notebook\n",
    "```\n",
    "to play with the Docker image.\n",
    "More details can be found in the README file.\n",
    "\n",
    "Notice how the notebook opens but that the first code cell cannot be executed.\n",
    "```\n",
    "---------------------------------------------------------------------------\n",
    "ModuleNotFoundError                       Traceback (most recent call last)\n",
    "[...]\n",
    "```"
   ]
  },
  {
   "cell_type": "markdown",
   "metadata": {},
   "source": [
    "### Question IV.a. (10/10)\n",
    "\n",
    "Edit the `Dockerfile` so that you can execute the whole notebook from the `docker run` command.\n",
    "This means that all the cells should run, not just the first one.\n",
    "\n",
    "While this task can be completed by minor modifications, you are free to edit any part of the `Dockerfile`.\n",
    "\n",
    "For a complete read over how a `Dockerfile` works, head to https://docs.docker.com/engine/reference/builder/."
   ]
  }
 ],
 "metadata": {
  "anaconda-cloud": {},
  "kernelspec": {
   "display_name": "Python 3",
   "language": "python",
   "name": "python3"
  },
  "language_info": {
   "codemirror_mode": {
    "name": "ipython",
    "version": 3
   },
   "file_extension": ".py",
   "mimetype": "text/x-python",
   "name": "python",
   "nbconvert_exporter": "python",
   "pygments_lexer": "ipython3",
   "version": "3.6.4"
  }
 },
 "nbformat": 4,
 "nbformat_minor": 2
}
